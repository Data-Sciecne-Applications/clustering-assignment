{
 "cells": [
  {
   "cell_type": "code",
   "execution_count": 1,
   "metadata": {},
   "outputs": [
    {
     "name": "stdout",
     "output_type": "stream",
     "text": [
      "Requirement already satisfied: plotly in c:\\users\\zwang684\\appdata\\local\\packages\\pythonsoftwarefoundation.python.3.9_qbz5n2kfra8p0\\localcache\\local-packages\\python39\\site-packages (5.6.0)\n",
      "Requirement already satisfied: tenacity>=6.2.0 in c:\\users\\zwang684\\appdata\\local\\packages\\pythonsoftwarefoundation.python.3.9_qbz5n2kfra8p0\\localcache\\local-packages\\python39\\site-packages (from plotly) (8.0.1)\n",
      "Requirement already satisfied: six in c:\\users\\zwang684\\appdata\\local\\packages\\pythonsoftwarefoundation.python.3.9_qbz5n2kfra8p0\\localcache\\local-packages\\python39\\site-packages (from plotly) (1.16.0)\n",
      "Requirement already satisfied: gensim in c:\\users\\zwang684\\appdata\\local\\packages\\pythonsoftwarefoundation.python.3.9_qbz5n2kfra8p0\\localcache\\local-packages\\python39\\site-packages (4.1.2)\n",
      "Requirement already satisfied: smart-open>=1.8.1 in c:\\users\\zwang684\\appdata\\local\\packages\\pythonsoftwarefoundation.python.3.9_qbz5n2kfra8p0\\localcache\\local-packages\\python39\\site-packages (from gensim) (5.2.1)\n",
      "Requirement already satisfied: Cython==0.29.23 in c:\\users\\zwang684\\appdata\\local\\packages\\pythonsoftwarefoundation.python.3.9_qbz5n2kfra8p0\\localcache\\local-packages\\python39\\site-packages (from gensim) (0.29.23)\n",
      "Requirement already satisfied: numpy>=1.17.0 in c:\\users\\zwang684\\appdata\\local\\packages\\pythonsoftwarefoundation.python.3.9_qbz5n2kfra8p0\\localcache\\local-packages\\python39\\site-packages (from gensim) (1.21.4)\n",
      "Requirement already satisfied: scipy>=0.18.1 in c:\\users\\zwang684\\appdata\\local\\packages\\pythonsoftwarefoundation.python.3.9_qbz5n2kfra8p0\\localcache\\local-packages\\python39\\site-packages (from gensim) (1.7.3)\n",
      "Requirement already satisfied: kneed in c:\\users\\zwang684\\appdata\\local\\packages\\pythonsoftwarefoundation.python.3.9_qbz5n2kfra8p0\\localcache\\local-packages\\python39\\site-packages (0.7.0)\n",
      "Requirement already satisfied: matplotlib in c:\\users\\zwang684\\appdata\\local\\packages\\pythonsoftwarefoundation.python.3.9_qbz5n2kfra8p0\\localcache\\local-packages\\python39\\site-packages (from kneed) (3.5.1)\n",
      "Requirement already satisfied: numpy>=1.14.2 in c:\\users\\zwang684\\appdata\\local\\packages\\pythonsoftwarefoundation.python.3.9_qbz5n2kfra8p0\\localcache\\local-packages\\python39\\site-packages (from kneed) (1.21.4)\n",
      "Requirement already satisfied: scipy in c:\\users\\zwang684\\appdata\\local\\packages\\pythonsoftwarefoundation.python.3.9_qbz5n2kfra8p0\\localcache\\local-packages\\python39\\site-packages (from kneed) (1.7.3)\n",
      "Requirement already satisfied: python-dateutil>=2.7 in c:\\users\\zwang684\\appdata\\local\\packages\\pythonsoftwarefoundation.python.3.9_qbz5n2kfra8p0\\localcache\\local-packages\\python39\\site-packages (from matplotlib->kneed) (2.8.2)\n",
      "Requirement already satisfied: packaging>=20.0 in c:\\users\\zwang684\\appdata\\local\\packages\\pythonsoftwarefoundation.python.3.9_qbz5n2kfra8p0\\localcache\\local-packages\\python39\\site-packages (from matplotlib->kneed) (21.3)\n",
      "Requirement already satisfied: pyparsing>=2.2.1 in c:\\users\\zwang684\\appdata\\local\\packages\\pythonsoftwarefoundation.python.3.9_qbz5n2kfra8p0\\localcache\\local-packages\\python39\\site-packages (from matplotlib->kneed) (3.0.6)\n",
      "Requirement already satisfied: pillow>=6.2.0 in c:\\users\\zwang684\\appdata\\local\\packages\\pythonsoftwarefoundation.python.3.9_qbz5n2kfra8p0\\localcache\\local-packages\\python39\\site-packages (from matplotlib->kneed) (9.0.1)\n",
      "Requirement already satisfied: fonttools>=4.22.0 in c:\\users\\zwang684\\appdata\\local\\packages\\pythonsoftwarefoundation.python.3.9_qbz5n2kfra8p0\\localcache\\local-packages\\python39\\site-packages (from matplotlib->kneed) (4.29.1)\n",
      "Requirement already satisfied: cycler>=0.10 in c:\\users\\zwang684\\appdata\\local\\packages\\pythonsoftwarefoundation.python.3.9_qbz5n2kfra8p0\\localcache\\local-packages\\python39\\site-packages (from matplotlib->kneed) (0.11.0)\n",
      "Requirement already satisfied: kiwisolver>=1.0.1 in c:\\users\\zwang684\\appdata\\local\\packages\\pythonsoftwarefoundation.python.3.9_qbz5n2kfra8p0\\localcache\\local-packages\\python39\\site-packages (from matplotlib->kneed) (1.3.2)\n",
      "Requirement already satisfied: six>=1.5 in c:\\users\\zwang684\\appdata\\local\\packages\\pythonsoftwarefoundation.python.3.9_qbz5n2kfra8p0\\localcache\\local-packages\\python39\\site-packages (from python-dateutil>=2.7->matplotlib->kneed) (1.16.0)\n",
      "Requirement already satisfied: scikit-learn in c:\\users\\zwang684\\appdata\\local\\packages\\pythonsoftwarefoundation.python.3.9_qbz5n2kfra8p0\\localcache\\local-packages\\python39\\site-packages (1.0.2)\n",
      "Requirement already satisfied: scipy>=1.1.0 in c:\\users\\zwang684\\appdata\\local\\packages\\pythonsoftwarefoundation.python.3.9_qbz5n2kfra8p0\\localcache\\local-packages\\python39\\site-packages (from scikit-learn) (1.7.3)\n",
      "Requirement already satisfied: joblib>=0.11 in c:\\users\\zwang684\\appdata\\local\\packages\\pythonsoftwarefoundation.python.3.9_qbz5n2kfra8p0\\localcache\\local-packages\\python39\\site-packages (from scikit-learn) (1.1.0)\n",
      "Requirement already satisfied: numpy>=1.14.6 in c:\\users\\zwang684\\appdata\\local\\packages\\pythonsoftwarefoundation.python.3.9_qbz5n2kfra8p0\\localcache\\local-packages\\python39\\site-packages (from scikit-learn) (1.21.4)\n",
      "Requirement already satisfied: threadpoolctl>=2.0.0 in c:\\users\\zwang684\\appdata\\local\\packages\\pythonsoftwarefoundation.python.3.9_qbz5n2kfra8p0\\localcache\\local-packages\\python39\\site-packages (from scikit-learn) (3.0.0)\n"
     ]
    }
   ],
   "source": [
    "# external libraries\n",
    "!python -m pip install -U plotly\n",
    "!python -m pip install -U gensim\n",
    "!python -m pip install -U kneed\n",
    "!python -m pip install -U scikit-learn"
   ]
  },
  {
   "cell_type": "markdown",
   "metadata": {
    "id": "p1wRsXVyJzC4"
   },
   "source": [
    "### Data source\n",
    ">### <span style=\"color:#AF33FF\">'a'   :   'THE COMMON LAW.txt'</span>\n",
    "\n",
    ">### <span style=\"color:#FF5533\">'b'   :   'THE CONSTITUTION OF THE UNITED STATES OF AMERICA.txt'</span>\n",
    "\n",
    ">### <span style=\"color:#3BE53C\">'c'   :   'THE-ENGLISH-CONSTITUTION.txt'</span>\n",
    "\n",
    ">### <span style=\"color:#E53BD5\">'d'   :   'THE-LIFE-OF-THE-BEE.txt'</span>\n",
    "\n",
    ">### <span style=\"color:#E5C33B\">'e'   :   'THE STANDARD ELECTRICAL DICTIONARY.txt'</span>\n",
    "\n",
    ">### <span style=\"color:#3BE3E5\">'f'   :   'THE-PHILOSOPHY-OF-MATHEMATICS.txt'</span>\n",
    "\n",
    ">### <span style=\"color:#FF5BC8\">'g'   :   'WHITE-HOUSE-COOK-BOOK.txt</span>"
   ]
  },
  {
   "cell_type": "code",
   "execution_count": 2,
   "metadata": {},
   "outputs": [],
   "source": [
    "# libraries used\n",
    "import pandas as pd\n",
    "import numpy as np \n",
    "\n",
    "from sklearn.feature_extraction.text import CountVectorizer, TfidfVectorizer\n",
    "from sklearn.manifold import TSNE\n",
    "from sklearn.decomposition import TruncatedSVD\n",
    "\n",
    "import plotly.express as px\n",
    "import plotly.graph_objects as go\n",
    "import plotly.figure_factory as ff\n",
    "import matplotlib.pyplot as plt \n",
    "\n",
    "#!pip install kneed\n",
    "from kneed import KneeLocator\n",
    "\n",
    "from sklearn.cluster import KMeans \n",
    "from scipy.cluster import hierarchy \n",
    "from sklearn.cluster import AgglomerativeClustering \n",
    "from sklearn.mixture import GaussianMixture\n",
    "\n",
    "from gensim.models.doc2vec import Doc2Vec\n",
    "\n",
    "from gensim.models.coherencemodel import CoherenceModel\n",
    "\n",
    "# customized helper functions\n",
    "import measures"
   ]
  },
  {
   "cell_type": "code",
   "execution_count": 3,
   "metadata": {},
   "outputs": [],
   "source": [
    "# render setting for vscode\n",
    "import plotly.io as pio\n",
    "pio.renderers.default = \"notebook\""
   ]
  },
  {
   "cell_type": "markdown",
   "metadata": {},
   "source": [
    "### Helper functions"
   ]
  },
  {
   "cell_type": "code",
   "execution_count": 4,
   "metadata": {},
   "outputs": [],
   "source": [
    "def make_SVDtsne_2d(df, label=None, books=('a','b','c','d','e','f','g')):\n",
    "  reduced = TruncatedSVD(n_components=7, random_state=0).fit_transform(df)\n",
    "\n",
    "  tsne_results = TSNE(n_components=2, \n",
    "                      perplexity=40, \n",
    "                      init='pca', # globally more stable to initialization\n",
    "                      learning_rate = 'auto',\n",
    "                      n_iter=1000, \n",
    "                      random_state=0).fit_transform(reduced)\n",
    "\n",
    "  df = pd.DataFrame()\n",
    "  df['tsne-2d-one'] = tsne_results[:,0]\n",
    "  df['tsne-2d-two'] = tsne_results[:,1]\n",
    "  df['label_True'] = df_out['label'].loc[df_out['label'].isin(books)].reset_index(drop=True)\n",
    "  print(df)\n",
    "  if label is not None:\n",
    "    dic = dict(enumerate(df_out['label'].loc[df_out['label'].isin(books)].unique()))\n",
    "    lbl = list(label)\n",
    "    for i, l in zip(range(0,len(lbl)), lbl):\n",
    "      try:\n",
    "        lbl[i] = dic[l].upper()\n",
    "      except:\n",
    "        lbl[i] = 'Outlier'\n",
    "    df['label_Pred'] = lbl\n",
    "  \n",
    "  print(df)\n",
    "  if label is None: fig = px.scatter(df, x='tsne-2d-one', y='tsne-2d-two', color=\"label_True\", symbol=\"label_True\", width=1200, height=900)\n",
    "  if label is not None: fig = px.scatter(df, x='tsne-2d-one', y='tsne-2d-two', color=\"label_Pred\", symbol=\"label_True\", width=1200, height=900)\n",
    "\n",
    "  fig.show()"
   ]
  },
  {
   "cell_type": "code",
   "execution_count": 5,
   "metadata": {},
   "outputs": [],
   "source": [
    "def make_tsne_2d(df, label=None, books=('a','b','c','d','e','f','g')):\n",
    "    # need to read raw our.csv first\n",
    "    # df must be vectorized DataFrame\n",
    "    \n",
    "    tsne = TSNE(n_components=2, perplexity=40, n_iter=1000, random_state=0)\n",
    "    tsne_results = tsne.fit_transform(df)\n",
    "    \n",
    "    df = pd.DataFrame()\n",
    "    df['tsne-2d-one'] = tsne_results[:,0]\n",
    "    df['tsne-2d-two'] = tsne_results[:,1]\n",
    "    df['label_True'] = df_out['label'].loc[df_out['label'].isin(books)].reset_index(drop=True)\n",
    "    if label is not None:\n",
    "      dic = dict(enumerate(df_out['label'].unique()))\n",
    "      lbl = list(label)\n",
    "      for i, l in zip(range(0,len(lbl)), lbl):\n",
    "        try:\n",
    "          lbl[i] = dic[l].upper()\n",
    "        except:\n",
    "          lbl[i] = 'Outlier'\n",
    "      df['label_Pred'] = lbl\n",
    "    \n",
    "    if label is None: fig = px.scatter(df, x='tsne-2d-one', y='tsne-2d-two', color=\"label_True\", symbol=\"label_True\", width=1200, height=900)\n",
    "    if label is not None: fig = px.scatter(df, x='tsne-2d-one', y='tsne-2d-two', color=\"label_Pred\", symbol=\"label_True\", width=1200, height=900)\n",
    "    fig.show()"
   ]
  },
  {
   "cell_type": "code",
   "execution_count": null,
   "metadata": {},
   "outputs": [],
   "source": [
    "def elbow_method(data, number):\n",
    "    wcss = []\n",
    "    for i in range(1, number+1):\n",
    "        kmeans = KMeans(n_clusters=i, init='k-means++', max_iter=300, n_init=10, random_state=0)\n",
    "        kmeans.fit(data)\n",
    "        wcss.append(kmeans.inertia_)\n",
    "    kn = KneeLocator(range(1, 10+1), wcss, curve='convex', direction='decreasing')\n",
    "\n",
    "    fig = go.Figure()\n",
    "    fig.add_trace(go.Scatter(x=list(range(1, number+1)),\n",
    "                            y=wcss))\n",
    "    fig.add_vline(x=kn.knee, line_width=3, line_dash=\"dash\", line_color=\"green\")\n",
    "\n",
    "    fig.update_layout(title='Elbow Method',\n",
    "                      xaxis_title='Number of clusters',\n",
    "                      yaxis_title='WCSS',\n",
    "                      title_x=0.5,\n",
    "                      height=500, \n",
    "                      width=800)\n",
    "    fig.show()"
   ]
  },
  {
   "cell_type": "code",
   "execution_count": 6,
   "metadata": {},
   "outputs": [],
   "source": [
    "def compare_predict(trans_data, data, modl, vidl = None,\n",
    "  n_clusters=5,\n",
    "  linkage='average',\n",
    "  n_components = 2,\n",
    "  covariance_type = 'diag',\n",
    "  random_state = 0,\n",
    "  books=('a','b','c','d','e','f','g')):\n",
    "\n",
    "  X = trans_data[data['label'].isin(books)]\n",
    "\n",
    "  # clustering parameters\n",
    "  if 'n_clusters' in modl.get_params():\n",
    "    modl.set_params(n_clusters = n_clusters)\n",
    "  if 'linkage' in modl.get_params():\n",
    "    modl.set_params(linkage = linkage)\n",
    "  # em parameters\n",
    "  if 'n_components' in modl.get_params():\n",
    "    modl.set_params(n_components = n_components)\n",
    "  if 'covariance_type' in modl.get_params():\n",
    "    modl.set_params(covariance_type = covariance_type)\n",
    "  if 'random_state' in modl.get_params():\n",
    "    modl.set_params(random_state = random_state)\n",
    "\n",
    "  pred = modl.fit_predict(X)\n",
    "\n",
    "  pred_map = measures.label_to_cluster_num(pred=pred, k=len(books), books= books)\n",
    "  label_data_in_books = data[data['label'].isin(books)]['label'] # retrieve label rows that belongs to any of the books\n",
    "  mapped_label = [pred_map[label] for label in label_data_in_books]\n",
    "\n",
    "  if vidl is not None:\n",
    "    if vidl == 'tsne':\n",
    "      make_tsne_2d(X, pred, books)\n",
    "    if vidl == 'SVDtsne':\n",
    "      make_SVDtsne_2d(X, pred, books)\n",
    "\n",
    "  return modl, pred, mapped_label"
   ]
  },
  {
   "cell_type": "code",
   "execution_count": 7,
   "metadata": {
    "collapsed": true
   },
   "outputs": [
    {
     "data": {
      "text/html": [
       "<div>\n",
       "<style scoped>\n",
       "    .dataframe tbody tr th:only-of-type {\n",
       "        vertical-align: middle;\n",
       "    }\n",
       "\n",
       "    .dataframe tbody tr th {\n",
       "        vertical-align: top;\n",
       "    }\n",
       "\n",
       "    .dataframe thead th {\n",
       "        text-align: right;\n",
       "    }\n",
       "</style>\n",
       "<table border=\"1\" class=\"dataframe\">\n",
       "  <thead>\n",
       "    <tr style=\"text-align: right;\">\n",
       "      <th></th>\n",
       "      <th>segment</th>\n",
       "      <th>label</th>\n",
       "    </tr>\n",
       "  </thead>\n",
       "  <tbody>\n",
       "    <tr>\n",
       "      <th>0</th>\n",
       "      <td>act known circumst harm may accept gener test ...</td>\n",
       "      <td>a</td>\n",
       "    </tr>\n",
       "    <tr>\n",
       "      <th>1</th>\n",
       "      <td>aris whether represent part contract If contra...</td>\n",
       "      <td>a</td>\n",
       "    </tr>\n",
       "    <tr>\n",
       "      <th>2</th>\n",
       "      <td>section cite godbolt see F. N. B G fitzh abr d...</td>\n",
       "      <td>a</td>\n",
       "    </tr>\n",
       "    <tr>\n",
       "      <th>3</th>\n",
       "      <td>row bell c.c see treasur hidden anoth land D. ...</td>\n",
       "      <td>a</td>\n",
       "    </tr>\n",
       "    <tr>\n",
       "      <th>4</th>\n",
       "      <td>give trespass pretti nearli thing action case ...</td>\n",
       "      <td>a</td>\n",
       "    </tr>\n",
       "    <tr>\n",
       "      <th>...</th>\n",
       "      <td>...</td>\n",
       "      <td>...</td>\n",
       "    </tr>\n",
       "    <tr>\n",
       "      <th>1395</th>\n",
       "      <td>lamb chop fri tomato potato la crãªme rais bis...</td>\n",
       "      <td>g</td>\n",
       "    </tr>\n",
       "    <tr>\n",
       "      <th>1396</th>\n",
       "      <td>glass rhine wine IV glass water V glass champa...</td>\n",
       "      <td>g</td>\n",
       "    </tr>\n",
       "    <tr>\n",
       "      <th>1397</th>\n",
       "      <td>cover cloth set away cool place hour dinner ti...</td>\n",
       "      <td>g</td>\n",
       "    </tr>\n",
       "    <tr>\n",
       "      <th>1398</th>\n",
       "      <td>transpar veil egg cook white firm lift griddl ...</td>\n",
       "      <td>g</td>\n",
       "    </tr>\n",
       "    <tr>\n",
       "      <th>1399</th>\n",
       "      <td>pear pickl bun plum cobbler tea dinner scotch ...</td>\n",
       "      <td>g</td>\n",
       "    </tr>\n",
       "  </tbody>\n",
       "</table>\n",
       "<p>1400 rows × 2 columns</p>\n",
       "</div>"
      ],
      "text/plain": [
       "                                                segment label\n",
       "0     act known circumst harm may accept gener test ...     a\n",
       "1     aris whether represent part contract If contra...     a\n",
       "2     section cite godbolt see F. N. B G fitzh abr d...     a\n",
       "3     row bell c.c see treasur hidden anoth land D. ...     a\n",
       "4     give trespass pretti nearli thing action case ...     a\n",
       "...                                                 ...   ...\n",
       "1395  lamb chop fri tomato potato la crãªme rais bis...     g\n",
       "1396  glass rhine wine IV glass water V glass champa...     g\n",
       "1397  cover cloth set away cool place hour dinner ti...     g\n",
       "1398  transpar veil egg cook white firm lift griddl ...     g\n",
       "1399  pear pickl bun plum cobbler tea dinner scotch ...     g\n",
       "\n",
       "[1400 rows x 2 columns]"
      ]
     },
     "execution_count": 7,
     "metadata": {},
     "output_type": "execute_result"
    }
   ],
   "source": [
    "# Fetch data from google drive. equivalent to out.csv\n",
    "url='https://drive.google.com/file/d/1IBelm4cZNHpl8336gQ6VTIYzZrtC02ln/view?usp=sharing'\n",
    "url='https://drive.google.com/uc?id=' + url.split('/')[-2]\n",
    "df_out = pd.read_csv(url)\n",
    "\n",
    "df_out.drop('Unnamed: 0', axis=1, inplace=True)\n",
    "df_out"
   ]
  },
  {
   "cell_type": "markdown",
   "metadata": {},
   "source": [
    "### BOW"
   ]
  },
  {
   "cell_type": "code",
   "execution_count": 8,
   "metadata": {},
   "outputs": [],
   "source": [
    "# Create CountVectorizer object\n",
    "bow_vec = CountVectorizer()\n",
    "# Generate matrix of word vectors\n",
    "bow_matrix = bow_vec.fit_transform(df_out['segment'])\n",
    "# print(bow_matrix.toarray())\n",
    "df_bow = pd.DataFrame(bow_matrix.toarray())\n",
    "df_bow.columns = bow_vec.get_feature_names_out()\n",
    "# df_bow\n"
   ]
  },
  {
   "cell_type": "code",
   "execution_count": null,
   "metadata": {},
   "outputs": [],
   "source": [
    "elbow_method(df_bow, 10)"
   ]
  },
  {
   "cell_type": "markdown",
   "metadata": {},
   "source": [
    "##### K Means"
   ]
  },
  {
   "cell_type": "code",
   "execution_count": 14,
   "metadata": {},
   "outputs": [
    {
     "name": "stdout",
     "output_type": "stream",
     "text": [
      "a:[  0   0   0 200   0   0   0]\ta mapped to 3\n",
      "b:[132   0   0  68   0   0   0]\tb mapped to 0\n",
      "c:[  1   0   0 199   0   0   0]\tc mapped to 3\n",
      "d:[  0   0   0 200   0   0   0]\td mapped to 3\n",
      "e:[  0   0 194   6   0   0   0]\te mapped to 2\n",
      "f:[  0 197   0   3   0   0   0]\tf mapped to 1\n",
      "g:[  0   0   0  18 182   0   0]\tg mapped to 4\n"
     ]
    }
   ],
   "source": [
    "bow_kmeans5, bow_kmeans5_pred, bow_kmeans5_cluster_num = compare_predict(df_bow, df_out, KMeans(), n_clusters= 5)"
   ]
  },
  {
   "cell_type": "code",
   "execution_count": 15,
   "metadata": {},
   "outputs": [
    {
     "name": "stdout",
     "output_type": "stream",
     "text": [
      "a:[200   0   0   0   0   0   0]\ta mapped to 0\n",
      "b:[ 28   0   0  16 156   0   0]\tb mapped to 4\n",
      "c:[199   0   0   0   1   0   0]\tc mapped to 0\n",
      "d:[200   0   0   0   0   0   0]\td mapped to 0\n",
      "e:[  3   0   0   1   0 164  32]\te mapped to 5\n",
      "f:[  3   0 197   0   0   0   0]\tf mapped to 2\n",
      "g:[ 18 182   0   0   0   0   0]\tg mapped to 1\n"
     ]
    }
   ],
   "source": [
    "bow_kmeans7, bow_kmeans7_pred, bow_kmeans7_cluster_num = compare_predict(df_bow, df_out, KMeans(), n_clusters=7)"
   ]
  },
  {
   "cell_type": "markdown",
   "metadata": {},
   "source": [
    "##### EM"
   ]
  },
  {
   "cell_type": "code",
   "execution_count": 16,
   "metadata": {},
   "outputs": [
    {
     "name": "stdout",
     "output_type": "stream",
     "text": [
      "a:[  0   0   0   0 200   0   0]\ta mapped to 4\n",
      "b:[  0   0   0 151  49   0   0]\tb mapped to 3\n",
      "c:[  0   0   0   1 199   0   0]\tc mapped to 4\n",
      "d:[  0   0   0   0 200   0   0]\td mapped to 4\n",
      "e:[196   0   0   0   4   0   0]\te mapped to 0\n",
      "f:[  0   0 197   0   3   0   0]\tf mapped to 2\n",
      "g:[  0 178   0   0  22   0   0]\tg mapped to 1\n"
     ]
    }
   ],
   "source": [
    "bow_gmm5, bow_gmm5_pred, bow_gmm5_cluster_num = compare_predict(df_bow, df_out, GaussianMixture(), n_components=5)"
   ]
  },
  {
   "cell_type": "code",
   "execution_count": 17,
   "metadata": {},
   "outputs": [
    {
     "name": "stdout",
     "output_type": "stream",
     "text": [
      "a:[  0   0   0   0 199   1   0]\ta mapped to 4\n",
      "b:[  0   0   0 152  42   6   0]\tb mapped to 3\n",
      "c:[  0   0   0   1  13 186   0]\tc mapped to 5\n",
      "d:[  0   0   0   0 200   0   0]\td mapped to 4\n",
      "e:[196   0   0   0   4   0   0]\te mapped to 0\n",
      "f:[  0   0 197   0   3   0   0]\tf mapped to 2\n",
      "g:[ 0 96  0  0 23  0 81]\tg mapped to 1\n"
     ]
    }
   ],
   "source": [
    "bow_gmm7, bow_gmm7_pred, bow_gmm7_cluster_num = compare_predict(df_bow, df_out, GaussianMixture(), n_components=7)"
   ]
  },
  {
   "cell_type": "markdown",
   "metadata": {},
   "source": [
    "##### Hierarchical "
   ]
  },
  {
   "cell_type": "code",
   "execution_count": 18,
   "metadata": {},
   "outputs": [
    {
     "name": "stdout",
     "output_type": "stream",
     "text": [
      "a:[  0   0 200   0   0   0   0]\ta mapped to 2\n",
      "b:[  0 192   8   0   0   0   0]\tb mapped to 1\n",
      "c:[  0   2 197   1   0   0   0]\tc mapped to 2\n",
      "d:[  0   0 200   0   0   0   0]\td mapped to 2\n",
      "e:[193   1   1   0   5   0   0]\te mapped to 0\n",
      "f:[  0   0   0   0 200   0   0]\tf mapped to 4\n",
      "g:[  0   0   0 200   0   0   0]\tg mapped to 3\n"
     ]
    }
   ],
   "source": [
    "bow_agglom5, bow_agglom5_pred, bow_agglom5_cluster_num = compare_predict(df_bow, df_out, AgglomerativeClustering(), n_clusters=5, linkage='ward')"
   ]
  },
  {
   "cell_type": "code",
   "execution_count": 19,
   "metadata": {},
   "outputs": [
    {
     "name": "stdout",
     "output_type": "stream",
     "text": [
      "a:[  0   0 200   0   0   0   0]\ta mapped to 2\n",
      "b:[192   0   8   0   0   0   0]\tb mapped to 0\n",
      "c:[  2   0 197   1   0   0   0]\tc mapped to 2\n",
      "d:[  0   0 200   0   0   0   0]\td mapped to 2\n",
      "e:[  1 154   1   0   5  38   1]\te mapped to 1\n",
      "f:[  0   0   0   0 200   0   0]\tf mapped to 4\n",
      "g:[  0   0   0 200   0   0   0]\tg mapped to 3\n"
     ]
    }
   ],
   "source": [
    "bow_agglom7, bow_agglom7_pred, bow_agglom7_cluster_num = compare_predict(df_bow, df_out, AgglomerativeClustering(), n_clusters=7, linkage='ward')"
   ]
  },
  {
   "cell_type": "markdown",
   "metadata": {},
   "source": [
    "### TF-IDF"
   ]
  },
  {
   "cell_type": "code",
   "execution_count": 20,
   "metadata": {},
   "outputs": [],
   "source": [
    "tfidf_vec = TfidfVectorizer()\n",
    "tfidf_matrix = tfidf_vec.fit_transform(df_out['segment'])\n",
    "df_tfidf = pd.DataFrame(tfidf_matrix.toarray())\n",
    "df_tfidf.columns = tfidf_vec.get_feature_names_out()"
   ]
  },
  {
   "cell_type": "markdown",
   "metadata": {},
   "source": [
    "##### K Means"
   ]
  },
  {
   "cell_type": "code",
   "execution_count": 21,
   "metadata": {},
   "outputs": [
    {
     "name": "stdout",
     "output_type": "stream",
     "text": [
      "a:[  0   0   0 200   0   0   0]\ta mapped to 3\n",
      "b:[  0   0 188  12   0   0   0]\tb mapped to 2\n",
      "c:[  0   0   4 196   0   0   0]\tc mapped to 3\n",
      "d:[  0   0   0 200   0   0   0]\td mapped to 3\n",
      "e:[  0   0   0   4 196   0   0]\te mapped to 4\n",
      "f:[197   0   0   3   0   0   0]\tf mapped to 0\n",
      "g:[  0 186   0  14   0   0   0]\tg mapped to 1\n"
     ]
    }
   ],
   "source": [
    "tfidf_kmeans5, tfidf_kmeans5_pred, tfidf_kmeans5_cluster_num = compare_predict(df_tfidf, df_out, KMeans(), n_clusters= 5)"
   ]
  },
  {
   "cell_type": "code",
   "execution_count": 22,
   "metadata": {},
   "outputs": [
    {
     "name": "stdout",
     "output_type": "stream",
     "text": [
      "a:[  0   0   0   0 199   1   0]\ta mapped to 4\n",
      "b:[  0 196   0   0   1   3   0]\tb mapped to 1\n",
      "c:[  0   1   0   0   1 198   0]\tc mapped to 5\n",
      "d:[200   0   0   0   0   0   0]\td mapped to 0\n",
      "e:[  0   0 200   0   0   0   0]\te mapped to 2\n",
      "f:[  0   0   0   0   0   3 197]\tf mapped to 6\n",
      "g:[  2   0   0 195   2   1   0]\tg mapped to 3\n"
     ]
    }
   ],
   "source": [
    "tfidf_kmeans7, tfidf_kmeans7_pred, tfidf_kmeans7_cluster_num = compare_predict(df_tfidf, df_out, KMeans(), n_clusters= 7)"
   ]
  },
  {
   "cell_type": "markdown",
   "metadata": {},
   "source": [
    "##### EM"
   ]
  },
  {
   "cell_type": "code",
   "execution_count": 23,
   "metadata": {},
   "outputs": [
    {
     "name": "stdout",
     "output_type": "stream",
     "text": [
      "a:[  0   0 178  22   0   0   0]\ta mapped to 2\n",
      "b:[  0   0   6 194   0   0   0]\tb mapped to 3\n",
      "c:[  0   0 197   3   0   0   0]\tc mapped to 2\n",
      "d:[  0   0 200   0   0   0   0]\td mapped to 2\n",
      "e:[  0   0   2   0 198   0   0]\te mapped to 4\n",
      "f:[  0 197   3   0   0   0   0]\tf mapped to 1\n",
      "g:[186   0  14   0   0   0   0]\tg mapped to 0\n"
     ]
    }
   ],
   "source": [
    "tfidf_gmm5, tfidf_gmm5_pred, tfidf_gmm5_cluster_num = compare_predict(df_tfidf, df_out, GaussianMixture(), n_components=5)"
   ]
  },
  {
   "cell_type": "code",
   "execution_count": 24,
   "metadata": {},
   "outputs": [
    {
     "name": "stdout",
     "output_type": "stream",
     "text": [
      "a:[  0   0   1   0   0 199   0]\ta mapped to 5\n",
      "b:[  0   0   2 193   0   5   0]\tb mapped to 3\n",
      "c:[  0   0 197   3   0   0   0]\tc mapped to 2\n",
      "d:[200   0   0   0   0   0   0]\td mapped to 0\n",
      "e:[  0   0   0   0 198   2   0]\te mapped to 4\n",
      "f:[  0 197   2   0   0   1   0]\tf mapped to 1\n",
      "g:[  2   0   0   0   0   4 194]\tg mapped to 6\n"
     ]
    }
   ],
   "source": [
    "tfidf_gmm7, tfidf_gmm7_pred, tfidf_gmm7_cluster_num = compare_predict(df_tfidf, df_out, GaussianMixture(), n_components=7)"
   ]
  },
  {
   "cell_type": "markdown",
   "metadata": {},
   "source": [
    "##### Hierarchical"
   ]
  },
  {
   "cell_type": "code",
   "execution_count": 30,
   "metadata": {},
   "outputs": [
    {
     "name": "stdout",
     "output_type": "stream",
     "text": [
      "a:[167   0   0   0  33   0   0]\ta mapped to 0\n",
      "b:[  5   2   0   0 193   0   0]\tb mapped to 4\n",
      "c:[189   0   0   0  11   0   0]\tc mapped to 0\n",
      "d:[200   0   0   0   0   0   0]\td mapped to 0\n",
      "e:[  0 195   5   0   0   0   0]\te mapped to 1\n",
      "f:[  3   0 197   0   0   0   0]\tf mapped to 2\n",
      "g:[  0   2   0 198   0   0   0]\tg mapped to 3\n"
     ]
    }
   ],
   "source": [
    "tfidf_agglom5, tfidf_agglom5_pred, tfidf_agglom5_cluster_num = compare_predict(df_tfidf, df_out, AgglomerativeClustering(), n_clusters=5, linkage='ward')"
   ]
  },
  {
   "cell_type": "code",
   "execution_count": 31,
   "metadata": {},
   "outputs": [
    {
     "name": "stdout",
     "output_type": "stream",
     "text": [
      "a:[  0   0 164   0  33   0   3]\ta mapped to 2\n",
      "b:[  0   2   0   0 193   0   5]\tb mapped to 4\n",
      "c:[  0   0   0   0  11   3 186]\tc mapped to 6\n",
      "d:[  0   0   0   0   0 199   1]\td mapped to 5\n",
      "e:[  5 195   0   0   0   0   0]\te mapped to 1\n",
      "f:[197   0   0   0   0   0   3]\tf mapped to 0\n",
      "g:[  0   2   0 198   0   0   0]\tg mapped to 3\n"
     ]
    }
   ],
   "source": [
    "tfidf_agglom7, tfidf_agglom7_pred, tfidf_agglom7_cluster_num = compare_predict(df_tfidf, df_out, AgglomerativeClustering(), n_clusters=7, linkage='ward')"
   ]
  },
  {
   "cell_type": "markdown",
   "metadata": {},
   "source": [
    "### LDA"
   ]
  },
  {
   "cell_type": "markdown",
   "metadata": {},
   "source": [
    "### Doc2Vec"
   ]
  },
  {
   "cell_type": "code",
   "execution_count": 32,
   "metadata": {},
   "outputs": [],
   "source": [
    "# Load the pretrained Doc2Vec transformer\n",
    "d2v_model = Doc2Vec.load('./Doc2Vec_model/doc2vec.model')\n",
    "d2v_model_high = Doc2Vec.load('./Doc2Vec_model/doc2vec_high.model')\n",
    "d2v_model_low = Doc2Vec.load('./Doc2Vec_model/doc2vec_low.model')"
   ]
  },
  {
   "cell_type": "code",
   "execution_count": 33,
   "metadata": {},
   "outputs": [],
   "source": [
    "#generate the list of tokenized words\n",
    "text_list = df_out['segment'].values.tolist()\n",
    "\n",
    "tokenized_list = []\n",
    "for segment in text_list:\n",
    "    tokenized_segment = segment.split()\n",
    "    tokenized_list.append(tokenized_segment)"
   ]
  },
  {
   "cell_type": "code",
   "execution_count": 34,
   "metadata": {},
   "outputs": [],
   "source": [
    "#generate the list of word vectors\n",
    "x_d2v = [d2v_model.infer_vector(d) for d in tokenized_list]\n",
    "df_d2v = pd.DataFrame(x_d2v)\n",
    "# df_d2v"
   ]
  },
  {
   "cell_type": "code",
   "execution_count": 35,
   "metadata": {},
   "outputs": [],
   "source": [
    "x_d2v_high = [d2v_model_high.infer_vector(d) for d in tokenized_list]        \n",
    "df_d2v_high = pd.DataFrame(x_d2v_high)\n",
    "# df_d2v_high"
   ]
  },
  {
   "cell_type": "code",
   "execution_count": 36,
   "metadata": {},
   "outputs": [],
   "source": [
    "x_d2v_low = [d2v_model_low.infer_vector(d) for d in tokenized_list]\n",
    "df_d2v_low = pd.DataFrame(x_d2v_low)\n",
    "# df_d2v_low"
   ]
  },
  {
   "cell_type": "markdown",
   "metadata": {},
   "source": [
    "##### K Means"
   ]
  },
  {
   "cell_type": "code",
   "execution_count": 39,
   "metadata": {},
   "outputs": [
    {
     "name": "stdout",
     "output_type": "stream",
     "text": [
      "a:[  1 170  22   1   6   0   0]\ta mapped to 1\n",
      "b:[  0 195   2   0   3   0   0]\tb mapped to 1\n",
      "c:[  0  21 179   0   0   0   0]\tc mapped to 2\n",
      "d:[  0   7 182   1  10   0   0]\td mapped to 2\n",
      "e:[186   5   4   1   4   0   0]\te mapped to 0\n",
      "f:[  0   6   0 194   0   0   0]\tf mapped to 3\n",
      "g:[  0   7   1   2 190   0   0]\tg mapped to 4\n"
     ]
    }
   ],
   "source": [
    "d2v_kmeans5, d2v_kmeans5_pred, d2v_kmeans5_cluster_num = compare_predict(df_d2v, df_out, KMeans(), n_clusters= 5)"
   ]
  },
  {
   "cell_type": "code",
   "execution_count": 40,
   "metadata": {},
   "outputs": [
    {
     "name": "stdout",
     "output_type": "stream",
     "text": [
      "a:[ 37   4   1   1   7 147   3]\ta mapped to 5\n",
      "b:[ 87   0   0   0   5 108   0]\tb mapped to 5\n",
      "c:[  1  15   0   0 170  14   0]\tc mapped to 4\n",
      "d:[  1 167   1   0  13  12   6]\td mapped to 1\n",
      "e:[  6   4   1 184   0   2   3]\te mapped to 3\n",
      "f:[  1   0 194   0   0   5   0]\tf mapped to 2\n",
      "g:[  6   1   2   0   0   3 188]\tg mapped to 6\n"
     ]
    }
   ],
   "source": [
    "d2v_kmeans7, d2v_kmeans7_pred, d2v_kmeans7_cluster_num = compare_predict(df_d2v, df_out, KMeans(), n_clusters= 7)"
   ]
  },
  {
   "cell_type": "markdown",
   "metadata": {},
   "source": [
    "##### Hierarchical"
   ]
  },
  {
   "cell_type": "code",
   "execution_count": 37,
   "metadata": {},
   "outputs": [
    {
     "name": "stdout",
     "output_type": "stream",
     "text": [
      "a:[180   0   1  18   1   0   0]\ta mapped to 0\n",
      "b:[199   0   0   1   0   0   0]\tb mapped to 0\n",
      "c:[ 21   0   0 179   0   0   0]\tc mapped to 3\n",
      "d:[ 11   0   0 187   2   0   0]\td mapped to 3\n",
      "e:[  9 181   0   4   6   0   0]\te mapped to 1\n",
      "f:[  4   0 194   0   2   0   0]\tf mapped to 2\n",
      "g:[ 11   0   0   1 188   0   0]\tg mapped to 4\n"
     ]
    }
   ],
   "source": [
    "d2v_agglom5, d2v_agglom5_pred, d2v_agglom5_cluster_num = compare_predict(df_d2v, df_out, AgglomerativeClustering(), n_clusters=5, linkage='ward')"
   ]
  },
  {
   "cell_type": "code",
   "execution_count": 38,
   "metadata": {},
   "outputs": [
    {
     "name": "stdout",
     "output_type": "stream",
     "text": [
      "a:[ 18   1   1 162   0  18   0]\ta mapped to 3\n",
      "b:[  1   0   0 161   0  38   0]\tb mapped to 3\n",
      "c:[179   0   0  21   0   0   0]\tc mapped to 0\n",
      "d:[187   2   0  11   0   0   0]\td mapped to 0\n",
      "e:[  4   6   0   3 128   6  53]\te mapped to 4\n",
      "f:[  0   2 194   4   0   0   0]\tf mapped to 2\n",
      "g:[  1 188   0  11   0   0   0]\tg mapped to 1\n"
     ]
    }
   ],
   "source": [
    "d2v_agglom7, d2v_agglom7_pred, d2v_agglom7_cluster_num = compare_predict(df_d2v, df_out, AgglomerativeClustering(), n_clusters=7, linkage='ward')"
   ]
  },
  {
   "cell_type": "markdown",
   "metadata": {},
   "source": [
    "##### EM"
   ]
  },
  {
   "cell_type": "code",
   "execution_count": 41,
   "metadata": {},
   "outputs": [
    {
     "name": "stdout",
     "output_type": "stream",
     "text": [
      "a:[ 16   4   1 172   7   0   0]\ta mapped to 3\n",
      "b:[  3   3   0 192   2   0   0]\tb mapped to 3\n",
      "c:[182   0   0  18   0   0   0]\tc mapped to 0\n",
      "d:[181   0   1   6  12   0   0]\td mapped to 0\n",
      "e:[  4 193   1   1   1   0   0]\te mapped to 1\n",
      "f:[  0   1 194   5   0   0   0]\tf mapped to 2\n",
      "g:[  0   0   0   3 197   0   0]\tg mapped to 4\n"
     ]
    }
   ],
   "source": [
    "d2v_gmm5, d2v_gmm5_pred, d2v_gmm5_cluster_num = compare_predict(df_d2v, df_out, GaussianMixture(), n_components=5)"
   ]
  },
  {
   "cell_type": "code",
   "execution_count": 42,
   "metadata": {},
   "outputs": [
    {
     "name": "stdout",
     "output_type": "stream",
     "text": [
      "a:[  6   0   1  46 139   3   5]\ta mapped to 4\n",
      "b:[ 3  1  0 98 97  0  1]\tb mapped to 3\n",
      "c:[175   0   0   3  22   0   0]\tc mapped to 0\n",
      "d:[178   0   1   2   8   0  11]\td mapped to 0\n",
      "e:[  4 128   1   3   0  63   1]\te mapped to 1\n",
      "f:[  0   0 195   3   1   1   0]\tf mapped to 2\n",
      "g:[  0   0   0   7   0   1 192]\tg mapped to 6\n"
     ]
    }
   ],
   "source": [
    "d2v_gmm7, d2v_gmm7_pred, d2v_gmm7_cluster_num = compare_predict(df_d2v, df_out, GaussianMixture(), n_components=7)"
   ]
  },
  {
   "cell_type": "markdown",
   "metadata": {},
   "source": [
    "### Evaluation"
   ]
  },
  {
   "cell_type": "markdown",
   "metadata": {},
   "source": [
    "##### Kappa Score"
   ]
  },
  {
   "cell_type": "code",
   "execution_count": 55,
   "metadata": {},
   "outputs": [
    {
     "name": "stdout",
     "output_type": "stream",
     "text": [
      "Kappa score for BOW----------------------------------\n",
      "kappa: 0.9041642897889333\n",
      "kappa: 0.9000979431929481\n",
      "kappa: 0.9824707846410684\n",
      "kappa: 0.9447903694479037\n",
      "kappa: 0.9215157536190747\n",
      "kappa: 0.8476928848318119\n",
      "Kappa score for TFIDF--------------------------------\n",
      "kappa: 0.9637356482777933\n",
      "kappa: 0.9875\n",
      "kappa: 0.9412816281628162\n",
      "kappa: 0.9433333333333334\n",
      "kappa: 0.9513888888888888\n",
      "kappa: 0.9816666666666667\n",
      "Kappa score for LDA----------------------------------\n",
      "Kappa score for Doc2Vec------------------------------\n",
      "kappa: 0.9041979207790498\n",
      "kappa: 0.7946168768186227\n",
      "kappa: 0.914983498349835\n",
      "kappa: 0.8184984520123839\n",
      "kappa: 0.9182092687409742\n",
      "kappa: 0.7451246605776352\n"
     ]
    }
   ],
   "source": [
    "print(\"Kappa score for BOW----------------------------------\")\n",
    "bow_kmeans5.kappa = measures.get_kappa(bow_kmeans5_pred, bow_kmeans5_cluster_num)\n",
    "bow_kmeans7.kappa = measures.get_kappa(bow_kmeans7_pred, bow_kmeans7_cluster_num)\n",
    "bow_agglom5.kappa = measures.get_kappa(bow_agglom5_pred, bow_agglom5_cluster_num)\n",
    "bow_agglom7.kappa = measures.get_kappa(bow_agglom7_pred, bow_agglom7_cluster_num)\n",
    "bow_gmm5.kappa = measures.get_kappa(bow_gmm5_pred, bow_gmm5_cluster_num)\n",
    "bow_gmm7.kappa = measures.get_kappa(bow_gmm7_pred, bow_gmm7_cluster_num)\n",
    "print(\"Kappa score for TFIDF--------------------------------\")\n",
    "tfidf_kmeans5.kappa = measures.get_kappa(tfidf_kmeans5_pred, tfidf_kmeans5_cluster_num)\n",
    "tfidf_kmeans7.kappa = measures.get_kappa(tfidf_kmeans7_pred, tfidf_kmeans7_cluster_num)\n",
    "tfidf_agglom5.kappa = measures.get_kappa(tfidf_agglom5_pred, tfidf_agglom5_cluster_num)\n",
    "tfidf_agglom7.kappa = measures.get_kappa(tfidf_agglom7_pred, tfidf_agglom7_cluster_num)\n",
    "tfidf_gmm5.kappa = measures.get_kappa(tfidf_gmm5_pred, tfidf_gmm5_cluster_num)\n",
    "tfidf_gmm7.kappa = measures.get_kappa(tfidf_gmm7_pred, tfidf_gmm7_cluster_num)\n",
    "print(\"Kappa score for LDA----------------------------------\")\n",
    "print(\"Kappa score for Doc2Vec------------------------------\")\n",
    "d2v_kmeans5.kappa = measures.get_kappa(d2v_kmeans5_pred, d2v_kmeans5_cluster_num)\n",
    "d2v_kmeans7.kappa = measures.get_kappa(d2v_kmeans7_pred, d2v_kmeans7_cluster_num)\n",
    "d2v_agglom5.kappa = measures.get_kappa(d2v_agglom5_pred, d2v_agglom5_cluster_num)\n",
    "d2v_agglom7.kappa = measures.get_kappa(d2v_agglom7_pred, d2v_agglom7_cluster_num)\n",
    "d2v_gmm5.kappa = measures.get_kappa(d2v_gmm5_pred, d2v_gmm5_cluster_num)\n",
    "d2v_gmm7.kappa = measures.get_kappa(d2v_gmm7_pred, d2v_gmm7_cluster_num)"
   ]
  },
  {
   "cell_type": "code",
   "execution_count": 84,
   "metadata": {},
   "outputs": [
    {
     "data": {
      "text/html": [
       "<div>                            <div id=\"0929b559-44a9-43ca-a2ea-132e1897b4bf\" class=\"plotly-graph-div\" style=\"height:525px; width:100%;\"></div>            <script type=\"text/javascript\">                require([\"plotly\"], function(Plotly) {                    window.PLOTLYENV=window.PLOTLYENV || {};                                    if (document.getElementById(\"0929b559-44a9-43ca-a2ea-132e1897b4bf\")) {                    Plotly.newPlot(                        \"0929b559-44a9-43ca-a2ea-132e1897b4bf\",                        [{\"alignmentgroup\":\"True\",\"hovertemplate\":\"variable=0<br>index=%{x}<br>value=%{y}<extra></extra>\",\"legendgroup\":\"0\",\"marker\":{\"color\":\"#636efa\",\"pattern\":{\"shape\":\"\"}},\"name\":\"0\",\"offsetgroup\":\"0\",\"orientation\":\"v\",\"showlegend\":true,\"textposition\":\"auto\",\"x\":[0,1,2,3,4,5,6,7,8,9,10,11,12,13,14,15,16,17],\"xaxis\":\"x\",\"y\":[0.018804597541345527,0.9000979431929481,0.9824707846410684,0.9447903694479037,0.9215157536190747,0.8476928848318119,0.9637356482777933,0.9875,0.9412816281628162,0.9433333333333334,0.9513888888888888,0.9816666666666667,0.9041979207790498,0.7946168768186227,0.914983498349835,0.8184984520123839,0.9182092687409742,0.7451246605776352],\"yaxis\":\"y\",\"type\":\"bar\"}],                        {\"template\":{\"data\":{\"bar\":[{\"error_x\":{\"color\":\"#2a3f5f\"},\"error_y\":{\"color\":\"#2a3f5f\"},\"marker\":{\"line\":{\"color\":\"#E5ECF6\",\"width\":0.5},\"pattern\":{\"fillmode\":\"overlay\",\"size\":10,\"solidity\":0.2}},\"type\":\"bar\"}],\"barpolar\":[{\"marker\":{\"line\":{\"color\":\"#E5ECF6\",\"width\":0.5},\"pattern\":{\"fillmode\":\"overlay\",\"size\":10,\"solidity\":0.2}},\"type\":\"barpolar\"}],\"carpet\":[{\"aaxis\":{\"endlinecolor\":\"#2a3f5f\",\"gridcolor\":\"white\",\"linecolor\":\"white\",\"minorgridcolor\":\"white\",\"startlinecolor\":\"#2a3f5f\"},\"baxis\":{\"endlinecolor\":\"#2a3f5f\",\"gridcolor\":\"white\",\"linecolor\":\"white\",\"minorgridcolor\":\"white\",\"startlinecolor\":\"#2a3f5f\"},\"type\":\"carpet\"}],\"choropleth\":[{\"colorbar\":{\"outlinewidth\":0,\"ticks\":\"\"},\"type\":\"choropleth\"}],\"contour\":[{\"colorbar\":{\"outlinewidth\":0,\"ticks\":\"\"},\"colorscale\":[[0.0,\"#0d0887\"],[0.1111111111111111,\"#46039f\"],[0.2222222222222222,\"#7201a8\"],[0.3333333333333333,\"#9c179e\"],[0.4444444444444444,\"#bd3786\"],[0.5555555555555556,\"#d8576b\"],[0.6666666666666666,\"#ed7953\"],[0.7777777777777778,\"#fb9f3a\"],[0.8888888888888888,\"#fdca26\"],[1.0,\"#f0f921\"]],\"type\":\"contour\"}],\"contourcarpet\":[{\"colorbar\":{\"outlinewidth\":0,\"ticks\":\"\"},\"type\":\"contourcarpet\"}],\"heatmap\":[{\"colorbar\":{\"outlinewidth\":0,\"ticks\":\"\"},\"colorscale\":[[0.0,\"#0d0887\"],[0.1111111111111111,\"#46039f\"],[0.2222222222222222,\"#7201a8\"],[0.3333333333333333,\"#9c179e\"],[0.4444444444444444,\"#bd3786\"],[0.5555555555555556,\"#d8576b\"],[0.6666666666666666,\"#ed7953\"],[0.7777777777777778,\"#fb9f3a\"],[0.8888888888888888,\"#fdca26\"],[1.0,\"#f0f921\"]],\"type\":\"heatmap\"}],\"heatmapgl\":[{\"colorbar\":{\"outlinewidth\":0,\"ticks\":\"\"},\"colorscale\":[[0.0,\"#0d0887\"],[0.1111111111111111,\"#46039f\"],[0.2222222222222222,\"#7201a8\"],[0.3333333333333333,\"#9c179e\"],[0.4444444444444444,\"#bd3786\"],[0.5555555555555556,\"#d8576b\"],[0.6666666666666666,\"#ed7953\"],[0.7777777777777778,\"#fb9f3a\"],[0.8888888888888888,\"#fdca26\"],[1.0,\"#f0f921\"]],\"type\":\"heatmapgl\"}],\"histogram\":[{\"marker\":{\"pattern\":{\"fillmode\":\"overlay\",\"size\":10,\"solidity\":0.2}},\"type\":\"histogram\"}],\"histogram2d\":[{\"colorbar\":{\"outlinewidth\":0,\"ticks\":\"\"},\"colorscale\":[[0.0,\"#0d0887\"],[0.1111111111111111,\"#46039f\"],[0.2222222222222222,\"#7201a8\"],[0.3333333333333333,\"#9c179e\"],[0.4444444444444444,\"#bd3786\"],[0.5555555555555556,\"#d8576b\"],[0.6666666666666666,\"#ed7953\"],[0.7777777777777778,\"#fb9f3a\"],[0.8888888888888888,\"#fdca26\"],[1.0,\"#f0f921\"]],\"type\":\"histogram2d\"}],\"histogram2dcontour\":[{\"colorbar\":{\"outlinewidth\":0,\"ticks\":\"\"},\"colorscale\":[[0.0,\"#0d0887\"],[0.1111111111111111,\"#46039f\"],[0.2222222222222222,\"#7201a8\"],[0.3333333333333333,\"#9c179e\"],[0.4444444444444444,\"#bd3786\"],[0.5555555555555556,\"#d8576b\"],[0.6666666666666666,\"#ed7953\"],[0.7777777777777778,\"#fb9f3a\"],[0.8888888888888888,\"#fdca26\"],[1.0,\"#f0f921\"]],\"type\":\"histogram2dcontour\"}],\"mesh3d\":[{\"colorbar\":{\"outlinewidth\":0,\"ticks\":\"\"},\"type\":\"mesh3d\"}],\"parcoords\":[{\"line\":{\"colorbar\":{\"outlinewidth\":0,\"ticks\":\"\"}},\"type\":\"parcoords\"}],\"pie\":[{\"automargin\":true,\"type\":\"pie\"}],\"scatter\":[{\"marker\":{\"colorbar\":{\"outlinewidth\":0,\"ticks\":\"\"}},\"type\":\"scatter\"}],\"scatter3d\":[{\"line\":{\"colorbar\":{\"outlinewidth\":0,\"ticks\":\"\"}},\"marker\":{\"colorbar\":{\"outlinewidth\":0,\"ticks\":\"\"}},\"type\":\"scatter3d\"}],\"scattercarpet\":[{\"marker\":{\"colorbar\":{\"outlinewidth\":0,\"ticks\":\"\"}},\"type\":\"scattercarpet\"}],\"scattergeo\":[{\"marker\":{\"colorbar\":{\"outlinewidth\":0,\"ticks\":\"\"}},\"type\":\"scattergeo\"}],\"scattergl\":[{\"marker\":{\"colorbar\":{\"outlinewidth\":0,\"ticks\":\"\"}},\"type\":\"scattergl\"}],\"scattermapbox\":[{\"marker\":{\"colorbar\":{\"outlinewidth\":0,\"ticks\":\"\"}},\"type\":\"scattermapbox\"}],\"scatterpolar\":[{\"marker\":{\"colorbar\":{\"outlinewidth\":0,\"ticks\":\"\"}},\"type\":\"scatterpolar\"}],\"scatterpolargl\":[{\"marker\":{\"colorbar\":{\"outlinewidth\":0,\"ticks\":\"\"}},\"type\":\"scatterpolargl\"}],\"scatterternary\":[{\"marker\":{\"colorbar\":{\"outlinewidth\":0,\"ticks\":\"\"}},\"type\":\"scatterternary\"}],\"surface\":[{\"colorbar\":{\"outlinewidth\":0,\"ticks\":\"\"},\"colorscale\":[[0.0,\"#0d0887\"],[0.1111111111111111,\"#46039f\"],[0.2222222222222222,\"#7201a8\"],[0.3333333333333333,\"#9c179e\"],[0.4444444444444444,\"#bd3786\"],[0.5555555555555556,\"#d8576b\"],[0.6666666666666666,\"#ed7953\"],[0.7777777777777778,\"#fb9f3a\"],[0.8888888888888888,\"#fdca26\"],[1.0,\"#f0f921\"]],\"type\":\"surface\"}],\"table\":[{\"cells\":{\"fill\":{\"color\":\"#EBF0F8\"},\"line\":{\"color\":\"white\"}},\"header\":{\"fill\":{\"color\":\"#C8D4E3\"},\"line\":{\"color\":\"white\"}},\"type\":\"table\"}]},\"layout\":{\"annotationdefaults\":{\"arrowcolor\":\"#2a3f5f\",\"arrowhead\":0,\"arrowwidth\":1},\"autotypenumbers\":\"strict\",\"coloraxis\":{\"colorbar\":{\"outlinewidth\":0,\"ticks\":\"\"}},\"colorscale\":{\"diverging\":[[0,\"#8e0152\"],[0.1,\"#c51b7d\"],[0.2,\"#de77ae\"],[0.3,\"#f1b6da\"],[0.4,\"#fde0ef\"],[0.5,\"#f7f7f7\"],[0.6,\"#e6f5d0\"],[0.7,\"#b8e186\"],[0.8,\"#7fbc41\"],[0.9,\"#4d9221\"],[1,\"#276419\"]],\"sequential\":[[0.0,\"#0d0887\"],[0.1111111111111111,\"#46039f\"],[0.2222222222222222,\"#7201a8\"],[0.3333333333333333,\"#9c179e\"],[0.4444444444444444,\"#bd3786\"],[0.5555555555555556,\"#d8576b\"],[0.6666666666666666,\"#ed7953\"],[0.7777777777777778,\"#fb9f3a\"],[0.8888888888888888,\"#fdca26\"],[1.0,\"#f0f921\"]],\"sequentialminus\":[[0.0,\"#0d0887\"],[0.1111111111111111,\"#46039f\"],[0.2222222222222222,\"#7201a8\"],[0.3333333333333333,\"#9c179e\"],[0.4444444444444444,\"#bd3786\"],[0.5555555555555556,\"#d8576b\"],[0.6666666666666666,\"#ed7953\"],[0.7777777777777778,\"#fb9f3a\"],[0.8888888888888888,\"#fdca26\"],[1.0,\"#f0f921\"]]},\"colorway\":[\"#636efa\",\"#EF553B\",\"#00cc96\",\"#ab63fa\",\"#FFA15A\",\"#19d3f3\",\"#FF6692\",\"#B6E880\",\"#FF97FF\",\"#FECB52\"],\"font\":{\"color\":\"#2a3f5f\"},\"geo\":{\"bgcolor\":\"white\",\"lakecolor\":\"white\",\"landcolor\":\"#E5ECF6\",\"showlakes\":true,\"showland\":true,\"subunitcolor\":\"white\"},\"hoverlabel\":{\"align\":\"left\"},\"hovermode\":\"closest\",\"mapbox\":{\"style\":\"light\"},\"paper_bgcolor\":\"white\",\"plot_bgcolor\":\"#E5ECF6\",\"polar\":{\"angularaxis\":{\"gridcolor\":\"white\",\"linecolor\":\"white\",\"ticks\":\"\"},\"bgcolor\":\"#E5ECF6\",\"radialaxis\":{\"gridcolor\":\"white\",\"linecolor\":\"white\",\"ticks\":\"\"}},\"scene\":{\"xaxis\":{\"backgroundcolor\":\"#E5ECF6\",\"gridcolor\":\"white\",\"gridwidth\":2,\"linecolor\":\"white\",\"showbackground\":true,\"ticks\":\"\",\"zerolinecolor\":\"white\"},\"yaxis\":{\"backgroundcolor\":\"#E5ECF6\",\"gridcolor\":\"white\",\"gridwidth\":2,\"linecolor\":\"white\",\"showbackground\":true,\"ticks\":\"\",\"zerolinecolor\":\"white\"},\"zaxis\":{\"backgroundcolor\":\"#E5ECF6\",\"gridcolor\":\"white\",\"gridwidth\":2,\"linecolor\":\"white\",\"showbackground\":true,\"ticks\":\"\",\"zerolinecolor\":\"white\"}},\"shapedefaults\":{\"line\":{\"color\":\"#2a3f5f\"}},\"ternary\":{\"aaxis\":{\"gridcolor\":\"white\",\"linecolor\":\"white\",\"ticks\":\"\"},\"baxis\":{\"gridcolor\":\"white\",\"linecolor\":\"white\",\"ticks\":\"\"},\"bgcolor\":\"#E5ECF6\",\"caxis\":{\"gridcolor\":\"white\",\"linecolor\":\"white\",\"ticks\":\"\"}},\"title\":{\"x\":0.05},\"xaxis\":{\"automargin\":true,\"gridcolor\":\"white\",\"linecolor\":\"white\",\"ticks\":\"\",\"title\":{\"standoff\":15},\"zerolinecolor\":\"white\",\"zerolinewidth\":2},\"yaxis\":{\"automargin\":true,\"gridcolor\":\"white\",\"linecolor\":\"white\",\"ticks\":\"\",\"title\":{\"standoff\":15},\"zerolinecolor\":\"white\",\"zerolinewidth\":2}}},\"xaxis\":{\"anchor\":\"y\",\"domain\":[0.0,1.0],\"title\":{\"text\":\"index\"}},\"yaxis\":{\"anchor\":\"x\",\"domain\":[0.0,1.0],\"title\":{\"text\":\"value\"}},\"legend\":{\"title\":{\"text\":\"variable\"},\"tracegroupgap\":0},\"margin\":{\"t\":60},\"barmode\":\"relative\"},                        {\"responsive\": true}                    ).then(function(){\n",
       "                            \n",
       "var gd = document.getElementById('0929b559-44a9-43ca-a2ea-132e1897b4bf');\n",
       "var x = new MutationObserver(function (mutations, observer) {{\n",
       "        var display = window.getComputedStyle(gd).display;\n",
       "        if (!display || display === 'none') {{\n",
       "            console.log([gd, 'removed!']);\n",
       "            Plotly.purge(gd);\n",
       "            observer.disconnect();\n",
       "        }}\n",
       "}});\n",
       "\n",
       "// Listen for the removal of the full notebook cells\n",
       "var notebookContainer = gd.closest('#notebook-container');\n",
       "if (notebookContainer) {{\n",
       "    x.observe(notebookContainer, {childList: true});\n",
       "}}\n",
       "\n",
       "// Listen for the clearing of the current output cell\n",
       "var outputEl = gd.closest('.output');\n",
       "if (outputEl) {{\n",
       "    x.observe(outputEl, {childList: true});\n",
       "}}\n",
       "\n",
       "                        })                };                });            </script>        </div>"
      ]
     },
     "metadata": {},
     "output_type": "display_data"
    }
   ],
   "source": [
    "import plotly.express as px\n",
    "langs = ['bow kmean5', 'bow kmean7', 'bow agglom5', 'bow agglom7', 'bow em5', 'bow em7',\n",
    "        'tfidf kmean5', 'tfidf kmean7', 'tfidf agglom5', 'tfidf agglom7', 'tfidf em5', 'tfidf em7',\n",
    "        'd2v kmean5', 'd2v kmean7', 'd2v agglom5', 'd2v agglom7', 'd2v em5', 'd2v em7',]\n",
    "\n",
    "data = [bow_kmeans5.kappa, bow_kmeans7.kappa, bow_agglom5.kappa, bow_agglom7.kappa, bow_gmm5.kappa, bow_gmm7.kappa,\n",
    "        tfidf_kmeans5.kappa, tfidf_kmeans7.kappa, tfidf_agglom5.kappa, tfidf_agglom7.kappa, tfidf_gmm5.kappa, tfidf_gmm7.kappa,\n",
    "        d2v_kmeans5.kappa, d2v_kmeans7.kappa, d2v_agglom5.kappa, d2v_agglom7.kappa, d2v_gmm5.kappa, d2v_gmm7.kappa\n",
    "        ]\n",
    "fig = px.bar(data)\n",
    "fig.show()"
   ]
  },
  {
   "cell_type": "markdown",
   "metadata": {},
   "source": [
    "##### Silhouette Score"
   ]
  },
  {
   "cell_type": "code",
   "execution_count": 58,
   "metadata": {},
   "outputs": [
    {
     "name": "stdout",
     "output_type": "stream",
     "text": [
      "silhouette score for BOW----------------------------------\n",
      "silhouette score: 0.018804597541345527\n",
      "silhouette score: 0.018804597541345527\n",
      "silhouette score: 0.018804597541345527\n",
      "silhouette score: 0.018804597541345527\n",
      "silhouette score: 0.018804597541345527\n",
      "silhouette score: 0.007131359440162388\n",
      "silhouette score for TFIDF--------------------------------\n",
      "silhouette score: 0.030931113887031663\n",
      "silhouette score: 0.03567439495290303\n",
      "silhouette score: 0.030931113887031663\n",
      "silhouette score: 0.03567439495290303\n",
      "silhouette score: 0.030931113887031663\n",
      "silhouette score: 0.03567439495290303\n",
      "silhouette score for LDA----------------------------------\n",
      "silhouette score for Doc2Vec------------------------------\n",
      "silhouette score: 0.30141618847846985\n",
      "silhouette score: 0.2603842616081238\n",
      "silhouette score: 0.30141618847846985\n",
      "silhouette score: 0.30141618847846985\n",
      "silhouette score: 0.30141618847846985\n",
      "silhouette score: 0.20942391455173492\n"
     ]
    }
   ],
   "source": [
    "print(\"silhouette score for BOW----------------------------------\")\n",
    "bow_kmeans5.silhouette = measures.get_silhouette_score(df_bow, bow_kmeans5_cluster_num)\n",
    "bow_kmeans7.silhouette = measures.get_silhouette_score(df_bow, bow_kmeans7_cluster_num)\n",
    "bow_agglom5.silhouette = measures.get_silhouette_score(df_bow, bow_agglom5_cluster_num)\n",
    "bow_agglom7.silhouette = measures.get_silhouette_score(df_bow, bow_agglom7_cluster_num)\n",
    "bow_gmm5.silhouette = measures.get_silhouette_score(df_bow, bow_gmm5_cluster_num)\n",
    "bow_gmm7.silhouette = measures.get_silhouette_score(df_bow, bow_gmm7_cluster_num)\n",
    "print(\"silhouette score for TFIDF--------------------------------\")\n",
    "tfidf_kmeans5.silhouette = measures.get_silhouette_score(df_tfidf, tfidf_kmeans5_cluster_num)\n",
    "tfidf_kmeans7.silhouette = measures.get_silhouette_score(df_tfidf, tfidf_kmeans7_cluster_num)\n",
    "tfidf_agglom5.silhouette = measures.get_silhouette_score(df_tfidf, tfidf_agglom5_cluster_num)\n",
    "tfidf_agglom7.silhouette = measures.get_silhouette_score(df_tfidf, tfidf_agglom7_cluster_num)\n",
    "tfidf_gmm5.silhouette = measures.get_silhouette_score(df_tfidf, tfidf_gmm5_cluster_num)\n",
    "tfidf_gmm7.silhouette = measures.get_silhouette_score(df_tfidf, tfidf_gmm7_cluster_num)\n",
    "print(\"silhouette score for LDA----------------------------------\")\n",
    "print(\"silhouette score for Doc2Vec------------------------------\")\n",
    "d2v_kmeans5.silhouette = measures.get_silhouette_score(df_d2v, d2v_kmeans5_cluster_num)\n",
    "d2v_kmeans7.silhouette = measures.get_silhouette_score(df_d2v, d2v_kmeans7_cluster_num)\n",
    "d2v_agglom5.silhouette = measures.get_silhouette_score(df_d2v, d2v_agglom5_cluster_num)\n",
    "d2v_agglom7.silhouette = measures.get_silhouette_score(df_d2v, d2v_agglom7_cluster_num)\n",
    "d2v_gmm5.silhouette = measures.get_silhouette_score(df_d2v, d2v_gmm5_cluster_num)\n",
    "d2v_gmm7.silhouette = measures.get_silhouette_score(df_d2v, d2v_gmm7_cluster_num)"
   ]
  },
  {
   "cell_type": "code",
   "execution_count": 83,
   "metadata": {},
   "outputs": [
    {
     "data": {
      "text/html": [
       "<div>                            <div id=\"bd9e244f-9f9d-4210-8516-1e66a2afe617\" class=\"plotly-graph-div\" style=\"height:525px; width:100%;\"></div>            <script type=\"text/javascript\">                require([\"plotly\"], function(Plotly) {                    window.PLOTLYENV=window.PLOTLYENV || {};                                    if (document.getElementById(\"bd9e244f-9f9d-4210-8516-1e66a2afe617\")) {                    Plotly.newPlot(                        \"bd9e244f-9f9d-4210-8516-1e66a2afe617\",                        [{\"alignmentgroup\":\"True\",\"hovertemplate\":\"variable=0<br>index=%{x}<br>value=%{y}<extra></extra>\",\"legendgroup\":\"0\",\"marker\":{\"color\":\"#636efa\",\"pattern\":{\"shape\":\"\"}},\"name\":\"0\",\"offsetgroup\":\"0\",\"orientation\":\"v\",\"showlegend\":true,\"textposition\":\"auto\",\"x\":[0,1,2,3,4,5,6,7,8,9,10,11,12,13,14,15,16,17],\"xaxis\":\"x\",\"y\":[0.018804597541345527,0.018804597541345527,0.018804597541345527,0.018804597541345527,0.018804597541345527,0.007131359440162388,0.030931113887031663,0.03567439495290303,0.030931113887031663,0.03567439495290303,0.030931113887031663,0.03567439495290303,0.30141618847846985,0.2603842616081238,0.30141618847846985,0.30141618847846985,0.30141618847846985,0.20942391455173492],\"yaxis\":\"y\",\"type\":\"bar\"}],                        {\"template\":{\"data\":{\"bar\":[{\"error_x\":{\"color\":\"#2a3f5f\"},\"error_y\":{\"color\":\"#2a3f5f\"},\"marker\":{\"line\":{\"color\":\"#E5ECF6\",\"width\":0.5},\"pattern\":{\"fillmode\":\"overlay\",\"size\":10,\"solidity\":0.2}},\"type\":\"bar\"}],\"barpolar\":[{\"marker\":{\"line\":{\"color\":\"#E5ECF6\",\"width\":0.5},\"pattern\":{\"fillmode\":\"overlay\",\"size\":10,\"solidity\":0.2}},\"type\":\"barpolar\"}],\"carpet\":[{\"aaxis\":{\"endlinecolor\":\"#2a3f5f\",\"gridcolor\":\"white\",\"linecolor\":\"white\",\"minorgridcolor\":\"white\",\"startlinecolor\":\"#2a3f5f\"},\"baxis\":{\"endlinecolor\":\"#2a3f5f\",\"gridcolor\":\"white\",\"linecolor\":\"white\",\"minorgridcolor\":\"white\",\"startlinecolor\":\"#2a3f5f\"},\"type\":\"carpet\"}],\"choropleth\":[{\"colorbar\":{\"outlinewidth\":0,\"ticks\":\"\"},\"type\":\"choropleth\"}],\"contour\":[{\"colorbar\":{\"outlinewidth\":0,\"ticks\":\"\"},\"colorscale\":[[0.0,\"#0d0887\"],[0.1111111111111111,\"#46039f\"],[0.2222222222222222,\"#7201a8\"],[0.3333333333333333,\"#9c179e\"],[0.4444444444444444,\"#bd3786\"],[0.5555555555555556,\"#d8576b\"],[0.6666666666666666,\"#ed7953\"],[0.7777777777777778,\"#fb9f3a\"],[0.8888888888888888,\"#fdca26\"],[1.0,\"#f0f921\"]],\"type\":\"contour\"}],\"contourcarpet\":[{\"colorbar\":{\"outlinewidth\":0,\"ticks\":\"\"},\"type\":\"contourcarpet\"}],\"heatmap\":[{\"colorbar\":{\"outlinewidth\":0,\"ticks\":\"\"},\"colorscale\":[[0.0,\"#0d0887\"],[0.1111111111111111,\"#46039f\"],[0.2222222222222222,\"#7201a8\"],[0.3333333333333333,\"#9c179e\"],[0.4444444444444444,\"#bd3786\"],[0.5555555555555556,\"#d8576b\"],[0.6666666666666666,\"#ed7953\"],[0.7777777777777778,\"#fb9f3a\"],[0.8888888888888888,\"#fdca26\"],[1.0,\"#f0f921\"]],\"type\":\"heatmap\"}],\"heatmapgl\":[{\"colorbar\":{\"outlinewidth\":0,\"ticks\":\"\"},\"colorscale\":[[0.0,\"#0d0887\"],[0.1111111111111111,\"#46039f\"],[0.2222222222222222,\"#7201a8\"],[0.3333333333333333,\"#9c179e\"],[0.4444444444444444,\"#bd3786\"],[0.5555555555555556,\"#d8576b\"],[0.6666666666666666,\"#ed7953\"],[0.7777777777777778,\"#fb9f3a\"],[0.8888888888888888,\"#fdca26\"],[1.0,\"#f0f921\"]],\"type\":\"heatmapgl\"}],\"histogram\":[{\"marker\":{\"pattern\":{\"fillmode\":\"overlay\",\"size\":10,\"solidity\":0.2}},\"type\":\"histogram\"}],\"histogram2d\":[{\"colorbar\":{\"outlinewidth\":0,\"ticks\":\"\"},\"colorscale\":[[0.0,\"#0d0887\"],[0.1111111111111111,\"#46039f\"],[0.2222222222222222,\"#7201a8\"],[0.3333333333333333,\"#9c179e\"],[0.4444444444444444,\"#bd3786\"],[0.5555555555555556,\"#d8576b\"],[0.6666666666666666,\"#ed7953\"],[0.7777777777777778,\"#fb9f3a\"],[0.8888888888888888,\"#fdca26\"],[1.0,\"#f0f921\"]],\"type\":\"histogram2d\"}],\"histogram2dcontour\":[{\"colorbar\":{\"outlinewidth\":0,\"ticks\":\"\"},\"colorscale\":[[0.0,\"#0d0887\"],[0.1111111111111111,\"#46039f\"],[0.2222222222222222,\"#7201a8\"],[0.3333333333333333,\"#9c179e\"],[0.4444444444444444,\"#bd3786\"],[0.5555555555555556,\"#d8576b\"],[0.6666666666666666,\"#ed7953\"],[0.7777777777777778,\"#fb9f3a\"],[0.8888888888888888,\"#fdca26\"],[1.0,\"#f0f921\"]],\"type\":\"histogram2dcontour\"}],\"mesh3d\":[{\"colorbar\":{\"outlinewidth\":0,\"ticks\":\"\"},\"type\":\"mesh3d\"}],\"parcoords\":[{\"line\":{\"colorbar\":{\"outlinewidth\":0,\"ticks\":\"\"}},\"type\":\"parcoords\"}],\"pie\":[{\"automargin\":true,\"type\":\"pie\"}],\"scatter\":[{\"marker\":{\"colorbar\":{\"outlinewidth\":0,\"ticks\":\"\"}},\"type\":\"scatter\"}],\"scatter3d\":[{\"line\":{\"colorbar\":{\"outlinewidth\":0,\"ticks\":\"\"}},\"marker\":{\"colorbar\":{\"outlinewidth\":0,\"ticks\":\"\"}},\"type\":\"scatter3d\"}],\"scattercarpet\":[{\"marker\":{\"colorbar\":{\"outlinewidth\":0,\"ticks\":\"\"}},\"type\":\"scattercarpet\"}],\"scattergeo\":[{\"marker\":{\"colorbar\":{\"outlinewidth\":0,\"ticks\":\"\"}},\"type\":\"scattergeo\"}],\"scattergl\":[{\"marker\":{\"colorbar\":{\"outlinewidth\":0,\"ticks\":\"\"}},\"type\":\"scattergl\"}],\"scattermapbox\":[{\"marker\":{\"colorbar\":{\"outlinewidth\":0,\"ticks\":\"\"}},\"type\":\"scattermapbox\"}],\"scatterpolar\":[{\"marker\":{\"colorbar\":{\"outlinewidth\":0,\"ticks\":\"\"}},\"type\":\"scatterpolar\"}],\"scatterpolargl\":[{\"marker\":{\"colorbar\":{\"outlinewidth\":0,\"ticks\":\"\"}},\"type\":\"scatterpolargl\"}],\"scatterternary\":[{\"marker\":{\"colorbar\":{\"outlinewidth\":0,\"ticks\":\"\"}},\"type\":\"scatterternary\"}],\"surface\":[{\"colorbar\":{\"outlinewidth\":0,\"ticks\":\"\"},\"colorscale\":[[0.0,\"#0d0887\"],[0.1111111111111111,\"#46039f\"],[0.2222222222222222,\"#7201a8\"],[0.3333333333333333,\"#9c179e\"],[0.4444444444444444,\"#bd3786\"],[0.5555555555555556,\"#d8576b\"],[0.6666666666666666,\"#ed7953\"],[0.7777777777777778,\"#fb9f3a\"],[0.8888888888888888,\"#fdca26\"],[1.0,\"#f0f921\"]],\"type\":\"surface\"}],\"table\":[{\"cells\":{\"fill\":{\"color\":\"#EBF0F8\"},\"line\":{\"color\":\"white\"}},\"header\":{\"fill\":{\"color\":\"#C8D4E3\"},\"line\":{\"color\":\"white\"}},\"type\":\"table\"}]},\"layout\":{\"annotationdefaults\":{\"arrowcolor\":\"#2a3f5f\",\"arrowhead\":0,\"arrowwidth\":1},\"autotypenumbers\":\"strict\",\"coloraxis\":{\"colorbar\":{\"outlinewidth\":0,\"ticks\":\"\"}},\"colorscale\":{\"diverging\":[[0,\"#8e0152\"],[0.1,\"#c51b7d\"],[0.2,\"#de77ae\"],[0.3,\"#f1b6da\"],[0.4,\"#fde0ef\"],[0.5,\"#f7f7f7\"],[0.6,\"#e6f5d0\"],[0.7,\"#b8e186\"],[0.8,\"#7fbc41\"],[0.9,\"#4d9221\"],[1,\"#276419\"]],\"sequential\":[[0.0,\"#0d0887\"],[0.1111111111111111,\"#46039f\"],[0.2222222222222222,\"#7201a8\"],[0.3333333333333333,\"#9c179e\"],[0.4444444444444444,\"#bd3786\"],[0.5555555555555556,\"#d8576b\"],[0.6666666666666666,\"#ed7953\"],[0.7777777777777778,\"#fb9f3a\"],[0.8888888888888888,\"#fdca26\"],[1.0,\"#f0f921\"]],\"sequentialminus\":[[0.0,\"#0d0887\"],[0.1111111111111111,\"#46039f\"],[0.2222222222222222,\"#7201a8\"],[0.3333333333333333,\"#9c179e\"],[0.4444444444444444,\"#bd3786\"],[0.5555555555555556,\"#d8576b\"],[0.6666666666666666,\"#ed7953\"],[0.7777777777777778,\"#fb9f3a\"],[0.8888888888888888,\"#fdca26\"],[1.0,\"#f0f921\"]]},\"colorway\":[\"#636efa\",\"#EF553B\",\"#00cc96\",\"#ab63fa\",\"#FFA15A\",\"#19d3f3\",\"#FF6692\",\"#B6E880\",\"#FF97FF\",\"#FECB52\"],\"font\":{\"color\":\"#2a3f5f\"},\"geo\":{\"bgcolor\":\"white\",\"lakecolor\":\"white\",\"landcolor\":\"#E5ECF6\",\"showlakes\":true,\"showland\":true,\"subunitcolor\":\"white\"},\"hoverlabel\":{\"align\":\"left\"},\"hovermode\":\"closest\",\"mapbox\":{\"style\":\"light\"},\"paper_bgcolor\":\"white\",\"plot_bgcolor\":\"#E5ECF6\",\"polar\":{\"angularaxis\":{\"gridcolor\":\"white\",\"linecolor\":\"white\",\"ticks\":\"\"},\"bgcolor\":\"#E5ECF6\",\"radialaxis\":{\"gridcolor\":\"white\",\"linecolor\":\"white\",\"ticks\":\"\"}},\"scene\":{\"xaxis\":{\"backgroundcolor\":\"#E5ECF6\",\"gridcolor\":\"white\",\"gridwidth\":2,\"linecolor\":\"white\",\"showbackground\":true,\"ticks\":\"\",\"zerolinecolor\":\"white\"},\"yaxis\":{\"backgroundcolor\":\"#E5ECF6\",\"gridcolor\":\"white\",\"gridwidth\":2,\"linecolor\":\"white\",\"showbackground\":true,\"ticks\":\"\",\"zerolinecolor\":\"white\"},\"zaxis\":{\"backgroundcolor\":\"#E5ECF6\",\"gridcolor\":\"white\",\"gridwidth\":2,\"linecolor\":\"white\",\"showbackground\":true,\"ticks\":\"\",\"zerolinecolor\":\"white\"}},\"shapedefaults\":{\"line\":{\"color\":\"#2a3f5f\"}},\"ternary\":{\"aaxis\":{\"gridcolor\":\"white\",\"linecolor\":\"white\",\"ticks\":\"\"},\"baxis\":{\"gridcolor\":\"white\",\"linecolor\":\"white\",\"ticks\":\"\"},\"bgcolor\":\"#E5ECF6\",\"caxis\":{\"gridcolor\":\"white\",\"linecolor\":\"white\",\"ticks\":\"\"}},\"title\":{\"x\":0.05},\"xaxis\":{\"automargin\":true,\"gridcolor\":\"white\",\"linecolor\":\"white\",\"ticks\":\"\",\"title\":{\"standoff\":15},\"zerolinecolor\":\"white\",\"zerolinewidth\":2},\"yaxis\":{\"automargin\":true,\"gridcolor\":\"white\",\"linecolor\":\"white\",\"ticks\":\"\",\"title\":{\"standoff\":15},\"zerolinecolor\":\"white\",\"zerolinewidth\":2}}},\"xaxis\":{\"anchor\":\"y\",\"domain\":[0.0,1.0],\"title\":{\"text\":\"index\"}},\"yaxis\":{\"anchor\":\"x\",\"domain\":[0.0,1.0],\"title\":{\"text\":\"value\"}},\"legend\":{\"title\":{\"text\":\"variable\"},\"tracegroupgap\":0},\"margin\":{\"t\":60},\"barmode\":\"relative\"},                        {\"responsive\": true}                    ).then(function(){\n",
       "                            \n",
       "var gd = document.getElementById('bd9e244f-9f9d-4210-8516-1e66a2afe617');\n",
       "var x = new MutationObserver(function (mutations, observer) {{\n",
       "        var display = window.getComputedStyle(gd).display;\n",
       "        if (!display || display === 'none') {{\n",
       "            console.log([gd, 'removed!']);\n",
       "            Plotly.purge(gd);\n",
       "            observer.disconnect();\n",
       "        }}\n",
       "}});\n",
       "\n",
       "// Listen for the removal of the full notebook cells\n",
       "var notebookContainer = gd.closest('#notebook-container');\n",
       "if (notebookContainer) {{\n",
       "    x.observe(notebookContainer, {childList: true});\n",
       "}}\n",
       "\n",
       "// Listen for the clearing of the current output cell\n",
       "var outputEl = gd.closest('.output');\n",
       "if (outputEl) {{\n",
       "    x.observe(outputEl, {childList: true});\n",
       "}}\n",
       "\n",
       "                        })                };                });            </script>        </div>"
      ]
     },
     "metadata": {},
     "output_type": "display_data"
    }
   ],
   "source": [
    "import plotly.express as px\n",
    "langs = ['bow kmean5', 'bow kmean7', 'bow agglom5', 'bow agglom7', 'bow em5', 'bow em7',\n",
    "        'tfidf kmean5', 'tfidf kmean7', 'tfidf agglom5', 'tfidf agglom7', 'tfidf em5', 'tfidf em7',\n",
    "        'd2v kmean5', 'd2v kmean7', 'd2v agglom5', 'd2v agglom7', 'd2v em5', 'd2v em7',]\n",
    "\n",
    "data = [bow_kmeans5.silhouette, bow_kmeans7.silhouette, bow_agglom5.silhouette, bow_agglom7.silhouette, bow_gmm5.silhouette, bow_gmm7.silhouette,\n",
    "        tfidf_kmeans5.silhouette, tfidf_kmeans7.silhouette, tfidf_agglom5.silhouette, tfidf_agglom7.silhouette, tfidf_gmm5.silhouette, tfidf_gmm7.silhouette,\n",
    "        d2v_kmeans5.silhouette, d2v_kmeans7.silhouette, d2v_agglom5.silhouette, d2v_agglom7.silhouette, d2v_gmm5.silhouette, d2v_gmm7.silhouette\n",
    "        ]\n",
    "fig = px.bar(data)\n",
    "fig.show()"
   ]
  },
  {
   "cell_type": "markdown",
   "metadata": {},
   "source": [
    "##### Coherence"
   ]
  },
  {
   "cell_type": "code",
   "execution_count": null,
   "metadata": {},
   "outputs": [],
   "source": [
    "print(\"Coherence score for LDA----------------------------------\")"
   ]
  },
  {
   "cell_type": "markdown",
   "metadata": {},
   "source": [
    "##### Rand Index"
   ]
  },
  {
   "cell_type": "code",
   "execution_count": 59,
   "metadata": {},
   "outputs": [
    {
     "name": "stdout",
     "output_type": "stream",
     "text": [
      "Rand score for BOW----------------------------------\n",
      "rand score: 0.8168571082835502\n",
      "rand score: 0.8713383588318966\n",
      "rand score: 0.9690152037238356\n",
      "rand score: 0.9528611923907633\n",
      "rand score: 0.8447856048292877\n",
      "rand score: 0.796117045427862\n",
      "Rand score for TFIDF--------------------------------\n",
      "rand score: 0.9240297055025066\n",
      "rand score: 0.9750631378402579\n",
      "rand score: 0.8866794156279854\n",
      "rand score: 0.8930313871582037\n",
      "rand score: 0.8989430684765087\n",
      "rand score: 0.9635165812111574\n",
      "Rand score for LDA----------------------------------\n",
      "Rand score for Doc2Vec------------------------------\n",
      "rand score: 0.803579616844753\n",
      "rand score: 0.7014547757566512\n",
      "rand score: 0.8229065398425617\n",
      "rand score: 0.7532199480002376\n",
      "rand score: 0.8297366873266565\n",
      "rand score: 0.6968318358335472\n"
     ]
    }
   ],
   "source": [
    "print(\"Rand score for BOW----------------------------------\")\n",
    "bow_kmeans5.rand = measures.get_rand_score(bow_kmeans5_pred, bow_kmeans5_cluster_num)\n",
    "bow_kmeans7.rand = measures.get_rand_score(bow_kmeans7_pred, bow_kmeans7_cluster_num)\n",
    "bow_agglom5.rand = measures.get_rand_score(bow_agglom5_pred, bow_agglom5_cluster_num)\n",
    "bow_agglom7.rand = measures.get_rand_score(bow_agglom7_pred, bow_agglom7_cluster_num)\n",
    "bow_gmm5.rand = measures.get_rand_score(bow_gmm5_pred, bow_gmm5_cluster_num)\n",
    "bow_gmm7.rand = measures.get_rand_score(bow_gmm7_pred, bow_gmm7_cluster_num)\n",
    "print(\"Rand score for TFIDF--------------------------------\")\n",
    "tfidf_kmeans5.rand = measures.get_rand_score(tfidf_kmeans5_pred, tfidf_kmeans5_cluster_num)\n",
    "tfidf_kmeans7.rand = measures.get_rand_score(tfidf_kmeans7_pred, tfidf_kmeans7_cluster_num)\n",
    "tfidf_agglom5.rand = measures.get_rand_score(tfidf_agglom5_pred, tfidf_agglom5_cluster_num)\n",
    "tfidf_agglom7.rand = measures.get_rand_score(tfidf_agglom7_pred, tfidf_agglom7_cluster_num)\n",
    "tfidf_gmm5.rand = measures.get_rand_score(tfidf_gmm5_pred, tfidf_gmm5_cluster_num)\n",
    "tfidf_gmm7.rand = measures.get_rand_score(tfidf_gmm7_pred, tfidf_gmm7_cluster_num)\n",
    "print(\"Rand score for LDA----------------------------------\")\n",
    "print(\"Rand score for Doc2Vec------------------------------\")\n",
    "d2v_kmeans5.rand = measures.get_rand_score(d2v_kmeans5_pred, d2v_kmeans5_cluster_num)\n",
    "d2v_kmeans7.rand = measures.get_rand_score(d2v_kmeans7_pred, d2v_kmeans7_cluster_num)\n",
    "d2v_agglom5.rand = measures.get_rand_score(d2v_agglom5_pred, d2v_agglom5_cluster_num)\n",
    "d2v_agglom7.rand = measures.get_rand_score(d2v_agglom7_pred, d2v_agglom7_cluster_num)\n",
    "d2v_gmm5.rand = measures.get_rand_score(d2v_gmm5_pred, d2v_gmm5_cluster_num)\n",
    "d2v_gmm7.rand = measures.get_rand_score(d2v_gmm7_pred, d2v_gmm7_cluster_num)"
   ]
  },
  {
   "cell_type": "code",
   "execution_count": 82,
   "metadata": {},
   "outputs": [
    {
     "data": {
      "text/html": [
       "<div>                            <div id=\"6f0b9847-4c38-420d-b95b-b7350343a782\" class=\"plotly-graph-div\" style=\"height:525px; width:100%;\"></div>            <script type=\"text/javascript\">                require([\"plotly\"], function(Plotly) {                    window.PLOTLYENV=window.PLOTLYENV || {};                                    if (document.getElementById(\"6f0b9847-4c38-420d-b95b-b7350343a782\")) {                    Plotly.newPlot(                        \"6f0b9847-4c38-420d-b95b-b7350343a782\",                        [{\"alignmentgroup\":\"True\",\"hovertemplate\":\"variable=0<br>index=%{x}<br>value=%{y}<extra></extra>\",\"legendgroup\":\"0\",\"marker\":{\"color\":\"#636efa\",\"pattern\":{\"shape\":\"\"}},\"name\":\"0\",\"offsetgroup\":\"0\",\"orientation\":\"v\",\"showlegend\":true,\"textposition\":\"auto\",\"x\":[0,1,2,3,4,5,6,7,8,9,10,11,12,13,14,15,16,17],\"xaxis\":\"x\",\"y\":[0.8168571082835502,0.8713383588318966,0.9690152037238356,0.9528611923907633,0.8447856048292877,0.796117045427862,0.9240297055025066,0.9750631378402579,0.8866794156279854,0.8930313871582037,0.8989430684765087,0.9635165812111574,0.803579616844753,0.7014547757566512,0.8229065398425617,0.7532199480002376,0.8297366873266565,0.6968318358335472],\"yaxis\":\"y\",\"type\":\"bar\"}],                        {\"template\":{\"data\":{\"bar\":[{\"error_x\":{\"color\":\"#2a3f5f\"},\"error_y\":{\"color\":\"#2a3f5f\"},\"marker\":{\"line\":{\"color\":\"#E5ECF6\",\"width\":0.5},\"pattern\":{\"fillmode\":\"overlay\",\"size\":10,\"solidity\":0.2}},\"type\":\"bar\"}],\"barpolar\":[{\"marker\":{\"line\":{\"color\":\"#E5ECF6\",\"width\":0.5},\"pattern\":{\"fillmode\":\"overlay\",\"size\":10,\"solidity\":0.2}},\"type\":\"barpolar\"}],\"carpet\":[{\"aaxis\":{\"endlinecolor\":\"#2a3f5f\",\"gridcolor\":\"white\",\"linecolor\":\"white\",\"minorgridcolor\":\"white\",\"startlinecolor\":\"#2a3f5f\"},\"baxis\":{\"endlinecolor\":\"#2a3f5f\",\"gridcolor\":\"white\",\"linecolor\":\"white\",\"minorgridcolor\":\"white\",\"startlinecolor\":\"#2a3f5f\"},\"type\":\"carpet\"}],\"choropleth\":[{\"colorbar\":{\"outlinewidth\":0,\"ticks\":\"\"},\"type\":\"choropleth\"}],\"contour\":[{\"colorbar\":{\"outlinewidth\":0,\"ticks\":\"\"},\"colorscale\":[[0.0,\"#0d0887\"],[0.1111111111111111,\"#46039f\"],[0.2222222222222222,\"#7201a8\"],[0.3333333333333333,\"#9c179e\"],[0.4444444444444444,\"#bd3786\"],[0.5555555555555556,\"#d8576b\"],[0.6666666666666666,\"#ed7953\"],[0.7777777777777778,\"#fb9f3a\"],[0.8888888888888888,\"#fdca26\"],[1.0,\"#f0f921\"]],\"type\":\"contour\"}],\"contourcarpet\":[{\"colorbar\":{\"outlinewidth\":0,\"ticks\":\"\"},\"type\":\"contourcarpet\"}],\"heatmap\":[{\"colorbar\":{\"outlinewidth\":0,\"ticks\":\"\"},\"colorscale\":[[0.0,\"#0d0887\"],[0.1111111111111111,\"#46039f\"],[0.2222222222222222,\"#7201a8\"],[0.3333333333333333,\"#9c179e\"],[0.4444444444444444,\"#bd3786\"],[0.5555555555555556,\"#d8576b\"],[0.6666666666666666,\"#ed7953\"],[0.7777777777777778,\"#fb9f3a\"],[0.8888888888888888,\"#fdca26\"],[1.0,\"#f0f921\"]],\"type\":\"heatmap\"}],\"heatmapgl\":[{\"colorbar\":{\"outlinewidth\":0,\"ticks\":\"\"},\"colorscale\":[[0.0,\"#0d0887\"],[0.1111111111111111,\"#46039f\"],[0.2222222222222222,\"#7201a8\"],[0.3333333333333333,\"#9c179e\"],[0.4444444444444444,\"#bd3786\"],[0.5555555555555556,\"#d8576b\"],[0.6666666666666666,\"#ed7953\"],[0.7777777777777778,\"#fb9f3a\"],[0.8888888888888888,\"#fdca26\"],[1.0,\"#f0f921\"]],\"type\":\"heatmapgl\"}],\"histogram\":[{\"marker\":{\"pattern\":{\"fillmode\":\"overlay\",\"size\":10,\"solidity\":0.2}},\"type\":\"histogram\"}],\"histogram2d\":[{\"colorbar\":{\"outlinewidth\":0,\"ticks\":\"\"},\"colorscale\":[[0.0,\"#0d0887\"],[0.1111111111111111,\"#46039f\"],[0.2222222222222222,\"#7201a8\"],[0.3333333333333333,\"#9c179e\"],[0.4444444444444444,\"#bd3786\"],[0.5555555555555556,\"#d8576b\"],[0.6666666666666666,\"#ed7953\"],[0.7777777777777778,\"#fb9f3a\"],[0.8888888888888888,\"#fdca26\"],[1.0,\"#f0f921\"]],\"type\":\"histogram2d\"}],\"histogram2dcontour\":[{\"colorbar\":{\"outlinewidth\":0,\"ticks\":\"\"},\"colorscale\":[[0.0,\"#0d0887\"],[0.1111111111111111,\"#46039f\"],[0.2222222222222222,\"#7201a8\"],[0.3333333333333333,\"#9c179e\"],[0.4444444444444444,\"#bd3786\"],[0.5555555555555556,\"#d8576b\"],[0.6666666666666666,\"#ed7953\"],[0.7777777777777778,\"#fb9f3a\"],[0.8888888888888888,\"#fdca26\"],[1.0,\"#f0f921\"]],\"type\":\"histogram2dcontour\"}],\"mesh3d\":[{\"colorbar\":{\"outlinewidth\":0,\"ticks\":\"\"},\"type\":\"mesh3d\"}],\"parcoords\":[{\"line\":{\"colorbar\":{\"outlinewidth\":0,\"ticks\":\"\"}},\"type\":\"parcoords\"}],\"pie\":[{\"automargin\":true,\"type\":\"pie\"}],\"scatter\":[{\"marker\":{\"colorbar\":{\"outlinewidth\":0,\"ticks\":\"\"}},\"type\":\"scatter\"}],\"scatter3d\":[{\"line\":{\"colorbar\":{\"outlinewidth\":0,\"ticks\":\"\"}},\"marker\":{\"colorbar\":{\"outlinewidth\":0,\"ticks\":\"\"}},\"type\":\"scatter3d\"}],\"scattercarpet\":[{\"marker\":{\"colorbar\":{\"outlinewidth\":0,\"ticks\":\"\"}},\"type\":\"scattercarpet\"}],\"scattergeo\":[{\"marker\":{\"colorbar\":{\"outlinewidth\":0,\"ticks\":\"\"}},\"type\":\"scattergeo\"}],\"scattergl\":[{\"marker\":{\"colorbar\":{\"outlinewidth\":0,\"ticks\":\"\"}},\"type\":\"scattergl\"}],\"scattermapbox\":[{\"marker\":{\"colorbar\":{\"outlinewidth\":0,\"ticks\":\"\"}},\"type\":\"scattermapbox\"}],\"scatterpolar\":[{\"marker\":{\"colorbar\":{\"outlinewidth\":0,\"ticks\":\"\"}},\"type\":\"scatterpolar\"}],\"scatterpolargl\":[{\"marker\":{\"colorbar\":{\"outlinewidth\":0,\"ticks\":\"\"}},\"type\":\"scatterpolargl\"}],\"scatterternary\":[{\"marker\":{\"colorbar\":{\"outlinewidth\":0,\"ticks\":\"\"}},\"type\":\"scatterternary\"}],\"surface\":[{\"colorbar\":{\"outlinewidth\":0,\"ticks\":\"\"},\"colorscale\":[[0.0,\"#0d0887\"],[0.1111111111111111,\"#46039f\"],[0.2222222222222222,\"#7201a8\"],[0.3333333333333333,\"#9c179e\"],[0.4444444444444444,\"#bd3786\"],[0.5555555555555556,\"#d8576b\"],[0.6666666666666666,\"#ed7953\"],[0.7777777777777778,\"#fb9f3a\"],[0.8888888888888888,\"#fdca26\"],[1.0,\"#f0f921\"]],\"type\":\"surface\"}],\"table\":[{\"cells\":{\"fill\":{\"color\":\"#EBF0F8\"},\"line\":{\"color\":\"white\"}},\"header\":{\"fill\":{\"color\":\"#C8D4E3\"},\"line\":{\"color\":\"white\"}},\"type\":\"table\"}]},\"layout\":{\"annotationdefaults\":{\"arrowcolor\":\"#2a3f5f\",\"arrowhead\":0,\"arrowwidth\":1},\"autotypenumbers\":\"strict\",\"coloraxis\":{\"colorbar\":{\"outlinewidth\":0,\"ticks\":\"\"}},\"colorscale\":{\"diverging\":[[0,\"#8e0152\"],[0.1,\"#c51b7d\"],[0.2,\"#de77ae\"],[0.3,\"#f1b6da\"],[0.4,\"#fde0ef\"],[0.5,\"#f7f7f7\"],[0.6,\"#e6f5d0\"],[0.7,\"#b8e186\"],[0.8,\"#7fbc41\"],[0.9,\"#4d9221\"],[1,\"#276419\"]],\"sequential\":[[0.0,\"#0d0887\"],[0.1111111111111111,\"#46039f\"],[0.2222222222222222,\"#7201a8\"],[0.3333333333333333,\"#9c179e\"],[0.4444444444444444,\"#bd3786\"],[0.5555555555555556,\"#d8576b\"],[0.6666666666666666,\"#ed7953\"],[0.7777777777777778,\"#fb9f3a\"],[0.8888888888888888,\"#fdca26\"],[1.0,\"#f0f921\"]],\"sequentialminus\":[[0.0,\"#0d0887\"],[0.1111111111111111,\"#46039f\"],[0.2222222222222222,\"#7201a8\"],[0.3333333333333333,\"#9c179e\"],[0.4444444444444444,\"#bd3786\"],[0.5555555555555556,\"#d8576b\"],[0.6666666666666666,\"#ed7953\"],[0.7777777777777778,\"#fb9f3a\"],[0.8888888888888888,\"#fdca26\"],[1.0,\"#f0f921\"]]},\"colorway\":[\"#636efa\",\"#EF553B\",\"#00cc96\",\"#ab63fa\",\"#FFA15A\",\"#19d3f3\",\"#FF6692\",\"#B6E880\",\"#FF97FF\",\"#FECB52\"],\"font\":{\"color\":\"#2a3f5f\"},\"geo\":{\"bgcolor\":\"white\",\"lakecolor\":\"white\",\"landcolor\":\"#E5ECF6\",\"showlakes\":true,\"showland\":true,\"subunitcolor\":\"white\"},\"hoverlabel\":{\"align\":\"left\"},\"hovermode\":\"closest\",\"mapbox\":{\"style\":\"light\"},\"paper_bgcolor\":\"white\",\"plot_bgcolor\":\"#E5ECF6\",\"polar\":{\"angularaxis\":{\"gridcolor\":\"white\",\"linecolor\":\"white\",\"ticks\":\"\"},\"bgcolor\":\"#E5ECF6\",\"radialaxis\":{\"gridcolor\":\"white\",\"linecolor\":\"white\",\"ticks\":\"\"}},\"scene\":{\"xaxis\":{\"backgroundcolor\":\"#E5ECF6\",\"gridcolor\":\"white\",\"gridwidth\":2,\"linecolor\":\"white\",\"showbackground\":true,\"ticks\":\"\",\"zerolinecolor\":\"white\"},\"yaxis\":{\"backgroundcolor\":\"#E5ECF6\",\"gridcolor\":\"white\",\"gridwidth\":2,\"linecolor\":\"white\",\"showbackground\":true,\"ticks\":\"\",\"zerolinecolor\":\"white\"},\"zaxis\":{\"backgroundcolor\":\"#E5ECF6\",\"gridcolor\":\"white\",\"gridwidth\":2,\"linecolor\":\"white\",\"showbackground\":true,\"ticks\":\"\",\"zerolinecolor\":\"white\"}},\"shapedefaults\":{\"line\":{\"color\":\"#2a3f5f\"}},\"ternary\":{\"aaxis\":{\"gridcolor\":\"white\",\"linecolor\":\"white\",\"ticks\":\"\"},\"baxis\":{\"gridcolor\":\"white\",\"linecolor\":\"white\",\"ticks\":\"\"},\"bgcolor\":\"#E5ECF6\",\"caxis\":{\"gridcolor\":\"white\",\"linecolor\":\"white\",\"ticks\":\"\"}},\"title\":{\"x\":0.05},\"xaxis\":{\"automargin\":true,\"gridcolor\":\"white\",\"linecolor\":\"white\",\"ticks\":\"\",\"title\":{\"standoff\":15},\"zerolinecolor\":\"white\",\"zerolinewidth\":2},\"yaxis\":{\"automargin\":true,\"gridcolor\":\"white\",\"linecolor\":\"white\",\"ticks\":\"\",\"title\":{\"standoff\":15},\"zerolinecolor\":\"white\",\"zerolinewidth\":2}}},\"xaxis\":{\"anchor\":\"y\",\"domain\":[0.0,1.0],\"title\":{\"text\":\"index\"}},\"yaxis\":{\"anchor\":\"x\",\"domain\":[0.0,1.0],\"title\":{\"text\":\"value\"}},\"legend\":{\"title\":{\"text\":\"variable\"},\"tracegroupgap\":0},\"margin\":{\"t\":60},\"barmode\":\"relative\"},                        {\"responsive\": true}                    ).then(function(){\n",
       "                            \n",
       "var gd = document.getElementById('6f0b9847-4c38-420d-b95b-b7350343a782');\n",
       "var x = new MutationObserver(function (mutations, observer) {{\n",
       "        var display = window.getComputedStyle(gd).display;\n",
       "        if (!display || display === 'none') {{\n",
       "            console.log([gd, 'removed!']);\n",
       "            Plotly.purge(gd);\n",
       "            observer.disconnect();\n",
       "        }}\n",
       "}});\n",
       "\n",
       "// Listen for the removal of the full notebook cells\n",
       "var notebookContainer = gd.closest('#notebook-container');\n",
       "if (notebookContainer) {{\n",
       "    x.observe(notebookContainer, {childList: true});\n",
       "}}\n",
       "\n",
       "// Listen for the clearing of the current output cell\n",
       "var outputEl = gd.closest('.output');\n",
       "if (outputEl) {{\n",
       "    x.observe(outputEl, {childList: true});\n",
       "}}\n",
       "\n",
       "                        })                };                });            </script>        </div>"
      ]
     },
     "metadata": {},
     "output_type": "display_data"
    }
   ],
   "source": [
    "import plotly.express as px\n",
    "\n",
    "x_legend = ['bow kmean5', 'bow kmean7', 'bow agglom5', 'bow agglom7', 'bow em5', 'bow em7',\n",
    "        'tfidf kmean5', 'tfidf kmean7', 'tfidf agglom5', 'tfidf agglom7', 'tfidf em5', 'tfidf em7',\n",
    "        'd2v kmean5', 'd2v kmean7', 'd2v agglom5', 'd2v agglom7', 'd2v em5', 'd2v em7',]\n",
    "\n",
    "data = [bow_kmeans5.rand, bow_kmeans7.rand, bow_agglom5.rand, bow_agglom7.rand, bow_gmm5.rand, bow_gmm7.rand,\n",
    "        tfidf_kmeans5.rand, tfidf_kmeans7.rand, tfidf_agglom5.rand, tfidf_agglom7.rand, tfidf_gmm5.rand, tfidf_gmm7.rand,\n",
    "        d2v_kmeans5.rand, d2v_kmeans7.rand, d2v_agglom5.rand, d2v_agglom7.rand, d2v_gmm5.rand, d2v_gmm7.rand\n",
    "        ]\n",
    "fig = px.bar(data)\n",
    "fig.show()"
   ]
  },
  {
   "cell_type": "markdown",
   "metadata": {},
   "source": [
    "### Error Analysis"
   ]
  },
  {
   "cell_type": "code",
   "execution_count": null,
   "metadata": {},
   "outputs": [],
   "source": [
    "# pick worse a model for eac word-embedding method...based on kappa score\n",
    "# analyze the top 10 "
   ]
  }
 ],
 "metadata": {
  "interpreter": {
   "hash": "dd6e274271fa1c760239ba3e02bf399206203edc4ed40ec84a071cab12e11cbf"
  },
  "kernelspec": {
   "display_name": "Python 3 (ipykernel)",
   "language": "python",
   "name": "python3"
  },
  "language_info": {
   "codemirror_mode": {
    "name": "ipython",
    "version": 3
   },
   "file_extension": ".py",
   "mimetype": "text/x-python",
   "name": "python",
   "nbconvert_exporter": "python",
   "pygments_lexer": "ipython3",
   "version": "3.9.10"
  }
 },
 "nbformat": 4,
 "nbformat_minor": 2
}
