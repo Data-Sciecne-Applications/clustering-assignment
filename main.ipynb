{
 "cells": [
  {
   "cell_type": "code",
   "execution_count": 1,
   "metadata": {},
   "outputs": [
    {
     "name": "stdout",
     "output_type": "stream",
     "text": [
      "Requirement already satisfied: plotly in c:\\users\\zwang684\\appdata\\local\\packages\\pythonsoftwarefoundation.python.3.9_qbz5n2kfra8p0\\localcache\\local-packages\\python39\\site-packages (5.6.0)\n",
      "Requirement already satisfied: six in c:\\users\\zwang684\\appdata\\local\\packages\\pythonsoftwarefoundation.python.3.9_qbz5n2kfra8p0\\localcache\\local-packages\\python39\\site-packages (from plotly) (1.16.0)\n",
      "Requirement already satisfied: tenacity>=6.2.0 in c:\\users\\zwang684\\appdata\\local\\packages\\pythonsoftwarefoundation.python.3.9_qbz5n2kfra8p0\\localcache\\local-packages\\python39\\site-packages (from plotly) (8.0.1)\n",
      "Requirement already satisfied: gensim in c:\\users\\zwang684\\appdata\\local\\packages\\pythonsoftwarefoundation.python.3.9_qbz5n2kfra8p0\\localcache\\local-packages\\python39\\site-packages (4.1.2)\n",
      "Requirement already satisfied: scipy>=0.18.1 in c:\\users\\zwang684\\appdata\\local\\packages\\pythonsoftwarefoundation.python.3.9_qbz5n2kfra8p0\\localcache\\local-packages\\python39\\site-packages (from gensim) (1.7.3)\n",
      "Requirement already satisfied: smart-open>=1.8.1 in c:\\users\\zwang684\\appdata\\local\\packages\\pythonsoftwarefoundation.python.3.9_qbz5n2kfra8p0\\localcache\\local-packages\\python39\\site-packages (from gensim) (5.2.1)\n",
      "Requirement already satisfied: Cython==0.29.23 in c:\\users\\zwang684\\appdata\\local\\packages\\pythonsoftwarefoundation.python.3.9_qbz5n2kfra8p0\\localcache\\local-packages\\python39\\site-packages (from gensim) (0.29.23)\n",
      "Requirement already satisfied: numpy>=1.17.0 in c:\\users\\zwang684\\appdata\\local\\packages\\pythonsoftwarefoundation.python.3.9_qbz5n2kfra8p0\\localcache\\local-packages\\python39\\site-packages (from gensim) (1.21.4)\n",
      "Requirement already satisfied: kneed in c:\\users\\zwang684\\appdata\\local\\packages\\pythonsoftwarefoundation.python.3.9_qbz5n2kfra8p0\\localcache\\local-packages\\python39\\site-packages (0.7.0)\n",
      "Requirement already satisfied: matplotlib in c:\\users\\zwang684\\appdata\\local\\packages\\pythonsoftwarefoundation.python.3.9_qbz5n2kfra8p0\\localcache\\local-packages\\python39\\site-packages (from kneed) (3.5.1)\n",
      "Requirement already satisfied: scipy in c:\\users\\zwang684\\appdata\\local\\packages\\pythonsoftwarefoundation.python.3.9_qbz5n2kfra8p0\\localcache\\local-packages\\python39\\site-packages (from kneed) (1.7.3)\n",
      "Requirement already satisfied: numpy>=1.14.2 in c:\\users\\zwang684\\appdata\\local\\packages\\pythonsoftwarefoundation.python.3.9_qbz5n2kfra8p0\\localcache\\local-packages\\python39\\site-packages (from kneed) (1.21.4)\n",
      "Requirement already satisfied: kiwisolver>=1.0.1 in c:\\users\\zwang684\\appdata\\local\\packages\\pythonsoftwarefoundation.python.3.9_qbz5n2kfra8p0\\localcache\\local-packages\\python39\\site-packages (from matplotlib->kneed) (1.3.2)\n",
      "Requirement already satisfied: cycler>=0.10 in c:\\users\\zwang684\\appdata\\local\\packages\\pythonsoftwarefoundation.python.3.9_qbz5n2kfra8p0\\localcache\\local-packages\\python39\\site-packages (from matplotlib->kneed) (0.11.0)\n",
      "Requirement already satisfied: packaging>=20.0 in c:\\users\\zwang684\\appdata\\local\\packages\\pythonsoftwarefoundation.python.3.9_qbz5n2kfra8p0\\localcache\\local-packages\\python39\\site-packages (from matplotlib->kneed) (21.3)\n",
      "Requirement already satisfied: fonttools>=4.22.0 in c:\\users\\zwang684\\appdata\\local\\packages\\pythonsoftwarefoundation.python.3.9_qbz5n2kfra8p0\\localcache\\local-packages\\python39\\site-packages (from matplotlib->kneed) (4.29.1)\n",
      "Requirement already satisfied: python-dateutil>=2.7 in c:\\users\\zwang684\\appdata\\local\\packages\\pythonsoftwarefoundation.python.3.9_qbz5n2kfra8p0\\localcache\\local-packages\\python39\\site-packages (from matplotlib->kneed) (2.8.2)\n",
      "Requirement already satisfied: pillow>=6.2.0 in c:\\users\\zwang684\\appdata\\local\\packages\\pythonsoftwarefoundation.python.3.9_qbz5n2kfra8p0\\localcache\\local-packages\\python39\\site-packages (from matplotlib->kneed) (9.0.1)\n",
      "Requirement already satisfied: pyparsing>=2.2.1 in c:\\users\\zwang684\\appdata\\local\\packages\\pythonsoftwarefoundation.python.3.9_qbz5n2kfra8p0\\localcache\\local-packages\\python39\\site-packages (from matplotlib->kneed) (3.0.6)\n",
      "Requirement already satisfied: six>=1.5 in c:\\users\\zwang684\\appdata\\local\\packages\\pythonsoftwarefoundation.python.3.9_qbz5n2kfra8p0\\localcache\\local-packages\\python39\\site-packages (from python-dateutil>=2.7->matplotlib->kneed) (1.16.0)\n",
      "Requirement already satisfied: scikit-learn in c:\\users\\zwang684\\appdata\\local\\packages\\pythonsoftwarefoundation.python.3.9_qbz5n2kfra8p0\\localcache\\local-packages\\python39\\site-packages (1.0.2)\n",
      "Requirement already satisfied: numpy>=1.14.6 in c:\\users\\zwang684\\appdata\\local\\packages\\pythonsoftwarefoundation.python.3.9_qbz5n2kfra8p0\\localcache\\local-packages\\python39\\site-packages (from scikit-learn) (1.21.4)\n",
      "Requirement already satisfied: joblib>=0.11 in c:\\users\\zwang684\\appdata\\local\\packages\\pythonsoftwarefoundation.python.3.9_qbz5n2kfra8p0\\localcache\\local-packages\\python39\\site-packages (from scikit-learn) (1.1.0)\n",
      "Requirement already satisfied: threadpoolctl>=2.0.0 in c:\\users\\zwang684\\appdata\\local\\packages\\pythonsoftwarefoundation.python.3.9_qbz5n2kfra8p0\\localcache\\local-packages\\python39\\site-packages (from scikit-learn) (3.0.0)\n",
      "Requirement already satisfied: scipy>=1.1.0 in c:\\users\\zwang684\\appdata\\local\\packages\\pythonsoftwarefoundation.python.3.9_qbz5n2kfra8p0\\localcache\\local-packages\\python39\\site-packages (from scikit-learn) (1.7.3)\n",
      "Requirement already satisfied: pyLDAvis in c:\\users\\zwang684\\appdata\\local\\packages\\pythonsoftwarefoundation.python.3.9_qbz5n2kfra8p0\\localcache\\local-packages\\python39\\site-packages (3.3.1)\n",
      "Requirement already satisfied: scikit-learn in c:\\users\\zwang684\\appdata\\local\\packages\\pythonsoftwarefoundation.python.3.9_qbz5n2kfra8p0\\localcache\\local-packages\\python39\\site-packages (from pyLDAvis) (1.0.2)\n",
      "Requirement already satisfied: jinja2 in c:\\users\\zwang684\\appdata\\local\\packages\\pythonsoftwarefoundation.python.3.9_qbz5n2kfra8p0\\localcache\\local-packages\\python39\\site-packages (from pyLDAvis) (3.0.3)\n",
      "Requirement already satisfied: pandas>=1.2.0 in c:\\users\\zwang684\\appdata\\local\\packages\\pythonsoftwarefoundation.python.3.9_qbz5n2kfra8p0\\localcache\\local-packages\\python39\\site-packages (from pyLDAvis) (1.3.4)\n",
      "Requirement already satisfied: setuptools in c:\\program files\\windowsapps\\pythonsoftwarefoundation.python.3.9_3.9.2800.0_x64__qbz5n2kfra8p0\\lib\\site-packages (from pyLDAvis) (58.1.0)\n",
      "Requirement already satisfied: funcy in c:\\users\\zwang684\\appdata\\local\\packages\\pythonsoftwarefoundation.python.3.9_qbz5n2kfra8p0\\localcache\\local-packages\\python39\\site-packages (from pyLDAvis) (1.17)\n",
      "Requirement already satisfied: sklearn in c:\\users\\zwang684\\appdata\\local\\packages\\pythonsoftwarefoundation.python.3.9_qbz5n2kfra8p0\\localcache\\local-packages\\python39\\site-packages (from pyLDAvis) (0.0)\n",
      "Requirement already satisfied: numpy>=1.20.0 in c:\\users\\zwang684\\appdata\\local\\packages\\pythonsoftwarefoundation.python.3.9_qbz5n2kfra8p0\\localcache\\local-packages\\python39\\site-packages (from pyLDAvis) (1.21.4)\n",
      "Requirement already satisfied: numexpr in c:\\users\\zwang684\\appdata\\local\\packages\\pythonsoftwarefoundation.python.3.9_qbz5n2kfra8p0\\localcache\\local-packages\\python39\\site-packages (from pyLDAvis) (2.8.1)\n",
      "Requirement already satisfied: future in c:\\users\\zwang684\\appdata\\local\\packages\\pythonsoftwarefoundation.python.3.9_qbz5n2kfra8p0\\localcache\\local-packages\\python39\\site-packages (from pyLDAvis) (0.18.2)\n",
      "Requirement already satisfied: joblib in c:\\users\\zwang684\\appdata\\local\\packages\\pythonsoftwarefoundation.python.3.9_qbz5n2kfra8p0\\localcache\\local-packages\\python39\\site-packages (from pyLDAvis) (1.1.0)\n",
      "Requirement already satisfied: scipy in c:\\users\\zwang684\\appdata\\local\\packages\\pythonsoftwarefoundation.python.3.9_qbz5n2kfra8p0\\localcache\\local-packages\\python39\\site-packages (from pyLDAvis) (1.7.3)\n",
      "Requirement already satisfied: gensim in c:\\users\\zwang684\\appdata\\local\\packages\\pythonsoftwarefoundation.python.3.9_qbz5n2kfra8p0\\localcache\\local-packages\\python39\\site-packages (from pyLDAvis) (4.1.2)\n",
      "Requirement already satisfied: pytz>=2017.3 in c:\\users\\zwang684\\appdata\\local\\packages\\pythonsoftwarefoundation.python.3.9_qbz5n2kfra8p0\\localcache\\local-packages\\python39\\site-packages (from pandas>=1.2.0->pyLDAvis) (2021.3)\n",
      "Requirement already satisfied: python-dateutil>=2.7.3 in c:\\users\\zwang684\\appdata\\local\\packages\\pythonsoftwarefoundation.python.3.9_qbz5n2kfra8p0\\localcache\\local-packages\\python39\\site-packages (from pandas>=1.2.0->pyLDAvis) (2.8.2)\n",
      "Requirement already satisfied: Cython==0.29.23 in c:\\users\\zwang684\\appdata\\local\\packages\\pythonsoftwarefoundation.python.3.9_qbz5n2kfra8p0\\localcache\\local-packages\\python39\\site-packages (from gensim->pyLDAvis) (0.29.23)\n",
      "Requirement already satisfied: smart-open>=1.8.1 in c:\\users\\zwang684\\appdata\\local\\packages\\pythonsoftwarefoundation.python.3.9_qbz5n2kfra8p0\\localcache\\local-packages\\python39\\site-packages (from gensim->pyLDAvis) (5.2.1)\n",
      "Requirement already satisfied: MarkupSafe>=2.0 in c:\\users\\zwang684\\appdata\\local\\packages\\pythonsoftwarefoundation.python.3.9_qbz5n2kfra8p0\\localcache\\local-packages\\python39\\site-packages (from jinja2->pyLDAvis) (2.0.1)\n",
      "Requirement already satisfied: packaging in c:\\users\\zwang684\\appdata\\local\\packages\\pythonsoftwarefoundation.python.3.9_qbz5n2kfra8p0\\localcache\\local-packages\\python39\\site-packages (from numexpr->pyLDAvis) (21.3)\n",
      "Requirement already satisfied: threadpoolctl>=2.0.0 in c:\\users\\zwang684\\appdata\\local\\packages\\pythonsoftwarefoundation.python.3.9_qbz5n2kfra8p0\\localcache\\local-packages\\python39\\site-packages (from scikit-learn->pyLDAvis) (3.0.0)\n",
      "Requirement already satisfied: six>=1.5 in c:\\users\\zwang684\\appdata\\local\\packages\\pythonsoftwarefoundation.python.3.9_qbz5n2kfra8p0\\localcache\\local-packages\\python39\\site-packages (from python-dateutil>=2.7.3->pandas>=1.2.0->pyLDAvis) (1.16.0)\n",
      "Requirement already satisfied: pyparsing!=3.0.5,>=2.0.2 in c:\\users\\zwang684\\appdata\\local\\packages\\pythonsoftwarefoundation.python.3.9_qbz5n2kfra8p0\\localcache\\local-packages\\python39\\site-packages (from packaging->numexpr->pyLDAvis) (3.0.6)\n",
      "Requirement already satisfied: torchvision in c:\\users\\zwang684\\appdata\\local\\packages\\pythonsoftwarefoundation.python.3.9_qbz5n2kfra8p0\\localcache\\local-packages\\python39\\site-packages (0.11.3)\n",
      "Requirement already satisfied: pillow!=8.3.0,>=5.3.0 in c:\\users\\zwang684\\appdata\\local\\packages\\pythonsoftwarefoundation.python.3.9_qbz5n2kfra8p0\\localcache\\local-packages\\python39\\site-packages (from torchvision) (9.0.1)\n",
      "Requirement already satisfied: torch==1.10.2 in c:\\users\\zwang684\\appdata\\local\\packages\\pythonsoftwarefoundation.python.3.9_qbz5n2kfra8p0\\localcache\\local-packages\\python39\\site-packages (from torchvision) (1.10.2)\n",
      "Requirement already satisfied: numpy in c:\\users\\zwang684\\appdata\\local\\packages\\pythonsoftwarefoundation.python.3.9_qbz5n2kfra8p0\\localcache\\local-packages\\python39\\site-packages (from torchvision) (1.21.4)\n",
      "Requirement already satisfied: typing-extensions in c:\\users\\zwang684\\appdata\\local\\packages\\pythonsoftwarefoundation.python.3.9_qbz5n2kfra8p0\\localcache\\local-packages\\python39\\site-packages (from torch==1.10.2->torchvision) (4.1.1)\n",
      "Requirement already satisfied: spacy in c:\\users\\zwang684\\appdata\\local\\packages\\pythonsoftwarefoundation.python.3.9_qbz5n2kfra8p0\\localcache\\local-packages\\python39\\site-packages (3.2.3)\n",
      "Requirement already satisfied: tqdm<5.0.0,>=4.38.0 in c:\\users\\zwang684\\appdata\\local\\packages\\pythonsoftwarefoundation.python.3.9_qbz5n2kfra8p0\\localcache\\local-packages\\python39\\site-packages (from spacy) (4.62.3)\n",
      "Requirement already satisfied: numpy>=1.15.0 in c:\\users\\zwang684\\appdata\\local\\packages\\pythonsoftwarefoundation.python.3.9_qbz5n2kfra8p0\\localcache\\local-packages\\python39\\site-packages (from spacy) (1.21.4)\n",
      "Requirement already satisfied: preshed<3.1.0,>=3.0.2 in c:\\users\\zwang684\\appdata\\local\\packages\\pythonsoftwarefoundation.python.3.9_qbz5n2kfra8p0\\localcache\\local-packages\\python39\\site-packages (from spacy) (3.0.6)\n",
      "Requirement already satisfied: packaging>=20.0 in c:\\users\\zwang684\\appdata\\local\\packages\\pythonsoftwarefoundation.python.3.9_qbz5n2kfra8p0\\localcache\\local-packages\\python39\\site-packages (from spacy) (21.3)\n",
      "Requirement already satisfied: pathy>=0.3.5 in c:\\users\\zwang684\\appdata\\local\\packages\\pythonsoftwarefoundation.python.3.9_qbz5n2kfra8p0\\localcache\\local-packages\\python39\\site-packages (from spacy) (0.6.1)\n",
      "Requirement already satisfied: wasabi<1.1.0,>=0.8.1 in c:\\users\\zwang684\\appdata\\local\\packages\\pythonsoftwarefoundation.python.3.9_qbz5n2kfra8p0\\localcache\\local-packages\\python39\\site-packages (from spacy) (0.9.0)\n",
      "Requirement already satisfied: srsly<3.0.0,>=2.4.1 in c:\\users\\zwang684\\appdata\\local\\packages\\pythonsoftwarefoundation.python.3.9_qbz5n2kfra8p0\\localcache\\local-packages\\python39\\site-packages (from spacy) (2.4.2)\n",
      "Requirement already satisfied: murmurhash<1.1.0,>=0.28.0 in c:\\users\\zwang684\\appdata\\local\\packages\\pythonsoftwarefoundation.python.3.9_qbz5n2kfra8p0\\localcache\\local-packages\\python39\\site-packages (from spacy) (1.0.6)\n",
      "Requirement already satisfied: spacy-legacy<3.1.0,>=3.0.8 in c:\\users\\zwang684\\appdata\\local\\packages\\pythonsoftwarefoundation.python.3.9_qbz5n2kfra8p0\\localcache\\local-packages\\python39\\site-packages (from spacy) (3.0.9)\n",
      "Requirement already satisfied: requests<3.0.0,>=2.13.0 in c:\\users\\zwang684\\appdata\\local\\packages\\pythonsoftwarefoundation.python.3.9_qbz5n2kfra8p0\\localcache\\local-packages\\python39\\site-packages (from spacy) (2.27.1)\n",
      "Requirement already satisfied: jinja2 in c:\\users\\zwang684\\appdata\\local\\packages\\pythonsoftwarefoundation.python.3.9_qbz5n2kfra8p0\\localcache\\local-packages\\python39\\site-packages (from spacy) (3.0.3)\n",
      "Requirement already satisfied: cymem<2.1.0,>=2.0.2 in c:\\users\\zwang684\\appdata\\local\\packages\\pythonsoftwarefoundation.python.3.9_qbz5n2kfra8p0\\localcache\\local-packages\\python39\\site-packages (from spacy) (2.0.6)\n",
      "Requirement already satisfied: typer<0.5.0,>=0.3.0 in c:\\users\\zwang684\\appdata\\local\\packages\\pythonsoftwarefoundation.python.3.9_qbz5n2kfra8p0\\localcache\\local-packages\\python39\\site-packages (from spacy) (0.4.0)\n",
      "Requirement already satisfied: pydantic!=1.8,!=1.8.1,<1.9.0,>=1.7.4 in c:\\users\\zwang684\\appdata\\local\\packages\\pythonsoftwarefoundation.python.3.9_qbz5n2kfra8p0\\localcache\\local-packages\\python39\\site-packages (from spacy) (1.8.2)\n",
      "Requirement already satisfied: spacy-loggers<2.0.0,>=1.0.0 in c:\\users\\zwang684\\appdata\\local\\packages\\pythonsoftwarefoundation.python.3.9_qbz5n2kfra8p0\\localcache\\local-packages\\python39\\site-packages (from spacy) (1.0.1)\n",
      "Requirement already satisfied: setuptools in c:\\program files\\windowsapps\\pythonsoftwarefoundation.python.3.9_3.9.2800.0_x64__qbz5n2kfra8p0\\lib\\site-packages (from spacy) (58.1.0)\n",
      "Requirement already satisfied: catalogue<2.1.0,>=2.0.6 in c:\\users\\zwang684\\appdata\\local\\packages\\pythonsoftwarefoundation.python.3.9_qbz5n2kfra8p0\\localcache\\local-packages\\python39\\site-packages (from spacy) (2.0.6)\n",
      "Requirement already satisfied: langcodes<4.0.0,>=3.2.0 in c:\\users\\zwang684\\appdata\\local\\packages\\pythonsoftwarefoundation.python.3.9_qbz5n2kfra8p0\\localcache\\local-packages\\python39\\site-packages (from spacy) (3.3.0)\n",
      "Requirement already satisfied: thinc<8.1.0,>=8.0.12 in c:\\users\\zwang684\\appdata\\local\\packages\\pythonsoftwarefoundation.python.3.9_qbz5n2kfra8p0\\localcache\\local-packages\\python39\\site-packages (from spacy) (8.0.13)\n",
      "Requirement already satisfied: blis<0.8.0,>=0.4.0 in c:\\users\\zwang684\\appdata\\local\\packages\\pythonsoftwarefoundation.python.3.9_qbz5n2kfra8p0\\localcache\\local-packages\\python39\\site-packages (from spacy) (0.7.6)\n",
      "Requirement already satisfied: pyparsing!=3.0.5,>=2.0.2 in c:\\users\\zwang684\\appdata\\local\\packages\\pythonsoftwarefoundation.python.3.9_qbz5n2kfra8p0\\localcache\\local-packages\\python39\\site-packages (from packaging>=20.0->spacy) (3.0.6)\n",
      "Requirement already satisfied: smart-open<6.0.0,>=5.0.0 in c:\\users\\zwang684\\appdata\\local\\packages\\pythonsoftwarefoundation.python.3.9_qbz5n2kfra8p0\\localcache\\local-packages\\python39\\site-packages (from pathy>=0.3.5->spacy) (5.2.1)\n",
      "Requirement already satisfied: typing-extensions>=3.7.4.3 in c:\\users\\zwang684\\appdata\\local\\packages\\pythonsoftwarefoundation.python.3.9_qbz5n2kfra8p0\\localcache\\local-packages\\python39\\site-packages (from pydantic!=1.8,!=1.8.1,<1.9.0,>=1.7.4->spacy) (4.1.1)\n",
      "Requirement already satisfied: urllib3<1.27,>=1.21.1 in c:\\users\\zwang684\\appdata\\local\\packages\\pythonsoftwarefoundation.python.3.9_qbz5n2kfra8p0\\localcache\\local-packages\\python39\\site-packages (from requests<3.0.0,>=2.13.0->spacy) (1.26.8)\n",
      "Requirement already satisfied: charset-normalizer~=2.0.0 in c:\\users\\zwang684\\appdata\\local\\packages\\pythonsoftwarefoundation.python.3.9_qbz5n2kfra8p0\\localcache\\local-packages\\python39\\site-packages (from requests<3.0.0,>=2.13.0->spacy) (2.0.12)\n",
      "Requirement already satisfied: idna<4,>=2.5 in c:\\users\\zwang684\\appdata\\local\\packages\\pythonsoftwarefoundation.python.3.9_qbz5n2kfra8p0\\localcache\\local-packages\\python39\\site-packages (from requests<3.0.0,>=2.13.0->spacy) (3.3)\n",
      "Requirement already satisfied: certifi>=2017.4.17 in c:\\users\\zwang684\\appdata\\local\\packages\\pythonsoftwarefoundation.python.3.9_qbz5n2kfra8p0\\localcache\\local-packages\\python39\\site-packages (from requests<3.0.0,>=2.13.0->spacy) (2021.10.8)\n",
      "Requirement already satisfied: colorama in c:\\users\\zwang684\\appdata\\local\\packages\\pythonsoftwarefoundation.python.3.9_qbz5n2kfra8p0\\localcache\\local-packages\\python39\\site-packages (from tqdm<5.0.0,>=4.38.0->spacy) (0.4.4)\n",
      "Requirement already satisfied: click<9.0.0,>=7.1.1 in c:\\users\\zwang684\\appdata\\local\\packages\\pythonsoftwarefoundation.python.3.9_qbz5n2kfra8p0\\localcache\\local-packages\\python39\\site-packages (from typer<0.5.0,>=0.3.0->spacy) (8.0.3)\n",
      "Requirement already satisfied: MarkupSafe>=2.0 in c:\\users\\zwang684\\appdata\\local\\packages\\pythonsoftwarefoundation.python.3.9_qbz5n2kfra8p0\\localcache\\local-packages\\python39\\site-packages (from jinja2->spacy) (2.0.1)\n"
     ]
    }
   ],
   "source": [
    "# external libraries\n",
    "!python -m pip install -U plotly\n",
    "!python -m pip install -U gensim\n",
    "!python -m pip install -U kneed\n",
    "!python -m pip install -U scikit-learn\n",
    "!python -m pip install -U pyLDAvis\n",
    "!python -m pip install -U torchvision \n",
    "!python -m pip install -U spacy "
   ]
  },
  {
   "cell_type": "markdown",
   "metadata": {
    "id": "p1wRsXVyJzC4"
   },
   "source": [
    "### Data source\n",
    ">### <span style=\"color:#AF33FF\">'a'   :   'THE COMMON LAW.txt'</span>\n",
    "\n",
    ">### <span style=\"color:#FF5533\">'b'   :   'THE CONSTITUTION OF THE UNITED STATES OF AMERICA.txt'</span>\n",
    "\n",
    ">### <span style=\"color:#3BE53C\">'c'   :   'THE-ENGLISH-CONSTITUTION.txt'</span>\n",
    "\n",
    ">### <span style=\"color:#E53BD5\">'d'   :   'THE-LIFE-OF-THE-BEE.txt'</span>\n",
    "\n",
    ">### <span style=\"color:#E5C33B\">'e'   :   'THE STANDARD ELECTRICAL DICTIONARY.txt'</span>\n",
    "\n",
    ">### <span style=\"color:#3BE3E5\">'f'   :   'THE-PHILOSOPHY-OF-MATHEMATICS.txt'</span>\n",
    "\n",
    ">### <span style=\"color:#FF5BC8\">'g'   :   'WHITE-HOUSE-COOK-BOOK.txt</span>"
   ]
  },
  {
   "cell_type": "code",
   "execution_count": 674,
   "metadata": {},
   "outputs": [],
   "source": [
    "# libraries used\n",
    "import pandas as pd\n",
    "import numpy as np \n",
    "\n",
    "from sklearn.feature_extraction.text import CountVectorizer, TfidfVectorizer\n",
    "from sklearn.manifold import TSNE\n",
    "from sklearn.decomposition import TruncatedSVD\n",
    "\n",
    "import plotly.express as px\n",
    "import plotly.graph_objects as go\n",
    "import plotly.figure_factory as ff\n",
    "import matplotlib.pyplot as plt \n",
    "import seaborn as sns\n",
    "\n",
    "#!pip install kneed\n",
    "from kneed import KneeLocator\n",
    "\n",
    "from sklearn.cluster import KMeans \n",
    "from scipy.cluster import hierarchy \n",
    "from sklearn.cluster import AgglomerativeClustering \n",
    "from sklearn.mixture import GaussianMixture\n",
    "\n",
    "from gensim.models.doc2vec import Doc2Vec\n",
    "\n",
    "from gensim.models.coherencemodel import CoherenceModel\n",
    "from scipy.cluster.hierarchy import linkage as lkg\n",
    "\n",
    "from pprint import pprint# Gensim\n",
    "import gensim\n",
    "import gensim.corpora as corpora\n",
    "from gensim.utils import simple_preprocess\n",
    "from gensim.models import CoherenceModel# spaCy for preprocessing\n",
    "import spacy# Plotting tools\n",
    "import pyLDAvis\n",
    "\n",
    "import pyLDAvis.gensim_models as gensimvis\n",
    "%matplotlib inline\n",
    "from sklearn.cluster import KMeans\n",
    "from gensim.matutils import corpus2csc\n",
    "import torch\n",
    "import torchvision\n",
    "\n",
    "# customized helper functions\n",
    "import measures"
   ]
  },
  {
   "cell_type": "code",
   "execution_count": 671,
   "metadata": {},
   "outputs": [],
   "source": [
    "# render setting for vscode\n",
    "import plotly.io as pio\n",
    "pio.renderers.default = \"notebook\""
   ]
  },
  {
   "cell_type": "markdown",
   "metadata": {},
   "source": [
    "### Helper functions"
   ]
  },
  {
   "cell_type": "code",
   "execution_count": 4,
   "metadata": {},
   "outputs": [],
   "source": [
    "def make_SVDtsne_2d(df, label=None, books=('a','b','c','d','e','f','g')):\n",
    "  reduced = TruncatedSVD(n_components=7, random_state=0).fit_transform(df)\n",
    "\n",
    "  tsne_results = TSNE(n_components=2, \n",
    "                      perplexity=40, \n",
    "                      init='pca', # globally more stable to initialization\n",
    "                      learning_rate = 'auto',\n",
    "                      n_iter=1000, \n",
    "                      random_state=0).fit_transform(reduced)\n",
    "\n",
    "  df = pd.DataFrame()\n",
    "  df['tsne-2d-one'] = tsne_results[:,0]\n",
    "  df['tsne-2d-two'] = tsne_results[:,1]\n",
    "  df['label_True'] = df_out['label'].loc[df_out['label'].isin(books)].reset_index(drop=True)\n",
    "  print(df)\n",
    "  if label is not None:\n",
    "    dic = dict(enumerate(df_out['label'].loc[df_out['label'].isin(books)].unique()))\n",
    "    lbl = list(label)\n",
    "    for i, l in zip(range(0,len(lbl)), lbl):\n",
    "      try:\n",
    "        lbl[i] = dic[l].upper()\n",
    "      except:\n",
    "        lbl[i] = 'Outlier'\n",
    "    df['label_Pred'] = lbl\n",
    "  \n",
    "  print(df)\n",
    "  if label is None: fig = px.scatter(df, x='tsne-2d-one', y='tsne-2d-two', color=\"label_True\", symbol=\"label_True\", width=1200, height=900)\n",
    "  if label is not None: fig = px.scatter(df, x='tsne-2d-one', y='tsne-2d-two', color=\"label_Pred\", symbol=\"label_True\", width=1200, height=900)\n",
    "\n",
    "  fig.show()"
   ]
  },
  {
   "cell_type": "code",
   "execution_count": 5,
   "metadata": {},
   "outputs": [],
   "source": [
    "def make_tsne_2d(df, label=None, books=('a','b','c','d','e','f','g')):\n",
    "    # need to read raw our.csv first\n",
    "    # df must be vectorized DataFrame\n",
    "    \n",
    "    tsne = TSNE(n_components=2, perplexity=40, n_iter=1000, random_state=0)\n",
    "    tsne_results = tsne.fit_transform(df)\n",
    "    \n",
    "    df = pd.DataFrame()\n",
    "    df['tsne-2d-one'] = tsne_results[:,0]\n",
    "    df['tsne-2d-two'] = tsne_results[:,1]\n",
    "    df['label_True'] = df_out['label'].loc[df_out['label'].isin(books)].reset_index(drop=True)\n",
    "    if label is not None:\n",
    "      dic = dict(enumerate(df_out['label'].unique()))\n",
    "      lbl = list(label)\n",
    "      for i, l in zip(range(0,len(lbl)), lbl):\n",
    "        try:\n",
    "          lbl[i] = dic[l].upper()\n",
    "        except:\n",
    "          lbl[i] = 'Outlier'\n",
    "      df['label_Pred'] = lbl\n",
    "    \n",
    "    if label is None: fig = px.scatter(df, x='tsne-2d-one', y='tsne-2d-two', color=\"label_True\", symbol=\"label_True\", width=1200, height=900)\n",
    "    if label is not None: fig = px.scatter(df, x='tsne-2d-one', y='tsne-2d-two', color=\"label_Pred\", symbol=\"label_True\", width=1200, height=900)\n",
    "    fig.show()"
   ]
  },
  {
   "cell_type": "code",
   "execution_count": 6,
   "metadata": {},
   "outputs": [],
   "source": [
    "def elbow_method(data, number):\n",
    "    wcss = []\n",
    "    for i in range(1, number+1):\n",
    "        kmeans = KMeans(n_clusters=i, init='k-means++', max_iter=300, n_init=10, random_state=0)\n",
    "        kmeans.fit(data)\n",
    "        wcss.append(kmeans.inertia_)\n",
    "    kn = KneeLocator(range(1, 10+1), wcss, curve='convex', direction='decreasing')\n",
    "\n",
    "    fig = go.Figure()\n",
    "    fig.add_trace(go.Scatter(x=list(range(1, number+1)),\n",
    "                            y=wcss))\n",
    "    fig.add_vline(x=kn.knee, line_width=3, line_dash=\"dash\", line_color=\"green\")\n",
    "\n",
    "    fig.update_layout(title='Elbow Method',\n",
    "                      xaxis_title='Number of clusters',\n",
    "                      yaxis_title='WCSS',\n",
    "                      title_x=0.5,\n",
    "                      height=500, \n",
    "                      width=800)\n",
    "    fig.show()"
   ]
  },
  {
   "cell_type": "code",
   "execution_count": 685,
   "metadata": {},
   "outputs": [],
   "source": [
    "def compare_predict(trans_data, data, modl, vidl = None,\n",
    "  n_clusters=5,\n",
    "  linkage='ward',\n",
    "  n_components = 2,\n",
    "  covariance_type = 'diag',\n",
    "  random_state = 0,\n",
    "  books=('a','b','c','d','e','f','g')):\n",
    "\n",
    "  X = trans_data[data['label'].isin(books)]\n",
    "\n",
    "  # clustering parameters\n",
    "  if 'n_clusters' in modl.get_params():\n",
    "    modl.set_params(n_clusters = n_clusters)\n",
    "  if 'linkage' in modl.get_params():\n",
    "    modl.set_params(linkage = linkage)\n",
    "  # em parameters\n",
    "  if 'n_components' in modl.get_params():\n",
    "    modl.set_params(n_components = n_components)\n",
    "  if 'covariance_type' in modl.get_params():\n",
    "    modl.set_params(covariance_type = covariance_type)\n",
    "  if 'random_state' in modl.get_params():\n",
    "    modl.set_params(random_state = random_state)\n",
    "\n",
    "  pred = modl.fit_predict(X)\n",
    "\n",
    "  pred_map = measures.label_to_cluster_num(pred=pred, k=len(books), books= books)\n",
    "  label_data_in_books = data[data['label'].isin(books)]['label'] # retrieve label rows that belongs to any of the books\n",
    "  mapped_label = [pred_map[label] for label in label_data_in_books]\n",
    "\n",
    "  if vidl is not None:\n",
    "    if vidl == 'tsne':\n",
    "      make_tsne_2d(X, pred, books)\n",
    "    if vidl == 'SVDtsne':\n",
    "      make_SVDtsne_2d(X, pred, books)\n",
    "    if vidl == 'agglom':\n",
    "      fig = ff.create_dendrogram(X, orientation='left', labels=pred, linkagefun=lambda x: lkg(X, linkage, metric='euclidean'))\n",
    "      fig.update_layout(height=2000, width=1200)\n",
    "      fig.show()\n",
    "\n",
    "  return modl, pred, np.array(mapped_label)"
   ]
  },
  {
   "cell_type": "code",
   "execution_count": 8,
   "metadata": {
    "collapsed": true
   },
   "outputs": [
    {
     "data": {
      "text/html": [
       "<div>\n",
       "<style scoped>\n",
       "    .dataframe tbody tr th:only-of-type {\n",
       "        vertical-align: middle;\n",
       "    }\n",
       "\n",
       "    .dataframe tbody tr th {\n",
       "        vertical-align: top;\n",
       "    }\n",
       "\n",
       "    .dataframe thead th {\n",
       "        text-align: right;\n",
       "    }\n",
       "</style>\n",
       "<table border=\"1\" class=\"dataframe\">\n",
       "  <thead>\n",
       "    <tr style=\"text-align: right;\">\n",
       "      <th></th>\n",
       "      <th>segment</th>\n",
       "      <th>label</th>\n",
       "    </tr>\n",
       "  </thead>\n",
       "  <tbody>\n",
       "    <tr>\n",
       "      <th>0</th>\n",
       "      <td>act known circumst harm may accept gener test ...</td>\n",
       "      <td>a</td>\n",
       "    </tr>\n",
       "    <tr>\n",
       "      <th>1</th>\n",
       "      <td>aris whether represent part contract If contra...</td>\n",
       "      <td>a</td>\n",
       "    </tr>\n",
       "    <tr>\n",
       "      <th>2</th>\n",
       "      <td>section cite godbolt see F. N. B G fitzh abr d...</td>\n",
       "      <td>a</td>\n",
       "    </tr>\n",
       "    <tr>\n",
       "      <th>3</th>\n",
       "      <td>row bell c.c see treasur hidden anoth land D. ...</td>\n",
       "      <td>a</td>\n",
       "    </tr>\n",
       "    <tr>\n",
       "      <th>4</th>\n",
       "      <td>give trespass pretti nearli thing action case ...</td>\n",
       "      <td>a</td>\n",
       "    </tr>\n",
       "    <tr>\n",
       "      <th>...</th>\n",
       "      <td>...</td>\n",
       "      <td>...</td>\n",
       "    </tr>\n",
       "    <tr>\n",
       "      <th>1395</th>\n",
       "      <td>lamb chop fri tomato potato la crãªme rais bis...</td>\n",
       "      <td>g</td>\n",
       "    </tr>\n",
       "    <tr>\n",
       "      <th>1396</th>\n",
       "      <td>glass rhine wine IV glass water V glass champa...</td>\n",
       "      <td>g</td>\n",
       "    </tr>\n",
       "    <tr>\n",
       "      <th>1397</th>\n",
       "      <td>cover cloth set away cool place hour dinner ti...</td>\n",
       "      <td>g</td>\n",
       "    </tr>\n",
       "    <tr>\n",
       "      <th>1398</th>\n",
       "      <td>transpar veil egg cook white firm lift griddl ...</td>\n",
       "      <td>g</td>\n",
       "    </tr>\n",
       "    <tr>\n",
       "      <th>1399</th>\n",
       "      <td>pear pickl bun plum cobbler tea dinner scotch ...</td>\n",
       "      <td>g</td>\n",
       "    </tr>\n",
       "  </tbody>\n",
       "</table>\n",
       "<p>1400 rows × 2 columns</p>\n",
       "</div>"
      ],
      "text/plain": [
       "                                                segment label\n",
       "0     act known circumst harm may accept gener test ...     a\n",
       "1     aris whether represent part contract If contra...     a\n",
       "2     section cite godbolt see F. N. B G fitzh abr d...     a\n",
       "3     row bell c.c see treasur hidden anoth land D. ...     a\n",
       "4     give trespass pretti nearli thing action case ...     a\n",
       "...                                                 ...   ...\n",
       "1395  lamb chop fri tomato potato la crãªme rais bis...     g\n",
       "1396  glass rhine wine IV glass water V glass champa...     g\n",
       "1397  cover cloth set away cool place hour dinner ti...     g\n",
       "1398  transpar veil egg cook white firm lift griddl ...     g\n",
       "1399  pear pickl bun plum cobbler tea dinner scotch ...     g\n",
       "\n",
       "[1400 rows x 2 columns]"
      ]
     },
     "execution_count": 8,
     "metadata": {},
     "output_type": "execute_result"
    }
   ],
   "source": [
    "# Fetch data from google drive. equivalent to out.csv\n",
    "url='https://drive.google.com/file/d/1IBelm4cZNHpl8336gQ6VTIYzZrtC02ln/view?usp=sharing'\n",
    "url='https://drive.google.com/uc?id=' + url.split('/')[-2]\n",
    "df_out = pd.read_csv(url)\n",
    "\n",
    "df_out.drop('Unnamed: 0', axis=1, inplace=True)\n",
    "df_out"
   ]
  },
  {
   "cell_type": "markdown",
   "metadata": {},
   "source": [
    "### BOW"
   ]
  },
  {
   "cell_type": "code",
   "execution_count": 9,
   "metadata": {},
   "outputs": [],
   "source": [
    "# Create CountVectorizer object\n",
    "bow_vec = CountVectorizer()\n",
    "# Generate matrix of word vectors\n",
    "bow_matrix = bow_vec.fit_transform(df_out['segment'])\n",
    "# print(bow_matrix.toarray())\n",
    "df_bow = pd.DataFrame(bow_matrix.toarray())\n",
    "df_bow.columns = bow_vec.get_feature_names_out()\n",
    "# df_bow\n"
   ]
  },
  {
   "cell_type": "code",
   "execution_count": 10,
   "metadata": {},
   "outputs": [],
   "source": [
    "# elbow_method(df_bow, 10)"
   ]
  },
  {
   "cell_type": "markdown",
   "metadata": {},
   "source": [
    "##### K Means"
   ]
  },
  {
   "cell_type": "code",
   "execution_count": 11,
   "metadata": {},
   "outputs": [
    {
     "name": "stdout",
     "output_type": "stream",
     "text": [
      "a:[  0   0   0 200   0   0   0]\ta mapped to 3\n",
      "b:[132   0   0  68   0   0   0]\tb mapped to 0\n",
      "c:[  1   0   0 199   0   0   0]\tc mapped to 3\n",
      "d:[  0   0   0 200   0   0   0]\td mapped to 3\n",
      "e:[  0   0 194   6   0   0   0]\te mapped to 2\n",
      "f:[  0 197   0   3   0   0   0]\tf mapped to 1\n",
      "g:[  0   0   0  18 182   0   0]\tg mapped to 4\n"
     ]
    }
   ],
   "source": [
    "bow_kmeans5, bow_kmeans5_pred, bow_kmeans5_cluster_num = compare_predict(df_bow, df_out, KMeans(), n_clusters= 5)"
   ]
  },
  {
   "cell_type": "code",
   "execution_count": 12,
   "metadata": {},
   "outputs": [
    {
     "name": "stdout",
     "output_type": "stream",
     "text": [
      "a:[200   0   0   0   0   0   0]\ta mapped to 0\n",
      "b:[ 28   0   0  16 156   0   0]\tb mapped to 4\n",
      "c:[199   0   0   0   1   0   0]\tc mapped to 0\n",
      "d:[200   0   0   0   0   0   0]\td mapped to 0\n",
      "e:[  3   0   0   1   0 164  32]\te mapped to 5\n",
      "f:[  3   0 197   0   0   0   0]\tf mapped to 2\n",
      "g:[ 18 182   0   0   0   0   0]\tg mapped to 1\n"
     ]
    }
   ],
   "source": [
    "bow_kmeans7, bow_kmeans7_pred, bow_kmeans7_cluster_num = compare_predict(df_bow, df_out, KMeans(), n_clusters=7)"
   ]
  },
  {
   "cell_type": "markdown",
   "metadata": {},
   "source": [
    "##### EM"
   ]
  },
  {
   "cell_type": "code",
   "execution_count": 13,
   "metadata": {},
   "outputs": [
    {
     "name": "stdout",
     "output_type": "stream",
     "text": [
      "a:[  0   0   0   0 200   0   0]\ta mapped to 4\n",
      "b:[  0   0   0 151  49   0   0]\tb mapped to 3\n",
      "c:[  0   0   0   1 199   0   0]\tc mapped to 4\n",
      "d:[  0   0   0   0 200   0   0]\td mapped to 4\n",
      "e:[196   0   0   0   4   0   0]\te mapped to 0\n",
      "f:[  0   0 197   0   3   0   0]\tf mapped to 2\n",
      "g:[  0 178   0   0  22   0   0]\tg mapped to 1\n"
     ]
    }
   ],
   "source": [
    "bow_gmm5, bow_gmm5_pred, bow_gmm5_cluster_num = compare_predict(df_bow, df_out, GaussianMixture(), n_components=5)"
   ]
  },
  {
   "cell_type": "code",
   "execution_count": 14,
   "metadata": {},
   "outputs": [
    {
     "name": "stdout",
     "output_type": "stream",
     "text": [
      "a:[  0   0   0   0 199   1   0]\ta mapped to 4\n",
      "b:[  0   0   0 152  42   6   0]\tb mapped to 3\n",
      "c:[  0   0   0   1  13 186   0]\tc mapped to 5\n",
      "d:[  0   0   0   0 200   0   0]\td mapped to 4\n",
      "e:[196   0   0   0   4   0   0]\te mapped to 0\n",
      "f:[  0   0 197   0   3   0   0]\tf mapped to 2\n",
      "g:[ 0 96  0  0 23  0 81]\tg mapped to 1\n"
     ]
    }
   ],
   "source": [
    "bow_gmm7, bow_gmm7_pred, bow_gmm7_cluster_num = compare_predict(df_bow, df_out, GaussianMixture(), n_components=7)"
   ]
  },
  {
   "cell_type": "markdown",
   "metadata": {},
   "source": [
    "##### Hierarchical "
   ]
  },
  {
   "cell_type": "code",
   "execution_count": 15,
   "metadata": {},
   "outputs": [
    {
     "name": "stdout",
     "output_type": "stream",
     "text": [
      "a:[  0   0 200   0   0   0   0]\ta mapped to 2\n",
      "b:[  0 192   8   0   0   0   0]\tb mapped to 1\n",
      "c:[  0   2 197   1   0   0   0]\tc mapped to 2\n",
      "d:[  0   0 200   0   0   0   0]\td mapped to 2\n",
      "e:[193   1   1   0   5   0   0]\te mapped to 0\n",
      "f:[  0   0   0   0 200   0   0]\tf mapped to 4\n",
      "g:[  0   0   0 200   0   0   0]\tg mapped to 3\n"
     ]
    }
   ],
   "source": [
    "bow_agglom5, bow_agglom5_pred, bow_agglom5_cluster_num = compare_predict(df_bow, df_out, AgglomerativeClustering(), n_clusters=5, linkage='ward')"
   ]
  },
  {
   "cell_type": "code",
   "execution_count": 16,
   "metadata": {},
   "outputs": [
    {
     "name": "stdout",
     "output_type": "stream",
     "text": [
      "a:[  0   0 200   0   0   0   0]\ta mapped to 2\n",
      "b:[192   0   8   0   0   0   0]\tb mapped to 0\n",
      "c:[  2   0 197   1   0   0   0]\tc mapped to 2\n",
      "d:[  0   0 200   0   0   0   0]\td mapped to 2\n",
      "e:[  1 154   1   0   5  38   1]\te mapped to 1\n",
      "f:[  0   0   0   0 200   0   0]\tf mapped to 4\n",
      "g:[  0   0   0 200   0   0   0]\tg mapped to 3\n"
     ]
    }
   ],
   "source": [
    "bow_agglom7, bow_agglom7_pred, bow_agglom7_cluster_num = compare_predict(df_bow, df_out, AgglomerativeClustering(), n_clusters=7, linkage='ward')"
   ]
  },
  {
   "cell_type": "markdown",
   "metadata": {},
   "source": [
    "### TF-IDF"
   ]
  },
  {
   "cell_type": "code",
   "execution_count": 17,
   "metadata": {},
   "outputs": [],
   "source": [
    "tfidf_vec = TfidfVectorizer()\n",
    "tfidf_matrix = tfidf_vec.fit_transform(df_out['segment'])\n",
    "df_tfidf = pd.DataFrame(tfidf_matrix.toarray())\n",
    "df_tfidf.columns = tfidf_vec.get_feature_names_out()"
   ]
  },
  {
   "cell_type": "markdown",
   "metadata": {},
   "source": [
    "##### K Means"
   ]
  },
  {
   "cell_type": "code",
   "execution_count": 18,
   "metadata": {},
   "outputs": [
    {
     "name": "stdout",
     "output_type": "stream",
     "text": [
      "a:[  0   0   0 200   0   0   0]\ta mapped to 3\n",
      "b:[  0   0 188  12   0   0   0]\tb mapped to 2\n",
      "c:[  0   0   4 196   0   0   0]\tc mapped to 3\n",
      "d:[  0   0   0 200   0   0   0]\td mapped to 3\n",
      "e:[  0   0   0   4 196   0   0]\te mapped to 4\n",
      "f:[197   0   0   3   0   0   0]\tf mapped to 0\n",
      "g:[  0 186   0  14   0   0   0]\tg mapped to 1\n"
     ]
    }
   ],
   "source": [
    "tfidf_kmeans5, tfidf_kmeans5_pred, tfidf_kmeans5_cluster_num = compare_predict(df_tfidf, df_out, KMeans(), n_clusters= 5)"
   ]
  },
  {
   "cell_type": "code",
   "execution_count": 19,
   "metadata": {},
   "outputs": [
    {
     "name": "stdout",
     "output_type": "stream",
     "text": [
      "a:[  0   0   0   0 199   1   0]\ta mapped to 4\n",
      "b:[  0 196   0   0   1   3   0]\tb mapped to 1\n",
      "c:[  0   1   0   0   1 198   0]\tc mapped to 5\n",
      "d:[200   0   0   0   0   0   0]\td mapped to 0\n",
      "e:[  0   0 200   0   0   0   0]\te mapped to 2\n",
      "f:[  0   0   0   0   0   3 197]\tf mapped to 6\n",
      "g:[  2   0   0 195   2   1   0]\tg mapped to 3\n"
     ]
    }
   ],
   "source": [
    "tfidf_kmeans7, tfidf_kmeans7_pred, tfidf_kmeans7_cluster_num = compare_predict(df_tfidf, df_out, KMeans(), n_clusters= 7)"
   ]
  },
  {
   "cell_type": "markdown",
   "metadata": {},
   "source": [
    "##### EM"
   ]
  },
  {
   "cell_type": "code",
   "execution_count": 20,
   "metadata": {},
   "outputs": [
    {
     "name": "stdout",
     "output_type": "stream",
     "text": [
      "a:[  0   0 178  22   0   0   0]\ta mapped to 2\n",
      "b:[  0   0   6 194   0   0   0]\tb mapped to 3\n",
      "c:[  0   0 197   3   0   0   0]\tc mapped to 2\n",
      "d:[  0   0 200   0   0   0   0]\td mapped to 2\n",
      "e:[  0   0   2   0 198   0   0]\te mapped to 4\n",
      "f:[  0 197   3   0   0   0   0]\tf mapped to 1\n",
      "g:[186   0  14   0   0   0   0]\tg mapped to 0\n"
     ]
    }
   ],
   "source": [
    "tfidf_gmm5, tfidf_gmm5_pred, tfidf_gmm5_cluster_num = compare_predict(df_tfidf, df_out, GaussianMixture(), n_components=5)"
   ]
  },
  {
   "cell_type": "code",
   "execution_count": 21,
   "metadata": {},
   "outputs": [
    {
     "name": "stdout",
     "output_type": "stream",
     "text": [
      "a:[  0   0   1   0   0 199   0]\ta mapped to 5\n",
      "b:[  0   0   2 193   0   5   0]\tb mapped to 3\n",
      "c:[  0   0 197   3   0   0   0]\tc mapped to 2\n",
      "d:[200   0   0   0   0   0   0]\td mapped to 0\n",
      "e:[  0   0   0   0 198   2   0]\te mapped to 4\n",
      "f:[  0 197   2   0   0   1   0]\tf mapped to 1\n",
      "g:[  2   0   0   0   0   4 194]\tg mapped to 6\n"
     ]
    }
   ],
   "source": [
    "tfidf_gmm7, tfidf_gmm7_pred, tfidf_gmm7_cluster_num = compare_predict(df_tfidf, df_out, GaussianMixture(), n_components=7)"
   ]
  },
  {
   "cell_type": "markdown",
   "metadata": {},
   "source": [
    "##### Hierarchical"
   ]
  },
  {
   "cell_type": "code",
   "execution_count": 22,
   "metadata": {},
   "outputs": [
    {
     "name": "stdout",
     "output_type": "stream",
     "text": [
      "a:[167   0   0   0  33   0   0]\ta mapped to 0\n",
      "b:[  5   2   0   0 193   0   0]\tb mapped to 4\n",
      "c:[189   0   0   0  11   0   0]\tc mapped to 0\n",
      "d:[200   0   0   0   0   0   0]\td mapped to 0\n",
      "e:[  0 195   5   0   0   0   0]\te mapped to 1\n",
      "f:[  3   0 197   0   0   0   0]\tf mapped to 2\n",
      "g:[  0   2   0 198   0   0   0]\tg mapped to 3\n"
     ]
    }
   ],
   "source": [
    "tfidf_agglom5, tfidf_agglom5_pred, tfidf_agglom5_cluster_num = compare_predict(df_tfidf, df_out, AgglomerativeClustering(), n_clusters=5, linkage='ward')"
   ]
  },
  {
   "cell_type": "code",
   "execution_count": 23,
   "metadata": {},
   "outputs": [
    {
     "name": "stdout",
     "output_type": "stream",
     "text": [
      "a:[  0   0 164   0  33   0   3]\ta mapped to 2\n",
      "b:[  0   2   0   0 193   0   5]\tb mapped to 4\n",
      "c:[  0   0   0   0  11   3 186]\tc mapped to 6\n",
      "d:[  0   0   0   0   0 199   1]\td mapped to 5\n",
      "e:[  5 195   0   0   0   0   0]\te mapped to 1\n",
      "f:[197   0   0   0   0   0   3]\tf mapped to 0\n",
      "g:[  0   2   0 198   0   0   0]\tg mapped to 3\n"
     ]
    }
   ],
   "source": [
    "tfidf_agglom7, tfidf_agglom7_pred, tfidf_agglom7_cluster_num = compare_predict(df_tfidf, df_out, AgglomerativeClustering(), n_clusters=7, linkage='ward')"
   ]
  },
  {
   "cell_type": "markdown",
   "metadata": {},
   "source": [
    "### LDA"
   ]
  },
  {
   "cell_type": "code",
   "execution_count": 24,
   "metadata": {},
   "outputs": [],
   "source": [
    "def lda_corpus(data):\n",
    "  for i in range(len(data.index)):\n",
    "    data['segment'][i] = data['segment'][i].split()\n",
    "  data_lemmatized = data['segment'].tolist()\n",
    "  # Create Dictionary \n",
    "  id2word = corpora.Dictionary(data_lemmatized)  \n",
    "  # Create Corpus \n",
    "  texts = data_lemmatized  \n",
    "  # Term Document Frequency \n",
    "  corpus = [id2word.doc2bow(text) for text in texts]  \n",
    "  return corpus"
   ]
  },
  {
   "cell_type": "code",
   "execution_count": 25,
   "metadata": {},
   "outputs": [],
   "source": [
    "lda_model = torch.load('./LDA/lda_model.pt')\n",
    "lda_df_out = df_out.copy()\n",
    "corpus = lda_corpus(lda_df_out)"
   ]
  },
  {
   "cell_type": "code",
   "execution_count": 26,
   "metadata": {},
   "outputs": [],
   "source": [
    "df_lda = np.zeros(shape=(1400,4))\n",
    "for i, row in enumerate(lda_model[corpus]):\n",
    "  for  j, (topic_num, prop_topic) in enumerate(row):\n",
    "    df_lda[i, topic_num] = prop_topic"
   ]
  },
  {
   "cell_type": "markdown",
   "metadata": {},
   "source": [
    "##### K Means"
   ]
  },
  {
   "cell_type": "code",
   "execution_count": 27,
   "metadata": {},
   "outputs": [
    {
     "name": "stdout",
     "output_type": "stream",
     "text": [
      "a:[ 21 117   1   2  59   0   0]\ta mapped to 1\n",
      "b:[197   1   0   0   2   0   0]\tb mapped to 0\n",
      "c:[191   1   0   0   8   0   0]\tc mapped to 0\n",
      "d:[  0 188   1   2   9   0   0]\td mapped to 1\n",
      "e:[  0   0 199   0   1   0   0]\te mapped to 2\n",
      "f:[  0 199   0   0   1   0   0]\tf mapped to 1\n",
      "g:[  0   0   1 199   0   0   0]\tg mapped to 3\n"
     ]
    }
   ],
   "source": [
    "lda_kmeans5, lda_kmeans5_pred, lda_kmeans5_cluster_num = compare_predict(df_lda, df_out, KMeans(), n_clusters= 5)"
   ]
  },
  {
   "cell_type": "code",
   "execution_count": 28,
   "metadata": {},
   "outputs": [
    {
     "name": "stdout",
     "output_type": "stream",
     "text": [
      "a:[47  1 14  2 41 86  9]\ta mapped to 5\n",
      "b:[  1   0 183   0   1   0  15]\tb mapped to 2\n",
      "c:[  0   0 136   0   5   1  58]\tc mapped to 2\n",
      "d:[ 48   1   0   2   3 146   0]\td mapped to 5\n",
      "e:[  0 199   0   0   1   0   0]\te mapped to 1\n",
      "f:[  3   0   0   0   1 196   0]\tf mapped to 5\n",
      "g:[  0   1   0 199   0   0   0]\tg mapped to 3\n"
     ]
    }
   ],
   "source": [
    "lda_kmeans7, lda_kmeans7_pred, lda_kmeans7_cluster_num = compare_predict(df_lda, df_out, KMeans(), n_clusters= 7)"
   ]
  },
  {
   "cell_type": "markdown",
   "metadata": {},
   "source": [
    "##### EM"
   ]
  },
  {
   "cell_type": "code",
   "execution_count": 29,
   "metadata": {},
   "outputs": [
    {
     "name": "stdout",
     "output_type": "stream",
     "text": [
      "a:[ 56   0  18   0 126   0   0]\ta mapped to 4\n",
      "b:[  0   0 178   0  22   0   0]\tb mapped to 2\n",
      "c:[  0   0 183   0  17   0   0]\tc mapped to 2\n",
      "d:[ 81   0   0   0 119   0   0]\td mapped to 4\n",
      "e:[  0 184   0   0  16   0   0]\te mapped to 1\n",
      "f:[189   0   0   0  11   0   0]\tf mapped to 0\n",
      "g:[  0   0   0 173  27   0   0]\tg mapped to 3\n"
     ]
    }
   ],
   "source": [
    "lda_gmm5, lda_gmm5_pred, lda_gmm5_cluster_num = compare_predict(df_lda, df_out, GaussianMixture(), n_components=5)"
   ]
  },
  {
   "cell_type": "code",
   "execution_count": 30,
   "metadata": {},
   "outputs": [
    {
     "name": "stdout",
     "output_type": "stream",
     "text": [
      "a:[ 11   0  10   0 114  56   9]\ta mapped to 4\n",
      "b:[  1   0 160   0  14   0  25]\tb mapped to 2\n",
      "c:[  0   0 114   0   9   0  77]\tc mapped to 2\n",
      "d:[96  0  0  0 23 81  0]\td mapped to 0\n",
      "e:[  7 166   0   0  27   0   0]\te mapped to 1\n",
      "f:[  1   0   0   0  10 189   0]\tf mapped to 5\n",
      "g:[ 27   0   0 173   0   0   0]\tg mapped to 3\n"
     ]
    }
   ],
   "source": [
    "lda_gmm7, lda_gmm7_pred, lda_gmm7_cluster_num = compare_predict(df_lda, df_out, GaussianMixture(), n_components=7)"
   ]
  },
  {
   "cell_type": "markdown",
   "metadata": {},
   "source": [
    "##### Hierarchical"
   ]
  },
  {
   "cell_type": "code",
   "execution_count": 31,
   "metadata": {},
   "outputs": [
    {
     "name": "stdout",
     "output_type": "stream",
     "text": [
      "a:[ 23   2 103   1  71   0   0]\ta mapped to 2\n",
      "b:[199   0   1   0   0   0   0]\tb mapped to 0\n",
      "c:[194   0   6   0   0   0   0]\tc mapped to 0\n",
      "d:[  0   2  69   1 128   0   0]\td mapped to 4\n",
      "e:[  0   0   1 199   0   0   0]\te mapped to 3\n",
      "f:[  0   0   4   0 196   0   0]\tf mapped to 4\n",
      "g:[  0 200   0   0   0   0   0]\tg mapped to 1\n"
     ]
    }
   ],
   "source": [
    "lda_agglom5, lda_agglom5_pred, lda_agglom5_cluster_num = compare_predict(df_lda, df_out, AgglomerativeClustering(), n_clusters=5, linkage='ward')"
   ]
  },
  {
   "cell_type": "code",
   "execution_count": 32,
   "metadata": {},
   "outputs": [
    {
     "name": "stdout",
     "output_type": "stream",
     "text": [
      "a:[77  2 13  1 71 10 26]\ta mapped to 0\n",
      "b:[  1   0  33   0   0 166   0]\tb mapped to 5\n",
      "c:[  1   0  79   0   0 115   5]\tc mapped to 5\n",
      "d:[ 69   2   0   1 128   0   0]\td mapped to 4\n",
      "e:[  0   0   0 199   0   0   1]\te mapped to 3\n",
      "f:[  3   0   0   0 196   0   1]\tf mapped to 4\n",
      "g:[  0 200   0   0   0   0   0]\tg mapped to 1\n"
     ]
    }
   ],
   "source": [
    "lda_agglom7, lda_agglom7_pred, lda_agglom7_cluster_num = compare_predict(df_lda, df_out, AgglomerativeClustering(), n_clusters=7, linkage='ward')"
   ]
  },
  {
   "cell_type": "markdown",
   "metadata": {},
   "source": [
    "### Doc2Vec"
   ]
  },
  {
   "cell_type": "code",
   "execution_count": 33,
   "metadata": {},
   "outputs": [],
   "source": [
    "# Load the pretrained Doc2Vec transformer\n",
    "d2v_model = Doc2Vec.load('./Doc2Vec_model/doc2vec.model')\n",
    "d2v_model_high = Doc2Vec.load('./Doc2Vec_model/doc2vec_high.model')\n",
    "d2v_model_low = Doc2Vec.load('./Doc2Vec_model/doc2vec_low.model')"
   ]
  },
  {
   "cell_type": "code",
   "execution_count": 34,
   "metadata": {},
   "outputs": [],
   "source": [
    "#generate the list of tokenized words\n",
    "text_list = df_out['segment'].values.tolist()\n",
    "\n",
    "tokenized_list = []\n",
    "for segment in text_list:\n",
    "    tokenized_segment = segment.split()\n",
    "    tokenized_list.append(tokenized_segment)"
   ]
  },
  {
   "cell_type": "code",
   "execution_count": 35,
   "metadata": {},
   "outputs": [],
   "source": [
    "#generate the list of word vectors\n",
    "x_d2v = [d2v_model.infer_vector(d) for d in tokenized_list]\n",
    "df_d2v = pd.DataFrame(x_d2v)\n",
    "# df_d2v"
   ]
  },
  {
   "cell_type": "markdown",
   "metadata": {},
   "source": [
    "##### K Means"
   ]
  },
  {
   "cell_type": "code",
   "execution_count": 39,
   "metadata": {},
   "outputs": [
    {
     "name": "stdout",
     "output_type": "stream",
     "text": [
      "a:[  1 170  22   1   6   0   0]\ta mapped to 1\n",
      "b:[  0 195   2   0   3   0   0]\tb mapped to 1\n",
      "c:[  0  21 179   0   0   0   0]\tc mapped to 2\n",
      "d:[  0   7 182   1  10   0   0]\td mapped to 2\n",
      "e:[186   5   4   1   4   0   0]\te mapped to 0\n",
      "f:[  0   6   0 194   0   0   0]\tf mapped to 3\n",
      "g:[  0   7   1   2 190   0   0]\tg mapped to 4\n"
     ]
    }
   ],
   "source": [
    "d2v_kmeans5, d2v_kmeans5_pred, d2v_kmeans5_cluster_num = compare_predict(df_d2v, df_out, KMeans(), n_clusters= 5)"
   ]
  },
  {
   "cell_type": "code",
   "execution_count": 40,
   "metadata": {},
   "outputs": [
    {
     "name": "stdout",
     "output_type": "stream",
     "text": [
      "a:[ 37   4   1   1   7 147   3]\ta mapped to 5\n",
      "b:[ 87   0   0   0   5 108   0]\tb mapped to 5\n",
      "c:[  1  15   0   0 170  14   0]\tc mapped to 4\n",
      "d:[  1 167   1   0  13  12   6]\td mapped to 1\n",
      "e:[  6   4   1 184   0   2   3]\te mapped to 3\n",
      "f:[  1   0 194   0   0   5   0]\tf mapped to 2\n",
      "g:[  6   1   2   0   0   3 188]\tg mapped to 6\n"
     ]
    }
   ],
   "source": [
    "d2v_kmeans7, d2v_kmeans7_pred, d2v_kmeans7_cluster_num = compare_predict(df_d2v, df_out, KMeans(), n_clusters= 7)"
   ]
  },
  {
   "cell_type": "markdown",
   "metadata": {},
   "source": [
    "##### Hierarchical"
   ]
  },
  {
   "cell_type": "code",
   "execution_count": 41,
   "metadata": {},
   "outputs": [
    {
     "name": "stdout",
     "output_type": "stream",
     "text": [
      "a:[196   1   1   0   2   0   0]\ta mapped to 0\n",
      "b:[190   1   0   1   8   0   0]\tb mapped to 0\n",
      "c:[ 52 148   0   0   0   0   0]\tc mapped to 1\n",
      "d:[ 20 175   0   0   5   0   0]\td mapped to 1\n",
      "e:[  5   4   0 185   6   0   0]\te mapped to 3\n",
      "f:[  4   0 194   0   2   0   0]\tf mapped to 2\n",
      "g:[  3   1   0   0 196   0   0]\tg mapped to 4\n"
     ]
    }
   ],
   "source": [
    "d2v_agglom5, d2v_agglom5_pred, d2v_agglom5_cluster_num = compare_predict(df_d2v, df_out, AgglomerativeClustering(), n_clusters=5, linkage='ward')"
   ]
  },
  {
   "cell_type": "code",
   "execution_count": 42,
   "metadata": {},
   "outputs": [
    {
     "name": "stdout",
     "output_type": "stream",
     "text": [
      "a:[  0   2   1 178   1  18   0]\ta mapped to 3\n",
      "b:[  1   8   0 155   0  35   1]\tb mapped to 3\n",
      "c:[  0   0   0  52  25   0 123]\tc mapped to 6\n",
      "d:[  0   5   0  20 169   0   6]\td mapped to 4\n",
      "e:[185   6   0   3   4   2   0]\te mapped to 0\n",
      "f:[  0   2 194   4   0   0   0]\tf mapped to 2\n",
      "g:[  0 196   0   3   1   0   0]\tg mapped to 1\n"
     ]
    }
   ],
   "source": [
    "d2v_agglom7, d2v_agglom7_pred, d2v_agglom7_cluster_num = compare_predict(df_d2v, df_out, AgglomerativeClustering(), n_clusters=7, linkage='ward')"
   ]
  },
  {
   "cell_type": "markdown",
   "metadata": {},
   "source": [
    "##### EM"
   ]
  },
  {
   "cell_type": "code",
   "execution_count": 43,
   "metadata": {},
   "outputs": [
    {
     "name": "stdout",
     "output_type": "stream",
     "text": [
      "a:[ 16   4   1 172   7   0   0]\ta mapped to 3\n",
      "b:[  3   3   0 192   2   0   0]\tb mapped to 3\n",
      "c:[182   0   0  18   0   0   0]\tc mapped to 0\n",
      "d:[181   0   1   6  12   0   0]\td mapped to 0\n",
      "e:[  4 193   1   1   1   0   0]\te mapped to 1\n",
      "f:[  0   1 194   5   0   0   0]\tf mapped to 2\n",
      "g:[  0   0   0   3 197   0   0]\tg mapped to 4\n"
     ]
    }
   ],
   "source": [
    "d2v_gmm5, d2v_gmm5_pred, d2v_gmm5_cluster_num = compare_predict(df_d2v, df_out, GaussianMixture(), n_components=5)"
   ]
  },
  {
   "cell_type": "code",
   "execution_count": 44,
   "metadata": {},
   "outputs": [
    {
     "name": "stdout",
     "output_type": "stream",
     "text": [
      "a:[  6   0   1  46 139   3   5]\ta mapped to 4\n",
      "b:[ 3  1  0 98 97  0  1]\tb mapped to 3\n",
      "c:[175   0   0   3  22   0   0]\tc mapped to 0\n",
      "d:[178   0   1   2   8   0  11]\td mapped to 0\n",
      "e:[  4 128   1   3   0  63   1]\te mapped to 1\n",
      "f:[  0   0 195   3   1   1   0]\tf mapped to 2\n",
      "g:[  0   0   0   7   0   1 192]\tg mapped to 6\n"
     ]
    }
   ],
   "source": [
    "d2v_gmm7, d2v_gmm7_pred, d2v_gmm7_cluster_num = compare_predict(df_d2v, df_out, GaussianMixture(), n_components=7)"
   ]
  },
  {
   "cell_type": "markdown",
   "metadata": {},
   "source": [
    "### Evaluation"
   ]
  },
  {
   "cell_type": "markdown",
   "metadata": {},
   "source": [
    "##### Kappa Score"
   ]
  },
  {
   "cell_type": "code",
   "execution_count": 45,
   "metadata": {},
   "outputs": [
    {
     "name": "stdout",
     "output_type": "stream",
     "text": [
      "Kappa score for BOW----------------------------------\n",
      "kappa: 0.9041642897889333\n",
      "kappa: 0.9000979431929481\n",
      "kappa: 0.9824707846410684\n",
      "kappa: 0.9447903694479037\n",
      "kappa: 0.9215157536190747\n",
      "kappa: 0.8476928848318119\n",
      "Kappa score for TFIDF--------------------------------\n",
      "kappa: 0.9637356482777933\n",
      "kappa: 0.9875\n",
      "kappa: 0.9412816281628162\n",
      "kappa: 0.9433333333333334\n",
      "kappa: 0.9513888888888888\n",
      "kappa: 0.9816666666666667\n",
      "Kappa score for LDA----------------------------------\n",
      "kappa: 0.8909193936818246\n",
      "kappa: 0.7601451222789573\n",
      "kappa: 0.833047832388984\n",
      "kappa: 0.7163363821138211\n",
      "kappa: 0.7740465963816218\n",
      "kappa: 0.6698675094202018\n",
      "Kappa score for Doc2Vec------------------------------\n",
      "kappa: 0.9041979207790498\n",
      "kappa: 0.7946168768186227\n",
      "kappa: 0.8931578947368422\n",
      "kappa: 0.8258706467661692\n",
      "kappa: 0.9182092687409742\n",
      "kappa: 0.7451246605776352\n"
     ]
    }
   ],
   "source": [
    "print(\"Kappa score for BOW----------------------------------\")\n",
    "bow_kmeans5.kappa = measures.get_kappa(bow_kmeans5_pred, bow_kmeans5_cluster_num)\n",
    "bow_kmeans7.kappa = measures.get_kappa(bow_kmeans7_pred, bow_kmeans7_cluster_num)\n",
    "bow_agglom5.kappa = measures.get_kappa(bow_agglom5_pred, bow_agglom5_cluster_num)\n",
    "bow_agglom7.kappa = measures.get_kappa(bow_agglom7_pred, bow_agglom7_cluster_num)\n",
    "bow_gmm5.kappa = measures.get_kappa(bow_gmm5_pred, bow_gmm5_cluster_num)\n",
    "bow_gmm7.kappa = measures.get_kappa(bow_gmm7_pred, bow_gmm7_cluster_num)\n",
    "print(\"Kappa score for TFIDF--------------------------------\")\n",
    "tfidf_kmeans5.kappa = measures.get_kappa(tfidf_kmeans5_pred, tfidf_kmeans5_cluster_num)\n",
    "tfidf_kmeans7.kappa = measures.get_kappa(tfidf_kmeans7_pred, tfidf_kmeans7_cluster_num)\n",
    "tfidf_agglom5.kappa = measures.get_kappa(tfidf_agglom5_pred, tfidf_agglom5_cluster_num)\n",
    "tfidf_agglom7.kappa = measures.get_kappa(tfidf_agglom7_pred, tfidf_agglom7_cluster_num)\n",
    "tfidf_gmm5.kappa = measures.get_kappa(tfidf_gmm5_pred, tfidf_gmm5_cluster_num)\n",
    "tfidf_gmm7.kappa = measures.get_kappa(tfidf_gmm7_pred, tfidf_gmm7_cluster_num)\n",
    "print(\"Kappa score for LDA----------------------------------\")\n",
    "lda_kmeans5.kappa = measures.get_kappa(lda_kmeans5_pred, lda_kmeans5_cluster_num)\n",
    "lda_kmeans7.kappa = measures.get_kappa(lda_kmeans7_pred, lda_kmeans7_cluster_num)\n",
    "lda_agglom5.kappa = measures.get_kappa(lda_agglom5_pred, lda_agglom5_cluster_num)\n",
    "lda_agglom7.kappa = measures.get_kappa(lda_agglom7_pred, lda_agglom7_cluster_num)\n",
    "lda_gmm5.kappa = measures.get_kappa(lda_gmm5_pred, lda_gmm5_cluster_num)\n",
    "lda_gmm7.kappa = measures.get_kappa(lda_gmm7_pred, lda_gmm7_cluster_num)\n",
    "print(\"Kappa score for Doc2Vec------------------------------\")\n",
    "d2v_kmeans5.kappa = measures.get_kappa(d2v_kmeans5_pred, d2v_kmeans5_cluster_num)\n",
    "d2v_kmeans7.kappa = measures.get_kappa(d2v_kmeans7_pred, d2v_kmeans7_cluster_num)\n",
    "d2v_agglom5.kappa = measures.get_kappa(d2v_agglom5_pred, d2v_agglom5_cluster_num)\n",
    "d2v_agglom7.kappa = measures.get_kappa(d2v_agglom7_pred, d2v_agglom7_cluster_num)\n",
    "d2v_gmm5.kappa = measures.get_kappa(d2v_gmm5_pred, d2v_gmm5_cluster_num)\n",
    "d2v_gmm7.kappa = measures.get_kappa(d2v_gmm7_pred, d2v_gmm7_cluster_num)"
   ]
  },
  {
   "cell_type": "code",
   "execution_count": 46,
   "metadata": {},
   "outputs": [],
   "source": [
    "model_name = [['bow kmean5', 'bow kmean7', 'bow agglom5', 'bow agglom7', 'bow em5', 'bow em7'],\n",
    "                ['tfidf kmean5', 'tfidf kmean7', 'tfidf agglom5', 'tfidf agglom7', 'tfidf em5', 'tfidf em7'],\n",
    "        ['lda kmean5', 'lda kmean7', 'lda agglom5', 'lda agglom7', 'lda em5', 'lda em7'],\n",
    "        ['d2v kmean5', 'd2v kmean7', 'd2v agglom5', 'd2v agglom7', 'd2v em5', 'd2v em7']]\n",
    "\n",
    "scores_kappa = [[bow_kmeans5.kappa, bow_kmeans7.kappa, bow_agglom5.kappa, bow_agglom7.kappa, bow_gmm5.kappa, bow_gmm7.kappa],\n",
    "        [tfidf_kmeans5.kappa, tfidf_kmeans7.kappa, tfidf_agglom5.kappa, tfidf_agglom7.kappa, tfidf_gmm5.kappa, tfidf_gmm7.kappa],\n",
    "        [lda_kmeans5.kappa, lda_kmeans7.kappa, lda_agglom5.kappa, lda_agglom7.kappa, lda_gmm5.kappa, lda_gmm7.kappa],\n",
    "        [d2v_kmeans5.kappa, d2v_kmeans7.kappa, d2v_agglom5.kappa, d2v_agglom7.kappa, d2v_gmm5.kappa, d2v_gmm7.kappa]\n",
    "        ]"
   ]
  },
  {
   "cell_type": "code",
   "execution_count": 678,
   "metadata": {},
   "outputs": [
    {
     "data": {
      "text/html": [
       "<div>                            <div id=\"4c8bd8ab-0810-451e-af2f-6f86e0c827b8\" class=\"plotly-graph-div\" style=\"height:525px; width:100%;\"></div>            <script type=\"text/javascript\">                require([\"plotly\"], function(Plotly) {                    window.PLOTLYENV=window.PLOTLYENV || {};                                    if (document.getElementById(\"4c8bd8ab-0810-451e-af2f-6f86e0c827b8\")) {                    Plotly.newPlot(                        \"4c8bd8ab-0810-451e-af2f-6f86e0c827b8\",                        [{\"marker\":{\"color\":\"rgb(100, 120,40)\"},\"name\":\"bow kmean5\",\"text\":[\"0.9041642897889333\"],\"x\":[\"bow kmean5\"],\"y\":[0.9041642897889333],\"type\":\"bar\",\"textposition\":\"outside\",\"texttemplate\":\"%{text:.3f}\"},{\"marker\":{\"color\":\"rgb(100, 120,80)\"},\"name\":\"bow kmean7\",\"text\":[\"0.9000979431929481\"],\"x\":[\"bow kmean7\"],\"y\":[0.9000979431929481],\"type\":\"bar\",\"textposition\":\"outside\",\"texttemplate\":\"%{text:.3f}\"},{\"marker\":{\"color\":\"rgb(100, 120,120)\"},\"name\":\"bow agglom5\",\"text\":[\"0.9824707846410684\"],\"x\":[\"bow agglom5\"],\"y\":[0.9824707846410684],\"type\":\"bar\",\"textposition\":\"outside\",\"texttemplate\":\"%{text:.3f}\"},{\"marker\":{\"color\":\"rgb(100, 120,160)\"},\"name\":\"bow agglom7\",\"text\":[\"0.9447903694479037\"],\"x\":[\"bow agglom7\"],\"y\":[0.9447903694479037],\"type\":\"bar\",\"textposition\":\"outside\",\"texttemplate\":\"%{text:.3f}\"},{\"marker\":{\"color\":\"rgb(100, 120,200)\"},\"name\":\"bow em5\",\"text\":[\"0.9215157536190747\"],\"x\":[\"bow em5\"],\"y\":[0.9215157536190747],\"type\":\"bar\",\"textposition\":\"outside\",\"texttemplate\":\"%{text:.3f}\"},{\"marker\":{\"color\":\"rgb(100, 120,240)\"},\"name\":\"bow em7\",\"text\":[\"0.8476928848318119\"],\"x\":[\"bow em7\"],\"y\":[0.8476928848318119],\"type\":\"bar\",\"textposition\":\"outside\",\"texttemplate\":\"%{text:.3f}\"},{\"marker\":{\"color\":\"rgb(150, 120,40)\"},\"name\":\"tfidf kmean5\",\"text\":[\"0.9637356482777933\"],\"x\":[\"tfidf kmean5\"],\"y\":[0.9637356482777933],\"type\":\"bar\",\"textposition\":\"outside\",\"texttemplate\":\"%{text:.3f}\"},{\"marker\":{\"color\":\"rgb(150, 120,80)\"},\"name\":\"tfidf kmean7\",\"text\":[\"0.9875\"],\"x\":[\"tfidf kmean7\"],\"y\":[0.9875],\"type\":\"bar\",\"textposition\":\"outside\",\"texttemplate\":\"%{text:.3f}\"},{\"marker\":{\"color\":\"rgb(150, 120,120)\"},\"name\":\"tfidf agglom5\",\"text\":[\"0.9412816281628162\"],\"x\":[\"tfidf agglom5\"],\"y\":[0.9412816281628162],\"type\":\"bar\",\"textposition\":\"outside\",\"texttemplate\":\"%{text:.3f}\"},{\"marker\":{\"color\":\"rgb(150, 120,160)\"},\"name\":\"tfidf agglom7\",\"text\":[\"0.9433333333333334\"],\"x\":[\"tfidf agglom7\"],\"y\":[0.9433333333333334],\"type\":\"bar\",\"textposition\":\"outside\",\"texttemplate\":\"%{text:.3f}\"},{\"marker\":{\"color\":\"rgb(150, 120,200)\"},\"name\":\"tfidf em5\",\"text\":[\"0.9513888888888888\"],\"x\":[\"tfidf em5\"],\"y\":[0.9513888888888888],\"type\":\"bar\",\"textposition\":\"outside\",\"texttemplate\":\"%{text:.3f}\"},{\"marker\":{\"color\":\"rgb(150, 120,240)\"},\"name\":\"tfidf em7\",\"text\":[\"0.9816666666666667\"],\"x\":[\"tfidf em7\"],\"y\":[0.9816666666666667],\"type\":\"bar\",\"textposition\":\"outside\",\"texttemplate\":\"%{text:.3f}\"},{\"marker\":{\"color\":\"rgb(200, 120,40)\"},\"name\":\"lda kmean5\",\"text\":[\"0.8909193936818246\"],\"x\":[\"lda kmean5\"],\"y\":[0.8909193936818246],\"type\":\"bar\",\"textposition\":\"outside\",\"texttemplate\":\"%{text:.3f}\"},{\"marker\":{\"color\":\"rgb(200, 120,80)\"},\"name\":\"lda kmean7\",\"text\":[\"0.7601451222789573\"],\"x\":[\"lda kmean7\"],\"y\":[0.7601451222789573],\"type\":\"bar\",\"textposition\":\"outside\",\"texttemplate\":\"%{text:.3f}\"},{\"marker\":{\"color\":\"rgb(200, 120,120)\"},\"name\":\"lda agglom5\",\"text\":[\"0.833047832388984\"],\"x\":[\"lda agglom5\"],\"y\":[0.833047832388984],\"type\":\"bar\",\"textposition\":\"outside\",\"texttemplate\":\"%{text:.3f}\"},{\"marker\":{\"color\":\"rgb(200, 120,160)\"},\"name\":\"lda agglom7\",\"text\":[\"0.7163363821138211\"],\"x\":[\"lda agglom7\"],\"y\":[0.7163363821138211],\"type\":\"bar\",\"textposition\":\"outside\",\"texttemplate\":\"%{text:.3f}\"},{\"marker\":{\"color\":\"rgb(200, 120,200)\"},\"name\":\"lda em5\",\"text\":[\"0.7740465963816218\"],\"x\":[\"lda em5\"],\"y\":[0.7740465963816218],\"type\":\"bar\",\"textposition\":\"outside\",\"texttemplate\":\"%{text:.3f}\"},{\"marker\":{\"color\":\"rgb(200, 120,240)\"},\"name\":\"lda em7\",\"text\":[\"0.6698675094202018\"],\"x\":[\"lda em7\"],\"y\":[0.6698675094202018],\"type\":\"bar\",\"textposition\":\"outside\",\"texttemplate\":\"%{text:.3f}\"},{\"marker\":{\"color\":\"rgb(250, 120,40)\"},\"name\":\"d2v kmean5\",\"text\":[\"0.9041979207790498\"],\"x\":[\"d2v kmean5\"],\"y\":[0.9041979207790498],\"type\":\"bar\",\"textposition\":\"outside\",\"texttemplate\":\"%{text:.3f}\"},{\"marker\":{\"color\":\"rgb(250, 120,80)\"},\"name\":\"d2v kmean7\",\"text\":[\"0.7946168768186227\"],\"x\":[\"d2v kmean7\"],\"y\":[0.7946168768186227],\"type\":\"bar\",\"textposition\":\"outside\",\"texttemplate\":\"%{text:.3f}\"},{\"marker\":{\"color\":\"rgb(250, 120,120)\"},\"name\":\"d2v agglom5\",\"text\":[\"0.8931578947368422\"],\"x\":[\"d2v agglom5\"],\"y\":[0.8931578947368422],\"type\":\"bar\",\"textposition\":\"outside\",\"texttemplate\":\"%{text:.3f}\"},{\"marker\":{\"color\":\"rgb(250, 120,160)\"},\"name\":\"d2v agglom7\",\"text\":[\"0.8258706467661692\"],\"x\":[\"d2v agglom7\"],\"y\":[0.8258706467661692],\"type\":\"bar\",\"textposition\":\"outside\",\"texttemplate\":\"%{text:.3f}\"},{\"marker\":{\"color\":\"rgb(250, 120,200)\"},\"name\":\"d2v em5\",\"text\":[\"0.9182092687409742\"],\"x\":[\"d2v em5\"],\"y\":[0.9182092687409742],\"type\":\"bar\",\"textposition\":\"outside\",\"texttemplate\":\"%{text:.3f}\"},{\"marker\":{\"color\":\"rgb(250, 120,240)\"},\"name\":\"d2v em7\",\"text\":[\"0.7451246605776352\"],\"x\":[\"d2v em7\"],\"y\":[0.7451246605776352],\"type\":\"bar\",\"textposition\":\"outside\",\"texttemplate\":\"%{text:.3f}\"}],                        {\"template\":{\"data\":{\"bar\":[{\"error_x\":{\"color\":\"#2a3f5f\"},\"error_y\":{\"color\":\"#2a3f5f\"},\"marker\":{\"line\":{\"color\":\"#E5ECF6\",\"width\":0.5},\"pattern\":{\"fillmode\":\"overlay\",\"size\":10,\"solidity\":0.2}},\"type\":\"bar\"}],\"barpolar\":[{\"marker\":{\"line\":{\"color\":\"#E5ECF6\",\"width\":0.5},\"pattern\":{\"fillmode\":\"overlay\",\"size\":10,\"solidity\":0.2}},\"type\":\"barpolar\"}],\"carpet\":[{\"aaxis\":{\"endlinecolor\":\"#2a3f5f\",\"gridcolor\":\"white\",\"linecolor\":\"white\",\"minorgridcolor\":\"white\",\"startlinecolor\":\"#2a3f5f\"},\"baxis\":{\"endlinecolor\":\"#2a3f5f\",\"gridcolor\":\"white\",\"linecolor\":\"white\",\"minorgridcolor\":\"white\",\"startlinecolor\":\"#2a3f5f\"},\"type\":\"carpet\"}],\"choropleth\":[{\"colorbar\":{\"outlinewidth\":0,\"ticks\":\"\"},\"type\":\"choropleth\"}],\"contour\":[{\"colorbar\":{\"outlinewidth\":0,\"ticks\":\"\"},\"colorscale\":[[0.0,\"#0d0887\"],[0.1111111111111111,\"#46039f\"],[0.2222222222222222,\"#7201a8\"],[0.3333333333333333,\"#9c179e\"],[0.4444444444444444,\"#bd3786\"],[0.5555555555555556,\"#d8576b\"],[0.6666666666666666,\"#ed7953\"],[0.7777777777777778,\"#fb9f3a\"],[0.8888888888888888,\"#fdca26\"],[1.0,\"#f0f921\"]],\"type\":\"contour\"}],\"contourcarpet\":[{\"colorbar\":{\"outlinewidth\":0,\"ticks\":\"\"},\"type\":\"contourcarpet\"}],\"heatmap\":[{\"colorbar\":{\"outlinewidth\":0,\"ticks\":\"\"},\"colorscale\":[[0.0,\"#0d0887\"],[0.1111111111111111,\"#46039f\"],[0.2222222222222222,\"#7201a8\"],[0.3333333333333333,\"#9c179e\"],[0.4444444444444444,\"#bd3786\"],[0.5555555555555556,\"#d8576b\"],[0.6666666666666666,\"#ed7953\"],[0.7777777777777778,\"#fb9f3a\"],[0.8888888888888888,\"#fdca26\"],[1.0,\"#f0f921\"]],\"type\":\"heatmap\"}],\"heatmapgl\":[{\"colorbar\":{\"outlinewidth\":0,\"ticks\":\"\"},\"colorscale\":[[0.0,\"#0d0887\"],[0.1111111111111111,\"#46039f\"],[0.2222222222222222,\"#7201a8\"],[0.3333333333333333,\"#9c179e\"],[0.4444444444444444,\"#bd3786\"],[0.5555555555555556,\"#d8576b\"],[0.6666666666666666,\"#ed7953\"],[0.7777777777777778,\"#fb9f3a\"],[0.8888888888888888,\"#fdca26\"],[1.0,\"#f0f921\"]],\"type\":\"heatmapgl\"}],\"histogram\":[{\"marker\":{\"pattern\":{\"fillmode\":\"overlay\",\"size\":10,\"solidity\":0.2}},\"type\":\"histogram\"}],\"histogram2d\":[{\"colorbar\":{\"outlinewidth\":0,\"ticks\":\"\"},\"colorscale\":[[0.0,\"#0d0887\"],[0.1111111111111111,\"#46039f\"],[0.2222222222222222,\"#7201a8\"],[0.3333333333333333,\"#9c179e\"],[0.4444444444444444,\"#bd3786\"],[0.5555555555555556,\"#d8576b\"],[0.6666666666666666,\"#ed7953\"],[0.7777777777777778,\"#fb9f3a\"],[0.8888888888888888,\"#fdca26\"],[1.0,\"#f0f921\"]],\"type\":\"histogram2d\"}],\"histogram2dcontour\":[{\"colorbar\":{\"outlinewidth\":0,\"ticks\":\"\"},\"colorscale\":[[0.0,\"#0d0887\"],[0.1111111111111111,\"#46039f\"],[0.2222222222222222,\"#7201a8\"],[0.3333333333333333,\"#9c179e\"],[0.4444444444444444,\"#bd3786\"],[0.5555555555555556,\"#d8576b\"],[0.6666666666666666,\"#ed7953\"],[0.7777777777777778,\"#fb9f3a\"],[0.8888888888888888,\"#fdca26\"],[1.0,\"#f0f921\"]],\"type\":\"histogram2dcontour\"}],\"mesh3d\":[{\"colorbar\":{\"outlinewidth\":0,\"ticks\":\"\"},\"type\":\"mesh3d\"}],\"parcoords\":[{\"line\":{\"colorbar\":{\"outlinewidth\":0,\"ticks\":\"\"}},\"type\":\"parcoords\"}],\"pie\":[{\"automargin\":true,\"type\":\"pie\"}],\"scatter\":[{\"marker\":{\"colorbar\":{\"outlinewidth\":0,\"ticks\":\"\"}},\"type\":\"scatter\"}],\"scatter3d\":[{\"line\":{\"colorbar\":{\"outlinewidth\":0,\"ticks\":\"\"}},\"marker\":{\"colorbar\":{\"outlinewidth\":0,\"ticks\":\"\"}},\"type\":\"scatter3d\"}],\"scattercarpet\":[{\"marker\":{\"colorbar\":{\"outlinewidth\":0,\"ticks\":\"\"}},\"type\":\"scattercarpet\"}],\"scattergeo\":[{\"marker\":{\"colorbar\":{\"outlinewidth\":0,\"ticks\":\"\"}},\"type\":\"scattergeo\"}],\"scattergl\":[{\"marker\":{\"colorbar\":{\"outlinewidth\":0,\"ticks\":\"\"}},\"type\":\"scattergl\"}],\"scattermapbox\":[{\"marker\":{\"colorbar\":{\"outlinewidth\":0,\"ticks\":\"\"}},\"type\":\"scattermapbox\"}],\"scatterpolar\":[{\"marker\":{\"colorbar\":{\"outlinewidth\":0,\"ticks\":\"\"}},\"type\":\"scatterpolar\"}],\"scatterpolargl\":[{\"marker\":{\"colorbar\":{\"outlinewidth\":0,\"ticks\":\"\"}},\"type\":\"scatterpolargl\"}],\"scatterternary\":[{\"marker\":{\"colorbar\":{\"outlinewidth\":0,\"ticks\":\"\"}},\"type\":\"scatterternary\"}],\"surface\":[{\"colorbar\":{\"outlinewidth\":0,\"ticks\":\"\"},\"colorscale\":[[0.0,\"#0d0887\"],[0.1111111111111111,\"#46039f\"],[0.2222222222222222,\"#7201a8\"],[0.3333333333333333,\"#9c179e\"],[0.4444444444444444,\"#bd3786\"],[0.5555555555555556,\"#d8576b\"],[0.6666666666666666,\"#ed7953\"],[0.7777777777777778,\"#fb9f3a\"],[0.8888888888888888,\"#fdca26\"],[1.0,\"#f0f921\"]],\"type\":\"surface\"}],\"table\":[{\"cells\":{\"fill\":{\"color\":\"#EBF0F8\"},\"line\":{\"color\":\"white\"}},\"header\":{\"fill\":{\"color\":\"#C8D4E3\"},\"line\":{\"color\":\"white\"}},\"type\":\"table\"}]},\"layout\":{\"annotationdefaults\":{\"arrowcolor\":\"#2a3f5f\",\"arrowhead\":0,\"arrowwidth\":1},\"autotypenumbers\":\"strict\",\"coloraxis\":{\"colorbar\":{\"outlinewidth\":0,\"ticks\":\"\"}},\"colorscale\":{\"diverging\":[[0,\"#8e0152\"],[0.1,\"#c51b7d\"],[0.2,\"#de77ae\"],[0.3,\"#f1b6da\"],[0.4,\"#fde0ef\"],[0.5,\"#f7f7f7\"],[0.6,\"#e6f5d0\"],[0.7,\"#b8e186\"],[0.8,\"#7fbc41\"],[0.9,\"#4d9221\"],[1,\"#276419\"]],\"sequential\":[[0.0,\"#0d0887\"],[0.1111111111111111,\"#46039f\"],[0.2222222222222222,\"#7201a8\"],[0.3333333333333333,\"#9c179e\"],[0.4444444444444444,\"#bd3786\"],[0.5555555555555556,\"#d8576b\"],[0.6666666666666666,\"#ed7953\"],[0.7777777777777778,\"#fb9f3a\"],[0.8888888888888888,\"#fdca26\"],[1.0,\"#f0f921\"]],\"sequentialminus\":[[0.0,\"#0d0887\"],[0.1111111111111111,\"#46039f\"],[0.2222222222222222,\"#7201a8\"],[0.3333333333333333,\"#9c179e\"],[0.4444444444444444,\"#bd3786\"],[0.5555555555555556,\"#d8576b\"],[0.6666666666666666,\"#ed7953\"],[0.7777777777777778,\"#fb9f3a\"],[0.8888888888888888,\"#fdca26\"],[1.0,\"#f0f921\"]]},\"colorway\":[\"#636efa\",\"#EF553B\",\"#00cc96\",\"#ab63fa\",\"#FFA15A\",\"#19d3f3\",\"#FF6692\",\"#B6E880\",\"#FF97FF\",\"#FECB52\"],\"font\":{\"color\":\"#2a3f5f\"},\"geo\":{\"bgcolor\":\"white\",\"lakecolor\":\"white\",\"landcolor\":\"#E5ECF6\",\"showlakes\":true,\"showland\":true,\"subunitcolor\":\"white\"},\"hoverlabel\":{\"align\":\"left\"},\"hovermode\":\"closest\",\"mapbox\":{\"style\":\"light\"},\"paper_bgcolor\":\"white\",\"plot_bgcolor\":\"#E5ECF6\",\"polar\":{\"angularaxis\":{\"gridcolor\":\"white\",\"linecolor\":\"white\",\"ticks\":\"\"},\"bgcolor\":\"#E5ECF6\",\"radialaxis\":{\"gridcolor\":\"white\",\"linecolor\":\"white\",\"ticks\":\"\"}},\"scene\":{\"xaxis\":{\"backgroundcolor\":\"#E5ECF6\",\"gridcolor\":\"white\",\"gridwidth\":2,\"linecolor\":\"white\",\"showbackground\":true,\"ticks\":\"\",\"zerolinecolor\":\"white\"},\"yaxis\":{\"backgroundcolor\":\"#E5ECF6\",\"gridcolor\":\"white\",\"gridwidth\":2,\"linecolor\":\"white\",\"showbackground\":true,\"ticks\":\"\",\"zerolinecolor\":\"white\"},\"zaxis\":{\"backgroundcolor\":\"#E5ECF6\",\"gridcolor\":\"white\",\"gridwidth\":2,\"linecolor\":\"white\",\"showbackground\":true,\"ticks\":\"\",\"zerolinecolor\":\"white\"}},\"shapedefaults\":{\"line\":{\"color\":\"#2a3f5f\"}},\"ternary\":{\"aaxis\":{\"gridcolor\":\"white\",\"linecolor\":\"white\",\"ticks\":\"\"},\"baxis\":{\"gridcolor\":\"white\",\"linecolor\":\"white\",\"ticks\":\"\"},\"bgcolor\":\"#E5ECF6\",\"caxis\":{\"gridcolor\":\"white\",\"linecolor\":\"white\",\"ticks\":\"\"}},\"title\":{\"x\":0.05},\"xaxis\":{\"automargin\":true,\"gridcolor\":\"white\",\"linecolor\":\"white\",\"ticks\":\"\",\"title\":{\"standoff\":15},\"zerolinecolor\":\"white\",\"zerolinewidth\":2},\"yaxis\":{\"automargin\":true,\"gridcolor\":\"white\",\"linecolor\":\"white\",\"ticks\":\"\",\"title\":{\"standoff\":15},\"zerolinecolor\":\"white\",\"zerolinewidth\":2}}},\"title\":{\"text\":\"Kappa Scores for Different Models\"}},                        {\"responsive\": true}                    ).then(function(){\n",
       "                            \n",
       "var gd = document.getElementById('4c8bd8ab-0810-451e-af2f-6f86e0c827b8');\n",
       "var x = new MutationObserver(function (mutations, observer) {{\n",
       "        var display = window.getComputedStyle(gd).display;\n",
       "        if (!display || display === 'none') {{\n",
       "            console.log([gd, 'removed!']);\n",
       "            Plotly.purge(gd);\n",
       "            observer.disconnect();\n",
       "        }}\n",
       "}});\n",
       "\n",
       "// Listen for the removal of the full notebook cells\n",
       "var notebookContainer = gd.closest('#notebook-container');\n",
       "if (notebookContainer) {{\n",
       "    x.observe(notebookContainer, {childList: true});\n",
       "}}\n",
       "\n",
       "// Listen for the clearing of the current output cell\n",
       "var outputEl = gd.closest('.output');\n",
       "if (outputEl) {{\n",
       "    x.observe(outputEl, {childList: true});\n",
       "}}\n",
       "\n",
       "                        })                };                });            </script>        </div>"
      ]
     },
     "metadata": {},
     "output_type": "display_data"
    }
   ],
   "source": [
    "import plotly.graph_objects as go\n",
    "fig = go.Figure()\n",
    "COLOR_FEATURE = np.arange(100, 300, 50)\n",
    "COLOR_MODEL = np.arange(40, 280,40)\n",
    "\n",
    "for i, color_feature in enumerate(COLOR_FEATURE):\n",
    "    for j, color_model in enumerate(COLOR_MODEL):\n",
    "        fig.add_trace(go.Bar(x = [model_name[i][j]],\n",
    "                            y = [scores_kappa[i][j]],\n",
    "                            name = model_name[i][j],\n",
    "                            marker_color= 'rgb('+str(color_feature)+', 120,'+str(color_model)+')',\n",
    "                            text= [scores_kappa[i][j]]\n",
    "                            ))\n",
    "\n",
    "fig.update_traces(texttemplate='%{text:.3f}', textposition='outside')\n",
    "fig.update_layout(\n",
    "    title_text='Kappa Scores for Different Models'\n",
    ")\n",
    "fig.show()"
   ]
  },
  {
   "cell_type": "markdown",
   "metadata": {},
   "source": [
    "##### Silhouette Score"
   ]
  },
  {
   "cell_type": "code",
   "execution_count": 679,
   "metadata": {},
   "outputs": [
    {
     "name": "stdout",
     "output_type": "stream",
     "text": [
      "silhouette score for BOW----------------------------------\n",
      "silhouette score: 0.018804597541345527\n",
      "silhouette score: 0.018804597541345527\n",
      "silhouette score: 0.018804597541345527\n",
      "silhouette score: 0.018804597541345527\n",
      "silhouette score: 0.018804597541345527\n",
      "silhouette score: 0.007131359440162388\n",
      "silhouette score for TFIDF--------------------------------\n",
      "silhouette score: 0.030931113887031663\n",
      "silhouette score: 0.03567439495290303\n",
      "silhouette score: 0.030931113887031663\n",
      "silhouette score: 0.03567439495290303\n",
      "silhouette score: 0.030931113887031663\n",
      "silhouette score: 0.03567439495290303\n",
      "silhouette score for LDA----------------------------------\n",
      "silhouette score: 0.8363730788298622\n",
      "silhouette score: 0.8363730788298622\n",
      "silhouette score: 0.6557344486375999\n",
      "silhouette score: 0.6557344486375999\n",
      "silhouette score: 0.4937617455925064\n",
      "silhouette score: 0.4988500934439026\n",
      "silhouette score for Doc2Vec------------------------------\n",
      "silhouette score: 0.3014127314090729\n",
      "silhouette score: 0.3014127314090729\n",
      "silhouette score: 0.3014127314090729\n",
      "silhouette score: 0.2603799104690552\n",
      "silhouette score: 0.3014127314090729\n",
      "silhouette score: 0.20942378044128418\n"
     ]
    }
   ],
   "source": [
    "print(\"silhouette score for BOW----------------------------------\")\n",
    "bow_kmeans5.silhouette = measures.get_silhouette_score(df_bow, bow_kmeans5_cluster_num)\n",
    "bow_kmeans7.silhouette = measures.get_silhouette_score(df_bow, bow_kmeans7_cluster_num)\n",
    "bow_agglom5.silhouette = measures.get_silhouette_score(df_bow, bow_agglom5_cluster_num)\n",
    "bow_agglom7.silhouette = measures.get_silhouette_score(df_bow, bow_agglom7_cluster_num)\n",
    "bow_gmm5.silhouette = measures.get_silhouette_score(df_bow, bow_gmm5_cluster_num)\n",
    "bow_gmm7.silhouette = measures.get_silhouette_score(df_bow, bow_gmm7_cluster_num)\n",
    "print(\"silhouette score for TFIDF--------------------------------\")\n",
    "tfidf_kmeans5.silhouette = measures.get_silhouette_score(df_tfidf, tfidf_kmeans5_cluster_num)\n",
    "tfidf_kmeans7.silhouette = measures.get_silhouette_score(df_tfidf, tfidf_kmeans7_cluster_num)\n",
    "tfidf_agglom5.silhouette = measures.get_silhouette_score(df_tfidf, tfidf_agglom5_cluster_num)\n",
    "tfidf_agglom7.silhouette = measures.get_silhouette_score(df_tfidf, tfidf_agglom7_cluster_num)\n",
    "tfidf_gmm5.silhouette = measures.get_silhouette_score(df_tfidf, tfidf_gmm5_cluster_num)\n",
    "tfidf_gmm7.silhouette = measures.get_silhouette_score(df_tfidf, tfidf_gmm7_cluster_num)\n",
    "print(\"silhouette score for LDA----------------------------------\")\n",
    "lda_kmeans5.silhouette = measures.get_silhouette_score(df_lda, lda_kmeans5_cluster_num)\n",
    "lda_kmeans7.silhouette = measures.get_silhouette_score(df_lda, lda_kmeans7_cluster_num)\n",
    "lda_agglom5.silhouette = measures.get_silhouette_score(df_lda, lda_agglom5_cluster_num)\n",
    "lda_agglom7.silhouette = measures.get_silhouette_score(df_lda, lda_agglom7_cluster_num)\n",
    "lda_gmm5.silhouette = measures.get_silhouette_score(df_lda, lda_gmm5_cluster_num)\n",
    "lda_gmm7.silhouette = measures.get_silhouette_score(df_lda, lda_gmm7_cluster_num)\n",
    "print(\"silhouette score for Doc2Vec------------------------------\")\n",
    "d2v_kmeans5.silhouette = measures.get_silhouette_score(df_d2v, d2v_kmeans5_cluster_num)\n",
    "d2v_kmeans7.silhouette = measures.get_silhouette_score(df_d2v, d2v_kmeans7_cluster_num)\n",
    "d2v_agglom5.silhouette = measures.get_silhouette_score(df_d2v, d2v_agglom5_cluster_num)\n",
    "d2v_agglom7.silhouette = measures.get_silhouette_score(df_d2v, d2v_agglom7_cluster_num)\n",
    "d2v_gmm5.silhouette = measures.get_silhouette_score(df_d2v, d2v_gmm5_cluster_num)\n",
    "d2v_gmm7.silhouette = measures.get_silhouette_score(df_d2v, d2v_gmm7_cluster_num)"
   ]
  },
  {
   "cell_type": "code",
   "execution_count": 680,
   "metadata": {},
   "outputs": [],
   "source": [
    "scores_silhouette = [[bow_kmeans5.silhouette, bow_kmeans7.silhouette, bow_agglom5.silhouette, bow_agglom7.silhouette, bow_gmm5.silhouette, bow_gmm7.silhouette],\n",
    "        [tfidf_kmeans5.silhouette, tfidf_kmeans7.silhouette, tfidf_agglom5.silhouette, tfidf_agglom7.silhouette, tfidf_gmm5.silhouette, tfidf_gmm7.silhouette],\n",
    "        [lda_kmeans5.silhouette, lda_kmeans7.silhouette, lda_agglom5.silhouette, lda_agglom7.silhouette, lda_gmm5.silhouette, lda_gmm7.silhouette],\n",
    "        [d2v_kmeans5.silhouette, d2v_kmeans7.silhouette, d2v_agglom5.silhouette, d2v_agglom7.silhouette, d2v_gmm5.silhouette, d2v_gmm7.silhouette]\n",
    "        ]"
   ]
  },
  {
   "cell_type": "code",
   "execution_count": 681,
   "metadata": {},
   "outputs": [
    {
     "data": {
      "text/html": [
       "<div>                            <div id=\"8a7ede40-11d4-48a1-8c87-9062e5134ca8\" class=\"plotly-graph-div\" style=\"height:525px; width:100%;\"></div>            <script type=\"text/javascript\">                require([\"plotly\"], function(Plotly) {                    window.PLOTLYENV=window.PLOTLYENV || {};                                    if (document.getElementById(\"8a7ede40-11d4-48a1-8c87-9062e5134ca8\")) {                    Plotly.newPlot(                        \"8a7ede40-11d4-48a1-8c87-9062e5134ca8\",                        [{\"marker\":{\"color\":\"rgb(100, 120,40)\"},\"name\":\"bow kmean5\",\"text\":[\"0.018804597541345527\"],\"x\":[\"bow kmean5\"],\"y\":[0.018804597541345527],\"type\":\"bar\",\"textposition\":\"outside\",\"texttemplate\":\"%{text:.3f}\"},{\"marker\":{\"color\":\"rgb(100, 120,80)\"},\"name\":\"bow kmean7\",\"text\":[\"0.018804597541345527\"],\"x\":[\"bow kmean7\"],\"y\":[0.018804597541345527],\"type\":\"bar\",\"textposition\":\"outside\",\"texttemplate\":\"%{text:.3f}\"},{\"marker\":{\"color\":\"rgb(100, 120,120)\"},\"name\":\"bow agglom5\",\"text\":[\"0.018804597541345527\"],\"x\":[\"bow agglom5\"],\"y\":[0.018804597541345527],\"type\":\"bar\",\"textposition\":\"outside\",\"texttemplate\":\"%{text:.3f}\"},{\"marker\":{\"color\":\"rgb(100, 120,160)\"},\"name\":\"bow agglom7\",\"text\":[\"0.018804597541345527\"],\"x\":[\"bow agglom7\"],\"y\":[0.018804597541345527],\"type\":\"bar\",\"textposition\":\"outside\",\"texttemplate\":\"%{text:.3f}\"},{\"marker\":{\"color\":\"rgb(100, 120,200)\"},\"name\":\"bow em5\",\"text\":[\"0.018804597541345527\"],\"x\":[\"bow em5\"],\"y\":[0.018804597541345527],\"type\":\"bar\",\"textposition\":\"outside\",\"texttemplate\":\"%{text:.3f}\"},{\"marker\":{\"color\":\"rgb(100, 120,240)\"},\"name\":\"bow em7\",\"text\":[\"0.007131359440162388\"],\"x\":[\"bow em7\"],\"y\":[0.007131359440162388],\"type\":\"bar\",\"textposition\":\"outside\",\"texttemplate\":\"%{text:.3f}\"},{\"marker\":{\"color\":\"rgb(150, 120,40)\"},\"name\":\"tfidf kmean5\",\"text\":[\"0.030931113887031663\"],\"x\":[\"tfidf kmean5\"],\"y\":[0.030931113887031663],\"type\":\"bar\",\"textposition\":\"outside\",\"texttemplate\":\"%{text:.3f}\"},{\"marker\":{\"color\":\"rgb(150, 120,80)\"},\"name\":\"tfidf kmean7\",\"text\":[\"0.03567439495290303\"],\"x\":[\"tfidf kmean7\"],\"y\":[0.03567439495290303],\"type\":\"bar\",\"textposition\":\"outside\",\"texttemplate\":\"%{text:.3f}\"},{\"marker\":{\"color\":\"rgb(150, 120,120)\"},\"name\":\"tfidf agglom5\",\"text\":[\"0.030931113887031663\"],\"x\":[\"tfidf agglom5\"],\"y\":[0.030931113887031663],\"type\":\"bar\",\"textposition\":\"outside\",\"texttemplate\":\"%{text:.3f}\"},{\"marker\":{\"color\":\"rgb(150, 120,160)\"},\"name\":\"tfidf agglom7\",\"text\":[\"0.03567439495290303\"],\"x\":[\"tfidf agglom7\"],\"y\":[0.03567439495290303],\"type\":\"bar\",\"textposition\":\"outside\",\"texttemplate\":\"%{text:.3f}\"},{\"marker\":{\"color\":\"rgb(150, 120,200)\"},\"name\":\"tfidf em5\",\"text\":[\"0.030931113887031663\"],\"x\":[\"tfidf em5\"],\"y\":[0.030931113887031663],\"type\":\"bar\",\"textposition\":\"outside\",\"texttemplate\":\"%{text:.3f}\"},{\"marker\":{\"color\":\"rgb(150, 120,240)\"},\"name\":\"tfidf em7\",\"text\":[\"0.03567439495290303\"],\"x\":[\"tfidf em7\"],\"y\":[0.03567439495290303],\"type\":\"bar\",\"textposition\":\"outside\",\"texttemplate\":\"%{text:.3f}\"},{\"marker\":{\"color\":\"rgb(200, 120,40)\"},\"name\":\"lda kmean5\",\"text\":[\"0.8363730788298622\"],\"x\":[\"lda kmean5\"],\"y\":[0.8363730788298622],\"type\":\"bar\",\"textposition\":\"outside\",\"texttemplate\":\"%{text:.3f}\"},{\"marker\":{\"color\":\"rgb(200, 120,80)\"},\"name\":\"lda kmean7\",\"text\":[\"0.8363730788298622\"],\"x\":[\"lda kmean7\"],\"y\":[0.8363730788298622],\"type\":\"bar\",\"textposition\":\"outside\",\"texttemplate\":\"%{text:.3f}\"},{\"marker\":{\"color\":\"rgb(200, 120,120)\"},\"name\":\"lda agglom5\",\"text\":[\"0.6557344486375999\"],\"x\":[\"lda agglom5\"],\"y\":[0.6557344486375999],\"type\":\"bar\",\"textposition\":\"outside\",\"texttemplate\":\"%{text:.3f}\"},{\"marker\":{\"color\":\"rgb(200, 120,160)\"},\"name\":\"lda agglom7\",\"text\":[\"0.6557344486375999\"],\"x\":[\"lda agglom7\"],\"y\":[0.6557344486375999],\"type\":\"bar\",\"textposition\":\"outside\",\"texttemplate\":\"%{text:.3f}\"},{\"marker\":{\"color\":\"rgb(200, 120,200)\"},\"name\":\"lda em5\",\"text\":[\"0.4937617455925064\"],\"x\":[\"lda em5\"],\"y\":[0.4937617455925064],\"type\":\"bar\",\"textposition\":\"outside\",\"texttemplate\":\"%{text:.3f}\"},{\"marker\":{\"color\":\"rgb(200, 120,240)\"},\"name\":\"lda em7\",\"text\":[\"0.4988500934439026\"],\"x\":[\"lda em7\"],\"y\":[0.4988500934439026],\"type\":\"bar\",\"textposition\":\"outside\",\"texttemplate\":\"%{text:.3f}\"},{\"marker\":{\"color\":\"rgb(250, 120,40)\"},\"name\":\"d2v kmean5\",\"text\":[\"0.30141273\"],\"x\":[\"d2v kmean5\"],\"y\":[0.3014127314090729],\"type\":\"bar\",\"textposition\":\"outside\",\"texttemplate\":\"%{text:.3f}\"},{\"marker\":{\"color\":\"rgb(250, 120,80)\"},\"name\":\"d2v kmean7\",\"text\":[\"0.30141273\"],\"x\":[\"d2v kmean7\"],\"y\":[0.3014127314090729],\"type\":\"bar\",\"textposition\":\"outside\",\"texttemplate\":\"%{text:.3f}\"},{\"marker\":{\"color\":\"rgb(250, 120,120)\"},\"name\":\"d2v agglom5\",\"text\":[\"0.30141273\"],\"x\":[\"d2v agglom5\"],\"y\":[0.3014127314090729],\"type\":\"bar\",\"textposition\":\"outside\",\"texttemplate\":\"%{text:.3f}\"},{\"marker\":{\"color\":\"rgb(250, 120,160)\"},\"name\":\"d2v agglom7\",\"text\":[\"0.2603799\"],\"x\":[\"d2v agglom7\"],\"y\":[0.2603799104690552],\"type\":\"bar\",\"textposition\":\"outside\",\"texttemplate\":\"%{text:.3f}\"},{\"marker\":{\"color\":\"rgb(250, 120,200)\"},\"name\":\"d2v em5\",\"text\":[\"0.30141273\"],\"x\":[\"d2v em5\"],\"y\":[0.3014127314090729],\"type\":\"bar\",\"textposition\":\"outside\",\"texttemplate\":\"%{text:.3f}\"},{\"marker\":{\"color\":\"rgb(250, 120,240)\"},\"name\":\"d2v em7\",\"text\":[\"0.20942378\"],\"x\":[\"d2v em7\"],\"y\":[0.20942378044128418],\"type\":\"bar\",\"textposition\":\"outside\",\"texttemplate\":\"%{text:.3f}\"}],                        {\"template\":{\"data\":{\"bar\":[{\"error_x\":{\"color\":\"#2a3f5f\"},\"error_y\":{\"color\":\"#2a3f5f\"},\"marker\":{\"line\":{\"color\":\"#E5ECF6\",\"width\":0.5},\"pattern\":{\"fillmode\":\"overlay\",\"size\":10,\"solidity\":0.2}},\"type\":\"bar\"}],\"barpolar\":[{\"marker\":{\"line\":{\"color\":\"#E5ECF6\",\"width\":0.5},\"pattern\":{\"fillmode\":\"overlay\",\"size\":10,\"solidity\":0.2}},\"type\":\"barpolar\"}],\"carpet\":[{\"aaxis\":{\"endlinecolor\":\"#2a3f5f\",\"gridcolor\":\"white\",\"linecolor\":\"white\",\"minorgridcolor\":\"white\",\"startlinecolor\":\"#2a3f5f\"},\"baxis\":{\"endlinecolor\":\"#2a3f5f\",\"gridcolor\":\"white\",\"linecolor\":\"white\",\"minorgridcolor\":\"white\",\"startlinecolor\":\"#2a3f5f\"},\"type\":\"carpet\"}],\"choropleth\":[{\"colorbar\":{\"outlinewidth\":0,\"ticks\":\"\"},\"type\":\"choropleth\"}],\"contour\":[{\"colorbar\":{\"outlinewidth\":0,\"ticks\":\"\"},\"colorscale\":[[0.0,\"#0d0887\"],[0.1111111111111111,\"#46039f\"],[0.2222222222222222,\"#7201a8\"],[0.3333333333333333,\"#9c179e\"],[0.4444444444444444,\"#bd3786\"],[0.5555555555555556,\"#d8576b\"],[0.6666666666666666,\"#ed7953\"],[0.7777777777777778,\"#fb9f3a\"],[0.8888888888888888,\"#fdca26\"],[1.0,\"#f0f921\"]],\"type\":\"contour\"}],\"contourcarpet\":[{\"colorbar\":{\"outlinewidth\":0,\"ticks\":\"\"},\"type\":\"contourcarpet\"}],\"heatmap\":[{\"colorbar\":{\"outlinewidth\":0,\"ticks\":\"\"},\"colorscale\":[[0.0,\"#0d0887\"],[0.1111111111111111,\"#46039f\"],[0.2222222222222222,\"#7201a8\"],[0.3333333333333333,\"#9c179e\"],[0.4444444444444444,\"#bd3786\"],[0.5555555555555556,\"#d8576b\"],[0.6666666666666666,\"#ed7953\"],[0.7777777777777778,\"#fb9f3a\"],[0.8888888888888888,\"#fdca26\"],[1.0,\"#f0f921\"]],\"type\":\"heatmap\"}],\"heatmapgl\":[{\"colorbar\":{\"outlinewidth\":0,\"ticks\":\"\"},\"colorscale\":[[0.0,\"#0d0887\"],[0.1111111111111111,\"#46039f\"],[0.2222222222222222,\"#7201a8\"],[0.3333333333333333,\"#9c179e\"],[0.4444444444444444,\"#bd3786\"],[0.5555555555555556,\"#d8576b\"],[0.6666666666666666,\"#ed7953\"],[0.7777777777777778,\"#fb9f3a\"],[0.8888888888888888,\"#fdca26\"],[1.0,\"#f0f921\"]],\"type\":\"heatmapgl\"}],\"histogram\":[{\"marker\":{\"pattern\":{\"fillmode\":\"overlay\",\"size\":10,\"solidity\":0.2}},\"type\":\"histogram\"}],\"histogram2d\":[{\"colorbar\":{\"outlinewidth\":0,\"ticks\":\"\"},\"colorscale\":[[0.0,\"#0d0887\"],[0.1111111111111111,\"#46039f\"],[0.2222222222222222,\"#7201a8\"],[0.3333333333333333,\"#9c179e\"],[0.4444444444444444,\"#bd3786\"],[0.5555555555555556,\"#d8576b\"],[0.6666666666666666,\"#ed7953\"],[0.7777777777777778,\"#fb9f3a\"],[0.8888888888888888,\"#fdca26\"],[1.0,\"#f0f921\"]],\"type\":\"histogram2d\"}],\"histogram2dcontour\":[{\"colorbar\":{\"outlinewidth\":0,\"ticks\":\"\"},\"colorscale\":[[0.0,\"#0d0887\"],[0.1111111111111111,\"#46039f\"],[0.2222222222222222,\"#7201a8\"],[0.3333333333333333,\"#9c179e\"],[0.4444444444444444,\"#bd3786\"],[0.5555555555555556,\"#d8576b\"],[0.6666666666666666,\"#ed7953\"],[0.7777777777777778,\"#fb9f3a\"],[0.8888888888888888,\"#fdca26\"],[1.0,\"#f0f921\"]],\"type\":\"histogram2dcontour\"}],\"mesh3d\":[{\"colorbar\":{\"outlinewidth\":0,\"ticks\":\"\"},\"type\":\"mesh3d\"}],\"parcoords\":[{\"line\":{\"colorbar\":{\"outlinewidth\":0,\"ticks\":\"\"}},\"type\":\"parcoords\"}],\"pie\":[{\"automargin\":true,\"type\":\"pie\"}],\"scatter\":[{\"marker\":{\"colorbar\":{\"outlinewidth\":0,\"ticks\":\"\"}},\"type\":\"scatter\"}],\"scatter3d\":[{\"line\":{\"colorbar\":{\"outlinewidth\":0,\"ticks\":\"\"}},\"marker\":{\"colorbar\":{\"outlinewidth\":0,\"ticks\":\"\"}},\"type\":\"scatter3d\"}],\"scattercarpet\":[{\"marker\":{\"colorbar\":{\"outlinewidth\":0,\"ticks\":\"\"}},\"type\":\"scattercarpet\"}],\"scattergeo\":[{\"marker\":{\"colorbar\":{\"outlinewidth\":0,\"ticks\":\"\"}},\"type\":\"scattergeo\"}],\"scattergl\":[{\"marker\":{\"colorbar\":{\"outlinewidth\":0,\"ticks\":\"\"}},\"type\":\"scattergl\"}],\"scattermapbox\":[{\"marker\":{\"colorbar\":{\"outlinewidth\":0,\"ticks\":\"\"}},\"type\":\"scattermapbox\"}],\"scatterpolar\":[{\"marker\":{\"colorbar\":{\"outlinewidth\":0,\"ticks\":\"\"}},\"type\":\"scatterpolar\"}],\"scatterpolargl\":[{\"marker\":{\"colorbar\":{\"outlinewidth\":0,\"ticks\":\"\"}},\"type\":\"scatterpolargl\"}],\"scatterternary\":[{\"marker\":{\"colorbar\":{\"outlinewidth\":0,\"ticks\":\"\"}},\"type\":\"scatterternary\"}],\"surface\":[{\"colorbar\":{\"outlinewidth\":0,\"ticks\":\"\"},\"colorscale\":[[0.0,\"#0d0887\"],[0.1111111111111111,\"#46039f\"],[0.2222222222222222,\"#7201a8\"],[0.3333333333333333,\"#9c179e\"],[0.4444444444444444,\"#bd3786\"],[0.5555555555555556,\"#d8576b\"],[0.6666666666666666,\"#ed7953\"],[0.7777777777777778,\"#fb9f3a\"],[0.8888888888888888,\"#fdca26\"],[1.0,\"#f0f921\"]],\"type\":\"surface\"}],\"table\":[{\"cells\":{\"fill\":{\"color\":\"#EBF0F8\"},\"line\":{\"color\":\"white\"}},\"header\":{\"fill\":{\"color\":\"#C8D4E3\"},\"line\":{\"color\":\"white\"}},\"type\":\"table\"}]},\"layout\":{\"annotationdefaults\":{\"arrowcolor\":\"#2a3f5f\",\"arrowhead\":0,\"arrowwidth\":1},\"autotypenumbers\":\"strict\",\"coloraxis\":{\"colorbar\":{\"outlinewidth\":0,\"ticks\":\"\"}},\"colorscale\":{\"diverging\":[[0,\"#8e0152\"],[0.1,\"#c51b7d\"],[0.2,\"#de77ae\"],[0.3,\"#f1b6da\"],[0.4,\"#fde0ef\"],[0.5,\"#f7f7f7\"],[0.6,\"#e6f5d0\"],[0.7,\"#b8e186\"],[0.8,\"#7fbc41\"],[0.9,\"#4d9221\"],[1,\"#276419\"]],\"sequential\":[[0.0,\"#0d0887\"],[0.1111111111111111,\"#46039f\"],[0.2222222222222222,\"#7201a8\"],[0.3333333333333333,\"#9c179e\"],[0.4444444444444444,\"#bd3786\"],[0.5555555555555556,\"#d8576b\"],[0.6666666666666666,\"#ed7953\"],[0.7777777777777778,\"#fb9f3a\"],[0.8888888888888888,\"#fdca26\"],[1.0,\"#f0f921\"]],\"sequentialminus\":[[0.0,\"#0d0887\"],[0.1111111111111111,\"#46039f\"],[0.2222222222222222,\"#7201a8\"],[0.3333333333333333,\"#9c179e\"],[0.4444444444444444,\"#bd3786\"],[0.5555555555555556,\"#d8576b\"],[0.6666666666666666,\"#ed7953\"],[0.7777777777777778,\"#fb9f3a\"],[0.8888888888888888,\"#fdca26\"],[1.0,\"#f0f921\"]]},\"colorway\":[\"#636efa\",\"#EF553B\",\"#00cc96\",\"#ab63fa\",\"#FFA15A\",\"#19d3f3\",\"#FF6692\",\"#B6E880\",\"#FF97FF\",\"#FECB52\"],\"font\":{\"color\":\"#2a3f5f\"},\"geo\":{\"bgcolor\":\"white\",\"lakecolor\":\"white\",\"landcolor\":\"#E5ECF6\",\"showlakes\":true,\"showland\":true,\"subunitcolor\":\"white\"},\"hoverlabel\":{\"align\":\"left\"},\"hovermode\":\"closest\",\"mapbox\":{\"style\":\"light\"},\"paper_bgcolor\":\"white\",\"plot_bgcolor\":\"#E5ECF6\",\"polar\":{\"angularaxis\":{\"gridcolor\":\"white\",\"linecolor\":\"white\",\"ticks\":\"\"},\"bgcolor\":\"#E5ECF6\",\"radialaxis\":{\"gridcolor\":\"white\",\"linecolor\":\"white\",\"ticks\":\"\"}},\"scene\":{\"xaxis\":{\"backgroundcolor\":\"#E5ECF6\",\"gridcolor\":\"white\",\"gridwidth\":2,\"linecolor\":\"white\",\"showbackground\":true,\"ticks\":\"\",\"zerolinecolor\":\"white\"},\"yaxis\":{\"backgroundcolor\":\"#E5ECF6\",\"gridcolor\":\"white\",\"gridwidth\":2,\"linecolor\":\"white\",\"showbackground\":true,\"ticks\":\"\",\"zerolinecolor\":\"white\"},\"zaxis\":{\"backgroundcolor\":\"#E5ECF6\",\"gridcolor\":\"white\",\"gridwidth\":2,\"linecolor\":\"white\",\"showbackground\":true,\"ticks\":\"\",\"zerolinecolor\":\"white\"}},\"shapedefaults\":{\"line\":{\"color\":\"#2a3f5f\"}},\"ternary\":{\"aaxis\":{\"gridcolor\":\"white\",\"linecolor\":\"white\",\"ticks\":\"\"},\"baxis\":{\"gridcolor\":\"white\",\"linecolor\":\"white\",\"ticks\":\"\"},\"bgcolor\":\"#E5ECF6\",\"caxis\":{\"gridcolor\":\"white\",\"linecolor\":\"white\",\"ticks\":\"\"}},\"title\":{\"x\":0.05},\"xaxis\":{\"automargin\":true,\"gridcolor\":\"white\",\"linecolor\":\"white\",\"ticks\":\"\",\"title\":{\"standoff\":15},\"zerolinecolor\":\"white\",\"zerolinewidth\":2},\"yaxis\":{\"automargin\":true,\"gridcolor\":\"white\",\"linecolor\":\"white\",\"ticks\":\"\",\"title\":{\"standoff\":15},\"zerolinecolor\":\"white\",\"zerolinewidth\":2}}},\"title\":{\"text\":\"Silhouette Scores for Different Models\"}},                        {\"responsive\": true}                    ).then(function(){\n",
       "                            \n",
       "var gd = document.getElementById('8a7ede40-11d4-48a1-8c87-9062e5134ca8');\n",
       "var x = new MutationObserver(function (mutations, observer) {{\n",
       "        var display = window.getComputedStyle(gd).display;\n",
       "        if (!display || display === 'none') {{\n",
       "            console.log([gd, 'removed!']);\n",
       "            Plotly.purge(gd);\n",
       "            observer.disconnect();\n",
       "        }}\n",
       "}});\n",
       "\n",
       "// Listen for the removal of the full notebook cells\n",
       "var notebookContainer = gd.closest('#notebook-container');\n",
       "if (notebookContainer) {{\n",
       "    x.observe(notebookContainer, {childList: true});\n",
       "}}\n",
       "\n",
       "// Listen for the clearing of the current output cell\n",
       "var outputEl = gd.closest('.output');\n",
       "if (outputEl) {{\n",
       "    x.observe(outputEl, {childList: true});\n",
       "}}\n",
       "\n",
       "                        })                };                });            </script>        </div>"
      ]
     },
     "metadata": {},
     "output_type": "display_data"
    }
   ],
   "source": [
    "fig = go.Figure()\n",
    "\n",
    "for i, color_feature in enumerate(COLOR_FEATURE):\n",
    "    for j, color_model in enumerate(COLOR_MODEL):\n",
    "        fig.add_trace(go.Bar(x = [model_name[i][j]],\n",
    "                            y = [scores_silhouette[i][j]],\n",
    "                            name = model_name[i][j],\n",
    "                            marker_color= 'rgb('+str(color_feature)+', 120,'+str(color_model)+')',\n",
    "                            text= [scores_silhouette[i][j]]\n",
    "                            ))\n",
    "\n",
    "fig.update_traces(texttemplate='%{text:.3f}', textposition='outside')\n",
    "fig.update_layout(\n",
    "    title_text='Silhouette Scores for Different Models'\n",
    ")\n",
    "fig.show()"
   ]
  },
  {
   "cell_type": "markdown",
   "metadata": {},
   "source": [
    "##### Coherence"
   ]
  },
  {
   "cell_type": "code",
   "execution_count": 51,
   "metadata": {},
   "outputs": [
    {
     "name": "stdout",
     "output_type": "stream",
     "text": [
      "Coherence score for LDA----------------------------------\n",
      "coherence: -1.252494182666128\n"
     ]
    }
   ],
   "source": [
    "# detailed coherence score vs num_top see LDA/LDA_ipynb.ipynb, under compute_coherence_values(...)\n",
    "print(\"Coherence score for LDA----------------------------------\")\n",
    "data_lemmatized = lda_df_out['segment'].tolist()\n",
    "id2word = corpora.Dictionary(data_lemmatized)  \n",
    "cm = CoherenceModel(model=lda_model, texts=data_lemmatized, dictionary=id2word, coherence='u_mass')\n",
    "lda_coherence = measures.get_coherence(cm)"
   ]
  },
  {
   "cell_type": "markdown",
   "metadata": {},
   "source": [
    "##### Rand Index"
   ]
  },
  {
   "cell_type": "code",
   "execution_count": 682,
   "metadata": {},
   "outputs": [
    {
     "name": "stdout",
     "output_type": "stream",
     "text": [
      "Rand score for BOW----------------------------------\n",
      "rand score: 0.8168571082835502\n",
      "rand score: 0.8713383588318966\n",
      "rand score: 0.9690152037238356\n",
      "rand score: 0.9528611923907633\n",
      "rand score: 0.8447856048292877\n",
      "rand score: 0.796117045427862\n",
      "Rand score for TFIDF--------------------------------\n",
      "rand score: 0.9240297055025066\n",
      "rand score: 0.9750631378402579\n",
      "rand score: 0.8866794156279854\n",
      "rand score: 0.8930313871582037\n",
      "rand score: 0.8989430684765087\n",
      "rand score: 0.9635165812111574\n",
      "Rand score for LDA----------------------------------\n",
      "rand score: 0.8324318760679159\n",
      "rand score: 0.6898040085069513\n",
      "rand score: 0.7604005477262062\n",
      "rand score: 0.6616742900535785\n",
      "rand score: 0.6368507158309153\n",
      "rand score: 0.5539978103468054\n",
      "Rand score for Doc2Vec------------------------------\n",
      "rand score: 0.803579616844753\n",
      "rand score: 0.803579616844753\n",
      "rand score: 0.7780992217117533\n",
      "rand score: 0.7085335321325159\n",
      "rand score: 0.8297366873266565\n",
      "rand score: 0.6968318358335472\n"
     ]
    }
   ],
   "source": [
    "print(\"Rand score for BOW----------------------------------\")\n",
    "bow_kmeans5.rand = measures.get_rand_score(bow_kmeans5_pred, bow_kmeans5_cluster_num)\n",
    "bow_kmeans7.rand = measures.get_rand_score(bow_kmeans7_pred, bow_kmeans7_cluster_num)\n",
    "bow_agglom5.rand = measures.get_rand_score(bow_agglom5_pred, bow_agglom5_cluster_num)\n",
    "bow_agglom7.rand = measures.get_rand_score(bow_agglom7_pred, bow_agglom7_cluster_num)\n",
    "bow_gmm5.rand = measures.get_rand_score(bow_gmm5_pred, bow_gmm5_cluster_num)\n",
    "bow_gmm7.rand = measures.get_rand_score(bow_gmm7_pred, bow_gmm7_cluster_num)\n",
    "print(\"Rand score for TFIDF--------------------------------\")\n",
    "tfidf_kmeans5.rand = measures.get_rand_score(tfidf_kmeans5_pred, tfidf_kmeans5_cluster_num)\n",
    "tfidf_kmeans7.rand = measures.get_rand_score(tfidf_kmeans7_pred, tfidf_kmeans7_cluster_num)\n",
    "tfidf_agglom5.rand = measures.get_rand_score(tfidf_agglom5_pred, tfidf_agglom5_cluster_num)\n",
    "tfidf_agglom7.rand = measures.get_rand_score(tfidf_agglom7_pred, tfidf_agglom7_cluster_num)\n",
    "tfidf_gmm5.rand = measures.get_rand_score(tfidf_gmm5_pred, tfidf_gmm5_cluster_num)\n",
    "tfidf_gmm7.rand = measures.get_rand_score(tfidf_gmm7_pred, tfidf_gmm7_cluster_num)\n",
    "print(\"Rand score for LDA----------------------------------\")\n",
    "lda_kmeans5.rand = measures.get_rand_score(lda_kmeans5_pred, lda_kmeans5_cluster_num)\n",
    "lda_kmeans7.rand = measures.get_rand_score(lda_kmeans7_pred, lda_kmeans7_cluster_num)\n",
    "lda_agglom5.rand = measures.get_rand_score(lda_agglom5_pred, lda_agglom5_cluster_num)\n",
    "lda_agglom7.rand = measures.get_rand_score(lda_agglom7_pred, lda_agglom7_cluster_num)\n",
    "lda_gmm5.rand = measures.get_rand_score(lda_gmm5_pred, lda_gmm5_cluster_num)\n",
    "lda_gmm7.rand = measures.get_rand_score(lda_gmm7_pred, lda_gmm7_cluster_num)\n",
    "print(\"Rand score for Doc2Vec------------------------------\")\n",
    "d2v_kmeans5.rand = measures.get_rand_score(d2v_kmeans5_pred, d2v_kmeans5_cluster_num)\n",
    "d2v_kmeans7.rand = measures.get_rand_score(d2v_kmeans7_pred, d2v_kmeans7_cluster_num)\n",
    "d2v_agglom5.rand = measures.get_rand_score(d2v_agglom5_pred, d2v_agglom5_cluster_num)\n",
    "d2v_agglom7.rand = measures.get_rand_score(d2v_agglom7_pred, d2v_agglom7_cluster_num)\n",
    "d2v_gmm5.rand = measures.get_rand_score(d2v_gmm5_pred, d2v_gmm5_cluster_num)\n",
    "d2v_gmm7.rand = measures.get_rand_score(d2v_gmm7_pred, d2v_gmm7_cluster_num)"
   ]
  },
  {
   "cell_type": "code",
   "execution_count": 683,
   "metadata": {},
   "outputs": [],
   "source": [
    "scores_rand = [[bow_kmeans5.rand, bow_kmeans7.rand, bow_agglom5.rand, bow_agglom7.rand, bow_gmm5.rand, bow_gmm7.rand],\n",
    "        [tfidf_kmeans5.rand, tfidf_kmeans7.rand, tfidf_agglom5.rand, tfidf_agglom7.rand, tfidf_gmm5.rand, tfidf_gmm7.rand],\n",
    "        [lda_kmeans5.rand, lda_kmeans7.rand, lda_agglom5.rand, lda_agglom7.rand, lda_gmm5.rand, lda_gmm7.rand],\n",
    "        [d2v_kmeans5.rand, d2v_kmeans7.rand, d2v_agglom5.rand, d2v_agglom7.rand, d2v_gmm5.rand, d2v_gmm7.rand]\n",
    "        ]"
   ]
  },
  {
   "cell_type": "code",
   "execution_count": 724,
   "metadata": {},
   "outputs": [
    {
     "data": {
      "text/html": [
       "<div>                            <div id=\"b019fe7c-a5ce-4854-84e8-3a5e1835c0f2\" class=\"plotly-graph-div\" style=\"height:525px; width:100%;\"></div>            <script type=\"text/javascript\">                require([\"plotly\"], function(Plotly) {                    window.PLOTLYENV=window.PLOTLYENV || {};                                    if (document.getElementById(\"b019fe7c-a5ce-4854-84e8-3a5e1835c0f2\")) {                    Plotly.newPlot(                        \"b019fe7c-a5ce-4854-84e8-3a5e1835c0f2\",                        [{\"marker\":{\"color\":\"rgb(100, 120,40)\"},\"text\":[\"0.8168571082835502\"],\"x\":[\"bow kmean5\"],\"y\":[0.8168571082835502],\"type\":\"bar\",\"textposition\":\"outside\",\"texttemplate\":\"%{text:.3f}\"},{\"marker\":{\"color\":\"rgb(100, 120,80)\"},\"text\":[\"0.8713383588318966\"],\"x\":[\"bow kmean7\"],\"y\":[0.8713383588318966],\"type\":\"bar\",\"textposition\":\"outside\",\"texttemplate\":\"%{text:.3f}\"},{\"marker\":{\"color\":\"rgb(100, 120,120)\"},\"text\":[\"0.9690152037238356\"],\"x\":[\"bow agglom5\"],\"y\":[0.9690152037238356],\"type\":\"bar\",\"textposition\":\"outside\",\"texttemplate\":\"%{text:.3f}\"},{\"marker\":{\"color\":\"rgb(100, 120,160)\"},\"text\":[\"0.9528611923907633\"],\"x\":[\"bow agglom7\"],\"y\":[0.9528611923907633],\"type\":\"bar\",\"textposition\":\"outside\",\"texttemplate\":\"%{text:.3f}\"},{\"marker\":{\"color\":\"rgb(100, 120,200)\"},\"text\":[\"0.8447856048292877\"],\"x\":[\"bow em5\"],\"y\":[0.8447856048292877],\"type\":\"bar\",\"textposition\":\"outside\",\"texttemplate\":\"%{text:.3f}\"},{\"marker\":{\"color\":\"rgb(100, 120,240)\"},\"text\":[\"0.796117045427862\"],\"x\":[\"bow em7\"],\"y\":[0.796117045427862],\"type\":\"bar\",\"textposition\":\"outside\",\"texttemplate\":\"%{text:.3f}\"},{\"marker\":{\"color\":\"rgb(150, 120,40)\"},\"text\":[\"0.9240297055025066\"],\"x\":[\"tfidf kmean5\"],\"y\":[0.9240297055025066],\"type\":\"bar\",\"textposition\":\"outside\",\"texttemplate\":\"%{text:.3f}\"},{\"marker\":{\"color\":\"rgb(150, 120,80)\"},\"text\":[\"0.9750631378402579\"],\"x\":[\"tfidf kmean7\"],\"y\":[0.9750631378402579],\"type\":\"bar\",\"textposition\":\"outside\",\"texttemplate\":\"%{text:.3f}\"},{\"marker\":{\"color\":\"rgb(150, 120,120)\"},\"text\":[\"0.8866794156279854\"],\"x\":[\"tfidf agglom5\"],\"y\":[0.8866794156279854],\"type\":\"bar\",\"textposition\":\"outside\",\"texttemplate\":\"%{text:.3f}\"},{\"marker\":{\"color\":\"rgb(150, 120,160)\"},\"text\":[\"0.8930313871582037\"],\"x\":[\"tfidf agglom7\"],\"y\":[0.8930313871582037],\"type\":\"bar\",\"textposition\":\"outside\",\"texttemplate\":\"%{text:.3f}\"},{\"marker\":{\"color\":\"rgb(150, 120,200)\"},\"text\":[\"0.8989430684765087\"],\"x\":[\"tfidf em5\"],\"y\":[0.8989430684765087],\"type\":\"bar\",\"textposition\":\"outside\",\"texttemplate\":\"%{text:.3f}\"},{\"marker\":{\"color\":\"rgb(150, 120,240)\"},\"text\":[\"0.9635165812111574\"],\"x\":[\"tfidf em7\"],\"y\":[0.9635165812111574],\"type\":\"bar\",\"textposition\":\"outside\",\"texttemplate\":\"%{text:.3f}\"},{\"marker\":{\"color\":\"rgb(200, 120,40)\"},\"text\":[\"0.8324318760679159\"],\"x\":[\"lda kmean5\"],\"y\":[0.8324318760679159],\"type\":\"bar\",\"textposition\":\"outside\",\"texttemplate\":\"%{text:.3f}\"},{\"marker\":{\"color\":\"rgb(200, 120,80)\"},\"text\":[\"0.6898040085069513\"],\"x\":[\"lda kmean7\"],\"y\":[0.6898040085069513],\"type\":\"bar\",\"textposition\":\"outside\",\"texttemplate\":\"%{text:.3f}\"},{\"marker\":{\"color\":\"rgb(200, 120,120)\"},\"text\":[\"0.7604005477262062\"],\"x\":[\"lda agglom5\"],\"y\":[0.7604005477262062],\"type\":\"bar\",\"textposition\":\"outside\",\"texttemplate\":\"%{text:.3f}\"},{\"marker\":{\"color\":\"rgb(200, 120,160)\"},\"text\":[\"0.6616742900535785\"],\"x\":[\"lda agglom7\"],\"y\":[0.6616742900535785],\"type\":\"bar\",\"textposition\":\"outside\",\"texttemplate\":\"%{text:.3f}\"},{\"marker\":{\"color\":\"rgb(200, 120,200)\"},\"text\":[\"0.6368507158309153\"],\"x\":[\"lda em5\"],\"y\":[0.6368507158309153],\"type\":\"bar\",\"textposition\":\"outside\",\"texttemplate\":\"%{text:.3f}\"},{\"marker\":{\"color\":\"rgb(200, 120,240)\"},\"text\":[\"0.5539978103468054\"],\"x\":[\"lda em7\"],\"y\":[0.5539978103468054],\"type\":\"bar\",\"textposition\":\"outside\",\"texttemplate\":\"%{text:.3f}\"},{\"marker\":{\"color\":\"rgb(250, 120,40)\"},\"text\":[\"0.803579616844753\"],\"x\":[\"d2v kmean5\"],\"y\":[0.803579616844753],\"type\":\"bar\",\"textposition\":\"outside\",\"texttemplate\":\"%{text:.3f}\"},{\"marker\":{\"color\":\"rgb(250, 120,80)\"},\"text\":[\"0.803579616844753\"],\"x\":[\"d2v kmean7\"],\"y\":[0.803579616844753],\"type\":\"bar\",\"textposition\":\"outside\",\"texttemplate\":\"%{text:.3f}\"},{\"marker\":{\"color\":\"rgb(250, 120,120)\"},\"text\":[\"0.7780992217117533\"],\"x\":[\"d2v agglom5\"],\"y\":[0.7780992217117533],\"type\":\"bar\",\"textposition\":\"outside\",\"texttemplate\":\"%{text:.3f}\"},{\"marker\":{\"color\":\"rgb(250, 120,160)\"},\"text\":[\"0.7085335321325159\"],\"x\":[\"d2v agglom7\"],\"y\":[0.7085335321325159],\"type\":\"bar\",\"textposition\":\"outside\",\"texttemplate\":\"%{text:.3f}\"},{\"marker\":{\"color\":\"rgb(250, 120,200)\"},\"text\":[\"0.8297366873266565\"],\"x\":[\"d2v em5\"],\"y\":[0.8297366873266565],\"type\":\"bar\",\"textposition\":\"outside\",\"texttemplate\":\"%{text:.3f}\"},{\"marker\":{\"color\":\"rgb(250, 120,240)\"},\"text\":[\"0.6968318358335472\"],\"x\":[\"d2v em7\"],\"y\":[0.6968318358335472],\"type\":\"bar\",\"textposition\":\"outside\",\"texttemplate\":\"%{text:.3f}\"}],                        {\"template\":{\"data\":{\"bar\":[{\"error_x\":{\"color\":\"#2a3f5f\"},\"error_y\":{\"color\":\"#2a3f5f\"},\"marker\":{\"line\":{\"color\":\"#E5ECF6\",\"width\":0.5},\"pattern\":{\"fillmode\":\"overlay\",\"size\":10,\"solidity\":0.2}},\"type\":\"bar\"}],\"barpolar\":[{\"marker\":{\"line\":{\"color\":\"#E5ECF6\",\"width\":0.5},\"pattern\":{\"fillmode\":\"overlay\",\"size\":10,\"solidity\":0.2}},\"type\":\"barpolar\"}],\"carpet\":[{\"aaxis\":{\"endlinecolor\":\"#2a3f5f\",\"gridcolor\":\"white\",\"linecolor\":\"white\",\"minorgridcolor\":\"white\",\"startlinecolor\":\"#2a3f5f\"},\"baxis\":{\"endlinecolor\":\"#2a3f5f\",\"gridcolor\":\"white\",\"linecolor\":\"white\",\"minorgridcolor\":\"white\",\"startlinecolor\":\"#2a3f5f\"},\"type\":\"carpet\"}],\"choropleth\":[{\"colorbar\":{\"outlinewidth\":0,\"ticks\":\"\"},\"type\":\"choropleth\"}],\"contour\":[{\"colorbar\":{\"outlinewidth\":0,\"ticks\":\"\"},\"colorscale\":[[0.0,\"#0d0887\"],[0.1111111111111111,\"#46039f\"],[0.2222222222222222,\"#7201a8\"],[0.3333333333333333,\"#9c179e\"],[0.4444444444444444,\"#bd3786\"],[0.5555555555555556,\"#d8576b\"],[0.6666666666666666,\"#ed7953\"],[0.7777777777777778,\"#fb9f3a\"],[0.8888888888888888,\"#fdca26\"],[1.0,\"#f0f921\"]],\"type\":\"contour\"}],\"contourcarpet\":[{\"colorbar\":{\"outlinewidth\":0,\"ticks\":\"\"},\"type\":\"contourcarpet\"}],\"heatmap\":[{\"colorbar\":{\"outlinewidth\":0,\"ticks\":\"\"},\"colorscale\":[[0.0,\"#0d0887\"],[0.1111111111111111,\"#46039f\"],[0.2222222222222222,\"#7201a8\"],[0.3333333333333333,\"#9c179e\"],[0.4444444444444444,\"#bd3786\"],[0.5555555555555556,\"#d8576b\"],[0.6666666666666666,\"#ed7953\"],[0.7777777777777778,\"#fb9f3a\"],[0.8888888888888888,\"#fdca26\"],[1.0,\"#f0f921\"]],\"type\":\"heatmap\"}],\"heatmapgl\":[{\"colorbar\":{\"outlinewidth\":0,\"ticks\":\"\"},\"colorscale\":[[0.0,\"#0d0887\"],[0.1111111111111111,\"#46039f\"],[0.2222222222222222,\"#7201a8\"],[0.3333333333333333,\"#9c179e\"],[0.4444444444444444,\"#bd3786\"],[0.5555555555555556,\"#d8576b\"],[0.6666666666666666,\"#ed7953\"],[0.7777777777777778,\"#fb9f3a\"],[0.8888888888888888,\"#fdca26\"],[1.0,\"#f0f921\"]],\"type\":\"heatmapgl\"}],\"histogram\":[{\"marker\":{\"pattern\":{\"fillmode\":\"overlay\",\"size\":10,\"solidity\":0.2}},\"type\":\"histogram\"}],\"histogram2d\":[{\"colorbar\":{\"outlinewidth\":0,\"ticks\":\"\"},\"colorscale\":[[0.0,\"#0d0887\"],[0.1111111111111111,\"#46039f\"],[0.2222222222222222,\"#7201a8\"],[0.3333333333333333,\"#9c179e\"],[0.4444444444444444,\"#bd3786\"],[0.5555555555555556,\"#d8576b\"],[0.6666666666666666,\"#ed7953\"],[0.7777777777777778,\"#fb9f3a\"],[0.8888888888888888,\"#fdca26\"],[1.0,\"#f0f921\"]],\"type\":\"histogram2d\"}],\"histogram2dcontour\":[{\"colorbar\":{\"outlinewidth\":0,\"ticks\":\"\"},\"colorscale\":[[0.0,\"#0d0887\"],[0.1111111111111111,\"#46039f\"],[0.2222222222222222,\"#7201a8\"],[0.3333333333333333,\"#9c179e\"],[0.4444444444444444,\"#bd3786\"],[0.5555555555555556,\"#d8576b\"],[0.6666666666666666,\"#ed7953\"],[0.7777777777777778,\"#fb9f3a\"],[0.8888888888888888,\"#fdca26\"],[1.0,\"#f0f921\"]],\"type\":\"histogram2dcontour\"}],\"mesh3d\":[{\"colorbar\":{\"outlinewidth\":0,\"ticks\":\"\"},\"type\":\"mesh3d\"}],\"parcoords\":[{\"line\":{\"colorbar\":{\"outlinewidth\":0,\"ticks\":\"\"}},\"type\":\"parcoords\"}],\"pie\":[{\"automargin\":true,\"type\":\"pie\"}],\"scatter\":[{\"marker\":{\"colorbar\":{\"outlinewidth\":0,\"ticks\":\"\"}},\"type\":\"scatter\"}],\"scatter3d\":[{\"line\":{\"colorbar\":{\"outlinewidth\":0,\"ticks\":\"\"}},\"marker\":{\"colorbar\":{\"outlinewidth\":0,\"ticks\":\"\"}},\"type\":\"scatter3d\"}],\"scattercarpet\":[{\"marker\":{\"colorbar\":{\"outlinewidth\":0,\"ticks\":\"\"}},\"type\":\"scattercarpet\"}],\"scattergeo\":[{\"marker\":{\"colorbar\":{\"outlinewidth\":0,\"ticks\":\"\"}},\"type\":\"scattergeo\"}],\"scattergl\":[{\"marker\":{\"colorbar\":{\"outlinewidth\":0,\"ticks\":\"\"}},\"type\":\"scattergl\"}],\"scattermapbox\":[{\"marker\":{\"colorbar\":{\"outlinewidth\":0,\"ticks\":\"\"}},\"type\":\"scattermapbox\"}],\"scatterpolar\":[{\"marker\":{\"colorbar\":{\"outlinewidth\":0,\"ticks\":\"\"}},\"type\":\"scatterpolar\"}],\"scatterpolargl\":[{\"marker\":{\"colorbar\":{\"outlinewidth\":0,\"ticks\":\"\"}},\"type\":\"scatterpolargl\"}],\"scatterternary\":[{\"marker\":{\"colorbar\":{\"outlinewidth\":0,\"ticks\":\"\"}},\"type\":\"scatterternary\"}],\"surface\":[{\"colorbar\":{\"outlinewidth\":0,\"ticks\":\"\"},\"colorscale\":[[0.0,\"#0d0887\"],[0.1111111111111111,\"#46039f\"],[0.2222222222222222,\"#7201a8\"],[0.3333333333333333,\"#9c179e\"],[0.4444444444444444,\"#bd3786\"],[0.5555555555555556,\"#d8576b\"],[0.6666666666666666,\"#ed7953\"],[0.7777777777777778,\"#fb9f3a\"],[0.8888888888888888,\"#fdca26\"],[1.0,\"#f0f921\"]],\"type\":\"surface\"}],\"table\":[{\"cells\":{\"fill\":{\"color\":\"#EBF0F8\"},\"line\":{\"color\":\"white\"}},\"header\":{\"fill\":{\"color\":\"#C8D4E3\"},\"line\":{\"color\":\"white\"}},\"type\":\"table\"}]},\"layout\":{\"annotationdefaults\":{\"arrowcolor\":\"#2a3f5f\",\"arrowhead\":0,\"arrowwidth\":1},\"autotypenumbers\":\"strict\",\"coloraxis\":{\"colorbar\":{\"outlinewidth\":0,\"ticks\":\"\"}},\"colorscale\":{\"diverging\":[[0,\"#8e0152\"],[0.1,\"#c51b7d\"],[0.2,\"#de77ae\"],[0.3,\"#f1b6da\"],[0.4,\"#fde0ef\"],[0.5,\"#f7f7f7\"],[0.6,\"#e6f5d0\"],[0.7,\"#b8e186\"],[0.8,\"#7fbc41\"],[0.9,\"#4d9221\"],[1,\"#276419\"]],\"sequential\":[[0.0,\"#0d0887\"],[0.1111111111111111,\"#46039f\"],[0.2222222222222222,\"#7201a8\"],[0.3333333333333333,\"#9c179e\"],[0.4444444444444444,\"#bd3786\"],[0.5555555555555556,\"#d8576b\"],[0.6666666666666666,\"#ed7953\"],[0.7777777777777778,\"#fb9f3a\"],[0.8888888888888888,\"#fdca26\"],[1.0,\"#f0f921\"]],\"sequentialminus\":[[0.0,\"#0d0887\"],[0.1111111111111111,\"#46039f\"],[0.2222222222222222,\"#7201a8\"],[0.3333333333333333,\"#9c179e\"],[0.4444444444444444,\"#bd3786\"],[0.5555555555555556,\"#d8576b\"],[0.6666666666666666,\"#ed7953\"],[0.7777777777777778,\"#fb9f3a\"],[0.8888888888888888,\"#fdca26\"],[1.0,\"#f0f921\"]]},\"colorway\":[\"#636efa\",\"#EF553B\",\"#00cc96\",\"#ab63fa\",\"#FFA15A\",\"#19d3f3\",\"#FF6692\",\"#B6E880\",\"#FF97FF\",\"#FECB52\"],\"font\":{\"color\":\"#2a3f5f\"},\"geo\":{\"bgcolor\":\"white\",\"lakecolor\":\"white\",\"landcolor\":\"#E5ECF6\",\"showlakes\":true,\"showland\":true,\"subunitcolor\":\"white\"},\"hoverlabel\":{\"align\":\"left\"},\"hovermode\":\"closest\",\"mapbox\":{\"style\":\"light\"},\"paper_bgcolor\":\"white\",\"plot_bgcolor\":\"#E5ECF6\",\"polar\":{\"angularaxis\":{\"gridcolor\":\"white\",\"linecolor\":\"white\",\"ticks\":\"\"},\"bgcolor\":\"#E5ECF6\",\"radialaxis\":{\"gridcolor\":\"white\",\"linecolor\":\"white\",\"ticks\":\"\"}},\"scene\":{\"xaxis\":{\"backgroundcolor\":\"#E5ECF6\",\"gridcolor\":\"white\",\"gridwidth\":2,\"linecolor\":\"white\",\"showbackground\":true,\"ticks\":\"\",\"zerolinecolor\":\"white\"},\"yaxis\":{\"backgroundcolor\":\"#E5ECF6\",\"gridcolor\":\"white\",\"gridwidth\":2,\"linecolor\":\"white\",\"showbackground\":true,\"ticks\":\"\",\"zerolinecolor\":\"white\"},\"zaxis\":{\"backgroundcolor\":\"#E5ECF6\",\"gridcolor\":\"white\",\"gridwidth\":2,\"linecolor\":\"white\",\"showbackground\":true,\"ticks\":\"\",\"zerolinecolor\":\"white\"}},\"shapedefaults\":{\"line\":{\"color\":\"#2a3f5f\"}},\"ternary\":{\"aaxis\":{\"gridcolor\":\"white\",\"linecolor\":\"white\",\"ticks\":\"\"},\"baxis\":{\"gridcolor\":\"white\",\"linecolor\":\"white\",\"ticks\":\"\"},\"bgcolor\":\"#E5ECF6\",\"caxis\":{\"gridcolor\":\"white\",\"linecolor\":\"white\",\"ticks\":\"\"}},\"title\":{\"x\":0.05},\"xaxis\":{\"automargin\":true,\"gridcolor\":\"white\",\"linecolor\":\"white\",\"ticks\":\"\",\"title\":{\"standoff\":15},\"zerolinecolor\":\"white\",\"zerolinewidth\":2},\"yaxis\":{\"automargin\":true,\"gridcolor\":\"white\",\"linecolor\":\"white\",\"ticks\":\"\",\"title\":{\"standoff\":15},\"zerolinecolor\":\"white\",\"zerolinewidth\":2}}},\"title\":{\"text\":\"Rand Index for Different Models\"}},                        {\"responsive\": true}                    ).then(function(){\n",
       "                            \n",
       "var gd = document.getElementById('b019fe7c-a5ce-4854-84e8-3a5e1835c0f2');\n",
       "var x = new MutationObserver(function (mutations, observer) {{\n",
       "        var display = window.getComputedStyle(gd).display;\n",
       "        if (!display || display === 'none') {{\n",
       "            console.log([gd, 'removed!']);\n",
       "            Plotly.purge(gd);\n",
       "            observer.disconnect();\n",
       "        }}\n",
       "}});\n",
       "\n",
       "// Listen for the removal of the full notebook cells\n",
       "var notebookContainer = gd.closest('#notebook-container');\n",
       "if (notebookContainer) {{\n",
       "    x.observe(notebookContainer, {childList: true});\n",
       "}}\n",
       "\n",
       "// Listen for the clearing of the current output cell\n",
       "var outputEl = gd.closest('.output');\n",
       "if (outputEl) {{\n",
       "    x.observe(outputEl, {childList: true});\n",
       "}}\n",
       "\n",
       "                        })                };                });            </script>        </div>"
      ]
     },
     "metadata": {},
     "output_type": "display_data"
    }
   ],
   "source": [
    "fig = go.Figure()\n",
    "\n",
    "for i, color_feature in enumerate(COLOR_FEATURE):\n",
    "    for j, color_model in enumerate(COLOR_MODEL):\n",
    "        fig.add_trace(go.Bar(x = [model_name[i][j]],\n",
    "                            y = [scores_rand[i][j]],\n",
    "                            name = model_name[i][j],\n",
    "                            marker_color= 'rgb('+str(color_feature)+', 120,'+str(color_model)+')',\n",
    "                            text= [scores_rand[i][j]]\n",
    "                            ))\n",
    "\n",
    "fig.update_traces(texttemplate='%{text:.3f}', textposition='outside')\n",
    "fig.update_layout(\n",
    "    title_text='Rand Index for Different Models'\n",
    ")\n",
    "fig.show()"
   ]
  },
  {
   "cell_type": "markdown",
   "metadata": {},
   "source": [
    "### Error Analysis on book c being in the same cluster with book d on model doc2vec kmeans(n_cluster = 5)"
   ]
  },
  {
   "cell_type": "code",
   "execution_count": 655,
   "metadata": {},
   "outputs": [
    {
     "name": "stdout",
     "output_type": "stream",
     "text": [
      "a:[  1 170  22   1   6   0   0]\ta mapped to 1\n",
      "b:[  0 195   2   0   3   0   0]\tb mapped to 1\n",
      "c:[  0  21 179   0   0   0   0]\tc mapped to 2\n",
      "d:[  0   7 182   1  10   0   0]\td mapped to 2\n",
      "e:[186   5   4   1   4   0   0]\te mapped to 0\n",
      "f:[  0   6   0 194   0   0   0]\tf mapped to 3\n",
      "g:[  0   7   1   2 190   0   0]\tg mapped to 4\n"
     ]
    }
   ],
   "source": [
    "d2v_kmeans5, d2v_kmeans5_pred, d2v_kmeans5_cluster_num = compare_predict(df_d2v, df_out, KMeans(), n_clusters=5)"
   ]
  },
  {
   "cell_type": "code",
   "execution_count": 749,
   "metadata": {},
   "outputs": [
    {
     "name": "stdout",
     "output_type": "stream",
     "text": [
      "[0to200]len set: 82 -------- len list: 1508\n",
      "[200to400]len set: 82 -------- len list: 1025\n",
      "[400to600]len set: 98 -------- len list: 2907\n",
      "[600to800]len set: 91 -------- len list: 2603\n",
      "[800to1000]len set: 50 -------- len list: 404\n",
      "[1000to1200]len set: 52 -------- len list: 606\n",
      "[1200to1400]len set: 69 -------- len list: 1066\n"
     ]
    }
   ],
   "source": [
    "topn95 = 100 # topn for similarity above .95\n",
    "test_cluster = 2\n",
    "while d2v_model.wv.most_similar(positive=d2v_kmeans5.cluster_centers_[test_cluster], topn=topn95)[-1][1] > 0.95:\n",
    "    topn95 = topn95 + 5\n",
    "\n",
    "most_similar_words_5 = d2v_model.wv.most_similar(positive=d2v_kmeans5.cluster_centers_[test_cluster], topn=topn95)\n",
    "list_most_similar_words_5 = [word[0] for word in most_similar_words_5]\n",
    "\n",
    "a_dict = dict()\n",
    "for k in range(0,7):\n",
    "    for i, segment in enumerate(tokenized_list[k*200:k*200+200]):\n",
    "        for word in segment:\n",
    "            if word in list_most_similar_words_5:\n",
    "                if k not in a_dict:\n",
    "                    a_dict[k] = dict()\n",
    "                if word not in a_dict[k]:\n",
    "                    a_dict[k][word] = 1\n",
    "                else:\n",
    "                    a_dict[k][word] = a_dict[k][word] + 1\n",
    "for k in range(0, 7):\n",
    "    total_count = sum(a_dict[k].values())\n",
    "    print(\"[{}to{}]len set: {} -------- len list: {}\".\n",
    "    format(k*200, k*200+200, len(a_dict[k]), total_count))"
   ]
  },
  {
   "cell_type": "code",
   "execution_count": 755,
   "metadata": {},
   "outputs": [],
   "source": [
    "COLOR_LABEL = np.arange(30, 230, 30)\n",
    "list_unique_similar_word = dict()\n",
    "list_unique_similar_word_freq = dict()\n",
    "for i in range(0, 7):\n",
    "    list_unique_similar_word[i] = list()\n",
    "    list_unique_similar_word_freq[i] = list()\n",
    "    for word in a_dict[i]:\n",
    "        list_unique_similar_word[i].append(word)\n",
    "        list_unique_similar_word_freq[i].append(a_dict[i][word])\n"
   ]
  },
  {
   "cell_type": "code",
   "execution_count": 760,
   "metadata": {},
   "outputs": [
    {
     "data": {
      "text/html": [
       "<div>                            <div id=\"7f4eb85e-57c9-43e5-bb88-a00680315b89\" class=\"plotly-graph-div\" style=\"height:525px; width:100%;\"></div>            <script type=\"text/javascript\">                require([\"plotly\"], function(Plotly) {                    window.PLOTLYENV=window.PLOTLYENV || {};                                    if (document.getElementById(\"7f4eb85e-57c9-43e5-bb88-a00680315b89\")) {                    Plotly.newPlot(                        \"7f4eb85e-57c9-43e5-bb88-a00680315b89\",                        [{\"marker\":{\"color\":\"rgb(30, 120,120)\"},\"name\":\"a\",\"x\":[\"and\",\"make\",\"person\",\"begin\",\"come\",\"promis\",\"whole\",\"time\",\"year\",\"quit\",\"He\",\"fit\",\"old\",\"without\",\"appear\",\"done\",\"parti\",\"destroy\",\"choos\",\"get\",\"way\",\"best\",\"head\",\"sure\",\"deal\",\"like\",\"that\",\"never\",\"life\",\"perfectli\",\"england\",\"day\",\"death\",\"better\",\"return\",\"moment\",\"gone\",\"tri\",\"look\",\"forth\",\"At\",\"danger\",\"they\",\"countri\",\"soon\",\"queen\",\"hope\",\"born\",\"save\",\"will\",\"issu\",\"live\",\"settl\",\"mother\",\"ever\",\"kind\",\"asid\",\"neither\",\"famili\",\"citi\",\"armi\",\"busi\",\"offici\",\"american\",\"confid\",\"visibl\",\"all\",\"eye\",\"lose\",\"male\",\"formal\",\"royal\",\"heart\",\"hate\",\"you\",\"enemi\",\"counti\",\"poor\",\"mostli\",\"watch\",\"town\",\"home\"],\"y\":[40,90,131,16,34,105,21,96,32,12,27,6,23,58,18,48,80,5,5,14,90,7,1,6,33,65,15,22,6,10,21,31,21,7,14,12,7,8,13,7,10,28,18,4,16,4,1,6,6,9,10,6,15,2,10,21,4,14,8,2,3,5,2,2,3,3,9,2,2,4,6,1,2,1,1,5,1,1,1,1,1,1],\"type\":\"bar\"},{\"marker\":{\"color\":\"rgb(60, 120,120)\"},\"name\":\"b\",\"x\":[\"and\",\"done\",\"make\",\"parti\",\"they\",\"citi\",\"time\",\"danger\",\"all\",\"year\",\"person\",\"issu\",\"without\",\"quit\",\"american\",\"worker\",\"select\",\"neither\",\"kind\",\"hope\",\"life\",\"never\",\"manag\",\"busi\",\"way\",\"armi\",\"He\",\"head\",\"famili\",\"like\",\"whole\",\"tri\",\"asid\",\"best\",\"At\",\"day\",\"return\",\"counti\",\"appear\",\"save\",\"begin\",\"countri\",\"old\",\"that\",\"destroy\",\"love\",\"come\",\"settl\",\"confid\",\"enemi\",\"get\",\"look\",\"offici\",\"formal\",\"month\",\"soon\",\"affair\",\"poor\",\"home\",\"live\",\"born\",\"sure\",\"forth\",\"death\",\"ever\",\"england\",\"deal\",\"better\",\"choos\",\"rear\",\"will\",\"mother\",\"promis\",\"visibl\",\"town\",\"perfectli\",\"fit\",\"effectu\",\"eye\",\"she\",\"lose\",\"dwell\"],\"y\":[36,9,42,50,13,20,73,20,8,57,82,33,56,5,22,9,7,13,6,5,19,20,4,50,15,7,13,5,1,24,11,9,6,4,12,19,9,21,31,6,9,20,7,16,5,1,7,6,2,4,2,3,18,3,5,5,3,1,1,4,2,2,3,10,4,4,8,1,2,1,2,1,1,1,1,1,2,1,1,1,1,1],\"type\":\"bar\"},{\"marker\":{\"color\":\"rgb(90, 120,120)\"},\"name\":\"c\",\"x\":[\"offici\",\"like\",\"danger\",\"bureaucraci\",\"tri\",\"busi\",\"whole\",\"life\",\"make\",\"they\",\"year\",\"old\",\"come\",\"best\",\"and\",\"destroy\",\"never\",\"day\",\"time\",\"look\",\"eye\",\"At\",\"countri\",\"without\",\"parti\",\"hate\",\"select\",\"settl\",\"deal\",\"sure\",\"formal\",\"all\",\"better\",\"affair\",\"get\",\"kind\",\"american\",\"england\",\"poor\",\"mostli\",\"manag\",\"way\",\"town\",\"He\",\"predomin\",\"soon\",\"begin\",\"love\",\"watch\",\"ever\",\"citi\",\"she\",\"moment\",\"rear\",\"return\",\"heart\",\"choos\",\"perfectli\",\"person\",\"issu\",\"asid\",\"talk\",\"neither\",\"head\",\"enemi\",\"confid\",\"queen\",\"royal\",\"quit\",\"effectu\",\"hope\",\"live\",\"that\",\"done\",\"visibl\",\"will\",\"princ\",\"save\",\"born\",\"armi\",\"you\",\"eager\",\"fit\",\"appear\",\"home\",\"forth\",\"promis\",\"famili\",\"dwell\",\"counti\",\"lose\",\"gone\",\"male\",\"death\",\"month\",\"earnest\",\"duke\",\"mother\"],\"y\":[18,141,20,12,36,58,60,82,108,93,82,64,56,73,72,16,55,36,101,44,5,28,74,67,110,6,40,14,15,44,11,21,41,11,35,15,45,49,12,12,25,42,14,93,11,27,28,7,4,29,11,8,28,1,13,6,55,8,62,11,6,14,16,41,6,10,49,15,28,22,12,23,16,29,6,13,19,10,10,7,14,19,19,15,9,2,9,29,3,13,12,9,5,3,7,11,10,1],\"type\":\"bar\"},{\"marker\":{\"color\":\"rgb(120, 120,120)\"},\"name\":\"d\",\"x\":[\"queen\",\"and\",\"never\",\"citi\",\"lose\",\"heart\",\"time\",\"make\",\"mother\",\"enemi\",\"moment\",\"confid\",\"love\",\"death\",\"hope\",\"rear\",\"ever\",\"she\",\"choos\",\"life\",\"like\",\"kind\",\"select\",\"best\",\"dwell\",\"they\",\"old\",\"watch\",\"done\",\"month\",\"worker\",\"return\",\"year\",\"whole\",\"way\",\"home\",\"countri\",\"perfectli\",\"appear\",\"day\",\"without\",\"male\",\"come\",\"visibl\",\"quit\",\"hunger\",\"danger\",\"issu\",\"forth\",\"eye\",\"born\",\"begin\",\"gone\",\"royal\",\"At\",\"better\",\"live\",\"all\",\"soon\",\"He\",\"sure\",\"save\",\"town\",\"destroy\",\"eager\",\"deal\",\"armi\",\"fit\",\"will\",\"look\",\"head\",\"manag\",\"tri\",\"that\",\"talk\",\"neither\",\"you\",\"person\",\"promis\",\"earnest\",\"famili\",\"poor\",\"american\",\"busi\",\"get\",\"hate\",\"england\",\"asid\",\"effectu\",\"settl\",\"formal\"],\"y\":[164,128,73,58,13,18,116,43,33,12,59,4,48,43,13,14,27,50,10,117,45,38,20,14,32,81,18,36,12,3,112,62,40,28,34,26,17,3,61,92,62,54,43,3,9,12,25,26,43,52,17,21,9,34,12,19,41,10,35,32,12,15,4,16,13,12,3,3,1,23,36,3,8,12,2,12,5,9,2,4,7,6,2,3,3,4,1,1,1,3,1],\"type\":\"bar\"},{\"marker\":{\"color\":\"rgb(150, 120,120)\"},\"name\":\"e\",\"x\":[\"moment\",\"way\",\"make\",\"they\",\"person\",\"like\",\"forth\",\"year\",\"all\",\"At\",\"time\",\"old\",\"eye\",\"without\",\"whole\",\"done\",\"get\",\"fit\",\"issu\",\"come\",\"appear\",\"soon\",\"never\",\"He\",\"live\",\"begin\",\"return\",\"kind\",\"watch\",\"danger\",\"destroy\",\"gone\",\"best\",\"head\",\"countri\",\"american\",\"home\",\"better\",\"quit\",\"neither\",\"enemi\",\"and\",\"visibl\",\"look\",\"life\",\"day\",\"death\",\"poor\",\"born\",\"rear\"],\"y\":[10,23,34,27,7,32,2,10,5,10,56,4,6,18,11,7,6,3,3,6,17,1,6,2,5,4,6,17,3,2,2,1,6,10,1,3,1,1,7,4,1,6,2,3,3,3,3,1,1,2],\"type\":\"bar\"},{\"marker\":{\"color\":\"rgb(180, 120,120)\"},\"name\":\"f\",\"x\":[\"make\",\"never\",\"hope\",\"ever\",\"moment\",\"begin\",\"they\",\"time\",\"perfectli\",\"like\",\"way\",\"done\",\"kind\",\"quit\",\"whole\",\"come\",\"appear\",\"asid\",\"return\",\"without\",\"choos\",\"forth\",\"and\",\"better\",\"best\",\"that\",\"soon\",\"busi\",\"live\",\"effectu\",\"day\",\"all\",\"get\",\"head\",\"At\",\"He\",\"eye\",\"tri\",\"england\",\"formal\",\"person\",\"fit\",\"destroy\",\"famili\",\"neither\",\"lose\",\"heart\",\"countri\",\"year\",\"citi\",\"affair\",\"look\"],\"y\":[66,23,10,11,4,16,9,56,12,21,34,15,38,20,48,11,21,5,7,63,10,3,5,6,7,7,5,2,2,3,18,7,2,2,5,4,4,5,1,1,3,1,2,2,1,2,1,1,1,1,1,1],\"type\":\"bar\"},{\"marker\":{\"color\":\"rgb(210, 120,120)\"},\"name\":\"g\",\"x\":[\"head\",\"person\",\"whole\",\"famili\",\"appear\",\"best\",\"make\",\"fit\",\"begin\",\"quit\",\"time\",\"get\",\"select\",\"perfectli\",\"kind\",\"better\",\"settl\",\"soon\",\"tri\",\"done\",\"like\",\"come\",\"year\",\"way\",\"never\",\"old\",\"all\",\"save\",\"lose\",\"sure\",\"moment\",\"look\",\"american\",\"and\",\"day\",\"without\",\"heart\",\"effectu\",\"ever\",\"month\",\"they\",\"asid\",\"live\",\"destroy\",\"choos\",\"neither\",\"eye\",\"countri\",\"will\",\"you\",\"mother\",\"england\",\"return\",\"watch\",\"death\",\"mostli\",\"At\",\"born\",\"rear\",\"manag\",\"that\",\"danger\",\"home\",\"deal\",\"life\",\"enemi\",\"poor\",\"busi\",\"offici\"],\"y\":[27,19,43,13,11,46,138,10,24,37,73,24,12,18,26,18,2,22,9,49,37,32,18,39,13,21,11,9,3,9,15,8,3,15,33,44,5,7,8,2,15,7,2,6,7,2,1,3,4,6,2,5,9,7,1,3,3,1,1,2,12,3,1,4,2,1,1,1,1],\"type\":\"bar\"}],                        {\"template\":{\"data\":{\"bar\":[{\"error_x\":{\"color\":\"#2a3f5f\"},\"error_y\":{\"color\":\"#2a3f5f\"},\"marker\":{\"line\":{\"color\":\"#E5ECF6\",\"width\":0.5},\"pattern\":{\"fillmode\":\"overlay\",\"size\":10,\"solidity\":0.2}},\"type\":\"bar\"}],\"barpolar\":[{\"marker\":{\"line\":{\"color\":\"#E5ECF6\",\"width\":0.5},\"pattern\":{\"fillmode\":\"overlay\",\"size\":10,\"solidity\":0.2}},\"type\":\"barpolar\"}],\"carpet\":[{\"aaxis\":{\"endlinecolor\":\"#2a3f5f\",\"gridcolor\":\"white\",\"linecolor\":\"white\",\"minorgridcolor\":\"white\",\"startlinecolor\":\"#2a3f5f\"},\"baxis\":{\"endlinecolor\":\"#2a3f5f\",\"gridcolor\":\"white\",\"linecolor\":\"white\",\"minorgridcolor\":\"white\",\"startlinecolor\":\"#2a3f5f\"},\"type\":\"carpet\"}],\"choropleth\":[{\"colorbar\":{\"outlinewidth\":0,\"ticks\":\"\"},\"type\":\"choropleth\"}],\"contour\":[{\"colorbar\":{\"outlinewidth\":0,\"ticks\":\"\"},\"colorscale\":[[0.0,\"#0d0887\"],[0.1111111111111111,\"#46039f\"],[0.2222222222222222,\"#7201a8\"],[0.3333333333333333,\"#9c179e\"],[0.4444444444444444,\"#bd3786\"],[0.5555555555555556,\"#d8576b\"],[0.6666666666666666,\"#ed7953\"],[0.7777777777777778,\"#fb9f3a\"],[0.8888888888888888,\"#fdca26\"],[1.0,\"#f0f921\"]],\"type\":\"contour\"}],\"contourcarpet\":[{\"colorbar\":{\"outlinewidth\":0,\"ticks\":\"\"},\"type\":\"contourcarpet\"}],\"heatmap\":[{\"colorbar\":{\"outlinewidth\":0,\"ticks\":\"\"},\"colorscale\":[[0.0,\"#0d0887\"],[0.1111111111111111,\"#46039f\"],[0.2222222222222222,\"#7201a8\"],[0.3333333333333333,\"#9c179e\"],[0.4444444444444444,\"#bd3786\"],[0.5555555555555556,\"#d8576b\"],[0.6666666666666666,\"#ed7953\"],[0.7777777777777778,\"#fb9f3a\"],[0.8888888888888888,\"#fdca26\"],[1.0,\"#f0f921\"]],\"type\":\"heatmap\"}],\"heatmapgl\":[{\"colorbar\":{\"outlinewidth\":0,\"ticks\":\"\"},\"colorscale\":[[0.0,\"#0d0887\"],[0.1111111111111111,\"#46039f\"],[0.2222222222222222,\"#7201a8\"],[0.3333333333333333,\"#9c179e\"],[0.4444444444444444,\"#bd3786\"],[0.5555555555555556,\"#d8576b\"],[0.6666666666666666,\"#ed7953\"],[0.7777777777777778,\"#fb9f3a\"],[0.8888888888888888,\"#fdca26\"],[1.0,\"#f0f921\"]],\"type\":\"heatmapgl\"}],\"histogram\":[{\"marker\":{\"pattern\":{\"fillmode\":\"overlay\",\"size\":10,\"solidity\":0.2}},\"type\":\"histogram\"}],\"histogram2d\":[{\"colorbar\":{\"outlinewidth\":0,\"ticks\":\"\"},\"colorscale\":[[0.0,\"#0d0887\"],[0.1111111111111111,\"#46039f\"],[0.2222222222222222,\"#7201a8\"],[0.3333333333333333,\"#9c179e\"],[0.4444444444444444,\"#bd3786\"],[0.5555555555555556,\"#d8576b\"],[0.6666666666666666,\"#ed7953\"],[0.7777777777777778,\"#fb9f3a\"],[0.8888888888888888,\"#fdca26\"],[1.0,\"#f0f921\"]],\"type\":\"histogram2d\"}],\"histogram2dcontour\":[{\"colorbar\":{\"outlinewidth\":0,\"ticks\":\"\"},\"colorscale\":[[0.0,\"#0d0887\"],[0.1111111111111111,\"#46039f\"],[0.2222222222222222,\"#7201a8\"],[0.3333333333333333,\"#9c179e\"],[0.4444444444444444,\"#bd3786\"],[0.5555555555555556,\"#d8576b\"],[0.6666666666666666,\"#ed7953\"],[0.7777777777777778,\"#fb9f3a\"],[0.8888888888888888,\"#fdca26\"],[1.0,\"#f0f921\"]],\"type\":\"histogram2dcontour\"}],\"mesh3d\":[{\"colorbar\":{\"outlinewidth\":0,\"ticks\":\"\"},\"type\":\"mesh3d\"}],\"parcoords\":[{\"line\":{\"colorbar\":{\"outlinewidth\":0,\"ticks\":\"\"}},\"type\":\"parcoords\"}],\"pie\":[{\"automargin\":true,\"type\":\"pie\"}],\"scatter\":[{\"marker\":{\"colorbar\":{\"outlinewidth\":0,\"ticks\":\"\"}},\"type\":\"scatter\"}],\"scatter3d\":[{\"line\":{\"colorbar\":{\"outlinewidth\":0,\"ticks\":\"\"}},\"marker\":{\"colorbar\":{\"outlinewidth\":0,\"ticks\":\"\"}},\"type\":\"scatter3d\"}],\"scattercarpet\":[{\"marker\":{\"colorbar\":{\"outlinewidth\":0,\"ticks\":\"\"}},\"type\":\"scattercarpet\"}],\"scattergeo\":[{\"marker\":{\"colorbar\":{\"outlinewidth\":0,\"ticks\":\"\"}},\"type\":\"scattergeo\"}],\"scattergl\":[{\"marker\":{\"colorbar\":{\"outlinewidth\":0,\"ticks\":\"\"}},\"type\":\"scattergl\"}],\"scattermapbox\":[{\"marker\":{\"colorbar\":{\"outlinewidth\":0,\"ticks\":\"\"}},\"type\":\"scattermapbox\"}],\"scatterpolar\":[{\"marker\":{\"colorbar\":{\"outlinewidth\":0,\"ticks\":\"\"}},\"type\":\"scatterpolar\"}],\"scatterpolargl\":[{\"marker\":{\"colorbar\":{\"outlinewidth\":0,\"ticks\":\"\"}},\"type\":\"scatterpolargl\"}],\"scatterternary\":[{\"marker\":{\"colorbar\":{\"outlinewidth\":0,\"ticks\":\"\"}},\"type\":\"scatterternary\"}],\"surface\":[{\"colorbar\":{\"outlinewidth\":0,\"ticks\":\"\"},\"colorscale\":[[0.0,\"#0d0887\"],[0.1111111111111111,\"#46039f\"],[0.2222222222222222,\"#7201a8\"],[0.3333333333333333,\"#9c179e\"],[0.4444444444444444,\"#bd3786\"],[0.5555555555555556,\"#d8576b\"],[0.6666666666666666,\"#ed7953\"],[0.7777777777777778,\"#fb9f3a\"],[0.8888888888888888,\"#fdca26\"],[1.0,\"#f0f921\"]],\"type\":\"surface\"}],\"table\":[{\"cells\":{\"fill\":{\"color\":\"#EBF0F8\"},\"line\":{\"color\":\"white\"}},\"header\":{\"fill\":{\"color\":\"#C8D4E3\"},\"line\":{\"color\":\"white\"}},\"type\":\"table\"}]},\"layout\":{\"annotationdefaults\":{\"arrowcolor\":\"#2a3f5f\",\"arrowhead\":0,\"arrowwidth\":1},\"autotypenumbers\":\"strict\",\"coloraxis\":{\"colorbar\":{\"outlinewidth\":0,\"ticks\":\"\"}},\"colorscale\":{\"diverging\":[[0,\"#8e0152\"],[0.1,\"#c51b7d\"],[0.2,\"#de77ae\"],[0.3,\"#f1b6da\"],[0.4,\"#fde0ef\"],[0.5,\"#f7f7f7\"],[0.6,\"#e6f5d0\"],[0.7,\"#b8e186\"],[0.8,\"#7fbc41\"],[0.9,\"#4d9221\"],[1,\"#276419\"]],\"sequential\":[[0.0,\"#0d0887\"],[0.1111111111111111,\"#46039f\"],[0.2222222222222222,\"#7201a8\"],[0.3333333333333333,\"#9c179e\"],[0.4444444444444444,\"#bd3786\"],[0.5555555555555556,\"#d8576b\"],[0.6666666666666666,\"#ed7953\"],[0.7777777777777778,\"#fb9f3a\"],[0.8888888888888888,\"#fdca26\"],[1.0,\"#f0f921\"]],\"sequentialminus\":[[0.0,\"#0d0887\"],[0.1111111111111111,\"#46039f\"],[0.2222222222222222,\"#7201a8\"],[0.3333333333333333,\"#9c179e\"],[0.4444444444444444,\"#bd3786\"],[0.5555555555555556,\"#d8576b\"],[0.6666666666666666,\"#ed7953\"],[0.7777777777777778,\"#fb9f3a\"],[0.8888888888888888,\"#fdca26\"],[1.0,\"#f0f921\"]]},\"colorway\":[\"#636efa\",\"#EF553B\",\"#00cc96\",\"#ab63fa\",\"#FFA15A\",\"#19d3f3\",\"#FF6692\",\"#B6E880\",\"#FF97FF\",\"#FECB52\"],\"font\":{\"color\":\"#2a3f5f\"},\"geo\":{\"bgcolor\":\"white\",\"lakecolor\":\"white\",\"landcolor\":\"#E5ECF6\",\"showlakes\":true,\"showland\":true,\"subunitcolor\":\"white\"},\"hoverlabel\":{\"align\":\"left\"},\"hovermode\":\"closest\",\"mapbox\":{\"style\":\"light\"},\"paper_bgcolor\":\"white\",\"plot_bgcolor\":\"#E5ECF6\",\"polar\":{\"angularaxis\":{\"gridcolor\":\"white\",\"linecolor\":\"white\",\"ticks\":\"\"},\"bgcolor\":\"#E5ECF6\",\"radialaxis\":{\"gridcolor\":\"white\",\"linecolor\":\"white\",\"ticks\":\"\"}},\"scene\":{\"xaxis\":{\"backgroundcolor\":\"#E5ECF6\",\"gridcolor\":\"white\",\"gridwidth\":2,\"linecolor\":\"white\",\"showbackground\":true,\"ticks\":\"\",\"zerolinecolor\":\"white\"},\"yaxis\":{\"backgroundcolor\":\"#E5ECF6\",\"gridcolor\":\"white\",\"gridwidth\":2,\"linecolor\":\"white\",\"showbackground\":true,\"ticks\":\"\",\"zerolinecolor\":\"white\"},\"zaxis\":{\"backgroundcolor\":\"#E5ECF6\",\"gridcolor\":\"white\",\"gridwidth\":2,\"linecolor\":\"white\",\"showbackground\":true,\"ticks\":\"\",\"zerolinecolor\":\"white\"}},\"shapedefaults\":{\"line\":{\"color\":\"#2a3f5f\"}},\"ternary\":{\"aaxis\":{\"gridcolor\":\"white\",\"linecolor\":\"white\",\"ticks\":\"\"},\"baxis\":{\"gridcolor\":\"white\",\"linecolor\":\"white\",\"ticks\":\"\"},\"bgcolor\":\"#E5ECF6\",\"caxis\":{\"gridcolor\":\"white\",\"linecolor\":\"white\",\"ticks\":\"\"}},\"title\":{\"x\":0.05},\"xaxis\":{\"automargin\":true,\"gridcolor\":\"white\",\"linecolor\":\"white\",\"ticks\":\"\",\"title\":{\"standoff\":15},\"zerolinecolor\":\"white\",\"zerolinewidth\":2},\"yaxis\":{\"automargin\":true,\"gridcolor\":\"white\",\"linecolor\":\"white\",\"ticks\":\"\",\"title\":{\"standoff\":15},\"zerolinecolor\":\"white\",\"zerolinewidth\":2}}}},                        {\"responsive\": true}                    ).then(function(){\n",
       "                            \n",
       "var gd = document.getElementById('7f4eb85e-57c9-43e5-bb88-a00680315b89');\n",
       "var x = new MutationObserver(function (mutations, observer) {{\n",
       "        var display = window.getComputedStyle(gd).display;\n",
       "        if (!display || display === 'none') {{\n",
       "            console.log([gd, 'removed!']);\n",
       "            Plotly.purge(gd);\n",
       "            observer.disconnect();\n",
       "        }}\n",
       "}});\n",
       "\n",
       "// Listen for the removal of the full notebook cells\n",
       "var notebookContainer = gd.closest('#notebook-container');\n",
       "if (notebookContainer) {{\n",
       "    x.observe(notebookContainer, {childList: true});\n",
       "}}\n",
       "\n",
       "// Listen for the clearing of the current output cell\n",
       "var outputEl = gd.closest('.output');\n",
       "if (outputEl) {{\n",
       "    x.observe(outputEl, {childList: true});\n",
       "}}\n",
       "\n",
       "                        })                };                });            </script>        </div>"
      ]
     },
     "metadata": {},
     "output_type": "display_data"
    }
   ],
   "source": [
    "fig = go.Figure()\n",
    "for i, color_label in enumerate(COLOR_LABEL):\n",
    "    fig.add_trace(go.Bar(x = list_unique_similar_word[i],\n",
    "                            y = list_unique_similar_word_freq[i],\n",
    "                            name = chr(ord('a') + i),\n",
    "                            marker_color= 'rgb('+str(color_label)+', 120,120)',\n",
    "                            ))\n",
    "fig.show()"
   ]
  },
  {
   "cell_type": "code",
   "execution_count": null,
   "metadata": {},
   "outputs": [],
   "source": [
    "# draw word cloud\n",
    "temp = set()\n",
    "for word in a_dict[2]:\n",
    "    if (word not in a_dict[1] or word not in a_dict[0]) and word in a_dict[3]:\n",
    "        temp.add(word)\n",
    "print(\"c ∩ d NOT A NOT B: {}\".format(temp))"
   ]
  },
  {
   "cell_type": "markdown",
   "metadata": {},
   "source": [
    "We pulled three law books to examine the clustering algorithms as if they can distinguish the law topic frmo others. However, We are troubled about why as a law book as it is constantly clustered with a bee book. Therefore, we investigate the word composition of book a, b, c and d to see if there is any pattern. By collecting the centroid of cluster 2 where lives book c and d, we are able to get top 135 the most representative and similar words for the cluster. We noticed that book c and d contain a large amount of similar words, rather than book a and b. As we latter discover that because book c is an English law book, it contains a lot of terms that associated with the royal, which is much similar to the bee society, as terms \"queen\", \"royal\" often appear in these two books. Although doc2vec uncovers the latent relationship between each word vector, it can be easily confused by the similarity vectors as it disregards the structure and semantic meaning of the context.\n"
   ]
  }
 ],
 "metadata": {
  "interpreter": {
   "hash": "dd6e274271fa1c760239ba3e02bf399206203edc4ed40ec84a071cab12e11cbf"
  },
  "kernelspec": {
   "display_name": "Python 3 (ipykernel)",
   "language": "python",
   "name": "python3"
  },
  "language_info": {
   "codemirror_mode": {
    "name": "ipython",
    "version": 3
   },
   "file_extension": ".py",
   "mimetype": "text/x-python",
   "name": "python",
   "nbconvert_exporter": "python",
   "pygments_lexer": "ipython3",
   "version": "3.9.10"
  }
 },
 "nbformat": 4,
 "nbformat_minor": 2
}
