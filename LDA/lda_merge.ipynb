{
  "nbformat": 4,
  "nbformat_minor": 0,
  "metadata": {
    "colab": {
      "name": "Untitled0.ipynb",
      "provenance": [],
      "collapsed_sections": []
    },
    "kernelspec": {
      "name": "python3",
      "display_name": "Python 3"
    },
    "language_info": {
      "name": "python"
    }
  },
  "cells": [
    {
      "cell_type": "code",
      "source": [
        "!python -m pip install -U plotly\n",
        "!python -m pip install -U gensim\n",
        "!python -m pip install -U kneed\n",
        "!python -m pip install -U scikit-learn\n",
        "!python -m pip install -U pyLDAvis\n",
        "!python -m pip install -U torchvision "
      ],
      "metadata": {
        "colab": {
          "base_uri": "https://localhost:8080/"
        },
        "id": "C6NuVcIz7w8H",
        "outputId": "16ffbbeb-6c9f-4f1d-cca6-b79a6ed7b879"
      },
      "execution_count": 80,
      "outputs": [
        {
          "output_type": "stream",
          "name": "stdout",
          "text": [
            "Requirement already satisfied: plotly in /usr/local/lib/python3.7/dist-packages (5.6.0)\n",
            "Requirement already satisfied: six in /usr/local/lib/python3.7/dist-packages (from plotly) (1.15.0)\n",
            "Requirement already satisfied: tenacity>=6.2.0 in /usr/local/lib/python3.7/dist-packages (from plotly) (8.0.1)\n",
            "Requirement already satisfied: gensim in /usr/local/lib/python3.7/dist-packages (4.1.2)\n",
            "Requirement already satisfied: numpy>=1.17.0 in /usr/local/lib/python3.7/dist-packages (from gensim) (1.21.5)\n",
            "Requirement already satisfied: scipy>=0.18.1 in /usr/local/lib/python3.7/dist-packages (from gensim) (1.4.1)\n",
            "Requirement already satisfied: smart-open>=1.8.1 in /usr/local/lib/python3.7/dist-packages (from gensim) (5.2.1)\n",
            "Requirement already satisfied: kneed in /usr/local/lib/python3.7/dist-packages (0.7.0)\n",
            "Requirement already satisfied: matplotlib in /usr/local/lib/python3.7/dist-packages (from kneed) (3.2.2)\n",
            "Requirement already satisfied: numpy>=1.14.2 in /usr/local/lib/python3.7/dist-packages (from kneed) (1.21.5)\n",
            "Requirement already satisfied: scipy in /usr/local/lib/python3.7/dist-packages (from kneed) (1.4.1)\n",
            "Requirement already satisfied: pyparsing!=2.0.4,!=2.1.2,!=2.1.6,>=2.0.1 in /usr/local/lib/python3.7/dist-packages (from matplotlib->kneed) (3.0.7)\n",
            "Requirement already satisfied: cycler>=0.10 in /usr/local/lib/python3.7/dist-packages (from matplotlib->kneed) (0.11.0)\n",
            "Requirement already satisfied: python-dateutil>=2.1 in /usr/local/lib/python3.7/dist-packages (from matplotlib->kneed) (2.8.2)\n",
            "Requirement already satisfied: kiwisolver>=1.0.1 in /usr/local/lib/python3.7/dist-packages (from matplotlib->kneed) (1.3.2)\n",
            "Requirement already satisfied: six>=1.5 in /usr/local/lib/python3.7/dist-packages (from python-dateutil>=2.1->matplotlib->kneed) (1.15.0)\n",
            "Requirement already satisfied: scikit-learn in /usr/local/lib/python3.7/dist-packages (1.0.2)\n",
            "Requirement already satisfied: numpy>=1.14.6 in /usr/local/lib/python3.7/dist-packages (from scikit-learn) (1.21.5)\n",
            "Requirement already satisfied: joblib>=0.11 in /usr/local/lib/python3.7/dist-packages (from scikit-learn) (1.1.0)\n",
            "Requirement already satisfied: threadpoolctl>=2.0.0 in /usr/local/lib/python3.7/dist-packages (from scikit-learn) (3.1.0)\n",
            "Requirement already satisfied: scipy>=1.1.0 in /usr/local/lib/python3.7/dist-packages (from scikit-learn) (1.4.1)\n",
            "Requirement already satisfied: pyLDAvis in /usr/local/lib/python3.7/dist-packages (3.3.1)\n",
            "Requirement already satisfied: sklearn in /usr/local/lib/python3.7/dist-packages (from pyLDAvis) (0.0)\n",
            "Requirement already satisfied: scipy in /usr/local/lib/python3.7/dist-packages (from pyLDAvis) (1.4.1)\n",
            "Requirement already satisfied: future in /usr/local/lib/python3.7/dist-packages (from pyLDAvis) (0.16.0)\n",
            "Requirement already satisfied: funcy in /usr/local/lib/python3.7/dist-packages (from pyLDAvis) (1.17)\n",
            "Requirement already satisfied: numpy>=1.20.0 in /usr/local/lib/python3.7/dist-packages (from pyLDAvis) (1.21.5)\n",
            "Requirement already satisfied: gensim in /usr/local/lib/python3.7/dist-packages (from pyLDAvis) (4.1.2)\n",
            "Requirement already satisfied: jinja2 in /usr/local/lib/python3.7/dist-packages (from pyLDAvis) (2.11.3)\n",
            "Requirement already satisfied: scikit-learn in /usr/local/lib/python3.7/dist-packages (from pyLDAvis) (1.0.2)\n",
            "Requirement already satisfied: joblib in /usr/local/lib/python3.7/dist-packages (from pyLDAvis) (1.1.0)\n",
            "Requirement already satisfied: setuptools in /usr/local/lib/python3.7/dist-packages (from pyLDAvis) (57.4.0)\n",
            "Requirement already satisfied: pandas>=1.2.0 in /usr/local/lib/python3.7/dist-packages (from pyLDAvis) (1.3.5)\n",
            "Requirement already satisfied: numexpr in /usr/local/lib/python3.7/dist-packages (from pyLDAvis) (2.8.1)\n",
            "Requirement already satisfied: pytz>=2017.3 in /usr/local/lib/python3.7/dist-packages (from pandas>=1.2.0->pyLDAvis) (2018.9)\n",
            "Requirement already satisfied: python-dateutil>=2.7.3 in /usr/local/lib/python3.7/dist-packages (from pandas>=1.2.0->pyLDAvis) (2.8.2)\n",
            "Requirement already satisfied: six>=1.5 in /usr/local/lib/python3.7/dist-packages (from python-dateutil>=2.7.3->pandas>=1.2.0->pyLDAvis) (1.15.0)\n",
            "Requirement already satisfied: smart-open>=1.8.1 in /usr/local/lib/python3.7/dist-packages (from gensim->pyLDAvis) (5.2.1)\n",
            "Requirement already satisfied: MarkupSafe>=0.23 in /usr/local/lib/python3.7/dist-packages (from jinja2->pyLDAvis) (2.0.1)\n",
            "Requirement already satisfied: packaging in /usr/local/lib/python3.7/dist-packages (from numexpr->pyLDAvis) (21.3)\n",
            "Requirement already satisfied: pyparsing!=3.0.5,>=2.0.2 in /usr/local/lib/python3.7/dist-packages (from packaging->numexpr->pyLDAvis) (3.0.7)\n",
            "Requirement already satisfied: threadpoolctl>=2.0.0 in /usr/local/lib/python3.7/dist-packages (from scikit-learn->pyLDAvis) (3.1.0)\n",
            "Requirement already satisfied: torchvision in /usr/local/lib/python3.7/dist-packages (0.11.3)\n",
            "Requirement already satisfied: torch==1.10.2 in /usr/local/lib/python3.7/dist-packages (from torchvision) (1.10.2)\n",
            "Requirement already satisfied: pillow!=8.3.0,>=5.3.0 in /usr/local/lib/python3.7/dist-packages (from torchvision) (7.1.2)\n",
            "Requirement already satisfied: numpy in /usr/local/lib/python3.7/dist-packages (from torchvision) (1.21.5)\n",
            "Requirement already satisfied: typing-extensions in /usr/local/lib/python3.7/dist-packages (from torch==1.10.2->torchvision) (3.10.0.2)\n"
          ]
        }
      ]
    },
    {
      "cell_type": "code",
      "execution_count": 81,
      "metadata": {
        "id": "FaNCiaXG7sgh"
      },
      "outputs": [],
      "source": [
        "import numpy as np\n",
        "import pandas as pd\n",
        "from pprint import pprint# Gensim\n",
        "import gensim\n",
        "import gensim.corpora as corpora\n",
        "from gensim.utils import simple_preprocess\n",
        "from gensim.models import CoherenceModel# spaCy for preprocessing\n",
        "import spacy# Plotting tools\n",
        "import pyLDAvis\n",
        "\n",
        "import pyLDAvis.gensim_models as gensimvis\n",
        "import matplotlib.pyplot as plt\n",
        "%matplotlib inline\n",
        "from sklearn.cluster import KMeans\n",
        "from gensim.matutils import corpus2csc\n",
        "import torch\n",
        "import torchvision\n",
        "\n"
      ]
    },
    {
      "cell_type": "code",
      "source": [
        "import plotly.express as px\n",
        "import plotly.graph_objects as go\n",
        "import plotly.figure_factory as ff\n",
        "import matplotlib.pyplot as plt \n",
        "\n",
        "#!pip install kneed\n",
        "from kneed import KneeLocator\n",
        "\n",
        "from sklearn.cluster import KMeans \n",
        "from scipy.cluster import hierarchy \n",
        "from sklearn.cluster import AgglomerativeClustering \n",
        "from sklearn.mixture import GaussianMixture\n",
        "\n",
        "from gensim.models.doc2vec import Doc2Vec\n",
        "\n",
        "from gensim.models.coherencemodel import CoherenceModel\n",
        "\n"
      ],
      "metadata": {
        "id": "2ht5KktWC-wL"
      },
      "execution_count": 82,
      "outputs": []
    },
    {
      "cell_type": "code",
      "source": [
        "from google.colab import files\n",
        "files.upload()"
      ],
      "metadata": {
        "colab": {
          "resources": {
            "http://localhost:8080/nbextensions/google.colab/files.js": {
              "data": "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",
              "ok": true,
              "headers": [
                [
                  "content-type",
                  "application/javascript"
                ]
              ],
              "status": 200,
              "status_text": ""
            }
          },
          "base_uri": "https://localhost:8080/",
          "height": 110
        },
        "id": "TacB9zQxGGcx",
        "outputId": "ab3948b0-97ef-4a32-a65c-163d126b6729"
      },
      "execution_count": 90,
      "outputs": [
        {
          "output_type": "display_data",
          "data": {
            "text/html": [
              "\n",
              "     <input type=\"file\" id=\"files-65984fcd-e7e6-4fbf-ad0a-f6679f4b7885\" name=\"files[]\" multiple disabled\n",
              "        style=\"border:none\" />\n",
              "     <output id=\"result-65984fcd-e7e6-4fbf-ad0a-f6679f4b7885\">\n",
              "      Upload widget is only available when the cell has been executed in the\n",
              "      current browser session. Please rerun this cell to enable.\n",
              "      </output>\n",
              "      <script src=\"/nbextensions/google.colab/files.js\"></script> "
            ],
            "text/plain": [
              "<IPython.core.display.HTML object>"
            ]
          },
          "metadata": {}
        },
        {
          "output_type": "stream",
          "name": "stdout",
          "text": [
            "Saving measures.py to measures (6).py\n"
          ]
        },
        {
          "output_type": "execute_result",
          "data": {
            "text/plain": [
              "{'measures.py': b'from typing import List\\r\\nfrom matplotlib.pyplot import cohere\\r\\nimport pandas as pd\\r\\nimport numpy as np\\r\\nfrom gensim.models import LsiModel\\r\\nfrom gensim.models.coherencemodel import CoherenceModel\\r\\nfrom sklearn.metrics import cohen_kappa_score, adjusted_rand_score, silhouette_score\\r\\n\\r\\n\"\"\"\\r\\ncalculate the best amount of topics for LSI model\\r\\n\"\"\"\\r\\ndef best_num_topic(corpus, dictionary, max_n_topic)->List:\\r\\n    np.random.seed(0)\\r\\n    results = []\\r\\n\\r\\n    for t in range(2, max_n_topic):\\r\\n        lsi_model = LsiModel(corpus, id2word=dictionary, num_topics=t)\\r\\n        corpus_lsi = lsi_model[corpus]\\r\\n\\r\\n        cm = CoherenceModel(model=lsi_model, corpus=corpus_lsi, coherence=\\'u_mass\\')\\r\\n        score = cm.get_coherence()\\r\\n        tup = t, score\\r\\n        results.append(tup)\\r\\n\\r\\n    results = pd.DataFrame(results, columns=[\\'topic\\', \\'score\\'])\\r\\n    # lowest score means the best\\r\\n    s = pd.Series(results.score.values, index=results.topic.values)\\r\\n    s.plot()\\r\\n\\r\\n    return results\\r\\n\\r\\n\"\"\"\\r\\ncalculate the best k for kmean based on silhouette score\\r\\n\"\"\"\\r\\ndef best_silhouette_score(model, corpus, dictionary, max_n_clusters, best_num_topic = 2):\\r\\n    np.random.seed(0)\\r\\n\\r\\n    results = []\\r\\n    lsi_model = LsiModel(corpus, id2word=dictionary, num_topics=best_num_topic)\\r\\n    corpus_lsi = lsi_model[corpus]\\r\\n\\r\\n    for t in range(2, max_n_clusters):\\r\\n \\r\\n        X = np.array([[tup[1] for tup in arr] for arr in corpus_lsi])\\r\\n        if \\'random_state\\' in model.get_params():\\r\\n            model.set_params(random_state = 0)\\r\\n        \\r\\n        models = model.set_params(n_clusters = t).fit(X)\\r\\n\\r\\n        score = silhouette_score(X, models.labels_)\\r\\n\\r\\n        tup = t, score\\r\\n        results.append(tup)\\r\\n    \\r\\n    results = pd.DataFrame(results, columns=[\\'topic\\', \\'score\\'])\\r\\n    s = pd.Series(results.score.values, index=results.topic.values)\\r\\n    _ = s.plot()\\r\\n\\r\\n    return results\\r\\n\\r\\ndef get_kappa(actual, pred):\\r\\n    kappa = cohen_kappa_score(actual, pred)\\r\\n    print(\"kappa: {}\".format(kappa))\\r\\n    return kappa\\r\\n\\r\\ndef get_rand_score(actual, pred):\\r\\n    rand_score= adjusted_rand_score(actual, pred)\\r\\n    print(\"rand score: {}\".format(rand_score))\\r\\n    return rand_score\\r\\n\\r\\ndef get_silhouette_score(X, pred):\\r\\n    score = silhouette_score(X, pred, random_state = 0)\\r\\n    print(\"silhouette score: {}\".format(score))\\r\\n    return score\\r\\n\\r\\ndef get_coherence(cm):\\r\\n    coherence = cm.get_coherence()\\r\\n    print(\"coherence: {}\".format(coherence))\\r\\n    return coherence\\r\\n\\r\\ndef label_to_cluster_num(pred, k, books):\\r\\n    pred_map = dict()\\r\\n    offset = [(ord(label) - ord(\\'a\\')) for label in books]\\r\\n\\r\\n    for i in range(0, k):\\r\\n        count = np.bincount(pred[i * 200 : i * 200 + 200])\\r\\n        count.resize((1,k), refcheck=False) # resize row\\'s dimension to 1xk\\r\\n        count = count[0]\\r\\n        index = np.where(count == max(count))[0][0]\\r\\n        label =  chr(ord(\\'a\\')+offset[i])\\r\\n        pred_map[label] = index\\r\\n        print(label + \":\" + np.array2string(count) + \"\\\\t\" + label + \" mapped to \" + str(index))\\r\\n\\r\\n    return pred_map'}"
            ]
          },
          "metadata": {},
          "execution_count": 90
        }
      ]
    },
    {
      "cell_type": "code",
      "source": [
        "import measures\n",
        "from measures import get_coherence\n",
        "from measures import get_silhouette_score\n"
      ],
      "metadata": {
        "id": "zeLs-WlNGMam"
      },
      "execution_count": 93,
      "outputs": []
    },
    {
      "cell_type": "code",
      "source": [
        "import plotly.io as pio\n",
        "pio.renderers.default = \"notebook\""
      ],
      "metadata": {
        "id": "qr8GlRAQDEhe"
      },
      "execution_count": 57,
      "outputs": []
    },
    {
      "cell_type": "code",
      "source": [
        "def make_SVDtsne_2d(df, label=None, books=('a','b','c','d','e','f','g')):\n",
        "  reduced = TruncatedSVD(n_components=7, random_state=0).fit_transform(df)\n",
        "\n",
        "  tsne_results = TSNE(n_components=2, \n",
        "                      perplexity=40, \n",
        "                      init='pca', # globally more stable to initialization\n",
        "                      learning_rate = 'auto',\n",
        "                      n_iter=1000, \n",
        "                      random_state=0).fit_transform(reduced)\n",
        "\n",
        "  df = pd.DataFrame()\n",
        "  df['tsne-2d-one'] = tsne_results[:,0]\n",
        "  df['tsne-2d-two'] = tsne_results[:,1]\n",
        "  df['label_True'] = df_out['label'].loc[df_out['label'].isin(books)].reset_index(drop=True)\n",
        "  print(df)\n",
        "  if label is not None:\n",
        "    dic = dict(enumerate(df_out['label'].loc[df_out['label'].isin(books)].unique()))\n",
        "    lbl = list(label)\n",
        "    for i, l in zip(range(0,len(lbl)), lbl):\n",
        "      try:\n",
        "        lbl[i] = dic[l].upper()\n",
        "      except:\n",
        "        lbl[i] = 'Outlier'\n",
        "    df['label_Pred'] = lbl\n",
        "  \n",
        "  print(df)\n",
        "  if label is None: fig = px.scatter(df, x='tsne-2d-one', y='tsne-2d-two', color=\"label_True\", symbol=\"label_True\", width=1200, height=900)\n",
        "  if label is not None: fig = px.scatter(df, x='tsne-2d-one', y='tsne-2d-two', color=\"label_Pred\", symbol=\"label_True\", width=1200, height=900)\n",
        "\n",
        "  fig.show()\n"
      ],
      "metadata": {
        "id": "uurAus-Y-VXq"
      },
      "execution_count": 71,
      "outputs": []
    },
    {
      "cell_type": "code",
      "source": [
        "def make_tsne_2d(df, label=None, books=('a','b','c','d','e','f','g')):\n",
        "    # need to read raw our.csv first\n",
        "    # df must be vectorized DataFrame\n",
        "    \n",
        "    tsne = TSNE(n_components=2, perplexity=40, n_iter=1000, random_state=0)\n",
        "    tsne_results = tsne.fit_transform(df)\n",
        "    \n",
        "    df = pd.DataFrame()\n",
        "    df['tsne-2d-one'] = tsne_results[:,0]\n",
        "    df['tsne-2d-two'] = tsne_results[:,1]\n",
        "    df['label_True'] = df_out['label'].loc[df_out['label'].isin(books)].reset_index(drop=True)\n",
        "    if label is not None:\n",
        "      dic = dict(enumerate(df_out['label'].unique()))\n",
        "      lbl = list(label)\n",
        "      for i, l in zip(range(0,len(lbl)), lbl):\n",
        "        try:\n",
        "          lbl[i] = dic[l].upper()\n",
        "        except:\n",
        "          lbl[i] = 'Outlier'\n",
        "      df['label_Pred'] = lbl\n",
        "    \n",
        "    if label is None: fig = px.scatter(df, x='tsne-2d-one', y='tsne-2d-two', color=\"label_True\", symbol=\"label_True\", width=1200, height=900)\n",
        "    if label is not None: fig = px.scatter(df, x='tsne-2d-one', y='tsne-2d-two', color=\"label_Pred\", symbol=\"label_True\", width=1200, height=900)\n",
        "    fig.show()"
      ],
      "metadata": {
        "id": "26w1gfLoDwCr"
      },
      "execution_count": 72,
      "outputs": []
    },
    {
      "cell_type": "code",
      "source": [
        "def elbow_method(data, number):\n",
        "    wcss = []\n",
        "    for i in range(1, number+1):\n",
        "        kmeans = KMeans(n_clusters=i, init='k-means++', max_iter=300, n_init=10, random_state=0)\n",
        "        kmeans.fit(data)\n",
        "        wcss.append(kmeans.inertia_)\n",
        "    kn = KneeLocator(range(1, 10+1), wcss, curve='convex', direction='decreasing')\n",
        "\n",
        "    fig = go.Figure()\n",
        "    fig.add_trace(go.Scatter(x=list(range(1, number+1)),\n",
        "                            y=wcss))\n",
        "    fig.add_vline(x=kn.knee, line_width=3, line_dash=\"dash\", line_color=\"green\")\n",
        "\n",
        "    fig.update_layout(title='Elbow Method',\n",
        "                      xaxis_title='Number of clusters',\n",
        "                      yaxis_title='WCSS',\n",
        "                      title_x=0.5,\n",
        "                      height=500, \n",
        "                      width=800)\n",
        "    fig.show()"
      ],
      "metadata": {
        "id": "K00zUPB0DxWU"
      },
      "execution_count": 73,
      "outputs": []
    },
    {
      "cell_type": "code",
      "source": [
        "def label_to_cluster_num(pred, k, books):\n",
        "    pred_map = dict()\n",
        "    offset = [(ord(label) - ord('a')) for label in books]\n",
        "\n",
        "    for i in range(0, k):\n",
        "        count = np.bincount(pred[i * 200 : i * 200 + 200])\n",
        "        count.resize((1,k), refcheck=False) # resize row's dimension to 1xk\n",
        "        count = count[0]\n",
        "        index = np.where(count == max(count))[0][0]\n",
        "        label =  chr(ord('a')+offset[i])\n",
        "        pred_map[label] = index\n",
        "        print(label + \":\" + np.array2string(count) + \"\\t\" + label + \" mapped to \" + str(index))\n",
        "\n",
        "    return pred_map"
      ],
      "metadata": {
        "id": "QrapsQdcP93q"
      },
      "execution_count": 92,
      "outputs": []
    },
    {
      "cell_type": "code",
      "source": [
        "def compare_predict(trans_data, data, modl, vidl = None,\n",
        "  n_clusters=5,\n",
        "  linkage='average',\n",
        "  n_components = 2,\n",
        "  covariance_type = 'diag',\n",
        "  random_state = 0,\n",
        "  books=('a','b','c','d','e','f','g')):\n",
        "\n",
        "  X = trans_data[data['label'].isin(books)]\n",
        "\n",
        "  # clustering parameters\n",
        "  if 'n_clusters' in modl.get_params():\n",
        "    modl.set_params(n_clusters = n_clusters)\n",
        "  if 'linkage' in modl.get_params():\n",
        "    modl.set_params(linkage = linkage)\n",
        "  # em parameters\n",
        "  if 'n_components' in modl.get_params():\n",
        "    modl.set_params(n_components = n_components)\n",
        "  if 'covariance_type' in modl.get_params():\n",
        "    modl.set_params(covariance_type = covariance_type)\n",
        "  if 'random_state' in modl.get_params():\n",
        "    modl.set_params(random_state = random_state)\n",
        "\n",
        "  pred = modl.fit_predict(X)\n",
        "\n",
        "  pred_map = label_to_cluster_num(pred=pred, k=len(books), books= books)\n",
        "  label_data_in_books = data[data['label'].isin(books)]['label'] # retrieve label rows that belongs to any of the books\n",
        "  mapped_label = [pred_map[label] for label in label_data_in_books]\n",
        "\n",
        "  if vidl is not None:\n",
        "    if vidl == 'tsne':\n",
        "      make_tsne_2d(X, pred, books)\n",
        "    if vidl == 'SVDtsne':\n",
        "      make_SVDtsne_2d(X, pred, books)\n",
        "\n",
        "  return modl, pred, mapped_label"
      ],
      "metadata": {
        "id": "aKy813l5D41i"
      },
      "execution_count": 94,
      "outputs": []
    },
    {
      "cell_type": "code",
      "source": [
        "url = 'https://drive.google.com/file/d/1NmGTSp5CLiCTPlQgP614TvNNv1TXDewU/view?usp=sharin'\n",
        "url='https://drive.google.com/uc?id=' + url.split('/')[-2]\n",
        "df_out = pd.read_csv(url)\n",
        "\n",
        "df_out.drop('Unnamed: 0', axis=1, inplace=True)\n",
        "df_out"
      ],
      "metadata": {
        "colab": {
          "base_uri": "https://localhost:8080/",
          "height": 424
        },
        "id": "X0reMYjN8Aid",
        "outputId": "9b612033-072c-42eb-ee1d-848bfd46468f"
      },
      "execution_count": 62,
      "outputs": [
        {
          "output_type": "execute_result",
          "data": {
            "text/html": [
              "\n",
              "  <div id=\"df-40f36199-596d-4c1c-9be0-96ac48257793\">\n",
              "    <div class=\"colab-df-container\">\n",
              "      <div>\n",
              "<style scoped>\n",
              "    .dataframe tbody tr th:only-of-type {\n",
              "        vertical-align: middle;\n",
              "    }\n",
              "\n",
              "    .dataframe tbody tr th {\n",
              "        vertical-align: top;\n",
              "    }\n",
              "\n",
              "    .dataframe thead th {\n",
              "        text-align: right;\n",
              "    }\n",
              "</style>\n",
              "<table border=\"1\" class=\"dataframe\">\n",
              "  <thead>\n",
              "    <tr style=\"text-align: right;\">\n",
              "      <th></th>\n",
              "      <th>segment</th>\n",
              "      <th>label</th>\n",
              "    </tr>\n",
              "  </thead>\n",
              "  <tbody>\n",
              "    <tr>\n",
              "      <th>0</th>\n",
              "      <td>act known circumst harm may accept gener test ...</td>\n",
              "      <td>a</td>\n",
              "    </tr>\n",
              "    <tr>\n",
              "      <th>1</th>\n",
              "      <td>aris whether represent part contract If contra...</td>\n",
              "      <td>a</td>\n",
              "    </tr>\n",
              "    <tr>\n",
              "      <th>2</th>\n",
              "      <td>section cite godbolt see F. N. B G fitzh abr d...</td>\n",
              "      <td>a</td>\n",
              "    </tr>\n",
              "    <tr>\n",
              "      <th>3</th>\n",
              "      <td>row bell c.c see treasur hidden anoth land D. ...</td>\n",
              "      <td>a</td>\n",
              "    </tr>\n",
              "    <tr>\n",
              "      <th>4</th>\n",
              "      <td>give trespass pretti nearli thing action case ...</td>\n",
              "      <td>a</td>\n",
              "    </tr>\n",
              "    <tr>\n",
              "      <th>...</th>\n",
              "      <td>...</td>\n",
              "      <td>...</td>\n",
              "    </tr>\n",
              "    <tr>\n",
              "      <th>1395</th>\n",
              "      <td>lamb chop fri tomato potato la crãªme rais bis...</td>\n",
              "      <td>g</td>\n",
              "    </tr>\n",
              "    <tr>\n",
              "      <th>1396</th>\n",
              "      <td>glass rhine wine IV glass water V glass champa...</td>\n",
              "      <td>g</td>\n",
              "    </tr>\n",
              "    <tr>\n",
              "      <th>1397</th>\n",
              "      <td>cover cloth set away cool place hour dinner ti...</td>\n",
              "      <td>g</td>\n",
              "    </tr>\n",
              "    <tr>\n",
              "      <th>1398</th>\n",
              "      <td>transpar veil egg cook white firm lift griddl ...</td>\n",
              "      <td>g</td>\n",
              "    </tr>\n",
              "    <tr>\n",
              "      <th>1399</th>\n",
              "      <td>pear pickl bun plum cobbler tea dinner scotch ...</td>\n",
              "      <td>g</td>\n",
              "    </tr>\n",
              "  </tbody>\n",
              "</table>\n",
              "<p>1400 rows × 2 columns</p>\n",
              "</div>\n",
              "      <button class=\"colab-df-convert\" onclick=\"convertToInteractive('df-40f36199-596d-4c1c-9be0-96ac48257793')\"\n",
              "              title=\"Convert this dataframe to an interactive table.\"\n",
              "              style=\"display:none;\">\n",
              "        \n",
              "  <svg xmlns=\"http://www.w3.org/2000/svg\" height=\"24px\"viewBox=\"0 0 24 24\"\n",
              "       width=\"24px\">\n",
              "    <path d=\"M0 0h24v24H0V0z\" fill=\"none\"/>\n",
              "    <path d=\"M18.56 5.44l.94 2.06.94-2.06 2.06-.94-2.06-.94-.94-2.06-.94 2.06-2.06.94zm-11 1L8.5 8.5l.94-2.06 2.06-.94-2.06-.94L8.5 2.5l-.94 2.06-2.06.94zm10 10l.94 2.06.94-2.06 2.06-.94-2.06-.94-.94-2.06-.94 2.06-2.06.94z\"/><path d=\"M17.41 7.96l-1.37-1.37c-.4-.4-.92-.59-1.43-.59-.52 0-1.04.2-1.43.59L10.3 9.45l-7.72 7.72c-.78.78-.78 2.05 0 2.83L4 21.41c.39.39.9.59 1.41.59.51 0 1.02-.2 1.41-.59l7.78-7.78 2.81-2.81c.8-.78.8-2.07 0-2.86zM5.41 20L4 18.59l7.72-7.72 1.47 1.35L5.41 20z\"/>\n",
              "  </svg>\n",
              "      </button>\n",
              "      \n",
              "  <style>\n",
              "    .colab-df-container {\n",
              "      display:flex;\n",
              "      flex-wrap:wrap;\n",
              "      gap: 12px;\n",
              "    }\n",
              "\n",
              "    .colab-df-convert {\n",
              "      background-color: #E8F0FE;\n",
              "      border: none;\n",
              "      border-radius: 50%;\n",
              "      cursor: pointer;\n",
              "      display: none;\n",
              "      fill: #1967D2;\n",
              "      height: 32px;\n",
              "      padding: 0 0 0 0;\n",
              "      width: 32px;\n",
              "    }\n",
              "\n",
              "    .colab-df-convert:hover {\n",
              "      background-color: #E2EBFA;\n",
              "      box-shadow: 0px 1px 2px rgba(60, 64, 67, 0.3), 0px 1px 3px 1px rgba(60, 64, 67, 0.15);\n",
              "      fill: #174EA6;\n",
              "    }\n",
              "\n",
              "    [theme=dark] .colab-df-convert {\n",
              "      background-color: #3B4455;\n",
              "      fill: #D2E3FC;\n",
              "    }\n",
              "\n",
              "    [theme=dark] .colab-df-convert:hover {\n",
              "      background-color: #434B5C;\n",
              "      box-shadow: 0px 1px 3px 1px rgba(0, 0, 0, 0.15);\n",
              "      filter: drop-shadow(0px 1px 2px rgba(0, 0, 0, 0.3));\n",
              "      fill: #FFFFFF;\n",
              "    }\n",
              "  </style>\n",
              "\n",
              "      <script>\n",
              "        const buttonEl =\n",
              "          document.querySelector('#df-40f36199-596d-4c1c-9be0-96ac48257793 button.colab-df-convert');\n",
              "        buttonEl.style.display =\n",
              "          google.colab.kernel.accessAllowed ? 'block' : 'none';\n",
              "\n",
              "        async function convertToInteractive(key) {\n",
              "          const element = document.querySelector('#df-40f36199-596d-4c1c-9be0-96ac48257793');\n",
              "          const dataTable =\n",
              "            await google.colab.kernel.invokeFunction('convertToInteractive',\n",
              "                                                     [key], {});\n",
              "          if (!dataTable) return;\n",
              "\n",
              "          const docLinkHtml = 'Like what you see? Visit the ' +\n",
              "            '<a target=\"_blank\" href=https://colab.research.google.com/notebooks/data_table.ipynb>data table notebook</a>'\n",
              "            + ' to learn more about interactive tables.';\n",
              "          element.innerHTML = '';\n",
              "          dataTable['output_type'] = 'display_data';\n",
              "          await google.colab.output.renderOutput(dataTable, element);\n",
              "          const docLink = document.createElement('div');\n",
              "          docLink.innerHTML = docLinkHtml;\n",
              "          element.appendChild(docLink);\n",
              "        }\n",
              "      </script>\n",
              "    </div>\n",
              "  </div>\n",
              "  "
            ],
            "text/plain": [
              "                                                segment label\n",
              "0     act known circumst harm may accept gener test ...     a\n",
              "1     aris whether represent part contract If contra...     a\n",
              "2     section cite godbolt see F. N. B G fitzh abr d...     a\n",
              "3     row bell c.c see treasur hidden anoth land D. ...     a\n",
              "4     give trespass pretti nearli thing action case ...     a\n",
              "...                                                 ...   ...\n",
              "1395  lamb chop fri tomato potato la crãªme rais bis...     g\n",
              "1396  glass rhine wine IV glass water V glass champa...     g\n",
              "1397  cover cloth set away cool place hour dinner ti...     g\n",
              "1398  transpar veil egg cook white firm lift griddl ...     g\n",
              "1399  pear pickl bun plum cobbler tea dinner scotch ...     g\n",
              "\n",
              "[1400 rows x 2 columns]"
            ]
          },
          "metadata": {},
          "execution_count": 62
        }
      ]
    },
    {
      "cell_type": "code",
      "source": [
        "def lda_corpus(data):\n",
        "  for i in range(len(data.index)):\n",
        "    data['segment'][i] = data['segment'][i].split()\n",
        "  data_lemmatized = data['segment'].tolist()\n",
        "  # Create Dictionary \n",
        "  id2word = corpora.Dictionary(data_lemmatized)  \n",
        "  # Create Corpus \n",
        "  texts = data_lemmatized  \n",
        "  # Term Document Frequency \n",
        "  corpus = [id2word.doc2bow(text) for text in texts]  \n",
        "  return corpus"
      ],
      "metadata": {
        "id": "k20_8hI18KX_"
      },
      "execution_count": 63,
      "outputs": []
    },
    {
      "cell_type": "code",
      "source": [
        "corpus = lda_corpus(df_out)"
      ],
      "metadata": {
        "id": "NZL-avdE8vhx"
      },
      "execution_count": 64,
      "outputs": []
    },
    {
      "cell_type": "code",
      "source": [
        "model_save_name = 'lda_model.pt'\n",
        "optimal_model = torch.load(model_save_name)"
      ],
      "metadata": {
        "colab": {
          "base_uri": "https://localhost:8080/",
          "height": 328
        },
        "id": "bYd8rFBu9ozO",
        "outputId": "2f10b85d-3d30-43ff-fb53-11a1c605e6ea"
      },
      "execution_count": 101,
      "outputs": [
        {
          "output_type": "error",
          "ename": "FileNotFoundError",
          "evalue": "ignored",
          "traceback": [
            "\u001b[0;31m---------------------------------------------------------------------------\u001b[0m",
            "\u001b[0;31mFileNotFoundError\u001b[0m                         Traceback (most recent call last)",
            "\u001b[0;32m<ipython-input-101-9ae4550f177f>\u001b[0m in \u001b[0;36m<module>\u001b[0;34m()\u001b[0m\n\u001b[1;32m      1\u001b[0m \u001b[0mmodel_save_name\u001b[0m \u001b[0;34m=\u001b[0m \u001b[0;34m'lda_model.pt'\u001b[0m\u001b[0;34m\u001b[0m\u001b[0;34m\u001b[0m\u001b[0m\n\u001b[0;32m----> 2\u001b[0;31m \u001b[0moptimal_model\u001b[0m \u001b[0;34m=\u001b[0m \u001b[0mtorch\u001b[0m\u001b[0;34m.\u001b[0m\u001b[0mload\u001b[0m\u001b[0;34m(\u001b[0m\u001b[0mmodel_save_name\u001b[0m\u001b[0;34m)\u001b[0m\u001b[0;34m\u001b[0m\u001b[0;34m\u001b[0m\u001b[0m\n\u001b[0m",
            "\u001b[0;32m/usr/local/lib/python3.7/dist-packages/torch/serialization.py\u001b[0m in \u001b[0;36mload\u001b[0;34m(f, map_location, pickle_module, **pickle_load_args)\u001b[0m\n\u001b[1;32m    592\u001b[0m         \u001b[0mpickle_load_args\u001b[0m\u001b[0;34m[\u001b[0m\u001b[0;34m'encoding'\u001b[0m\u001b[0;34m]\u001b[0m \u001b[0;34m=\u001b[0m \u001b[0;34m'utf-8'\u001b[0m\u001b[0;34m\u001b[0m\u001b[0;34m\u001b[0m\u001b[0m\n\u001b[1;32m    593\u001b[0m \u001b[0;34m\u001b[0m\u001b[0m\n\u001b[0;32m--> 594\u001b[0;31m     \u001b[0;32mwith\u001b[0m \u001b[0m_open_file_like\u001b[0m\u001b[0;34m(\u001b[0m\u001b[0mf\u001b[0m\u001b[0;34m,\u001b[0m \u001b[0;34m'rb'\u001b[0m\u001b[0;34m)\u001b[0m \u001b[0;32mas\u001b[0m \u001b[0mopened_file\u001b[0m\u001b[0;34m:\u001b[0m\u001b[0;34m\u001b[0m\u001b[0;34m\u001b[0m\u001b[0m\n\u001b[0m\u001b[1;32m    595\u001b[0m         \u001b[0;32mif\u001b[0m \u001b[0m_is_zipfile\u001b[0m\u001b[0;34m(\u001b[0m\u001b[0mopened_file\u001b[0m\u001b[0;34m)\u001b[0m\u001b[0;34m:\u001b[0m\u001b[0;34m\u001b[0m\u001b[0;34m\u001b[0m\u001b[0m\n\u001b[1;32m    596\u001b[0m             \u001b[0;31m# The zipfile reader is going to advance the current file position.\u001b[0m\u001b[0;34m\u001b[0m\u001b[0;34m\u001b[0m\u001b[0;34m\u001b[0m\u001b[0m\n",
            "\u001b[0;32m/usr/local/lib/python3.7/dist-packages/torch/serialization.py\u001b[0m in \u001b[0;36m_open_file_like\u001b[0;34m(name_or_buffer, mode)\u001b[0m\n\u001b[1;32m    228\u001b[0m \u001b[0;32mdef\u001b[0m \u001b[0m_open_file_like\u001b[0m\u001b[0;34m(\u001b[0m\u001b[0mname_or_buffer\u001b[0m\u001b[0;34m,\u001b[0m \u001b[0mmode\u001b[0m\u001b[0;34m)\u001b[0m\u001b[0;34m:\u001b[0m\u001b[0;34m\u001b[0m\u001b[0;34m\u001b[0m\u001b[0m\n\u001b[1;32m    229\u001b[0m     \u001b[0;32mif\u001b[0m \u001b[0m_is_path\u001b[0m\u001b[0;34m(\u001b[0m\u001b[0mname_or_buffer\u001b[0m\u001b[0;34m)\u001b[0m\u001b[0;34m:\u001b[0m\u001b[0;34m\u001b[0m\u001b[0;34m\u001b[0m\u001b[0m\n\u001b[0;32m--> 230\u001b[0;31m         \u001b[0;32mreturn\u001b[0m \u001b[0m_open_file\u001b[0m\u001b[0;34m(\u001b[0m\u001b[0mname_or_buffer\u001b[0m\u001b[0;34m,\u001b[0m \u001b[0mmode\u001b[0m\u001b[0;34m)\u001b[0m\u001b[0;34m\u001b[0m\u001b[0;34m\u001b[0m\u001b[0m\n\u001b[0m\u001b[1;32m    231\u001b[0m     \u001b[0;32melse\u001b[0m\u001b[0;34m:\u001b[0m\u001b[0;34m\u001b[0m\u001b[0;34m\u001b[0m\u001b[0m\n\u001b[1;32m    232\u001b[0m         \u001b[0;32mif\u001b[0m \u001b[0;34m'w'\u001b[0m \u001b[0;32min\u001b[0m \u001b[0mmode\u001b[0m\u001b[0;34m:\u001b[0m\u001b[0;34m\u001b[0m\u001b[0;34m\u001b[0m\u001b[0m\n",
            "\u001b[0;32m/usr/local/lib/python3.7/dist-packages/torch/serialization.py\u001b[0m in \u001b[0;36m__init__\u001b[0;34m(self, name, mode)\u001b[0m\n\u001b[1;32m    209\u001b[0m \u001b[0;32mclass\u001b[0m \u001b[0m_open_file\u001b[0m\u001b[0;34m(\u001b[0m\u001b[0m_opener\u001b[0m\u001b[0;34m)\u001b[0m\u001b[0;34m:\u001b[0m\u001b[0;34m\u001b[0m\u001b[0;34m\u001b[0m\u001b[0m\n\u001b[1;32m    210\u001b[0m     \u001b[0;32mdef\u001b[0m \u001b[0m__init__\u001b[0m\u001b[0;34m(\u001b[0m\u001b[0mself\u001b[0m\u001b[0;34m,\u001b[0m \u001b[0mname\u001b[0m\u001b[0;34m,\u001b[0m \u001b[0mmode\u001b[0m\u001b[0;34m)\u001b[0m\u001b[0;34m:\u001b[0m\u001b[0;34m\u001b[0m\u001b[0;34m\u001b[0m\u001b[0m\n\u001b[0;32m--> 211\u001b[0;31m         \u001b[0msuper\u001b[0m\u001b[0;34m(\u001b[0m\u001b[0m_open_file\u001b[0m\u001b[0;34m,\u001b[0m \u001b[0mself\u001b[0m\u001b[0;34m)\u001b[0m\u001b[0;34m.\u001b[0m\u001b[0m__init__\u001b[0m\u001b[0;34m(\u001b[0m\u001b[0mopen\u001b[0m\u001b[0;34m(\u001b[0m\u001b[0mname\u001b[0m\u001b[0;34m,\u001b[0m \u001b[0mmode\u001b[0m\u001b[0;34m)\u001b[0m\u001b[0;34m)\u001b[0m\u001b[0;34m\u001b[0m\u001b[0;34m\u001b[0m\u001b[0m\n\u001b[0m\u001b[1;32m    212\u001b[0m \u001b[0;34m\u001b[0m\u001b[0m\n\u001b[1;32m    213\u001b[0m     \u001b[0;32mdef\u001b[0m \u001b[0m__exit__\u001b[0m\u001b[0;34m(\u001b[0m\u001b[0mself\u001b[0m\u001b[0;34m,\u001b[0m \u001b[0;34m*\u001b[0m\u001b[0margs\u001b[0m\u001b[0;34m)\u001b[0m\u001b[0;34m:\u001b[0m\u001b[0;34m\u001b[0m\u001b[0;34m\u001b[0m\u001b[0m\n",
            "\u001b[0;31mFileNotFoundError\u001b[0m: [Errno 2] No such file or directory: 'lda_model.pt'"
          ]
        }
      ]
    },
    {
      "cell_type": "code",
      "source": [
        "df_lda = np.zeros(shape=(1400,4))\n",
        "for i, row in enumerate(optimal_model[corpus]):\n",
        "  for  j, (topic_num, prop_topic) in enumerate(row):\n",
        "    df_lda[i, topic_num] = prop_topic"
      ],
      "metadata": {
        "id": "A0aSjqOk--zA"
      },
      "execution_count": 65,
      "outputs": []
    },
    {
      "cell_type": "code",
      "source": [
        "print(df_lda)"
      ],
      "metadata": {
        "colab": {
          "base_uri": "https://localhost:8080/"
        },
        "id": "aT1aDh18_eXo",
        "outputId": "7689589b-85a9-466e-f8c2-ce273514eabb"
      },
      "execution_count": 75,
      "outputs": [
        {
          "output_type": "stream",
          "name": "stdout",
          "text": [
            "[[0.         0.         0.99924773 0.        ]\n",
            " [0.         0.06091685 0.93867427 0.        ]\n",
            " [0.         0.99915099 0.         0.        ]\n",
            " ...\n",
            " [0.         0.         0.         0.99902564]\n",
            " [0.         0.         0.         0.99902564]\n",
            " [0.         0.         0.         0.99902564]]\n"
          ]
        }
      ]
    },
    {
      "cell_type": "code",
      "source": [
        "lda_kmeans5, lda_kmeans5_pred, lda_kmeans5_cluster_num = compare_predict(df_lda, df_out, KMeans(), n_clusters= 5)"
      ],
      "metadata": {
        "colab": {
          "base_uri": "https://localhost:8080/"
        },
        "id": "Q-jGgP7LD9Hz",
        "outputId": "1e4d44a1-152f-4578-80f3-dcd4fb1cdb34"
      },
      "execution_count": 95,
      "outputs": [
        {
          "output_type": "stream",
          "name": "stdout",
          "text": [
            "a:[ 21 117   1   2  59   0   0]\ta mapped to 1\n",
            "b:[197   1   0   0   2   0   0]\tb mapped to 0\n",
            "c:[191   1   0   0   8   0   0]\tc mapped to 0\n",
            "d:[  0 188   1   2   9   0   0]\td mapped to 1\n",
            "e:[  0   0 199   0   1   0   0]\te mapped to 2\n",
            "f:[  0 199   0   0   1   0   0]\tf mapped to 1\n",
            "g:[  0   0   1 199   0   0   0]\tg mapped to 3\n"
          ]
        }
      ]
    },
    {
      "cell_type": "code",
      "source": [
        "lda_kmeans7, lda_kmeans7_pred, lda_kmeans7_cluster_num = compare_predict(df_lda, df_out, KMeans(), n_clusters= 7)"
      ],
      "metadata": {
        "colab": {
          "base_uri": "https://localhost:8080/"
        },
        "id": "ZEsdCzMuQW7O",
        "outputId": "64273c17-df27-4ddd-9534-c78da3a3a426"
      },
      "execution_count": 96,
      "outputs": [
        {
          "output_type": "stream",
          "name": "stdout",
          "text": [
            "a:[ 1 87 14  2 41  9 46]\ta mapped to 1\n",
            "b:[  0   0 182   0   1  16   1]\tb mapped to 2\n",
            "c:[  0   1 136   0   5  58   0]\tc mapped to 2\n",
            "d:[  1 146   0   2   3   0  48]\td mapped to 1\n",
            "e:[199   0   0   0   1   0   0]\te mapped to 0\n",
            "f:[  0 196   0   0   1   0   3]\tf mapped to 1\n",
            "g:[  1   0   0 199   0   0   0]\tg mapped to 3\n"
          ]
        }
      ]
    },
    {
      "cell_type": "code",
      "source": [
        "lda_agglom5, lda_agglom5_pred, lda_agglom5_cluster_num = compare_predict(df_lda, df_out, AgglomerativeClustering(), n_clusters=5, linkage='ward')"
      ],
      "metadata": {
        "colab": {
          "base_uri": "https://localhost:8080/"
        },
        "id": "HEPRewPmRPt-",
        "outputId": "5137f6c3-7e19-4582-8c04-3122fb6b6643"
      },
      "execution_count": 97,
      "outputs": [
        {
          "output_type": "stream",
          "name": "stdout",
          "text": [
            "a:[ 28   2 106   1  63   0   0]\ta mapped to 2\n",
            "b:[199   0   1   0   0   0   0]\tb mapped to 0\n",
            "c:[197   0   3   0   0   0   0]\tc mapped to 0\n",
            "d:[  0   2  73   1 124   0   0]\td mapped to 4\n",
            "e:[  0   0   1 199   0   0   0]\te mapped to 3\n",
            "f:[  0   0   4   0 196   0   0]\tf mapped to 4\n",
            "g:[  0 200   0   0   0   0   0]\tg mapped to 1\n"
          ]
        }
      ]
    },
    {
      "cell_type": "code",
      "source": [
        "lda_agglom7, lda_agglom7_pred, lda_agglom7_cluster_num = compare_predict(df_lda, df_out, AgglomerativeClustering(), n_clusters=7, linkage='ward')"
      ],
      "metadata": {
        "colab": {
          "base_uri": "https://localhost:8080/"
        },
        "id": "G9BM2MDgRf3o",
        "outputId": "f5095001-1751-4b55-f401-96da44c1e4cc"
      },
      "execution_count": 98,
      "outputs": [
        {
          "output_type": "stream",
          "name": "stdout",
          "text": [
            "a:[17  2 72  1 63 11 34]\ta mapped to 2\n",
            "b:[ 30   0   1   0   0 169   0]\tb mapped to 5\n",
            "c:[ 78   0   1   0   0 119   2]\tc mapped to 5\n",
            "d:[  0   2  71   1 124   0   2]\td mapped to 4\n",
            "e:[  0   0   0 199   0   0   1]\te mapped to 3\n",
            "f:[  0   0   3   0 196   0   1]\tf mapped to 4\n",
            "g:[  0 200   0   0   0   0   0]\tg mapped to 1\n"
          ]
        }
      ]
    },
    {
      "cell_type": "code",
      "source": [
        "lda_gmm5, lda_gmm5_pred, lda_gmm5_cluster_num = compare_predict(df_lda, df_out, GaussianMixture(), n_components=5)"
      ],
      "metadata": {
        "colab": {
          "base_uri": "https://localhost:8080/"
        },
        "id": "oCFIcNwyRm53",
        "outputId": "ebd31c19-c5d9-4add-e848-c2199075d40f"
      },
      "execution_count": 99,
      "outputs": [
        {
          "output_type": "stream",
          "name": "stdout",
          "text": [
            "a:[ 57   0  18   0 125   0   0]\ta mapped to 4\n",
            "b:[  0   0 178   0  22   0   0]\tb mapped to 2\n",
            "c:[  0   0 183   0  17   0   0]\tc mapped to 2\n",
            "d:[ 80   0   0   0 120   0   0]\td mapped to 4\n",
            "e:[  0 184   0   0  16   0   0]\te mapped to 1\n",
            "f:[189   0   0   0  11   0   0]\tf mapped to 0\n",
            "g:[  0   0   0 173  27   0   0]\tg mapped to 3\n"
          ]
        }
      ]
    },
    {
      "cell_type": "code",
      "source": [
        "lda_gmm7, lda_gmm7_pred, lda_gmm7_cluster_num = compare_predict(df_lda, df_out, GaussianMixture(), n_components=7)"
      ],
      "metadata": {
        "colab": {
          "base_uri": "https://localhost:8080/"
        },
        "id": "73brUR41R4I4",
        "outputId": "91ef21f6-dfba-459b-f3be-597177df95b6"
      },
      "execution_count": 100,
      "outputs": [
        {
          "output_type": "stream",
          "name": "stdout",
          "text": [
            "a:[  9   0  10   0 116  57   8]\ta mapped to 4\n",
            "b:[  0   0 160   0  19   0  21]\tb mapped to 2\n",
            "c:[  0   0 114   0  76   0  10]\tc mapped to 2\n",
            "d:[105   0   0   0  10  80   5]\td mapped to 0\n",
            "e:[  0 166   0   0   0   0  34]\te mapped to 1\n",
            "f:[  9   0   0   0   1 189   1]\tf mapped to 5\n",
            "g:[  0   0   0 173   0   0  27]\tg mapped to 3\n"
          ]
        }
      ]
    },
    {
      "cell_type": "code",
      "source": [
        ""
      ],
      "metadata": {
        "id": "YhBrCr3_UOGt"
      },
      "execution_count": null,
      "outputs": []
    }
  ]
}