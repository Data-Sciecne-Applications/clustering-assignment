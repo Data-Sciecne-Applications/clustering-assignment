{
  "nbformat": 4,
  "nbformat_minor": 0,
  "metadata": {
    "colab": {
      "name": "Untitled0.ipynb",
      "provenance": [],
      "collapsed_sections": []
    },
    "kernelspec": {
      "name": "python3",
      "display_name": "Python 3"
    },
    "language_info": {
      "name": "python"
    }
  },
  "cells": [
    {
      "cell_type": "code",
      "source": [
        "!python -m pip install -U plotly\n",
        "!python -m pip install -U gensim\n",
        "!python -m pip install -U kneed\n",
        "!python -m pip install -U scikit-learn\n",
        "!python -m pip install -U pyLDAvis\n",
        "!python -m pip install -U torchvision \n",
        "!python -m pip install -U wordcloud"
      ],
      "metadata": {
        "colab": {
          "base_uri": "https://localhost:8080/"
        },
        "id": "C6NuVcIz7w8H",
        "outputId": "b87d0ac6-4a75-47fd-e5e4-30eb8ce56402"
      },
      "execution_count": 77,
      "outputs": [
        {
          "output_type": "stream",
          "name": "stdout",
          "text": [
            "Requirement already satisfied: plotly in /usr/local/lib/python3.7/dist-packages (5.6.0)\n",
            "Requirement already satisfied: tenacity>=6.2.0 in /usr/local/lib/python3.7/dist-packages (from plotly) (8.0.1)\n",
            "Requirement already satisfied: six in /usr/local/lib/python3.7/dist-packages (from plotly) (1.15.0)\n",
            "Requirement already satisfied: gensim in /usr/local/lib/python3.7/dist-packages (4.1.2)\n",
            "Requirement already satisfied: numpy>=1.17.0 in /usr/local/lib/python3.7/dist-packages (from gensim) (1.21.5)\n",
            "Requirement already satisfied: scipy>=0.18.1 in /usr/local/lib/python3.7/dist-packages (from gensim) (1.4.1)\n",
            "Requirement already satisfied: smart-open>=1.8.1 in /usr/local/lib/python3.7/dist-packages (from gensim) (5.2.1)\n",
            "Requirement already satisfied: kneed in /usr/local/lib/python3.7/dist-packages (0.7.0)\n",
            "Requirement already satisfied: matplotlib in /usr/local/lib/python3.7/dist-packages (from kneed) (3.2.2)\n",
            "Requirement already satisfied: numpy>=1.14.2 in /usr/local/lib/python3.7/dist-packages (from kneed) (1.21.5)\n",
            "Requirement already satisfied: scipy in /usr/local/lib/python3.7/dist-packages (from kneed) (1.4.1)\n",
            "Requirement already satisfied: python-dateutil>=2.1 in /usr/local/lib/python3.7/dist-packages (from matplotlib->kneed) (2.8.2)\n",
            "Requirement already satisfied: kiwisolver>=1.0.1 in /usr/local/lib/python3.7/dist-packages (from matplotlib->kneed) (1.3.2)\n",
            "Requirement already satisfied: pyparsing!=2.0.4,!=2.1.2,!=2.1.6,>=2.0.1 in /usr/local/lib/python3.7/dist-packages (from matplotlib->kneed) (3.0.7)\n",
            "Requirement already satisfied: cycler>=0.10 in /usr/local/lib/python3.7/dist-packages (from matplotlib->kneed) (0.11.0)\n",
            "Requirement already satisfied: six>=1.5 in /usr/local/lib/python3.7/dist-packages (from python-dateutil>=2.1->matplotlib->kneed) (1.15.0)\n",
            "Requirement already satisfied: scikit-learn in /usr/local/lib/python3.7/dist-packages (1.0.2)\n",
            "Requirement already satisfied: joblib>=0.11 in /usr/local/lib/python3.7/dist-packages (from scikit-learn) (1.1.0)\n",
            "Requirement already satisfied: threadpoolctl>=2.0.0 in /usr/local/lib/python3.7/dist-packages (from scikit-learn) (3.1.0)\n",
            "Requirement already satisfied: numpy>=1.14.6 in /usr/local/lib/python3.7/dist-packages (from scikit-learn) (1.21.5)\n",
            "Requirement already satisfied: scipy>=1.1.0 in /usr/local/lib/python3.7/dist-packages (from scikit-learn) (1.4.1)\n",
            "Requirement already satisfied: pyLDAvis in /usr/local/lib/python3.7/dist-packages (3.3.1)\n",
            "Requirement already satisfied: scipy in /usr/local/lib/python3.7/dist-packages (from pyLDAvis) (1.4.1)\n",
            "Requirement already satisfied: setuptools in /usr/local/lib/python3.7/dist-packages (from pyLDAvis) (57.4.0)\n",
            "Requirement already satisfied: funcy in /usr/local/lib/python3.7/dist-packages (from pyLDAvis) (1.17)\n",
            "Requirement already satisfied: numpy>=1.20.0 in /usr/local/lib/python3.7/dist-packages (from pyLDAvis) (1.21.5)\n",
            "Requirement already satisfied: numexpr in /usr/local/lib/python3.7/dist-packages (from pyLDAvis) (2.8.1)\n",
            "Requirement already satisfied: scikit-learn in /usr/local/lib/python3.7/dist-packages (from pyLDAvis) (1.0.2)\n",
            "Requirement already satisfied: pandas>=1.2.0 in /usr/local/lib/python3.7/dist-packages (from pyLDAvis) (1.3.5)\n",
            "Requirement already satisfied: future in /usr/local/lib/python3.7/dist-packages (from pyLDAvis) (0.16.0)\n",
            "Requirement already satisfied: sklearn in /usr/local/lib/python3.7/dist-packages (from pyLDAvis) (0.0)\n",
            "Requirement already satisfied: jinja2 in /usr/local/lib/python3.7/dist-packages (from pyLDAvis) (2.11.3)\n",
            "Requirement already satisfied: gensim in /usr/local/lib/python3.7/dist-packages (from pyLDAvis) (4.1.2)\n",
            "Requirement already satisfied: joblib in /usr/local/lib/python3.7/dist-packages (from pyLDAvis) (1.1.0)\n",
            "Requirement already satisfied: pytz>=2017.3 in /usr/local/lib/python3.7/dist-packages (from pandas>=1.2.0->pyLDAvis) (2018.9)\n",
            "Requirement already satisfied: python-dateutil>=2.7.3 in /usr/local/lib/python3.7/dist-packages (from pandas>=1.2.0->pyLDAvis) (2.8.2)\n",
            "Requirement already satisfied: six>=1.5 in /usr/local/lib/python3.7/dist-packages (from python-dateutil>=2.7.3->pandas>=1.2.0->pyLDAvis) (1.15.0)\n",
            "Requirement already satisfied: smart-open>=1.8.1 in /usr/local/lib/python3.7/dist-packages (from gensim->pyLDAvis) (5.2.1)\n",
            "Requirement already satisfied: MarkupSafe>=0.23 in /usr/local/lib/python3.7/dist-packages (from jinja2->pyLDAvis) (2.0.1)\n",
            "Requirement already satisfied: packaging in /usr/local/lib/python3.7/dist-packages (from numexpr->pyLDAvis) (21.3)\n",
            "Requirement already satisfied: pyparsing!=3.0.5,>=2.0.2 in /usr/local/lib/python3.7/dist-packages (from packaging->numexpr->pyLDAvis) (3.0.7)\n",
            "Requirement already satisfied: threadpoolctl>=2.0.0 in /usr/local/lib/python3.7/dist-packages (from scikit-learn->pyLDAvis) (3.1.0)\n",
            "Requirement already satisfied: torchvision in /usr/local/lib/python3.7/dist-packages (0.11.3)\n",
            "Requirement already satisfied: torch==1.10.2 in /usr/local/lib/python3.7/dist-packages (from torchvision) (1.10.2)\n",
            "Requirement already satisfied: pillow!=8.3.0,>=5.3.0 in /usr/local/lib/python3.7/dist-packages (from torchvision) (7.1.2)\n",
            "Requirement already satisfied: numpy in /usr/local/lib/python3.7/dist-packages (from torchvision) (1.21.5)\n",
            "Requirement already satisfied: typing-extensions in /usr/local/lib/python3.7/dist-packages (from torch==1.10.2->torchvision) (3.10.0.2)\n",
            "Requirement already satisfied: wordcloud in /usr/local/lib/python3.7/dist-packages (1.5.0)\n",
            "Collecting wordcloud\n",
            "  Downloading wordcloud-1.8.1-cp37-cp37m-manylinux1_x86_64.whl (366 kB)\n",
            "\u001b[K     |████████████████████████████████| 366 kB 4.9 MB/s \n",
            "\u001b[?25hRequirement already satisfied: matplotlib in /usr/local/lib/python3.7/dist-packages (from wordcloud) (3.2.2)\n",
            "Requirement already satisfied: pillow in /usr/local/lib/python3.7/dist-packages (from wordcloud) (7.1.2)\n",
            "Requirement already satisfied: numpy>=1.6.1 in /usr/local/lib/python3.7/dist-packages (from wordcloud) (1.21.5)\n",
            "Requirement already satisfied: cycler>=0.10 in /usr/local/lib/python3.7/dist-packages (from matplotlib->wordcloud) (0.11.0)\n",
            "Requirement already satisfied: python-dateutil>=2.1 in /usr/local/lib/python3.7/dist-packages (from matplotlib->wordcloud) (2.8.2)\n",
            "Requirement already satisfied: pyparsing!=2.0.4,!=2.1.2,!=2.1.6,>=2.0.1 in /usr/local/lib/python3.7/dist-packages (from matplotlib->wordcloud) (3.0.7)\n",
            "Requirement already satisfied: kiwisolver>=1.0.1 in /usr/local/lib/python3.7/dist-packages (from matplotlib->wordcloud) (1.3.2)\n",
            "Requirement already satisfied: six>=1.5 in /usr/local/lib/python3.7/dist-packages (from python-dateutil>=2.1->matplotlib->wordcloud) (1.15.0)\n",
            "Installing collected packages: wordcloud\n",
            "  Attempting uninstall: wordcloud\n",
            "    Found existing installation: wordcloud 1.5.0\n",
            "    Uninstalling wordcloud-1.5.0:\n",
            "      Successfully uninstalled wordcloud-1.5.0\n",
            "Successfully installed wordcloud-1.8.1\n"
          ]
        }
      ]
    },
    {
      "cell_type": "code",
      "source": [
        ""
      ],
      "metadata": {
        "id": "Z3Q05N-V3rzA"
      },
      "execution_count": null,
      "outputs": []
    },
    {
      "cell_type": "code",
      "execution_count": 2,
      "metadata": {
        "colab": {
          "base_uri": "https://localhost:8080/"
        },
        "id": "FaNCiaXG7sgh",
        "outputId": "e9ca28ac-1161-4493-a530-1b4031162509"
      },
      "outputs": [
        {
          "output_type": "stream",
          "name": "stderr",
          "text": [
            "/usr/local/lib/python3.7/dist-packages/past/types/oldstr.py:5: DeprecationWarning: Using or importing the ABCs from 'collections' instead of from 'collections.abc' is deprecated since Python 3.3,and in 3.9 it will stop working\n",
            "  from collections import Iterable\n",
            "/usr/local/lib/python3.7/dist-packages/past/builtins/misc.py:4: DeprecationWarning: Using or importing the ABCs from 'collections' instead of from 'collections.abc' is deprecated since Python 3.3,and in 3.9 it will stop working\n",
            "  from collections import Mapping\n"
          ]
        }
      ],
      "source": [
        "import numpy as np\n",
        "import pandas as pd\n",
        "from pprint import pprint# Gensim\n",
        "import gensim\n",
        "import gensim.corpora as corpora\n",
        "from gensim.utils import simple_preprocess\n",
        "from gensim.models import CoherenceModel# spaCy for preprocessing\n",
        "import spacy# Plotting tools\n",
        "import pyLDAvis\n",
        "\n",
        "import pyLDAvis.gensim_models as gensimvis\n",
        "import matplotlib.pyplot as plt\n",
        "%matplotlib inline\n",
        "from sklearn.cluster import KMeans\n",
        "from gensim.matutils import corpus2csc\n",
        "import torch\n",
        "import torchvision\n",
        "\n"
      ]
    },
    {
      "cell_type": "code",
      "source": [
        "import plotly.express as px\n",
        "import plotly.graph_objects as go\n",
        "import plotly.figure_factory as ff\n",
        "import matplotlib.pyplot as plt \n",
        "\n",
        "#!pip install kneed\n",
        "from kneed import KneeLocator\n",
        "\n",
        "from sklearn.cluster import KMeans \n",
        "from scipy.cluster import hierarchy \n",
        "from sklearn.cluster import AgglomerativeClustering \n",
        "from sklearn.mixture import GaussianMixture\n",
        "\n",
        "from gensim.models.doc2vec import Doc2Vec\n",
        "\n",
        "from gensim.models.coherencemodel import CoherenceModel\n",
        "from wordcloud import WordCloud\n",
        "\n"
      ],
      "metadata": {
        "id": "2ht5KktWC-wL"
      },
      "execution_count": 78,
      "outputs": []
    },
    {
      "cell_type": "code",
      "source": [
        "from google.colab import files\n",
        "files.upload()"
      ],
      "metadata": {
        "colab": {
          "resources": {
            "http://localhost:8080/nbextensions/google.colab/files.js": {
              "data": "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",
              "ok": true,
              "headers": [
                [
                  "content-type",
                  "application/javascript"
                ]
              ],
              "status": 200,
              "status_text": ""
            }
          },
          "base_uri": "https://localhost:8080/",
          "height": 113
        },
        "id": "TacB9zQxGGcx",
        "outputId": "7cdb73b6-dea4-42c2-85e7-ce006412f083"
      },
      "execution_count": 4,
      "outputs": [
        {
          "output_type": "display_data",
          "data": {
            "text/html": [
              "\n",
              "     <input type=\"file\" id=\"files-ccb0a237-026a-413e-864d-5a1fbfe3bbd9\" name=\"files[]\" multiple disabled\n",
              "        style=\"border:none\" />\n",
              "     <output id=\"result-ccb0a237-026a-413e-864d-5a1fbfe3bbd9\">\n",
              "      Upload widget is only available when the cell has been executed in the\n",
              "      current browser session. Please rerun this cell to enable.\n",
              "      </output>\n",
              "      <script src=\"/nbextensions/google.colab/files.js\"></script> "
            ],
            "text/plain": [
              "<IPython.core.display.HTML object>"
            ]
          },
          "metadata": {}
        },
        {
          "output_type": "stream",
          "name": "stdout",
          "text": [
            "Saving measures.py to measures.py\n"
          ]
        },
        {
          "output_type": "execute_result",
          "data": {
            "text/plain": [
              "{'measures.py': b'from typing import List\\r\\nfrom matplotlib.pyplot import cohere\\r\\nimport pandas as pd\\r\\nimport numpy as np\\r\\nfrom gensim.models import LsiModel\\r\\nfrom gensim.models.coherencemodel import CoherenceModel\\r\\nfrom sklearn.metrics import cohen_kappa_score, adjusted_rand_score, silhouette_score\\r\\n\\r\\n\"\"\"\\r\\ncalculate the best amount of topics for LSI model\\r\\n\"\"\"\\r\\ndef best_num_topic(corpus, dictionary, max_n_topic)->List:\\r\\n    np.random.seed(0)\\r\\n    results = []\\r\\n\\r\\n    for t in range(2, max_n_topic):\\r\\n        lsi_model = LsiModel(corpus, id2word=dictionary, num_topics=t)\\r\\n        corpus_lsi = lsi_model[corpus]\\r\\n\\r\\n        cm = CoherenceModel(model=lsi_model, corpus=corpus_lsi, coherence=\\'u_mass\\')\\r\\n        score = cm.get_coherence()\\r\\n        tup = t, score\\r\\n        results.append(tup)\\r\\n\\r\\n    results = pd.DataFrame(results, columns=[\\'topic\\', \\'score\\'])\\r\\n    # lowest score means the best\\r\\n    s = pd.Series(results.score.values, index=results.topic.values)\\r\\n    s.plot()\\r\\n\\r\\n    return results\\r\\n\\r\\n\"\"\"\\r\\ncalculate the best k for kmean based on silhouette score\\r\\n\"\"\"\\r\\ndef best_silhouette_score(model, corpus, dictionary, max_n_clusters, best_num_topic = 2):\\r\\n    np.random.seed(0)\\r\\n\\r\\n    results = []\\r\\n    lsi_model = LsiModel(corpus, id2word=dictionary, num_topics=best_num_topic)\\r\\n    corpus_lsi = lsi_model[corpus]\\r\\n\\r\\n    for t in range(2, max_n_clusters):\\r\\n \\r\\n        X = np.array([[tup[1] for tup in arr] for arr in corpus_lsi])\\r\\n        if \\'random_state\\' in model.get_params():\\r\\n            model.set_params(random_state = 0)\\r\\n        \\r\\n        models = model.set_params(n_clusters = t).fit(X)\\r\\n\\r\\n        score = silhouette_score(X, models.labels_)\\r\\n\\r\\n        tup = t, score\\r\\n        results.append(tup)\\r\\n    \\r\\n    results = pd.DataFrame(results, columns=[\\'topic\\', \\'score\\'])\\r\\n    s = pd.Series(results.score.values, index=results.topic.values)\\r\\n    _ = s.plot()\\r\\n\\r\\n    return results\\r\\n\\r\\ndef get_kappa(actual, pred):\\r\\n    kappa = cohen_kappa_score(actual, pred)\\r\\n    print(\"kappa: {}\".format(kappa))\\r\\n    return kappa\\r\\n\\r\\ndef get_rand_score(actual, pred):\\r\\n    rand_score= adjusted_rand_score(actual, pred)\\r\\n    print(\"rand score: {}\".format(rand_score))\\r\\n    return rand_score\\r\\n\\r\\ndef get_silhouette_score(X, pred):\\r\\n    score = silhouette_score(X, pred, random_state = 0)\\r\\n    print(\"silhouette score: {}\".format(score))\\r\\n    return score\\r\\n\\r\\ndef get_coherence(cm):\\r\\n    coherence = cm.get_coherence()\\r\\n    print(\"coherence: {}\".format(coherence))\\r\\n    return coherence\\r\\n\\r\\ndef label_to_cluster_num(pred, k, books):\\r\\n    pred_map = dict()\\r\\n    offset = [(ord(label) - ord(\\'a\\')) for label in books]\\r\\n\\r\\n    for i in range(0, k):\\r\\n        count = np.bincount(pred[i * 200 : i * 200 + 200])\\r\\n        count.resize((1,k), refcheck=False) # resize row\\'s dimension to 1xk\\r\\n        count = count[0]\\r\\n        index = np.where(count == max(count))[0][0]\\r\\n        label =  chr(ord(\\'a\\')+offset[i])\\r\\n        pred_map[label] = index\\r\\n        print(label + \":\" + np.array2string(count) + \"\\\\t\" + label + \" mapped to \" + str(index))\\r\\n\\r\\n    return pred_map'}"
            ]
          },
          "metadata": {},
          "execution_count": 4
        }
      ]
    },
    {
      "cell_type": "code",
      "source": [
        "import measures\n",
        "from measures import get_coherence\n",
        "from measures import get_silhouette_score\n"
      ],
      "metadata": {
        "id": "zeLs-WlNGMam"
      },
      "execution_count": 5,
      "outputs": []
    },
    {
      "cell_type": "code",
      "source": [
        "import plotly.io as pio\n",
        "pio.renderers.default = \"notebook\""
      ],
      "metadata": {
        "id": "qr8GlRAQDEhe"
      },
      "execution_count": 6,
      "outputs": []
    },
    {
      "cell_type": "code",
      "source": [
        "def make_SVDtsne_2d(df, label=None, books=('a','b','c','d','e','f','g')):\n",
        "  reduced = TruncatedSVD(n_components=7, random_state=0).fit_transform(df)\n",
        "\n",
        "  tsne_results = TSNE(n_components=2, \n",
        "                      perplexity=40, \n",
        "                      init='pca', # globally more stable to initialization\n",
        "                      learning_rate = 'auto',\n",
        "                      n_iter=1000, \n",
        "                      random_state=0).fit_transform(reduced)\n",
        "\n",
        "  df = pd.DataFrame()\n",
        "  df['tsne-2d-one'] = tsne_results[:,0]\n",
        "  df['tsne-2d-two'] = tsne_results[:,1]\n",
        "  df['label_True'] = df_out['label'].loc[df_out['label'].isin(books)].reset_index(drop=True)\n",
        "  print(df)\n",
        "  if label is not None:\n",
        "    dic = dict(enumerate(df_out['label'].loc[df_out['label'].isin(books)].unique()))\n",
        "    lbl = list(label)\n",
        "    for i, l in zip(range(0,len(lbl)), lbl):\n",
        "      try:\n",
        "        lbl[i] = dic[l].upper()\n",
        "      except:\n",
        "        lbl[i] = 'Outlier'\n",
        "    df['label_Pred'] = lbl\n",
        "  \n",
        "  print(df)\n",
        "  if label is None: fig = px.scatter(df, x='tsne-2d-one', y='tsne-2d-two', color=\"label_True\", symbol=\"label_True\", width=1200, height=900)\n",
        "  if label is not None: fig = px.scatter(df, x='tsne-2d-one', y='tsne-2d-two', color=\"label_Pred\", symbol=\"label_True\", width=1200, height=900)\n",
        "\n",
        "  fig.show()\n"
      ],
      "metadata": {
        "id": "uurAus-Y-VXq"
      },
      "execution_count": 7,
      "outputs": []
    },
    {
      "cell_type": "code",
      "source": [
        "def make_tsne_2d(df, label=None, books=('a','b','c','d','e','f','g')):\n",
        "    # need to read raw our.csv first\n",
        "    # df must be vectorized DataFrame\n",
        "    \n",
        "    tsne = TSNE(n_components=2, perplexity=40, n_iter=1000, random_state=0)\n",
        "    tsne_results = tsne.fit_transform(df)\n",
        "    \n",
        "    df = pd.DataFrame()\n",
        "    df['tsne-2d-one'] = tsne_results[:,0]\n",
        "    df['tsne-2d-two'] = tsne_results[:,1]\n",
        "    df['label_True'] = df_out['label'].loc[df_out['label'].isin(books)].reset_index(drop=True)\n",
        "    if label is not None:\n",
        "      dic = dict(enumerate(df_out['label'].unique()))\n",
        "      lbl = list(label)\n",
        "      for i, l in zip(range(0,len(lbl)), lbl):\n",
        "        try:\n",
        "          lbl[i] = dic[l].upper()\n",
        "        except:\n",
        "          lbl[i] = 'Outlier'\n",
        "      df['label_Pred'] = lbl\n",
        "    \n",
        "    if label is None: fig = px.scatter(df, x='tsne-2d-one', y='tsne-2d-two', color=\"label_True\", symbol=\"label_True\", width=1200, height=900)\n",
        "    if label is not None: fig = px.scatter(df, x='tsne-2d-one', y='tsne-2d-two', color=\"label_Pred\", symbol=\"label_True\", width=1200, height=900)\n",
        "    fig.show()"
      ],
      "metadata": {
        "id": "26w1gfLoDwCr"
      },
      "execution_count": 8,
      "outputs": []
    },
    {
      "cell_type": "code",
      "source": [
        "def elbow_method(data, number):\n",
        "    wcss = []\n",
        "    for i in range(1, number+1):\n",
        "        kmeans = KMeans(n_clusters=i, init='k-means++', max_iter=300, n_init=10, random_state=0)\n",
        "        kmeans.fit(data)\n",
        "        wcss.append(kmeans.inertia_)\n",
        "    kn = KneeLocator(range(1, 10+1), wcss, curve='convex', direction='decreasing')\n",
        "\n",
        "    fig = go.Figure()\n",
        "    fig.add_trace(go.Scatter(x=list(range(1, number+1)),\n",
        "                            y=wcss))\n",
        "    fig.add_vline(x=kn.knee, line_width=3, line_dash=\"dash\", line_color=\"green\")\n",
        "\n",
        "    fig.update_layout(title='Elbow Method',\n",
        "                      xaxis_title='Number of clusters',\n",
        "                      yaxis_title='WCSS',\n",
        "                      title_x=0.5,\n",
        "                      height=500, \n",
        "                      width=800)\n",
        "    fig.show()"
      ],
      "metadata": {
        "id": "K00zUPB0DxWU"
      },
      "execution_count": 9,
      "outputs": []
    },
    {
      "cell_type": "code",
      "source": [
        "def label_to_cluster_num(pred, k, books):\n",
        "    pred_map = dict()\n",
        "    offset = [(ord(label) - ord('a')) for label in books]\n",
        "\n",
        "    for i in range(0, k):\n",
        "        count = np.bincount(pred[i * 200 : i * 200 + 200])\n",
        "        count.resize((1,k), refcheck=False) # resize row's dimension to 1xk\n",
        "        count = count[0]\n",
        "        index = np.where(count == max(count))[0][0]\n",
        "        label =  chr(ord('a')+offset[i])\n",
        "        pred_map[label] = index\n",
        "        print(label + \":\" + np.array2string(count) + \"\\t\" + label + \" mapped to \" + str(index))\n",
        "\n",
        "    return pred_map"
      ],
      "metadata": {
        "id": "QrapsQdcP93q"
      },
      "execution_count": 10,
      "outputs": []
    },
    {
      "cell_type": "code",
      "source": [
        "def compare_predict(trans_data, data, modl, vidl = None,\n",
        "  n_clusters=5,\n",
        "  linkage='average',\n",
        "  n_components = 2,\n",
        "  covariance_type = 'diag',\n",
        "  random_state = 0,\n",
        "  books=('a','b','c','d','e','f','g')):\n",
        "\n",
        "  X = trans_data[data['label'].isin(books)]\n",
        "\n",
        "  # clustering parameters\n",
        "  if 'n_clusters' in modl.get_params():\n",
        "    modl.set_params(n_clusters = n_clusters)\n",
        "  if 'linkage' in modl.get_params():\n",
        "    modl.set_params(linkage = linkage)\n",
        "  # em parameters\n",
        "  if 'n_components' in modl.get_params():\n",
        "    modl.set_params(n_components = n_components)\n",
        "  if 'covariance_type' in modl.get_params():\n",
        "    modl.set_params(covariance_type = covariance_type)\n",
        "  if 'random_state' in modl.get_params():\n",
        "    modl.set_params(random_state = random_state)\n",
        "\n",
        "  pred = modl.fit_predict(X)\n",
        "\n",
        "  pred_map = label_to_cluster_num(pred=pred, k=len(books), books= books)\n",
        "  label_data_in_books = data[data['label'].isin(books)]['label'] # retrieve label rows that belongs to any of the books\n",
        "  mapped_label = [pred_map[label] for label in label_data_in_books]\n",
        "\n",
        "  if vidl is not None:\n",
        "    if vidl == 'tsne':\n",
        "      make_tsne_2d(X, pred, books)\n",
        "    if vidl == 'SVDtsne':\n",
        "      make_SVDtsne_2d(X, pred, books)\n",
        "\n",
        "  return modl, pred, mapped_label"
      ],
      "metadata": {
        "id": "aKy813l5D41i"
      },
      "execution_count": 11,
      "outputs": []
    },
    {
      "cell_type": "code",
      "source": [
        "url = 'https://drive.google.com/file/d/1NmGTSp5CLiCTPlQgP614TvNNv1TXDewU/view?usp=sharin'\n",
        "url='https://drive.google.com/uc?id=' + url.split('/')[-2]\n",
        "df_out = pd.read_csv(url)\n",
        "\n",
        "df_out.drop('Unnamed: 0', axis=1, inplace=True)\n",
        "df_out"
      ],
      "metadata": {
        "colab": {
          "base_uri": "https://localhost:8080/",
          "height": 423
        },
        "id": "X0reMYjN8Aid",
        "outputId": "752322df-751a-4a54-8d7e-c8e4a87bdfd0"
      },
      "execution_count": 12,
      "outputs": [
        {
          "output_type": "execute_result",
          "data": {
            "text/html": [
              "\n",
              "  <div id=\"df-3fe4f32b-ee82-47c9-a4dd-7bafcd7a8f1a\">\n",
              "    <div class=\"colab-df-container\">\n",
              "      <div>\n",
              "<style scoped>\n",
              "    .dataframe tbody tr th:only-of-type {\n",
              "        vertical-align: middle;\n",
              "    }\n",
              "\n",
              "    .dataframe tbody tr th {\n",
              "        vertical-align: top;\n",
              "    }\n",
              "\n",
              "    .dataframe thead th {\n",
              "        text-align: right;\n",
              "    }\n",
              "</style>\n",
              "<table border=\"1\" class=\"dataframe\">\n",
              "  <thead>\n",
              "    <tr style=\"text-align: right;\">\n",
              "      <th></th>\n",
              "      <th>segment</th>\n",
              "      <th>label</th>\n",
              "    </tr>\n",
              "  </thead>\n",
              "  <tbody>\n",
              "    <tr>\n",
              "      <th>0</th>\n",
              "      <td>act known circumst harm may accept gener test ...</td>\n",
              "      <td>a</td>\n",
              "    </tr>\n",
              "    <tr>\n",
              "      <th>1</th>\n",
              "      <td>aris whether represent part contract If contra...</td>\n",
              "      <td>a</td>\n",
              "    </tr>\n",
              "    <tr>\n",
              "      <th>2</th>\n",
              "      <td>section cite godbolt see F. N. B G fitzh abr d...</td>\n",
              "      <td>a</td>\n",
              "    </tr>\n",
              "    <tr>\n",
              "      <th>3</th>\n",
              "      <td>row bell c.c see treasur hidden anoth land D. ...</td>\n",
              "      <td>a</td>\n",
              "    </tr>\n",
              "    <tr>\n",
              "      <th>4</th>\n",
              "      <td>give trespass pretti nearli thing action case ...</td>\n",
              "      <td>a</td>\n",
              "    </tr>\n",
              "    <tr>\n",
              "      <th>...</th>\n",
              "      <td>...</td>\n",
              "      <td>...</td>\n",
              "    </tr>\n",
              "    <tr>\n",
              "      <th>1395</th>\n",
              "      <td>lamb chop fri tomato potato la crãªme rais bis...</td>\n",
              "      <td>g</td>\n",
              "    </tr>\n",
              "    <tr>\n",
              "      <th>1396</th>\n",
              "      <td>glass rhine wine IV glass water V glass champa...</td>\n",
              "      <td>g</td>\n",
              "    </tr>\n",
              "    <tr>\n",
              "      <th>1397</th>\n",
              "      <td>cover cloth set away cool place hour dinner ti...</td>\n",
              "      <td>g</td>\n",
              "    </tr>\n",
              "    <tr>\n",
              "      <th>1398</th>\n",
              "      <td>transpar veil egg cook white firm lift griddl ...</td>\n",
              "      <td>g</td>\n",
              "    </tr>\n",
              "    <tr>\n",
              "      <th>1399</th>\n",
              "      <td>pear pickl bun plum cobbler tea dinner scotch ...</td>\n",
              "      <td>g</td>\n",
              "    </tr>\n",
              "  </tbody>\n",
              "</table>\n",
              "<p>1400 rows × 2 columns</p>\n",
              "</div>\n",
              "      <button class=\"colab-df-convert\" onclick=\"convertToInteractive('df-3fe4f32b-ee82-47c9-a4dd-7bafcd7a8f1a')\"\n",
              "              title=\"Convert this dataframe to an interactive table.\"\n",
              "              style=\"display:none;\">\n",
              "        \n",
              "  <svg xmlns=\"http://www.w3.org/2000/svg\" height=\"24px\"viewBox=\"0 0 24 24\"\n",
              "       width=\"24px\">\n",
              "    <path d=\"M0 0h24v24H0V0z\" fill=\"none\"/>\n",
              "    <path d=\"M18.56 5.44l.94 2.06.94-2.06 2.06-.94-2.06-.94-.94-2.06-.94 2.06-2.06.94zm-11 1L8.5 8.5l.94-2.06 2.06-.94-2.06-.94L8.5 2.5l-.94 2.06-2.06.94zm10 10l.94 2.06.94-2.06 2.06-.94-2.06-.94-.94-2.06-.94 2.06-2.06.94z\"/><path d=\"M17.41 7.96l-1.37-1.37c-.4-.4-.92-.59-1.43-.59-.52 0-1.04.2-1.43.59L10.3 9.45l-7.72 7.72c-.78.78-.78 2.05 0 2.83L4 21.41c.39.39.9.59 1.41.59.51 0 1.02-.2 1.41-.59l7.78-7.78 2.81-2.81c.8-.78.8-2.07 0-2.86zM5.41 20L4 18.59l7.72-7.72 1.47 1.35L5.41 20z\"/>\n",
              "  </svg>\n",
              "      </button>\n",
              "      \n",
              "  <style>\n",
              "    .colab-df-container {\n",
              "      display:flex;\n",
              "      flex-wrap:wrap;\n",
              "      gap: 12px;\n",
              "    }\n",
              "\n",
              "    .colab-df-convert {\n",
              "      background-color: #E8F0FE;\n",
              "      border: none;\n",
              "      border-radius: 50%;\n",
              "      cursor: pointer;\n",
              "      display: none;\n",
              "      fill: #1967D2;\n",
              "      height: 32px;\n",
              "      padding: 0 0 0 0;\n",
              "      width: 32px;\n",
              "    }\n",
              "\n",
              "    .colab-df-convert:hover {\n",
              "      background-color: #E2EBFA;\n",
              "      box-shadow: 0px 1px 2px rgba(60, 64, 67, 0.3), 0px 1px 3px 1px rgba(60, 64, 67, 0.15);\n",
              "      fill: #174EA6;\n",
              "    }\n",
              "\n",
              "    [theme=dark] .colab-df-convert {\n",
              "      background-color: #3B4455;\n",
              "      fill: #D2E3FC;\n",
              "    }\n",
              "\n",
              "    [theme=dark] .colab-df-convert:hover {\n",
              "      background-color: #434B5C;\n",
              "      box-shadow: 0px 1px 3px 1px rgba(0, 0, 0, 0.15);\n",
              "      filter: drop-shadow(0px 1px 2px rgba(0, 0, 0, 0.3));\n",
              "      fill: #FFFFFF;\n",
              "    }\n",
              "  </style>\n",
              "\n",
              "      <script>\n",
              "        const buttonEl =\n",
              "          document.querySelector('#df-3fe4f32b-ee82-47c9-a4dd-7bafcd7a8f1a button.colab-df-convert');\n",
              "        buttonEl.style.display =\n",
              "          google.colab.kernel.accessAllowed ? 'block' : 'none';\n",
              "\n",
              "        async function convertToInteractive(key) {\n",
              "          const element = document.querySelector('#df-3fe4f32b-ee82-47c9-a4dd-7bafcd7a8f1a');\n",
              "          const dataTable =\n",
              "            await google.colab.kernel.invokeFunction('convertToInteractive',\n",
              "                                                     [key], {});\n",
              "          if (!dataTable) return;\n",
              "\n",
              "          const docLinkHtml = 'Like what you see? Visit the ' +\n",
              "            '<a target=\"_blank\" href=https://colab.research.google.com/notebooks/data_table.ipynb>data table notebook</a>'\n",
              "            + ' to learn more about interactive tables.';\n",
              "          element.innerHTML = '';\n",
              "          dataTable['output_type'] = 'display_data';\n",
              "          await google.colab.output.renderOutput(dataTable, element);\n",
              "          const docLink = document.createElement('div');\n",
              "          docLink.innerHTML = docLinkHtml;\n",
              "          element.appendChild(docLink);\n",
              "        }\n",
              "      </script>\n",
              "    </div>\n",
              "  </div>\n",
              "  "
            ],
            "text/plain": [
              "                                                segment label\n",
              "0     act known circumst harm may accept gener test ...     a\n",
              "1     aris whether represent part contract If contra...     a\n",
              "2     section cite godbolt see F. N. B G fitzh abr d...     a\n",
              "3     row bell c.c see treasur hidden anoth land D. ...     a\n",
              "4     give trespass pretti nearli thing action case ...     a\n",
              "...                                                 ...   ...\n",
              "1395  lamb chop fri tomato potato la crãªme rais bis...     g\n",
              "1396  glass rhine wine IV glass water V glass champa...     g\n",
              "1397  cover cloth set away cool place hour dinner ti...     g\n",
              "1398  transpar veil egg cook white firm lift griddl ...     g\n",
              "1399  pear pickl bun plum cobbler tea dinner scotch ...     g\n",
              "\n",
              "[1400 rows x 2 columns]"
            ]
          },
          "metadata": {},
          "execution_count": 12
        }
      ]
    },
    {
      "cell_type": "code",
      "source": [
        "lda_df_out = df_out.copy()"
      ],
      "metadata": {
        "id": "k0_J8guIovHf"
      },
      "execution_count": 13,
      "outputs": []
    },
    {
      "cell_type": "code",
      "source": [
        "\n",
        "for i in range(len(lda_df_out.index)):\n",
        "  lda_df_out['segment'][i] = lda_df_out['segment'][i].split()\n",
        "\n",
        "data_lemmatized = lda_df_out['segment'].tolist()\n",
        "# Create Dictionary \n",
        "id2word = corpora.Dictionary(data_lemmatized)  \n",
        "# Create Corpus \n",
        "texts = data_lemmatized  \n",
        "# Term Document Frequency \n",
        "corpus = [id2word.doc2bow(text) for text in texts]  "
      ],
      "metadata": {
        "id": "k20_8hI18KX_"
      },
      "execution_count": 14,
      "outputs": []
    },
    {
      "cell_type": "code",
      "source": [
        "from google.colab import drive\n",
        "drive.mount('/content/gdrive')"
      ],
      "metadata": {
        "colab": {
          "base_uri": "https://localhost:8080/"
        },
        "id": "NdZEjkOUQ95J",
        "outputId": "49e3942e-2e4a-45d9-b9ea-560c5773484d"
      },
      "execution_count": 15,
      "outputs": [
        {
          "output_type": "stream",
          "name": "stdout",
          "text": [
            "Mounted at /content/gdrive\n"
          ]
        }
      ]
    },
    {
      "cell_type": "code",
      "source": [
        "model_save_name = 'lda7_4.model'\n",
        "path = F\"/content/gdrive/My Drive/{model_save_name}\" \n",
        "optimal_model = torch.load(path)"
      ],
      "metadata": {
        "id": "DvlPfQXjlx4Z"
      },
      "execution_count": 20,
      "outputs": []
    },
    {
      "cell_type": "code",
      "source": [
        "model_save_name = 'lda7_5.model'\n",
        "path = F\"/content/gdrive/My Drive/{model_save_name}\" \n",
        "five_model = torch.load(path)\n"
      ],
      "metadata": {
        "id": "bYd8rFBu9ozO"
      },
      "execution_count": 17,
      "outputs": []
    },
    {
      "cell_type": "code",
      "source": [
        "model_save_name = 'lda7_7.model'\n",
        "path = F\"/content/gdrive/My Drive/{model_save_name}\" \n",
        "seven_model = torch.load(path)"
      ],
      "metadata": {
        "id": "kSsywNp3dYtZ"
      },
      "execution_count": 18,
      "outputs": []
    },
    {
      "cell_type": "code",
      "source": [
        "df_lda = np.zeros(shape=(1400,4))\n",
        "for i, row in enumerate(optimal_model[corpus]):\n",
        "  for  j, (topic_num, prop_topic) in enumerate(row):\n",
        "    df_lda[i, topic_num] = prop_topic"
      ],
      "metadata": {
        "id": "A0aSjqOk--zA"
      },
      "execution_count": 21,
      "outputs": []
    },
    {
      "cell_type": "code",
      "source": [
        "print(df_lda)"
      ],
      "metadata": {
        "colab": {
          "base_uri": "https://localhost:8080/"
        },
        "id": "aT1aDh18_eXo",
        "outputId": "7050d194-b919-4293-a412-f8267df49dc8"
      },
      "execution_count": 22,
      "outputs": [
        {
          "output_type": "stream",
          "name": "stdout",
          "text": [
            "[[0.         0.         0.99924737 0.        ]\n",
            " [0.         0.0608542  0.9387368  0.        ]\n",
            " [0.         0.9991495  0.         0.        ]\n",
            " ...\n",
            " [0.         0.         0.         0.9990254 ]\n",
            " [0.         0.         0.         0.99902517]\n",
            " [0.         0.         0.         0.99902523]]\n"
          ]
        }
      ]
    },
    {
      "cell_type": "code",
      "source": [
        "df_lda5 = np.zeros(shape=(1400,5))\n",
        "for i, row in enumerate(five_model[corpus]):\n",
        "  for  j, (topic_num, prop_topic) in enumerate(row):\n",
        "    df_lda5[i, topic_num] = prop_topic"
      ],
      "metadata": {
        "id": "vHcLij1_du6n"
      },
      "execution_count": 23,
      "outputs": []
    },
    {
      "cell_type": "code",
      "source": [
        "df_lda7 = np.zeros(shape=(1400,7))\n",
        "for i, row in enumerate(seven_model[corpus]):\n",
        "  for  j, (topic_num, prop_topic) in enumerate(row):\n",
        "    df_lda7[i, topic_num] = prop_topic"
      ],
      "metadata": {
        "id": "-MkHf6eQdyH4"
      },
      "execution_count": 24,
      "outputs": []
    },
    {
      "cell_type": "code",
      "source": [
        "print(df_lda5)"
      ],
      "metadata": {
        "colab": {
          "base_uri": "https://localhost:8080/"
        },
        "id": "o-kDa90MebkV",
        "outputId": "325a8454-90a9-44fe-e430-5fb14912e7c5"
      },
      "execution_count": 25,
      "outputs": [
        {
          "output_type": "stream",
          "name": "stdout",
          "text": [
            "[[0.         0.         0.7632798  0.         0.23618729]\n",
            " [0.         0.         0.59059352 0.         0.40887353]\n",
            " [0.         0.99898064 0.         0.         0.        ]\n",
            " ...\n",
            " [0.         0.         0.         0.99895149 0.        ]\n",
            " [0.         0.         0.         0.9989512  0.        ]\n",
            " [0.         0.         0.         0.99895126 0.        ]]\n"
          ]
        }
      ]
    },
    {
      "cell_type": "code",
      "source": [
        "print(df_lda7)"
      ],
      "metadata": {
        "colab": {
          "base_uri": "https://localhost:8080/"
        },
        "id": "kKwztz8cekGf",
        "outputId": "506b1bf5-89cd-4e54-9754-a234fbd59ca4"
      },
      "execution_count": 26,
      "outputs": [
        {
          "output_type": "stream",
          "name": "stdout",
          "text": [
            "[[0.         0.0513428  0.05730856 ... 0.74287355 0.         0.14032833]\n",
            " [0.02984705 0.         0.33032367 ... 0.6386537  0.         0.        ]\n",
            " [0.         0.         0.58845824 ... 0.04419534 0.14674935 0.08808335]\n",
            " ...\n",
            " [0.         0.         0.         ... 0.         0.         0.        ]\n",
            " [0.         0.         0.         ... 0.         0.06113566 0.        ]\n",
            " [0.         0.         0.         ... 0.         0.         0.        ]]\n"
          ]
        }
      ]
    },
    {
      "cell_type": "code",
      "source": [
        "lda_kmeans4, lda_kmeans4_pred, lda_kmeans4_cluster_num = compare_predict(df_lda, df_out, KMeans(), n_clusters= 4)"
      ],
      "metadata": {
        "colab": {
          "base_uri": "https://localhost:8080/"
        },
        "id": "Q-jGgP7LD9Hz",
        "outputId": "38f9e665-35cb-4024-ca46-46b9a88020ca"
      },
      "execution_count": 27,
      "outputs": [
        {
          "output_type": "stream",
          "name": "stdout",
          "text": [
            "a:[169   1  28   2   0   0   0]\ta mapped to 0\n",
            "b:[  1   0 199   0   0   0   0]\tb mapped to 2\n",
            "c:[  3   0 197   0   0   0   0]\tc mapped to 2\n",
            "d:[197   1   0   2   0   0   0]\td mapped to 0\n",
            "e:[  1 199   0   0   0   0   0]\te mapped to 1\n",
            "f:[200   0   0   0   0   0   0]\tf mapped to 0\n",
            "g:[  0   1   0 199   0   0   0]\tg mapped to 3\n"
          ]
        }
      ]
    },
    {
      "cell_type": "code",
      "source": [
        "df_train_comp = pd.DataFrame({'predicted_label':lda_kmeans4_pred,\n",
        "                              'mapped_label':lda_kmeans4_cluster_num\n",
        "                              })"
      ],
      "metadata": {
        "id": "wYE5ZqcweqoT"
      },
      "execution_count": 28,
      "outputs": []
    },
    {
      "cell_type": "code",
      "source": [
        "df_train_comp"
      ],
      "metadata": {
        "colab": {
          "base_uri": "https://localhost:8080/",
          "height": 423
        },
        "id": "LZtVlVTnRMWN",
        "outputId": "86c648a6-9c46-4790-b0b6-9f4c47974702"
      },
      "execution_count": 29,
      "outputs": [
        {
          "output_type": "execute_result",
          "data": {
            "text/html": [
              "\n",
              "  <div id=\"df-1159caec-1581-4813-a473-fae3610f96b2\">\n",
              "    <div class=\"colab-df-container\">\n",
              "      <div>\n",
              "<style scoped>\n",
              "    .dataframe tbody tr th:only-of-type {\n",
              "        vertical-align: middle;\n",
              "    }\n",
              "\n",
              "    .dataframe tbody tr th {\n",
              "        vertical-align: top;\n",
              "    }\n",
              "\n",
              "    .dataframe thead th {\n",
              "        text-align: right;\n",
              "    }\n",
              "</style>\n",
              "<table border=\"1\" class=\"dataframe\">\n",
              "  <thead>\n",
              "    <tr style=\"text-align: right;\">\n",
              "      <th></th>\n",
              "      <th>predicted_label</th>\n",
              "      <th>mapped_label</th>\n",
              "    </tr>\n",
              "  </thead>\n",
              "  <tbody>\n",
              "    <tr>\n",
              "      <th>0</th>\n",
              "      <td>0</td>\n",
              "      <td>0</td>\n",
              "    </tr>\n",
              "    <tr>\n",
              "      <th>1</th>\n",
              "      <td>0</td>\n",
              "      <td>0</td>\n",
              "    </tr>\n",
              "    <tr>\n",
              "      <th>2</th>\n",
              "      <td>2</td>\n",
              "      <td>0</td>\n",
              "    </tr>\n",
              "    <tr>\n",
              "      <th>3</th>\n",
              "      <td>2</td>\n",
              "      <td>0</td>\n",
              "    </tr>\n",
              "    <tr>\n",
              "      <th>4</th>\n",
              "      <td>0</td>\n",
              "      <td>0</td>\n",
              "    </tr>\n",
              "    <tr>\n",
              "      <th>...</th>\n",
              "      <td>...</td>\n",
              "      <td>...</td>\n",
              "    </tr>\n",
              "    <tr>\n",
              "      <th>1395</th>\n",
              "      <td>3</td>\n",
              "      <td>3</td>\n",
              "    </tr>\n",
              "    <tr>\n",
              "      <th>1396</th>\n",
              "      <td>3</td>\n",
              "      <td>3</td>\n",
              "    </tr>\n",
              "    <tr>\n",
              "      <th>1397</th>\n",
              "      <td>3</td>\n",
              "      <td>3</td>\n",
              "    </tr>\n",
              "    <tr>\n",
              "      <th>1398</th>\n",
              "      <td>3</td>\n",
              "      <td>3</td>\n",
              "    </tr>\n",
              "    <tr>\n",
              "      <th>1399</th>\n",
              "      <td>3</td>\n",
              "      <td>3</td>\n",
              "    </tr>\n",
              "  </tbody>\n",
              "</table>\n",
              "<p>1400 rows × 2 columns</p>\n",
              "</div>\n",
              "      <button class=\"colab-df-convert\" onclick=\"convertToInteractive('df-1159caec-1581-4813-a473-fae3610f96b2')\"\n",
              "              title=\"Convert this dataframe to an interactive table.\"\n",
              "              style=\"display:none;\">\n",
              "        \n",
              "  <svg xmlns=\"http://www.w3.org/2000/svg\" height=\"24px\"viewBox=\"0 0 24 24\"\n",
              "       width=\"24px\">\n",
              "    <path d=\"M0 0h24v24H0V0z\" fill=\"none\"/>\n",
              "    <path d=\"M18.56 5.44l.94 2.06.94-2.06 2.06-.94-2.06-.94-.94-2.06-.94 2.06-2.06.94zm-11 1L8.5 8.5l.94-2.06 2.06-.94-2.06-.94L8.5 2.5l-.94 2.06-2.06.94zm10 10l.94 2.06.94-2.06 2.06-.94-2.06-.94-.94-2.06-.94 2.06-2.06.94z\"/><path d=\"M17.41 7.96l-1.37-1.37c-.4-.4-.92-.59-1.43-.59-.52 0-1.04.2-1.43.59L10.3 9.45l-7.72 7.72c-.78.78-.78 2.05 0 2.83L4 21.41c.39.39.9.59 1.41.59.51 0 1.02-.2 1.41-.59l7.78-7.78 2.81-2.81c.8-.78.8-2.07 0-2.86zM5.41 20L4 18.59l7.72-7.72 1.47 1.35L5.41 20z\"/>\n",
              "  </svg>\n",
              "      </button>\n",
              "      \n",
              "  <style>\n",
              "    .colab-df-container {\n",
              "      display:flex;\n",
              "      flex-wrap:wrap;\n",
              "      gap: 12px;\n",
              "    }\n",
              "\n",
              "    .colab-df-convert {\n",
              "      background-color: #E8F0FE;\n",
              "      border: none;\n",
              "      border-radius: 50%;\n",
              "      cursor: pointer;\n",
              "      display: none;\n",
              "      fill: #1967D2;\n",
              "      height: 32px;\n",
              "      padding: 0 0 0 0;\n",
              "      width: 32px;\n",
              "    }\n",
              "\n",
              "    .colab-df-convert:hover {\n",
              "      background-color: #E2EBFA;\n",
              "      box-shadow: 0px 1px 2px rgba(60, 64, 67, 0.3), 0px 1px 3px 1px rgba(60, 64, 67, 0.15);\n",
              "      fill: #174EA6;\n",
              "    }\n",
              "\n",
              "    [theme=dark] .colab-df-convert {\n",
              "      background-color: #3B4455;\n",
              "      fill: #D2E3FC;\n",
              "    }\n",
              "\n",
              "    [theme=dark] .colab-df-convert:hover {\n",
              "      background-color: #434B5C;\n",
              "      box-shadow: 0px 1px 3px 1px rgba(0, 0, 0, 0.15);\n",
              "      filter: drop-shadow(0px 1px 2px rgba(0, 0, 0, 0.3));\n",
              "      fill: #FFFFFF;\n",
              "    }\n",
              "  </style>\n",
              "\n",
              "      <script>\n",
              "        const buttonEl =\n",
              "          document.querySelector('#df-1159caec-1581-4813-a473-fae3610f96b2 button.colab-df-convert');\n",
              "        buttonEl.style.display =\n",
              "          google.colab.kernel.accessAllowed ? 'block' : 'none';\n",
              "\n",
              "        async function convertToInteractive(key) {\n",
              "          const element = document.querySelector('#df-1159caec-1581-4813-a473-fae3610f96b2');\n",
              "          const dataTable =\n",
              "            await google.colab.kernel.invokeFunction('convertToInteractive',\n",
              "                                                     [key], {});\n",
              "          if (!dataTable) return;\n",
              "\n",
              "          const docLinkHtml = 'Like what you see? Visit the ' +\n",
              "            '<a target=\"_blank\" href=https://colab.research.google.com/notebooks/data_table.ipynb>data table notebook</a>'\n",
              "            + ' to learn more about interactive tables.';\n",
              "          element.innerHTML = '';\n",
              "          dataTable['output_type'] = 'display_data';\n",
              "          await google.colab.output.renderOutput(dataTable, element);\n",
              "          const docLink = document.createElement('div');\n",
              "          docLink.innerHTML = docLinkHtml;\n",
              "          element.appendChild(docLink);\n",
              "        }\n",
              "      </script>\n",
              "    </div>\n",
              "  </div>\n",
              "  "
            ],
            "text/plain": [
              "      predicted_label  mapped_label\n",
              "0                   0             0\n",
              "1                   0             0\n",
              "2                   2             0\n",
              "3                   2             0\n",
              "4                   0             0\n",
              "...               ...           ...\n",
              "1395                3             3\n",
              "1396                3             3\n",
              "1397                3             3\n",
              "1398                3             3\n",
              "1399                3             3\n",
              "\n",
              "[1400 rows x 2 columns]"
            ]
          },
          "metadata": {},
          "execution_count": 29
        }
      ]
    },
    {
      "cell_type": "code",
      "source": [
        "df_new = pd.concat([df_out, df_train_comp], axis=1)\n",
        "df_new_a =df_new[0:200]\n",
        "df_a_error = df_new_a.loc[df_new_a['predicted_label'] == 2]"
      ],
      "metadata": {
        "id": "2k-G-ixegzc0"
      },
      "execution_count": 30,
      "outputs": []
    },
    {
      "cell_type": "code",
      "source": [
        "df_a_error"
      ],
      "metadata": {
        "colab": {
          "base_uri": "https://localhost:8080/",
          "height": 926
        },
        "id": "WTch6kzxhMId",
        "outputId": "43517de9-0db9-49f6-843f-4943eab98c9b"
      },
      "execution_count": 31,
      "outputs": [
        {
          "output_type": "execute_result",
          "data": {
            "text/html": [
              "\n",
              "  <div id=\"df-a8abd5e0-1560-40cc-bb4a-a4a357d6e846\">\n",
              "    <div class=\"colab-df-container\">\n",
              "      <div>\n",
              "<style scoped>\n",
              "    .dataframe tbody tr th:only-of-type {\n",
              "        vertical-align: middle;\n",
              "    }\n",
              "\n",
              "    .dataframe tbody tr th {\n",
              "        vertical-align: top;\n",
              "    }\n",
              "\n",
              "    .dataframe thead th {\n",
              "        text-align: right;\n",
              "    }\n",
              "</style>\n",
              "<table border=\"1\" class=\"dataframe\">\n",
              "  <thead>\n",
              "    <tr style=\"text-align: right;\">\n",
              "      <th></th>\n",
              "      <th>segment</th>\n",
              "      <th>label</th>\n",
              "      <th>predicted_label</th>\n",
              "      <th>mapped_label</th>\n",
              "    </tr>\n",
              "  </thead>\n",
              "  <tbody>\n",
              "    <tr>\n",
              "      <th>2</th>\n",
              "      <td>section cite godbolt see F. N. B G fitzh abr d...</td>\n",
              "      <td>a</td>\n",
              "      <td>2</td>\n",
              "      <td>0</td>\n",
              "    </tr>\n",
              "    <tr>\n",
              "      <th>3</th>\n",
              "      <td>row bell c.c see treasur hidden anoth land D. ...</td>\n",
              "      <td>a</td>\n",
              "      <td>2</td>\n",
              "      <td>0</td>\n",
              "    </tr>\n",
              "    <tr>\n",
              "      <th>12</th>\n",
              "      <td>abr trespass pl cit y.b hen vii kelyng see bul...</td>\n",
              "      <td>a</td>\n",
              "      <td>2</td>\n",
              "      <td>0</td>\n",
              "    </tr>\n",
              "    <tr>\n",
              "      <th>31</th>\n",
              "      <td>limit liabil the rule alreadi prevail borrow a...</td>\n",
              "      <td>a</td>\n",
              "      <td>2</td>\n",
              "      <td>0</td>\n",
              "    </tr>\n",
              "    <tr>\n",
              "      <th>34</th>\n",
              "      <td>principl simpli give singl name case account I...</td>\n",
              "      <td>a</td>\n",
              "      <td>2</td>\n",
              "      <td>0</td>\n",
              "    </tr>\n",
              "    <tr>\n",
              "      <th>41</th>\n",
              "      <td>jackson M. M. skinner v. chapman ib n. swift v...</td>\n",
              "      <td>a</td>\n",
              "      <td>2</td>\n",
              "      <td>0</td>\n",
              "    </tr>\n",
              "    <tr>\n",
              "      <th>67</th>\n",
              "      <td>hors die default care the induc least plea see...</td>\n",
              "      <td>a</td>\n",
              "      <td>2</td>\n",
              "      <td>0</td>\n",
              "    </tr>\n",
              "    <tr>\n",
              "      <th>71</th>\n",
              "      <td>fearnley q.b y.b Ed IV pl a.d. cf ame case tor...</td>\n",
              "      <td>a</td>\n",
              "      <td>2</td>\n",
              "      <td>0</td>\n",
              "    </tr>\n",
              "    <tr>\n",
              "      <th>91</th>\n",
              "      <td>juri call consid whether accid unavoid occas f...</td>\n",
              "      <td>a</td>\n",
              "      <td>2</td>\n",
              "      <td>0</td>\n",
              "    </tr>\n",
              "    <tr>\n",
              "      <th>93</th>\n",
              "      <td>clayton see symon v. darknol second count mors...</td>\n",
              "      <td>a</td>\n",
              "      <td>2</td>\n",
              "      <td>0</td>\n",
              "    </tr>\n",
              "    <tr>\n",
              "      <th>94</th>\n",
              "      <td>l.r h.l supra p. see marshal v. welwood n.j. v...</td>\n",
              "      <td>a</td>\n",
              "      <td>2</td>\n",
              "      <td>0</td>\n",
              "    </tr>\n",
              "    <tr>\n",
              "      <th>97</th>\n",
              "      <td>supra author follow case explain way sidenham ...</td>\n",
              "      <td>a</td>\n",
              "      <td>2</td>\n",
              "      <td>0</td>\n",
              "    </tr>\n",
              "    <tr>\n",
              "      <th>105</th>\n",
              "      <td>VI pl y.b hen VI pl ibid Cf Ed iii pl y.b hen ...</td>\n",
              "      <td>a</td>\n",
              "      <td>2</td>\n",
              "      <td>0</td>\n",
              "    </tr>\n",
              "    <tr>\n",
              "      <th>115</th>\n",
              "      <td>hen VI supra p. kebl thi main point mention si...</td>\n",
              "      <td>a</td>\n",
              "      <td>2</td>\n",
              "      <td>0</td>\n",
              "    </tr>\n",
              "    <tr>\n",
              "      <th>120</th>\n",
              "      <td>wm saund e ed. bro trespass pl marg cf Ed liut...</td>\n",
              "      <td>a</td>\n",
              "      <td>2</td>\n",
              "      <td>0</td>\n",
              "    </tr>\n",
              "    <tr>\n",
              "      <th>127</th>\n",
              "      <td>although improb would appli unexplain loss wri...</td>\n",
              "      <td>a</td>\n",
              "      <td>2</td>\n",
              "      <td>0</td>\n",
              "    </tr>\n",
              "    <tr>\n",
              "      <th>129</th>\n",
              "      <td>found master servant one liabl owner It also s...</td>\n",
              "      <td>a</td>\n",
              "      <td>2</td>\n",
              "      <td>0</td>\n",
              "    </tr>\n",
              "    <tr>\n",
              "      <th>134</th>\n",
              "      <td>et seq Ch Pl Am ed kent angel limit ch section...</td>\n",
              "      <td>a</td>\n",
              "      <td>2</td>\n",
              "      <td>0</td>\n",
              "    </tr>\n",
              "    <tr>\n",
              "      <th>137</th>\n",
              "      <td>lose wage So siderfin pl black book pp lix. lx...</td>\n",
              "      <td>a</td>\n",
              "      <td>2</td>\n",
              "      <td>0</td>\n",
              "    </tr>\n",
              "    <tr>\n",
              "      <th>144</th>\n",
              "      <td>case In kenrig v. eggleston car I. a.d. case c...</td>\n",
              "      <td>a</td>\n",
              "      <td>2</td>\n",
              "      <td>0</td>\n",
              "    </tr>\n",
              "    <tr>\n",
              "      <th>155</th>\n",
              "      <td>connect enter upon public offic the judg swear...</td>\n",
              "      <td>a</td>\n",
              "      <td>2</td>\n",
              "      <td>0</td>\n",
              "    </tr>\n",
              "    <tr>\n",
              "      <th>162</th>\n",
              "      <td>done first say promis depend upon perform side...</td>\n",
              "      <td>a</td>\n",
              "      <td>2</td>\n",
              "      <td>0</td>\n",
              "    </tr>\n",
              "    <tr>\n",
              "      <th>165</th>\n",
              "      <td>bertram how Cf windscheid pand. section nn win...</td>\n",
              "      <td>a</td>\n",
              "      <td>2</td>\n",
              "      <td>0</td>\n",
              "    </tr>\n",
              "    <tr>\n",
              "      <th>166</th>\n",
              "      <td>penal code breach contract carriag passeng mad...</td>\n",
              "      <td>a</td>\n",
              "      <td>2</td>\n",
              "      <td>0</td>\n",
              "    </tr>\n",
              "    <tr>\n",
              "      <th>169</th>\n",
              "      <td>n. Bl comm for limit see constit clarendon c. ...</td>\n",
              "      <td>a</td>\n",
              "      <td>2</td>\n",
              "      <td>0</td>\n",
              "    </tr>\n",
              "    <tr>\n",
              "      <th>171</th>\n",
              "      <td>duti explain first trace seen rich v. kneeland...</td>\n",
              "      <td>a</td>\n",
              "      <td>2</td>\n",
              "      <td>0</td>\n",
              "    </tr>\n",
              "    <tr>\n",
              "      <th>178</th>\n",
              "      <td>reg v. jacob cox praesentia corpori tollit err...</td>\n",
              "      <td>a</td>\n",
              "      <td>2</td>\n",
              "      <td>0</td>\n",
              "    </tr>\n",
              "    <tr>\n",
              "      <th>195</th>\n",
              "      <td>case leon eliz. wilkinson v. oliveira bing N. ...</td>\n",
              "      <td>a</td>\n",
              "      <td>2</td>\n",
              "      <td>0</td>\n",
              "    </tr>\n",
              "  </tbody>\n",
              "</table>\n",
              "</div>\n",
              "      <button class=\"colab-df-convert\" onclick=\"convertToInteractive('df-a8abd5e0-1560-40cc-bb4a-a4a357d6e846')\"\n",
              "              title=\"Convert this dataframe to an interactive table.\"\n",
              "              style=\"display:none;\">\n",
              "        \n",
              "  <svg xmlns=\"http://www.w3.org/2000/svg\" height=\"24px\"viewBox=\"0 0 24 24\"\n",
              "       width=\"24px\">\n",
              "    <path d=\"M0 0h24v24H0V0z\" fill=\"none\"/>\n",
              "    <path d=\"M18.56 5.44l.94 2.06.94-2.06 2.06-.94-2.06-.94-.94-2.06-.94 2.06-2.06.94zm-11 1L8.5 8.5l.94-2.06 2.06-.94-2.06-.94L8.5 2.5l-.94 2.06-2.06.94zm10 10l.94 2.06.94-2.06 2.06-.94-2.06-.94-.94-2.06-.94 2.06-2.06.94z\"/><path d=\"M17.41 7.96l-1.37-1.37c-.4-.4-.92-.59-1.43-.59-.52 0-1.04.2-1.43.59L10.3 9.45l-7.72 7.72c-.78.78-.78 2.05 0 2.83L4 21.41c.39.39.9.59 1.41.59.51 0 1.02-.2 1.41-.59l7.78-7.78 2.81-2.81c.8-.78.8-2.07 0-2.86zM5.41 20L4 18.59l7.72-7.72 1.47 1.35L5.41 20z\"/>\n",
              "  </svg>\n",
              "      </button>\n",
              "      \n",
              "  <style>\n",
              "    .colab-df-container {\n",
              "      display:flex;\n",
              "      flex-wrap:wrap;\n",
              "      gap: 12px;\n",
              "    }\n",
              "\n",
              "    .colab-df-convert {\n",
              "      background-color: #E8F0FE;\n",
              "      border: none;\n",
              "      border-radius: 50%;\n",
              "      cursor: pointer;\n",
              "      display: none;\n",
              "      fill: #1967D2;\n",
              "      height: 32px;\n",
              "      padding: 0 0 0 0;\n",
              "      width: 32px;\n",
              "    }\n",
              "\n",
              "    .colab-df-convert:hover {\n",
              "      background-color: #E2EBFA;\n",
              "      box-shadow: 0px 1px 2px rgba(60, 64, 67, 0.3), 0px 1px 3px 1px rgba(60, 64, 67, 0.15);\n",
              "      fill: #174EA6;\n",
              "    }\n",
              "\n",
              "    [theme=dark] .colab-df-convert {\n",
              "      background-color: #3B4455;\n",
              "      fill: #D2E3FC;\n",
              "    }\n",
              "\n",
              "    [theme=dark] .colab-df-convert:hover {\n",
              "      background-color: #434B5C;\n",
              "      box-shadow: 0px 1px 3px 1px rgba(0, 0, 0, 0.15);\n",
              "      filter: drop-shadow(0px 1px 2px rgba(0, 0, 0, 0.3));\n",
              "      fill: #FFFFFF;\n",
              "    }\n",
              "  </style>\n",
              "\n",
              "      <script>\n",
              "        const buttonEl =\n",
              "          document.querySelector('#df-a8abd5e0-1560-40cc-bb4a-a4a357d6e846 button.colab-df-convert');\n",
              "        buttonEl.style.display =\n",
              "          google.colab.kernel.accessAllowed ? 'block' : 'none';\n",
              "\n",
              "        async function convertToInteractive(key) {\n",
              "          const element = document.querySelector('#df-a8abd5e0-1560-40cc-bb4a-a4a357d6e846');\n",
              "          const dataTable =\n",
              "            await google.colab.kernel.invokeFunction('convertToInteractive',\n",
              "                                                     [key], {});\n",
              "          if (!dataTable) return;\n",
              "\n",
              "          const docLinkHtml = 'Like what you see? Visit the ' +\n",
              "            '<a target=\"_blank\" href=https://colab.research.google.com/notebooks/data_table.ipynb>data table notebook</a>'\n",
              "            + ' to learn more about interactive tables.';\n",
              "          element.innerHTML = '';\n",
              "          dataTable['output_type'] = 'display_data';\n",
              "          await google.colab.output.renderOutput(dataTable, element);\n",
              "          const docLink = document.createElement('div');\n",
              "          docLink.innerHTML = docLinkHtml;\n",
              "          element.appendChild(docLink);\n",
              "        }\n",
              "      </script>\n",
              "    </div>\n",
              "  </div>\n",
              "  "
            ],
            "text/plain": [
              "                                               segment  ... mapped_label\n",
              "2    section cite godbolt see F. N. B G fitzh abr d...  ...            0\n",
              "3    row bell c.c see treasur hidden anoth land D. ...  ...            0\n",
              "12   abr trespass pl cit y.b hen vii kelyng see bul...  ...            0\n",
              "31   limit liabil the rule alreadi prevail borrow a...  ...            0\n",
              "34   principl simpli give singl name case account I...  ...            0\n",
              "41   jackson M. M. skinner v. chapman ib n. swift v...  ...            0\n",
              "67   hors die default care the induc least plea see...  ...            0\n",
              "71   fearnley q.b y.b Ed IV pl a.d. cf ame case tor...  ...            0\n",
              "91   juri call consid whether accid unavoid occas f...  ...            0\n",
              "93   clayton see symon v. darknol second count mors...  ...            0\n",
              "94   l.r h.l supra p. see marshal v. welwood n.j. v...  ...            0\n",
              "97   supra author follow case explain way sidenham ...  ...            0\n",
              "105  VI pl y.b hen VI pl ibid Cf Ed iii pl y.b hen ...  ...            0\n",
              "115  hen VI supra p. kebl thi main point mention si...  ...            0\n",
              "120  wm saund e ed. bro trespass pl marg cf Ed liut...  ...            0\n",
              "127  although improb would appli unexplain loss wri...  ...            0\n",
              "129  found master servant one liabl owner It also s...  ...            0\n",
              "134  et seq Ch Pl Am ed kent angel limit ch section...  ...            0\n",
              "137  lose wage So siderfin pl black book pp lix. lx...  ...            0\n",
              "144  case In kenrig v. eggleston car I. a.d. case c...  ...            0\n",
              "155  connect enter upon public offic the judg swear...  ...            0\n",
              "162  done first say promis depend upon perform side...  ...            0\n",
              "165  bertram how Cf windscheid pand. section nn win...  ...            0\n",
              "166  penal code breach contract carriag passeng mad...  ...            0\n",
              "169  n. Bl comm for limit see constit clarendon c. ...  ...            0\n",
              "171  duti explain first trace seen rich v. kneeland...  ...            0\n",
              "178  reg v. jacob cox praesentia corpori tollit err...  ...            0\n",
              "195  case leon eliz. wilkinson v. oliveira bing N. ...  ...            0\n",
              "\n",
              "[28 rows x 4 columns]"
            ]
          },
          "metadata": {},
          "execution_count": 31
        }
      ]
    },
    {
      "cell_type": "code",
      "source": [
        "from sklearn.feature_extraction.text import CountVectorizer, TfidfVectorizer\n"
      ],
      "metadata": {
        "id": "IspVG7S5mfNZ"
      },
      "execution_count": 32,
      "outputs": []
    },
    {
      "cell_type": "code",
      "source": [
        "vectorizer_err = CountVectorizer()\n",
        "tfidf_a_error = vectorizer_err.fit_transform(df_a_error['segment'])\n",
        "tfidf_a_error_df = pd.DataFrame(tfidf_a_error.toarray())\n",
        "\n",
        "#tfidf_a_error_df\n"
      ],
      "metadata": {
        "id": "_ABYo6Q6qkDB"
      },
      "execution_count": 49,
      "outputs": []
    },
    {
      "cell_type": "code",
      "source": [
        "plot_a = pd.DataFrame(tfidf_a_error.mean(axis=0))\n",
        "\n",
        "#plot_a.reset_index(inplace=True)\n",
        "plot_a = plot_a.T\n",
        "plot_a.columns = ['Avg_Freq_a']\n",
        "plot_a['word'] = vectorizer_err.get_feature_names_out()"
      ],
      "metadata": {
        "id": "3_w5Zvazqn4C"
      },
      "execution_count": 65,
      "outputs": []
    },
    {
      "cell_type": "code",
      "source": [
        "plot_a"
      ],
      "metadata": {
        "colab": {
          "base_uri": "https://localhost:8080/",
          "height": 423
        },
        "id": "eLObL2QPu8Hz",
        "outputId": "58359d10-9427-429d-d676-9803b775150d"
      },
      "execution_count": 66,
      "outputs": [
        {
          "output_type": "execute_result",
          "data": {
            "text/html": [
              "\n",
              "  <div id=\"df-1211fbf4-0e8c-4cd3-9540-dc197f3772fc\">\n",
              "    <div class=\"colab-df-container\">\n",
              "      <div>\n",
              "<style scoped>\n",
              "    .dataframe tbody tr th:only-of-type {\n",
              "        vertical-align: middle;\n",
              "    }\n",
              "\n",
              "    .dataframe tbody tr th {\n",
              "        vertical-align: top;\n",
              "    }\n",
              "\n",
              "    .dataframe thead th {\n",
              "        text-align: right;\n",
              "    }\n",
              "</style>\n",
              "<table border=\"1\" class=\"dataframe\">\n",
              "  <thead>\n",
              "    <tr style=\"text-align: right;\">\n",
              "      <th></th>\n",
              "      <th>Avg_Freq_a</th>\n",
              "      <th>word</th>\n",
              "    </tr>\n",
              "  </thead>\n",
              "  <tbody>\n",
              "    <tr>\n",
              "      <th>0</th>\n",
              "      <td>0.035714</td>\n",
              "      <td>127</td>\n",
              "    </tr>\n",
              "    <tr>\n",
              "      <th>1</th>\n",
              "      <td>0.035714</td>\n",
              "      <td>447</td>\n",
              "    </tr>\n",
              "    <tr>\n",
              "      <th>2</th>\n",
              "      <td>0.035714</td>\n",
              "      <td>511</td>\n",
              "    </tr>\n",
              "    <tr>\n",
              "      <th>3</th>\n",
              "      <td>0.035714</td>\n",
              "      <td>576</td>\n",
              "    </tr>\n",
              "    <tr>\n",
              "      <th>4</th>\n",
              "      <td>0.035714</td>\n",
              "      <td>580</td>\n",
              "    </tr>\n",
              "    <tr>\n",
              "      <th>...</th>\n",
              "      <td>...</td>\n",
              "      <td>...</td>\n",
              "    </tr>\n",
              "    <tr>\n",
              "      <th>1413</th>\n",
              "      <td>0.071429</td>\n",
              "      <td>year</td>\n",
              "    </tr>\n",
              "    <tr>\n",
              "      <th>1414</th>\n",
              "      <td>0.214286</td>\n",
              "      <td>yelv</td>\n",
              "    </tr>\n",
              "    <tr>\n",
              "      <th>1415</th>\n",
              "      <td>0.107143</td>\n",
              "      <td>yet</td>\n",
              "    </tr>\n",
              "    <tr>\n",
              "      <th>1416</th>\n",
              "      <td>0.107143</td>\n",
              "      <td>york</td>\n",
              "    </tr>\n",
              "    <tr>\n",
              "      <th>1417</th>\n",
              "      <td>0.035714</td>\n",
              "      <td>young</td>\n",
              "    </tr>\n",
              "  </tbody>\n",
              "</table>\n",
              "<p>1418 rows × 2 columns</p>\n",
              "</div>\n",
              "      <button class=\"colab-df-convert\" onclick=\"convertToInteractive('df-1211fbf4-0e8c-4cd3-9540-dc197f3772fc')\"\n",
              "              title=\"Convert this dataframe to an interactive table.\"\n",
              "              style=\"display:none;\">\n",
              "        \n",
              "  <svg xmlns=\"http://www.w3.org/2000/svg\" height=\"24px\"viewBox=\"0 0 24 24\"\n",
              "       width=\"24px\">\n",
              "    <path d=\"M0 0h24v24H0V0z\" fill=\"none\"/>\n",
              "    <path d=\"M18.56 5.44l.94 2.06.94-2.06 2.06-.94-2.06-.94-.94-2.06-.94 2.06-2.06.94zm-11 1L8.5 8.5l.94-2.06 2.06-.94-2.06-.94L8.5 2.5l-.94 2.06-2.06.94zm10 10l.94 2.06.94-2.06 2.06-.94-2.06-.94-.94-2.06-.94 2.06-2.06.94z\"/><path d=\"M17.41 7.96l-1.37-1.37c-.4-.4-.92-.59-1.43-.59-.52 0-1.04.2-1.43.59L10.3 9.45l-7.72 7.72c-.78.78-.78 2.05 0 2.83L4 21.41c.39.39.9.59 1.41.59.51 0 1.02-.2 1.41-.59l7.78-7.78 2.81-2.81c.8-.78.8-2.07 0-2.86zM5.41 20L4 18.59l7.72-7.72 1.47 1.35L5.41 20z\"/>\n",
              "  </svg>\n",
              "      </button>\n",
              "      \n",
              "  <style>\n",
              "    .colab-df-container {\n",
              "      display:flex;\n",
              "      flex-wrap:wrap;\n",
              "      gap: 12px;\n",
              "    }\n",
              "\n",
              "    .colab-df-convert {\n",
              "      background-color: #E8F0FE;\n",
              "      border: none;\n",
              "      border-radius: 50%;\n",
              "      cursor: pointer;\n",
              "      display: none;\n",
              "      fill: #1967D2;\n",
              "      height: 32px;\n",
              "      padding: 0 0 0 0;\n",
              "      width: 32px;\n",
              "    }\n",
              "\n",
              "    .colab-df-convert:hover {\n",
              "      background-color: #E2EBFA;\n",
              "      box-shadow: 0px 1px 2px rgba(60, 64, 67, 0.3), 0px 1px 3px 1px rgba(60, 64, 67, 0.15);\n",
              "      fill: #174EA6;\n",
              "    }\n",
              "\n",
              "    [theme=dark] .colab-df-convert {\n",
              "      background-color: #3B4455;\n",
              "      fill: #D2E3FC;\n",
              "    }\n",
              "\n",
              "    [theme=dark] .colab-df-convert:hover {\n",
              "      background-color: #434B5C;\n",
              "      box-shadow: 0px 1px 3px 1px rgba(0, 0, 0, 0.15);\n",
              "      filter: drop-shadow(0px 1px 2px rgba(0, 0, 0, 0.3));\n",
              "      fill: #FFFFFF;\n",
              "    }\n",
              "  </style>\n",
              "\n",
              "      <script>\n",
              "        const buttonEl =\n",
              "          document.querySelector('#df-1211fbf4-0e8c-4cd3-9540-dc197f3772fc button.colab-df-convert');\n",
              "        buttonEl.style.display =\n",
              "          google.colab.kernel.accessAllowed ? 'block' : 'none';\n",
              "\n",
              "        async function convertToInteractive(key) {\n",
              "          const element = document.querySelector('#df-1211fbf4-0e8c-4cd3-9540-dc197f3772fc');\n",
              "          const dataTable =\n",
              "            await google.colab.kernel.invokeFunction('convertToInteractive',\n",
              "                                                     [key], {});\n",
              "          if (!dataTable) return;\n",
              "\n",
              "          const docLinkHtml = 'Like what you see? Visit the ' +\n",
              "            '<a target=\"_blank\" href=https://colab.research.google.com/notebooks/data_table.ipynb>data table notebook</a>'\n",
              "            + ' to learn more about interactive tables.';\n",
              "          element.innerHTML = '';\n",
              "          dataTable['output_type'] = 'display_data';\n",
              "          await google.colab.output.renderOutput(dataTable, element);\n",
              "          const docLink = document.createElement('div');\n",
              "          docLink.innerHTML = docLinkHtml;\n",
              "          element.appendChild(docLink);\n",
              "        }\n",
              "      </script>\n",
              "    </div>\n",
              "  </div>\n",
              "  "
            ],
            "text/plain": [
              "      Avg_Freq_a   word\n",
              "0       0.035714    127\n",
              "1       0.035714    447\n",
              "2       0.035714    511\n",
              "3       0.035714    576\n",
              "4       0.035714    580\n",
              "...          ...    ...\n",
              "1413    0.071429   year\n",
              "1414    0.214286   yelv\n",
              "1415    0.107143    yet\n",
              "1416    0.107143   york\n",
              "1417    0.035714  young\n",
              "\n",
              "[1418 rows x 2 columns]"
            ]
          },
          "metadata": {},
          "execution_count": 66
        }
      ]
    },
    {
      "cell_type": "code",
      "source": [
        "#plot_a.reset_index(inplace=True)\n",
        "#plot_a.columns = ['Word', 'Avg_Freq_a']\n",
        "#plot_a['book']= 'a'\n",
        "plot_a.sort_values(by='Avg_Freq_a', ascending=False, inplace=True)\n",
        "#plot_err = plot_err.loc[plot_err.index.isin(plot_AE.index)]\n",
        "\n",
        "plot_a"
      ],
      "metadata": {
        "colab": {
          "base_uri": "https://localhost:8080/",
          "height": 423
        },
        "id": "UKHya4eBtprP",
        "outputId": "5f8e061e-d1f0-4342-a45d-ad31d0df12f8"
      },
      "execution_count": 68,
      "outputs": [
        {
          "output_type": "execute_result",
          "data": {
            "text/html": [
              "\n",
              "  <div id=\"df-6d340e80-95c8-408d-8a00-929bc594e04d\">\n",
              "    <div class=\"colab-df-container\">\n",
              "      <div>\n",
              "<style scoped>\n",
              "    .dataframe tbody tr th:only-of-type {\n",
              "        vertical-align: middle;\n",
              "    }\n",
              "\n",
              "    .dataframe tbody tr th {\n",
              "        vertical-align: top;\n",
              "    }\n",
              "\n",
              "    .dataframe thead th {\n",
              "        text-align: right;\n",
              "    }\n",
              "</style>\n",
              "<table border=\"1\" class=\"dataframe\">\n",
              "  <thead>\n",
              "    <tr style=\"text-align: right;\">\n",
              "      <th></th>\n",
              "      <th>Avg_Freq_a</th>\n",
              "      <th>word</th>\n",
              "    </tr>\n",
              "  </thead>\n",
              "  <tbody>\n",
              "    <tr>\n",
              "      <th>962</th>\n",
              "      <td>3.178571</td>\n",
              "      <td>pl</td>\n",
              "    </tr>\n",
              "    <tr>\n",
              "      <th>406</th>\n",
              "      <td>2.178571</td>\n",
              "      <td>ed</td>\n",
              "    </tr>\n",
              "    <tr>\n",
              "      <th>218</th>\n",
              "      <td>2.000000</td>\n",
              "      <td>cf</td>\n",
              "    </tr>\n",
              "    <tr>\n",
              "      <th>733</th>\n",
              "      <td>1.964286</td>\n",
              "      <td>law</td>\n",
              "    </tr>\n",
              "    <tr>\n",
              "      <th>212</th>\n",
              "      <td>1.892857</td>\n",
              "      <td>case</td>\n",
              "    </tr>\n",
              "    <tr>\n",
              "      <th>...</th>\n",
              "      <td>...</td>\n",
              "      <td>...</td>\n",
              "    </tr>\n",
              "    <tr>\n",
              "      <th>594</th>\n",
              "      <td>0.035714</td>\n",
              "      <td>hobb</td>\n",
              "    </tr>\n",
              "    <tr>\n",
              "      <th>595</th>\n",
              "      <td>0.035714</td>\n",
              "      <td>hoc</td>\n",
              "    </tr>\n",
              "    <tr>\n",
              "      <th>596</th>\n",
              "      <td>0.035714</td>\n",
              "      <td>hold</td>\n",
              "    </tr>\n",
              "    <tr>\n",
              "      <th>597</th>\n",
              "      <td>0.035714</td>\n",
              "      <td>holgat</td>\n",
              "    </tr>\n",
              "    <tr>\n",
              "      <th>1417</th>\n",
              "      <td>0.035714</td>\n",
              "      <td>young</td>\n",
              "    </tr>\n",
              "  </tbody>\n",
              "</table>\n",
              "<p>1418 rows × 2 columns</p>\n",
              "</div>\n",
              "      <button class=\"colab-df-convert\" onclick=\"convertToInteractive('df-6d340e80-95c8-408d-8a00-929bc594e04d')\"\n",
              "              title=\"Convert this dataframe to an interactive table.\"\n",
              "              style=\"display:none;\">\n",
              "        \n",
              "  <svg xmlns=\"http://www.w3.org/2000/svg\" height=\"24px\"viewBox=\"0 0 24 24\"\n",
              "       width=\"24px\">\n",
              "    <path d=\"M0 0h24v24H0V0z\" fill=\"none\"/>\n",
              "    <path d=\"M18.56 5.44l.94 2.06.94-2.06 2.06-.94-2.06-.94-.94-2.06-.94 2.06-2.06.94zm-11 1L8.5 8.5l.94-2.06 2.06-.94-2.06-.94L8.5 2.5l-.94 2.06-2.06.94zm10 10l.94 2.06.94-2.06 2.06-.94-2.06-.94-.94-2.06-.94 2.06-2.06.94z\"/><path d=\"M17.41 7.96l-1.37-1.37c-.4-.4-.92-.59-1.43-.59-.52 0-1.04.2-1.43.59L10.3 9.45l-7.72 7.72c-.78.78-.78 2.05 0 2.83L4 21.41c.39.39.9.59 1.41.59.51 0 1.02-.2 1.41-.59l7.78-7.78 2.81-2.81c.8-.78.8-2.07 0-2.86zM5.41 20L4 18.59l7.72-7.72 1.47 1.35L5.41 20z\"/>\n",
              "  </svg>\n",
              "      </button>\n",
              "      \n",
              "  <style>\n",
              "    .colab-df-container {\n",
              "      display:flex;\n",
              "      flex-wrap:wrap;\n",
              "      gap: 12px;\n",
              "    }\n",
              "\n",
              "    .colab-df-convert {\n",
              "      background-color: #E8F0FE;\n",
              "      border: none;\n",
              "      border-radius: 50%;\n",
              "      cursor: pointer;\n",
              "      display: none;\n",
              "      fill: #1967D2;\n",
              "      height: 32px;\n",
              "      padding: 0 0 0 0;\n",
              "      width: 32px;\n",
              "    }\n",
              "\n",
              "    .colab-df-convert:hover {\n",
              "      background-color: #E2EBFA;\n",
              "      box-shadow: 0px 1px 2px rgba(60, 64, 67, 0.3), 0px 1px 3px 1px rgba(60, 64, 67, 0.15);\n",
              "      fill: #174EA6;\n",
              "    }\n",
              "\n",
              "    [theme=dark] .colab-df-convert {\n",
              "      background-color: #3B4455;\n",
              "      fill: #D2E3FC;\n",
              "    }\n",
              "\n",
              "    [theme=dark] .colab-df-convert:hover {\n",
              "      background-color: #434B5C;\n",
              "      box-shadow: 0px 1px 3px 1px rgba(0, 0, 0, 0.15);\n",
              "      filter: drop-shadow(0px 1px 2px rgba(0, 0, 0, 0.3));\n",
              "      fill: #FFFFFF;\n",
              "    }\n",
              "  </style>\n",
              "\n",
              "      <script>\n",
              "        const buttonEl =\n",
              "          document.querySelector('#df-6d340e80-95c8-408d-8a00-929bc594e04d button.colab-df-convert');\n",
              "        buttonEl.style.display =\n",
              "          google.colab.kernel.accessAllowed ? 'block' : 'none';\n",
              "\n",
              "        async function convertToInteractive(key) {\n",
              "          const element = document.querySelector('#df-6d340e80-95c8-408d-8a00-929bc594e04d');\n",
              "          const dataTable =\n",
              "            await google.colab.kernel.invokeFunction('convertToInteractive',\n",
              "                                                     [key], {});\n",
              "          if (!dataTable) return;\n",
              "\n",
              "          const docLinkHtml = 'Like what you see? Visit the ' +\n",
              "            '<a target=\"_blank\" href=https://colab.research.google.com/notebooks/data_table.ipynb>data table notebook</a>'\n",
              "            + ' to learn more about interactive tables.';\n",
              "          element.innerHTML = '';\n",
              "          dataTable['output_type'] = 'display_data';\n",
              "          await google.colab.output.renderOutput(dataTable, element);\n",
              "          const docLink = document.createElement('div');\n",
              "          docLink.innerHTML = docLinkHtml;\n",
              "          element.appendChild(docLink);\n",
              "        }\n",
              "      </script>\n",
              "    </div>\n",
              "  </div>\n",
              "  "
            ],
            "text/plain": [
              "      Avg_Freq_a    word\n",
              "962     3.178571      pl\n",
              "406     2.178571      ed\n",
              "218     2.000000      cf\n",
              "733     1.964286     law\n",
              "212     1.892857    case\n",
              "...          ...     ...\n",
              "594     0.035714    hobb\n",
              "595     0.035714     hoc\n",
              "596     0.035714    hold\n",
              "597     0.035714  holgat\n",
              "1417    0.035714   young\n",
              "\n",
              "[1418 rows x 2 columns]"
            ]
          },
          "metadata": {},
          "execution_count": 68
        }
      ]
    },
    {
      "cell_type": "code",
      "source": [
        "plot_a = plot_a.loc[plot_a['Avg_Freq_a']>0]"
      ],
      "metadata": {
        "id": "KwJTm7g4ZO0z"
      },
      "execution_count": 53,
      "outputs": []
    },
    {
      "cell_type": "code",
      "source": [
        "plota_new = plot_a[0:100]"
      ],
      "metadata": {
        "id": "fK0VKTwjTwvk"
      },
      "execution_count": 54,
      "outputs": []
    },
    {
      "cell_type": "code",
      "source": [
        "model_topics = optimal_model.show_topics(formatted=False)\n",
        "x = optimal_model.print_topics(num_words=50)\n",
        "\n",
        "num_topics = 4\n",
        "\n",
        "topic_words = []\n",
        "for i in range(num_topics):\n",
        "    tt = optimal_model.get_topic_terms(i,50)\n",
        "    topic_words.append([id2word[pair[0]] for pair in tt])"
      ],
      "metadata": {
        "id": "dJjQtPxCr9jp"
      },
      "execution_count": 55,
      "outputs": []
    },
    {
      "cell_type": "code",
      "source": [
        "weight_words0 = []\n",
        "tt0 = optimal_model.get_topic_terms(0,50)\n",
        "for pair in tt0:\n",
        "  weight_words0.append(pair[1])\n",
        "\n",
        "weight_words2 = []\n",
        "tt2 = optimal_model.get_topic_terms(2,50)\n",
        "for pair in tt2:\n",
        "  weight_words2.append(pair[1])\n",
        "\n"
      ],
      "metadata": {
        "id": "ABrziyoX7_Ty"
      },
      "execution_count": 56,
      "outputs": []
    },
    {
      "cell_type": "code",
      "source": [
        "weight_words2"
      ],
      "metadata": {
        "colab": {
          "base_uri": "https://localhost:8080/"
        },
        "id": "elAkYfOKOInq",
        "outputId": "9009d9b8-307e-42fd-af34-63140ffa3f3d"
      },
      "execution_count": 57,
      "outputs": [
        {
          "output_type": "execute_result",
          "data": {
            "text/plain": [
              "[0.008587652,\n",
              " 0.007949457,\n",
              " 0.0068600494,\n",
              " 0.006314023,\n",
              " 0.0059658135,\n",
              " 0.0058692354,\n",
              " 0.005046945,\n",
              " 0.004744271,\n",
              " 0.004580178,\n",
              " 0.0043928158,\n",
              " 0.0042507662,\n",
              " 0.0040923227,\n",
              " 0.0040788664,\n",
              " 0.0040689963,\n",
              " 0.00395057,\n",
              " 0.0038874429,\n",
              " 0.003855431,\n",
              " 0.0037620629,\n",
              " 0.0033588514,\n",
              " 0.003339267,\n",
              " 0.0032153833,\n",
              " 0.0032062626,\n",
              " 0.0032008835,\n",
              " 0.0031527632,\n",
              " 0.0031076353,\n",
              " 0.0030478602,\n",
              " 0.0029883797,\n",
              " 0.002849585,\n",
              " 0.0028474475,\n",
              " 0.0027908478,\n",
              " 0.0027837807,\n",
              " 0.0027449385,\n",
              " 0.0027102476,\n",
              " 0.0026786728,\n",
              " 0.0025761991,\n",
              " 0.0025418513,\n",
              " 0.0025402403,\n",
              " 0.0025113544,\n",
              " 0.0024735695,\n",
              " 0.0024642246,\n",
              " 0.0024456282,\n",
              " 0.0023736267,\n",
              " 0.0023554557,\n",
              " 0.0023322927,\n",
              " 0.0023312795,\n",
              " 0.0022860528,\n",
              " 0.002282249,\n",
              " 0.0022699384,\n",
              " 0.002247269,\n",
              " 0.0021930847]"
            ]
          },
          "metadata": {},
          "execution_count": 57
        }
      ]
    },
    {
      "cell_type": "code",
      "source": [
        "topic_words[2]"
      ],
      "metadata": {
        "colab": {
          "base_uri": "https://localhost:8080/"
        },
        "id": "TSYF1awYjC9f",
        "outputId": "cdb1e7cb-a1d8-4788-d645-f313f00d25f3"
      },
      "execution_count": 58,
      "outputs": [
        {
          "output_type": "execute_result",
          "data": {
            "text/plain": [
              "['the',\n",
              " 'one',\n",
              " 'gener',\n",
              " 'would',\n",
              " 'may',\n",
              " 'It',\n",
              " 'law',\n",
              " 'case',\n",
              " 'but',\n",
              " 'natur',\n",
              " 'must',\n",
              " 'two',\n",
              " 'I',\n",
              " 'bee',\n",
              " 'equat',\n",
              " 'differ',\n",
              " 'first',\n",
              " 'question',\n",
              " 'consid',\n",
              " 'In',\n",
              " 'point',\n",
              " 'fact',\n",
              " 'u',\n",
              " 'function',\n",
              " 'time',\n",
              " 'present',\n",
              " 'form',\n",
              " 'man',\n",
              " 'certain',\n",
              " 'even',\n",
              " 'line',\n",
              " 'right',\n",
              " 'relat',\n",
              " 'consider',\n",
              " 'calculu',\n",
              " 'geometri',\n",
              " 'order',\n",
              " 'hive',\n",
              " 'analysi',\n",
              " 'shall',\n",
              " 'differenti',\n",
              " 'everi',\n",
              " 'evid',\n",
              " 'import',\n",
              " 'determin',\n",
              " 'still',\n",
              " 'thi',\n",
              " 'thu',\n",
              " 'could',\n",
              " 'make']"
            ]
          },
          "metadata": {},
          "execution_count": 58
        }
      ]
    },
    {
      "cell_type": "code",
      "source": [
        "dftopic0 = {'words':topic_words[0], 'probability': weight_words0}\n",
        "df_topic0 = pd.DataFrame(dftopic0)\n",
        "\n",
        "dftopic2 = {'words':topic_words[2], 'probability': weight_words2}\n",
        "df_topic2 = pd.DataFrame(dftopic2)"
      ],
      "metadata": {
        "id": "R8aaKXkEjWwT"
      },
      "execution_count": 59,
      "outputs": []
    },
    {
      "cell_type": "code",
      "source": [
        "df_topic2"
      ],
      "metadata": {
        "colab": {
          "base_uri": "https://localhost:8080/",
          "height": 1000
        },
        "id": "D1JoQp36eeLn",
        "outputId": "d4997d8a-19e1-4e01-e24f-74fba8224b84"
      },
      "execution_count": 60,
      "outputs": [
        {
          "output_type": "execute_result",
          "data": {
            "text/html": [
              "\n",
              "  <div id=\"df-765a6c5b-782e-4855-9eb9-e66568d2d283\">\n",
              "    <div class=\"colab-df-container\">\n",
              "      <div>\n",
              "<style scoped>\n",
              "    .dataframe tbody tr th:only-of-type {\n",
              "        vertical-align: middle;\n",
              "    }\n",
              "\n",
              "    .dataframe tbody tr th {\n",
              "        vertical-align: top;\n",
              "    }\n",
              "\n",
              "    .dataframe thead th {\n",
              "        text-align: right;\n",
              "    }\n",
              "</style>\n",
              "<table border=\"1\" class=\"dataframe\">\n",
              "  <thead>\n",
              "    <tr style=\"text-align: right;\">\n",
              "      <th></th>\n",
              "      <th>words</th>\n",
              "      <th>probability</th>\n",
              "    </tr>\n",
              "  </thead>\n",
              "  <tbody>\n",
              "    <tr>\n",
              "      <th>0</th>\n",
              "      <td>the</td>\n",
              "      <td>0.008588</td>\n",
              "    </tr>\n",
              "    <tr>\n",
              "      <th>1</th>\n",
              "      <td>one</td>\n",
              "      <td>0.007949</td>\n",
              "    </tr>\n",
              "    <tr>\n",
              "      <th>2</th>\n",
              "      <td>gener</td>\n",
              "      <td>0.006860</td>\n",
              "    </tr>\n",
              "    <tr>\n",
              "      <th>3</th>\n",
              "      <td>would</td>\n",
              "      <td>0.006314</td>\n",
              "    </tr>\n",
              "    <tr>\n",
              "      <th>4</th>\n",
              "      <td>may</td>\n",
              "      <td>0.005966</td>\n",
              "    </tr>\n",
              "    <tr>\n",
              "      <th>5</th>\n",
              "      <td>It</td>\n",
              "      <td>0.005869</td>\n",
              "    </tr>\n",
              "    <tr>\n",
              "      <th>6</th>\n",
              "      <td>law</td>\n",
              "      <td>0.005047</td>\n",
              "    </tr>\n",
              "    <tr>\n",
              "      <th>7</th>\n",
              "      <td>case</td>\n",
              "      <td>0.004744</td>\n",
              "    </tr>\n",
              "    <tr>\n",
              "      <th>8</th>\n",
              "      <td>but</td>\n",
              "      <td>0.004580</td>\n",
              "    </tr>\n",
              "    <tr>\n",
              "      <th>9</th>\n",
              "      <td>natur</td>\n",
              "      <td>0.004393</td>\n",
              "    </tr>\n",
              "    <tr>\n",
              "      <th>10</th>\n",
              "      <td>must</td>\n",
              "      <td>0.004251</td>\n",
              "    </tr>\n",
              "    <tr>\n",
              "      <th>11</th>\n",
              "      <td>two</td>\n",
              "      <td>0.004092</td>\n",
              "    </tr>\n",
              "    <tr>\n",
              "      <th>12</th>\n",
              "      <td>I</td>\n",
              "      <td>0.004079</td>\n",
              "    </tr>\n",
              "    <tr>\n",
              "      <th>13</th>\n",
              "      <td>bee</td>\n",
              "      <td>0.004069</td>\n",
              "    </tr>\n",
              "    <tr>\n",
              "      <th>14</th>\n",
              "      <td>equat</td>\n",
              "      <td>0.003951</td>\n",
              "    </tr>\n",
              "    <tr>\n",
              "      <th>15</th>\n",
              "      <td>differ</td>\n",
              "      <td>0.003887</td>\n",
              "    </tr>\n",
              "    <tr>\n",
              "      <th>16</th>\n",
              "      <td>first</td>\n",
              "      <td>0.003855</td>\n",
              "    </tr>\n",
              "    <tr>\n",
              "      <th>17</th>\n",
              "      <td>question</td>\n",
              "      <td>0.003762</td>\n",
              "    </tr>\n",
              "    <tr>\n",
              "      <th>18</th>\n",
              "      <td>consid</td>\n",
              "      <td>0.003359</td>\n",
              "    </tr>\n",
              "    <tr>\n",
              "      <th>19</th>\n",
              "      <td>In</td>\n",
              "      <td>0.003339</td>\n",
              "    </tr>\n",
              "    <tr>\n",
              "      <th>20</th>\n",
              "      <td>point</td>\n",
              "      <td>0.003215</td>\n",
              "    </tr>\n",
              "    <tr>\n",
              "      <th>21</th>\n",
              "      <td>fact</td>\n",
              "      <td>0.003206</td>\n",
              "    </tr>\n",
              "    <tr>\n",
              "      <th>22</th>\n",
              "      <td>u</td>\n",
              "      <td>0.003201</td>\n",
              "    </tr>\n",
              "    <tr>\n",
              "      <th>23</th>\n",
              "      <td>function</td>\n",
              "      <td>0.003153</td>\n",
              "    </tr>\n",
              "    <tr>\n",
              "      <th>24</th>\n",
              "      <td>time</td>\n",
              "      <td>0.003108</td>\n",
              "    </tr>\n",
              "    <tr>\n",
              "      <th>25</th>\n",
              "      <td>present</td>\n",
              "      <td>0.003048</td>\n",
              "    </tr>\n",
              "    <tr>\n",
              "      <th>26</th>\n",
              "      <td>form</td>\n",
              "      <td>0.002988</td>\n",
              "    </tr>\n",
              "    <tr>\n",
              "      <th>27</th>\n",
              "      <td>man</td>\n",
              "      <td>0.002850</td>\n",
              "    </tr>\n",
              "    <tr>\n",
              "      <th>28</th>\n",
              "      <td>certain</td>\n",
              "      <td>0.002847</td>\n",
              "    </tr>\n",
              "    <tr>\n",
              "      <th>29</th>\n",
              "      <td>even</td>\n",
              "      <td>0.002791</td>\n",
              "    </tr>\n",
              "    <tr>\n",
              "      <th>30</th>\n",
              "      <td>line</td>\n",
              "      <td>0.002784</td>\n",
              "    </tr>\n",
              "    <tr>\n",
              "      <th>31</th>\n",
              "      <td>right</td>\n",
              "      <td>0.002745</td>\n",
              "    </tr>\n",
              "    <tr>\n",
              "      <th>32</th>\n",
              "      <td>relat</td>\n",
              "      <td>0.002710</td>\n",
              "    </tr>\n",
              "    <tr>\n",
              "      <th>33</th>\n",
              "      <td>consider</td>\n",
              "      <td>0.002679</td>\n",
              "    </tr>\n",
              "    <tr>\n",
              "      <th>34</th>\n",
              "      <td>calculu</td>\n",
              "      <td>0.002576</td>\n",
              "    </tr>\n",
              "    <tr>\n",
              "      <th>35</th>\n",
              "      <td>geometri</td>\n",
              "      <td>0.002542</td>\n",
              "    </tr>\n",
              "    <tr>\n",
              "      <th>36</th>\n",
              "      <td>order</td>\n",
              "      <td>0.002540</td>\n",
              "    </tr>\n",
              "    <tr>\n",
              "      <th>37</th>\n",
              "      <td>hive</td>\n",
              "      <td>0.002511</td>\n",
              "    </tr>\n",
              "    <tr>\n",
              "      <th>38</th>\n",
              "      <td>analysi</td>\n",
              "      <td>0.002474</td>\n",
              "    </tr>\n",
              "    <tr>\n",
              "      <th>39</th>\n",
              "      <td>shall</td>\n",
              "      <td>0.002464</td>\n",
              "    </tr>\n",
              "    <tr>\n",
              "      <th>40</th>\n",
              "      <td>differenti</td>\n",
              "      <td>0.002446</td>\n",
              "    </tr>\n",
              "    <tr>\n",
              "      <th>41</th>\n",
              "      <td>everi</td>\n",
              "      <td>0.002374</td>\n",
              "    </tr>\n",
              "    <tr>\n",
              "      <th>42</th>\n",
              "      <td>evid</td>\n",
              "      <td>0.002355</td>\n",
              "    </tr>\n",
              "    <tr>\n",
              "      <th>43</th>\n",
              "      <td>import</td>\n",
              "      <td>0.002332</td>\n",
              "    </tr>\n",
              "    <tr>\n",
              "      <th>44</th>\n",
              "      <td>determin</td>\n",
              "      <td>0.002331</td>\n",
              "    </tr>\n",
              "    <tr>\n",
              "      <th>45</th>\n",
              "      <td>still</td>\n",
              "      <td>0.002286</td>\n",
              "    </tr>\n",
              "    <tr>\n",
              "      <th>46</th>\n",
              "      <td>thi</td>\n",
              "      <td>0.002282</td>\n",
              "    </tr>\n",
              "    <tr>\n",
              "      <th>47</th>\n",
              "      <td>thu</td>\n",
              "      <td>0.002270</td>\n",
              "    </tr>\n",
              "    <tr>\n",
              "      <th>48</th>\n",
              "      <td>could</td>\n",
              "      <td>0.002247</td>\n",
              "    </tr>\n",
              "    <tr>\n",
              "      <th>49</th>\n",
              "      <td>make</td>\n",
              "      <td>0.002193</td>\n",
              "    </tr>\n",
              "  </tbody>\n",
              "</table>\n",
              "</div>\n",
              "      <button class=\"colab-df-convert\" onclick=\"convertToInteractive('df-765a6c5b-782e-4855-9eb9-e66568d2d283')\"\n",
              "              title=\"Convert this dataframe to an interactive table.\"\n",
              "              style=\"display:none;\">\n",
              "        \n",
              "  <svg xmlns=\"http://www.w3.org/2000/svg\" height=\"24px\"viewBox=\"0 0 24 24\"\n",
              "       width=\"24px\">\n",
              "    <path d=\"M0 0h24v24H0V0z\" fill=\"none\"/>\n",
              "    <path d=\"M18.56 5.44l.94 2.06.94-2.06 2.06-.94-2.06-.94-.94-2.06-.94 2.06-2.06.94zm-11 1L8.5 8.5l.94-2.06 2.06-.94-2.06-.94L8.5 2.5l-.94 2.06-2.06.94zm10 10l.94 2.06.94-2.06 2.06-.94-2.06-.94-.94-2.06-.94 2.06-2.06.94z\"/><path d=\"M17.41 7.96l-1.37-1.37c-.4-.4-.92-.59-1.43-.59-.52 0-1.04.2-1.43.59L10.3 9.45l-7.72 7.72c-.78.78-.78 2.05 0 2.83L4 21.41c.39.39.9.59 1.41.59.51 0 1.02-.2 1.41-.59l7.78-7.78 2.81-2.81c.8-.78.8-2.07 0-2.86zM5.41 20L4 18.59l7.72-7.72 1.47 1.35L5.41 20z\"/>\n",
              "  </svg>\n",
              "      </button>\n",
              "      \n",
              "  <style>\n",
              "    .colab-df-container {\n",
              "      display:flex;\n",
              "      flex-wrap:wrap;\n",
              "      gap: 12px;\n",
              "    }\n",
              "\n",
              "    .colab-df-convert {\n",
              "      background-color: #E8F0FE;\n",
              "      border: none;\n",
              "      border-radius: 50%;\n",
              "      cursor: pointer;\n",
              "      display: none;\n",
              "      fill: #1967D2;\n",
              "      height: 32px;\n",
              "      padding: 0 0 0 0;\n",
              "      width: 32px;\n",
              "    }\n",
              "\n",
              "    .colab-df-convert:hover {\n",
              "      background-color: #E2EBFA;\n",
              "      box-shadow: 0px 1px 2px rgba(60, 64, 67, 0.3), 0px 1px 3px 1px rgba(60, 64, 67, 0.15);\n",
              "      fill: #174EA6;\n",
              "    }\n",
              "\n",
              "    [theme=dark] .colab-df-convert {\n",
              "      background-color: #3B4455;\n",
              "      fill: #D2E3FC;\n",
              "    }\n",
              "\n",
              "    [theme=dark] .colab-df-convert:hover {\n",
              "      background-color: #434B5C;\n",
              "      box-shadow: 0px 1px 3px 1px rgba(0, 0, 0, 0.15);\n",
              "      filter: drop-shadow(0px 1px 2px rgba(0, 0, 0, 0.3));\n",
              "      fill: #FFFFFF;\n",
              "    }\n",
              "  </style>\n",
              "\n",
              "      <script>\n",
              "        const buttonEl =\n",
              "          document.querySelector('#df-765a6c5b-782e-4855-9eb9-e66568d2d283 button.colab-df-convert');\n",
              "        buttonEl.style.display =\n",
              "          google.colab.kernel.accessAllowed ? 'block' : 'none';\n",
              "\n",
              "        async function convertToInteractive(key) {\n",
              "          const element = document.querySelector('#df-765a6c5b-782e-4855-9eb9-e66568d2d283');\n",
              "          const dataTable =\n",
              "            await google.colab.kernel.invokeFunction('convertToInteractive',\n",
              "                                                     [key], {});\n",
              "          if (!dataTable) return;\n",
              "\n",
              "          const docLinkHtml = 'Like what you see? Visit the ' +\n",
              "            '<a target=\"_blank\" href=https://colab.research.google.com/notebooks/data_table.ipynb>data table notebook</a>'\n",
              "            + ' to learn more about interactive tables.';\n",
              "          element.innerHTML = '';\n",
              "          dataTable['output_type'] = 'display_data';\n",
              "          await google.colab.output.renderOutput(dataTable, element);\n",
              "          const docLink = document.createElement('div');\n",
              "          docLink.innerHTML = docLinkHtml;\n",
              "          element.appendChild(docLink);\n",
              "        }\n",
              "      </script>\n",
              "    </div>\n",
              "  </div>\n",
              "  "
            ],
            "text/plain": [
              "         words  probability\n",
              "0          the     0.008588\n",
              "1          one     0.007949\n",
              "2        gener     0.006860\n",
              "3        would     0.006314\n",
              "4          may     0.005966\n",
              "5           It     0.005869\n",
              "6          law     0.005047\n",
              "7         case     0.004744\n",
              "8          but     0.004580\n",
              "9        natur     0.004393\n",
              "10        must     0.004251\n",
              "11         two     0.004092\n",
              "12           I     0.004079\n",
              "13         bee     0.004069\n",
              "14       equat     0.003951\n",
              "15      differ     0.003887\n",
              "16       first     0.003855\n",
              "17    question     0.003762\n",
              "18      consid     0.003359\n",
              "19          In     0.003339\n",
              "20       point     0.003215\n",
              "21        fact     0.003206\n",
              "22           u     0.003201\n",
              "23    function     0.003153\n",
              "24        time     0.003108\n",
              "25     present     0.003048\n",
              "26        form     0.002988\n",
              "27         man     0.002850\n",
              "28     certain     0.002847\n",
              "29        even     0.002791\n",
              "30        line     0.002784\n",
              "31       right     0.002745\n",
              "32       relat     0.002710\n",
              "33    consider     0.002679\n",
              "34     calculu     0.002576\n",
              "35    geometri     0.002542\n",
              "36       order     0.002540\n",
              "37        hive     0.002511\n",
              "38     analysi     0.002474\n",
              "39       shall     0.002464\n",
              "40  differenti     0.002446\n",
              "41       everi     0.002374\n",
              "42        evid     0.002355\n",
              "43      import     0.002332\n",
              "44    determin     0.002331\n",
              "45       still     0.002286\n",
              "46         thi     0.002282\n",
              "47         thu     0.002270\n",
              "48       could     0.002247\n",
              "49        make     0.002193"
            ]
          },
          "metadata": {},
          "execution_count": 60
        }
      ]
    },
    {
      "cell_type": "code",
      "source": [
        "import plotly.io as pio\n",
        "pio.renderers.default = 'colab'"
      ],
      "metadata": {
        "id": "PgjR-V44V3px"
      },
      "execution_count": 45,
      "outputs": []
    },
    {
      "cell_type": "code",
      "source": [
        "import plotly.graph_objects as go\n",
        "\n",
        "fig = go.Figure()\n",
        "fig.add_trace(go.Bar(\n",
        "    x=plot_a.word,\n",
        "    y=plot_a.Avg_Freq_a,\n",
        "    name='Avg_Freq_a',\n",
        "    marker_color='grey'\n",
        "))\n",
        "fig.add_trace(go.Bar(\n",
        "    x=df_topic0.words,\n",
        "    y=(df_topic0.probability)*100,\n",
        "    name='topic0',\n",
        "    marker_color='black'\n",
        "))\n",
        "fig.add_trace(go.Bar(\n",
        "    x=df_topic2.words,\n",
        "    y=(df_topic2.probability)*5100,\n",
        "    name='topic2',\n",
        "    marker_color='red'\n",
        "))\n",
        "\n",
        "\n",
        "# Here we modify the tickangle of the xaxis, resulting in rotated labels.\n",
        "fig.update_layout(barmode='group', xaxis_tickangle=-45, plot_bgcolor='rgba(0,0,0,0)')\n",
        "fig.show()"
      ],
      "metadata": {
        "colab": {
          "base_uri": "https://localhost:8080/",
          "height": 542
        },
        "id": "ttiWsvaGQR6p",
        "outputId": "158833a9-f56f-4def-81bd-79be7223d7b2"
      },
      "execution_count": 62,
      "outputs": [
        {
          "output_type": "display_data",
          "data": {
            "text/html": [
              "<html>\n",
              "<head><meta charset=\"utf-8\" /></head>\n",
              "<body>\n",
              "    <div>            <script src=\"https://cdnjs.cloudflare.com/ajax/libs/mathjax/2.7.5/MathJax.js?config=TeX-AMS-MML_SVG\"></script><script type=\"text/javascript\">if (window.MathJax) {MathJax.Hub.Config({SVG: {font: \"STIX-Web\"}});}</script>                <script type=\"text/javascript\">window.PlotlyConfig = {MathJaxConfig: 'local'};</script>\n",
              "        <script src=\"https://cdn.plot.ly/plotly-2.9.0.min.js\"></script>                <div id=\"0167d45a-269d-4b39-a6ea-1952f8585519\" class=\"plotly-graph-div\" style=\"height:525px; width:100%;\"></div>            <script type=\"text/javascript\">                                    window.PLOTLYENV=window.PLOTLYENV || {};                                    if (document.getElementById(\"0167d45a-269d-4b39-a6ea-1952f8585519\")) {                    Plotly.newPlot(                        \"0167d45a-269d-4b39-a6ea-1952f8585519\",                        [{\"marker\":{\"color\":\"grey\"},\"name\":\"Avg_Freq_a\",\"x\":[\"pl\",\"ed\",\"cf\",\"law\",\"case\",\"section\",\"hen\",\"see\",\"the\",\"vi\",\"iv\",\"would\",\"iii\",\"may\",\"et\",\"it\",\"ship\",\"contract\",\"common\",\"supra\",\"in\",\"good\",\"vii\",\"gener\",\"abr\",\"raym\",\"but\",\"pp\",\"ii\",\"defend\",\"master\",\"eliz\",\"carrier\",\"co\",\"lectur\",\"seq\",\"cite\",\"note\",\"ld\",\"plaintiff\",\"rule\",\"comm\",\"liabil\",\"cro\",\"contr\",\"upon\",\"ad\",\"principl\",\"opinion\",\"car\",\"southcot\",\"declar\",\"seem\",\"way\",\"mod\",\"viii\",\"mass\",\"accord\",\"consider\",\"said\",\"one\",\"kent\",\"dyer\",\"state\",\"thi\",\"lord\",\"limit\",\"also\",\"doctrin\",\"liabl\",\"fitzh\",\"polici\",\"say\",\"book\",\"action\",\"act\",\"money\",\"english\",\"servant\",\"ch\",\"sir\",\"court\",\"form\",\"first\",\"part\",\"public\",\"east\",\"if\",\"even\",\"shower\",\"wm\",\"made\",\"damag\",\"wrong\",\"reg\",\"smith\",\"keb\",\"id\",\"name\",\"although\",\"neglig\",\"must\",\"use\",\"shall\",\"explan\",\"anoth\",\"charg\",\"langd\",\"ground\",\"ib\",\"time\",\"salk\",\"roman\",\"parti\",\"roll\",\"yelv\",\"author\",\"refer\",\"sound\",\"modern\",\"wage\",\"follow\",\"leon\",\"fol\",\"owner\",\"lay\",\"keilway\",\"thoma\",\"railway\",\"justic\",\"judgment\",\"bl\",\"judg\",\"tort\",\"languag\",\"cogg\",\"trespass\",\"requir\",\"argument\",\"crimin\",\"freight\",\"give\",\"dett\",\"old\",\"appli\",\"adopt\",\"decid\",\"deal\",\"custom\",\"hobart\",\"mere\",\"reason\",\"holt\",\"crim\",\"loss\",\"could\",\"huon\",\"except\",\"person\",\"bailment\",\"essay\",\"hostag\",\"vessel\",\"view\",\"mention\",\"el\",\"employ\",\"shadwel\",\"carri\",\"presum\",\"earlier\",\"done\",\"found\",\"sandford\",\"far\",\"fact\",\"take\",\"differ\",\"great\",\"jone\",\"statement\",\"chief\",\"illustr\",\"decis\",\"de\",\"rep\",\"intend\",\"inst\",\"infra\",\"howev\",\"question\",\"hunt\",\"preced\",\"ex\",\"pay\",\"latter\",\"alreadi\",\"arrest\",\"popham\",\"art\",\"alleg\",\"assumpsit\",\"boson\",\"per\",\"account\",\"lex\",\"baile\",\"plea\",\"bate\",\"word\",\"usual\",\"behn\",\"bernard\",\"bro\",\"point\",\"believ\",\"laid\",\"bur\",\"true\",\"marshal\",\"whether\",\"lowel\",\"offic\",\"perform\",\"pand\",\"cours\",\"realm\",\"govern\",\"mors\",\"wool\",\"how\",\"ventri\",\"stand\",\"matter\",\"recit\",\"london\",\"pick\",\"admit\",\"godbolt\",\"read\",\"ibid\",\"becom\",\"motion\",\"identif\",\"fin\",\"go\",\"pain\",\"given\",\"earn\",\"right\",\"hand\",\"slue\",\"deliv\",\"hale\",\"rich\",\"middleton\",\"reveng\",\"so\",\"savigni\",\"make\",\"walton\",\"respons\",\"held\",\"saund\",\"destruct\",\"for\",\"within\",\"app\",\"aleyn\",\"darknol\",\"sidenham\",\"fleta\",\"ca\",\"ass\",\"remain\",\"reli\",\"windscheid\",\"assignati\",\"marin\",\"vt\",\"somewhat\",\"symon\",\"littl\",\"extend\",\"chamber\",\"le\",\"leak\",\"two\",\"pro\",\"never\",\"necessari\",\"explain\",\"especi\",\"work\",\"bract\",\"promis\",\"understand\",\"civil\",\"brown\",\"juri\",\"clark\",\"yet\",\"york\",\"practic\",\"knowledg\",\"powtuari\",\"call\",\"exch\",\"langdel\",\"primit\",\"care\",\"larg\",\"latch\",\"price\",\"caus\",\"later\",\"object\",\"mean\",\"settl\",\"unless\",\"taken\",\"besitz\",\"worlington\",\"bing\",\"worth\",\"induc\",\"actual\",\"text\",\"show\",\"bishop\",\"commun\",\"bodi\",\"theori\",\"inflict\",\"undertak\",\"england\",\"plowden\",\"instanc\",\"enough\",\"mr\",\"paid\",\"fault\",\"salica\",\"nom\",\"sharp\",\"mile\",\"find\",\"fight\",\"moor\",\"oliveira\",\"gewer\",\"seen\",\"sever\",\"gifford\",\"separ\",\"men\",\"nicol\",\"merkel\",\"ought\",\"observ\",\"franc\",\"save\",\"natur\",\"fit\",\"set\",\"mich\",\"second\",\"falsehood\",\"much\",\"might\",\"nn\",\"number\",\"knight\",\"me\",\"interest\",\"lev\",\"plead\",\"prove\",\"puchta\",\"punish\",\"influenc\",\"infer\",\"purpos\",\"quod\",\"lien\",\"imposs\",\"rais\",\"impli\",\"play\",\"like\",\"intent\",\"interpret\",\"place\",\"properti\",\"know\",\"kenrig\",\"power\",\"kebl\",\"land\",\"primu\",\"exampl\",\"port\",\"proc\",\"jacob\",\"jackson\",\"jac\",\"leav\",\"proper\",\"intrust\",\"liutpr\",\"rea\",\"palmer\",\"he\",\"hart\",\"rev\",\"reward\",\"mander\",\"haigh\",\"guil\",\"guard\",\"mani\",\"manu\",\"marg\",\"margin\",\"gratifi\",\"marsh\",\"row\",\"safe\",\"man\",\"passion\",\"picka\",\"henc\",\"local\",\"hull\",\"housebreak\",\"perish\",\"perhap\",\"hopkin\",\"receipt\",\"peopl\",\"penal\",\"regard\",\"relat\",\"report\",\"heusler\",\"request\",\"patten\",\"king\",\"noth\",\"thinn\",\"whitlock\",\"aver\",\"barker\",\"suggest\",\"criticis\",\"crickett\",\"suppos\",\"sur\",\"verdict\",\"bastard\",\"coven\",\"vent\",\"suretyship\",\"count\",\"bear\",\"swift\",\"cook\",\"convers\",\"system\",\"contrari\",\"asher\",\"cxviii\",\"as\",\"still\",\"among\",\"desir\",\"statut\",\"steph\",\"depend\",\"and\",\"stephen\",\"western\",\"anglo\",\"want\",\"stolen\",\"strang\",\"ann\",\"answer\",\"appear\",\"stronger\",\"death\",\"student\",\"begin\",\"bell\",\"consid\",\"bulstr\",\"brook\",\"thought\",\"chattel\",\"brun\",\"truth\",\"charlemagn\",\"trust\",\"three\",\"chamberlain\",\"shaw\",\"took\",\"cent\",\"caution\",\"butler\",\"cap\",\"byle\",\"tr\",\"trace\",\"brigg\",\"class\",\"bentham\",\"that\",\"taunt\",\"teach\",\"besid\",\"black\",\"confirm\",\"borrow\",\"bosden\",\"condit\",\"commonwealth\",\"clayton\",\"theft\",\"come\",\"there\",\"therefor\",\"bound\",\"these\",\"bracton\",\"code\",\"determin\",\"date\",\"duti\",\"sohm\",\"xvii\",\"enemi\",\"acc\",\"distinguish\",\"wilkinson\",\"doctor\",\"allen\",\"end\",\"emperor\",\"shown\",\"some\",\"will\",\"dog\",\"william\",\"soon\",\"writer\",\"accident\",\"accur\",\"doubt\",\"droit\",\"sid\",\"eggleston\",\"duel\",\"effect\",\"edward\",\"edw\",\"writ\",\"adam\",\"abridg\",\"admiralti\",\"south\",\"establish\",\"dig\",\"discuss\",\"event\",\"evid\",\"equival\",\"year\",\"am\",\"851\",\"equal\",\"powel\",\"unexplain\",\"obstant\",\"pocock\",\"poverti\",\"treasur\",\"obtain\",\"tre\",\"portland\",\"translat\",\"poterit\",\"pledg\",\"notic\",\"unit\",\"unprotect\",\"transl\",\"upshar\",\"transact\",\"playn\",\"valid\",\"occas\",\"oct\",\"xxxiii\",\"poet\",\"treat\",\"valu\",\"nowaday\",\"xxx\",\"portion\",\"tubervil\",\"nottingham\",\"porter\",\"noxo\",\"possibl\",\"tuo\",\"trover\",\"xv\",\"ubi\",\"oblig\",\"trial\",\"tri\",\"ultim\",\"unavoid\",\"xlix\",\"poor\",\"trevilian\",\"notion\",\"post\",\"understood\",\"notwithstand\",\"twelv\",\"whole\",\"variat\",\"welfar\",\"wilcox\",\"welwood\",\"wild\",\"well\",\"paradox\",\"pardessu\",\"other\",\"origin\",\"plausibl\",\"weekli\",\"we\",\"ordinari\",\"watkin\",\"order\",\"water\",\"trade\",\"wilbraham\",\"panama\",\"ou\",\"wharton\",\"wholli\",\"white\",\"page\",\"whose\",\"owen\",\"wherev\",\"when\",\"overthrow\",\"palanquin\",\"outsid\",\"wheatley\",\"our\",\"whatev\",\"palgrav\",\"wiburn\",\"warrantia\",\"particular\",\"warr\",\"ph\",\"wish\",\"vel\",\"ve\",\"pierson\",\"vast\",\"older\",\"without\",\"woman\",\"pa\",\"plac\",\"offer\",\"woodlif\",\"variou\",\"of\",\"odessa\",\"vengeanc\",\"wilson\",\"oppos\",\"omit\",\"passeng\",\"passim\",\"wall\",\"wake\",\"payment\",\"peat\",\"vroom\",\"voyag\",\"visig\",\"viscount\",\"period\",\"vermogensrechtlichen\",\"open\",\"williaw\",\"on\",\"pr\",\"sharsw\",\"praesentia\",\"son\",\"rot\",\"rotuli\",\"start\",\"stamp\",\"run\",\"spoil\",\"ryland\",\"sacrific\",\"safeti\",\"specif\",\"special\",\"speci\",\"southern\",\"sailor\",\"sake\",\"southcote\",\"sort\",\"sal\",\"salabl\",\"stat\",\"rosher\",\"rome\",\"richard\",\"respect\",\"strong\",\"rest\",\"restor\",\"return\",\"strike\",\"strength\",\"stranger\",\"stipul\",\"romanc\",\"river\",\"rivet\",\"stick\",\"rob\",\"roe\",\"roem\",\"rolf\",\"staundford\",\"sale\",\"sanction\",\"prec\",\"sand\",\"sell\",\"sen\",\"sens\",\"si\",\"sermon\",\"serv\",\"shoulder\",\"servitio\",\"servitium\",\"shortli\",\"short\",\"shipwreck\",\"seu\",\"sexual\",\"shepherd\",\"sheph\",\"sheffield\",\"shape\",\"sharington\",\"self\",\"side\",\"secur\",\"situat\",\"solemn\",\"saunder\",\"snow\",\"snedak\",\"sawin\",\"sax\",\"saxon\",\"skinner\",\"schwurgericht\",\"section10\",\"scope\",\"scott\",\"singl\",\"sea\",\"simpli\",\"similar\",\"signific\",\"siderfin\",\"resel\",\"strotton\",\"studi\",\"repromittatur\",\"proctor\",\"produc\",\"those\",\"thompson\",\"thirn\",\"prop\",\"think\",\"thing\",\"thief\",\"proportion\",\"thevenin\",\"proposit\",\"propriet\",\"thereupon\",\"prudenc\",\"thame\",\"tender\",\"pure\",\"tenant\",\"process\",\"proceed\",\"procedur\",\"prevail\",\"tract\",\"preliminari\",\"present\",\"presid\",\"touchst\",\"presuppos\",\"touch\",\"totam\",\"topp\",\"probatur\",\"top\",\"princip\",\"tollit\",\"told\",\"thu\",\"prison\",\"privat\",\"probabl\",\"put\",\"queen\",\"quit\",\"success\",\"summari\",\"receiv\",\"recent\",\"recht\",\"suffici\",\"recogn\",\"suffer\",\"sue\",\"subtractioni\",\"readili\",\"reign\",\"substant\",\"subject\",\"rememb\",\"renni\",\"sub\",\"sua\",\"su\",\"summon\",\"sureti\",\"tempest\",\"ratcliff\",\"quot\",\"railroad\",\"technic\",\"rainsford\",\"taylor\",\"ralegh\",\"ransom\",\"task\",\"rate\",\"reader\",\"rather\",\"swindon\",\"raymond\",\"swear\",\"sutton\",\"sustain\",\"surrend\",\"surpass\",\"shearer\",\"127\",\"north\",\"curri\",\"corpori\",\"correct\",\"correspond\",\"cort\",\"cotton\",\"counti\",\"countri\",\"cox\",\"cr\",\"cranworth\",\"cri\",\"crompton\",\"crtre\",\"curiam\",\"curti\",\"express\",\"cush\",\"custodir\",\"cx\",\"cxxx\",\"cxxxi\",\"dalston\",\"damno\",\"danger\",\"davi\",\"day\",\"dealt\",\"debet\",\"debt\",\"deditio\",\"corlett\",\"conveni\",\"controversi\",\"continu\",\"choic\",\"circa\",\"circumst\",\"cit\",\"citizen\",\"claim\",\"clapp\",\"clarendon\",\"coke\",\"col\",\"coleridg\",\"collis\",\"colquhoun\",\"com\",\"commentari\",\"commerc\",\"compens\",\"complet\",\"comyn\",\"concern\",\"conclud\",\"confin\",\"conflict\",\"congress\",\"conham\",\"conn\",\"connect\",\"constit\",\"consult\",\"def\",\"default\",\"defenc\",\"donskoy\",\"du\",\"due\",\"durfe\",\"dybal\",\"earli\",\"earliest\",\"eastern\",\"eaton\",\"edict\",\"egyptian\",\"elicit\",\"elizabeth\",\"ellen\",\"elli\",\"empir\",\"encourag\",\"endeavor\",\"eng\",\"enter\",\"eq\",\"errorem\",\"essenti\",\"estim\",\"eveleth\",\"ever\",\"evolut\",\"excel\",\"execut\",\"exercis\",\"drawn\",\"donationi\",\"degre\",\"dominu\",\"deliveri\",\"demand\",\"deni\",\"depart\",\"desert\",\"deserv\",\"design\",\"desol\",\"detain\",\"detinu\",\"dici\",\"dicitur\",\"die\",\"difficulti\",\"dimech\",\"direct\",\"directli\",\"disappear\",\"disapprov\",\"discharg\",\"discov\",\"discredit\",\"disobey\",\"disseisin\",\"disseisor\",\"distinct\",\"doe\",\"doer\",\"domini\",\"child\",\"chargeabl\",\"chapman\",\"altern\",\"amberg\",\"ame\",\"amer\",\"america\",\"american\",\"amission\",\"amsterdam\",\"an\",\"analog\",\"ancien\",\"ancient\",\"ang\",\"angel\",\"animu\",\"anonym\",\"anyth\",\"appetit\",\"appoint\",\"appreci\",\"apprentic\",\"apprompt\",\"arbitrari\",\"are\",\"aris\",\"arnold\",\"articl\",\"assault\",\"assign\",\"attribut\",\"alway\",\"alon\",\"b1\",\"allow\",\"511\",\"576\",\"580\",\"606\",\"75\",\"abbr\",\"absqu\",\"absurd\",\"accept\",\"accessori\",\"accid\",\"accus\",\"acquir\",\"actuat\",\"add\",\"addison\",\"advanc\",\"advert\",\"affect\",\"agenc\",\"agre\",\"agreement\",\"ahr\",\"aide\",\"al\",\"ald\",\"alestre\",\"alio\",\"allegi\",\"avail\",\"bac\",\"chap\",\"brev\",\"brucker\",\"brunner\",\"buck\",\"bullen\",\"buller\",\"burden\",\"burg\",\"burr\",\"burton\",\"busi\",\"buster\",\"buxendin\",\"buy\",\"by\",\"byne\",\"cab\",\"cadwallad\",\"cain\",\"cal\",\"came\",\"camp\",\"capitali\",\"card\",\"carriag\",\"carwardin\",\"ceperit\",\"certain\",\"chang\",\"chanter\",\"brian\",\"breach\",\"bail\",\"braunstein\",\"bailor\",\"bainbridg\",\"baiw\",\"ballam\",\"bargain\",\"barn\",\"bartlet\",\"base\",\"batteri\",\"baxter\",\"becam\",\"becaus\",\"befor\",\"benj\",\"bernaard\",\"bertram\",\"best\",\"better\",\"blade\",\"board\",\"bolingbrok\",\"boorman\",\"booth\",\"bordeaux\",\"boston\",\"bought\",\"box\",\"boyer\",\"brathwait\",\"exist\",\"extens\",\"non\",\"lessen\",\"laferrier\",\"lampleigh\",\"lane\",\"last\",\"late\",\"laveley\",\"lb\",\"learn\",\"least\",\"led\",\"left\",\"legisl\",\"length\",\"leonard\",\"let\",\"extent\",\"levinz\",\"lib\",\"lie\",\"life\",\"lincolnshir\",\"lipson\",\"liutprand\",\"live\",\"livermor\",\"livi\",\"lix\",\"logic\",\"long\",\"look\",\"labor\",\"laband\",\"la\",\"kneeland\",\"issu\",\"itiner\",\"jame\",\"jane\",\"janson\",\"jefferson\",\"jenk\",\"jenkin\",\"jeremi\",\"jermin\",\"jettison\",\"johnson\",\"join\",\"jr\",\"junction\",\"jur\",\"juryman\",\"justin\",\"kavenford\",\"keel\",\"kelyng\",\"kemp\",\"kendal\",\"kennedi\",\"key\",\"kill\",\"kincaid\",\"447\",\"klagen\",\"lose\",\"louisa\",\"lovett\",\"millen\",\"misrecit\",\"mitchil\",\"mitten\",\"mode\",\"modum\",\"monahan\",\"moo\",\"mood\",\"moral\",\"moran\",\"more\",\"morey\",\"morgan\",\"mother\",\"motif\",\"move\",\"moxey\",\"muggridg\",\"murray\",\"mutual\",\"narrowli\",\"navig\",\"near\",\"neglect\",\"new\",\"newkirk\",\"newli\",\"nichol\",\"nomini\",\"mind\",\"middlemor\",\"low\",\"metropolitan\",\"lxix\",\"lxxiv\",\"lxxvii\",\"lxxxix\",\"lyon\",\"mail\",\"main\",\"mainpris\",\"maintain\",\"mak\",\"manchest\",\"mansfield\",\"maritim\",\"mark\",\"marriag\",\"mason\",\"massachusett\",\"matthew\",\"maxim\",\"meagr\",\"mear\",\"medium\",\"mellen\",\"merchant\",\"merci\",\"merri\",\"met\",\"method\",\"metric\",\"intuitu\",\"introduc\",\"intern\",\"fowler\",\"franzosisch\",\"free\",\"freeman\",\"friend\",\"frision\",\"fromont\",\"furthermor\",\"geist\",\"georg\",\"glanv\",\"gloucest\",\"god\",\"goodal\",\"goodman\",\"gordon\",\"gorham\",\"gr\",\"grabb\",\"graham\",\"grammar\",\"gratif\",\"greater\",\"green\",\"gross\",\"grown\",\"growth\",\"guessard\",\"guilti\",\"habit\",\"fr\",\"foster\",\"halifax\",\"fosseft\",\"extrem\",\"eye\",\"factor\",\"failur\",\"fair\",\"faith\",\"fall\",\"famou\",\"fandry\",\"fatali\",\"fearnley\",\"feel\",\"feoffat\",\"feoffement\",\"fieri\",\"filter\",\"final\",\"finem\",\"fineux\",\"fire\",\"firmston\",\"fisher\",\"fitch\",\"fleme\",\"fletcher\",\"fluctuat\",\"forgiv\",\"former\",\"forth\",\"haeredibu\",\"halliday\",\"int\",\"homagium\",\"household\",\"hugh\",\"hutchinson\",\"ide\",\"idem\",\"iher\",\"iil\",\"il\",\"ill\",\"implic\",\"import\",\"impos\",\"impress\",\"improb\",\"inapposit\",\"incid\",\"inclin\",\"inconsist\",\"inde\",\"indefinit\",\"india\",\"indic\",\"individu\",\"ingeni\",\"inhaberpapi\",\"injur\",\"injuri\",\"innkeep\",\"insur\",\"hors\",\"homagio\",\"hammack\",\"holm\",\"hang\",\"happen\",\"hardli\",\"harper\",\"harrison\",\"haweri\",\"hawk\",\"hayley\",\"hazard\",\"heard\",\"hearn\",\"henri\",\"hertford\",\"hesit\",\"heyworth\",\"hichen\",\"hidden\",\"hildreth\",\"hill\",\"hilperich\",\"hiqg\",\"hist\",\"histori\",\"hit\",\"hither\",\"hobb\",\"hoc\",\"hold\",\"holgat\",\"young\"],\"y\":[3.178571428571428,2.178571428571429,2.0,1.9642857142857142,1.8928571428571428,1.4999999999999998,1.4285714285714286,1.3928571428571428,1.1785714285714284,0.8214285714285714,0.7857142857142856,0.7142857142857142,0.7142857142857142,0.6785714285714284,0.6071428571428571,0.607142857142857,0.5714285714285714,0.5714285714285714,0.5714285714285714,0.5714285714285714,0.5357142857142856,0.49999999999999994,0.4999999999999999,0.4999999999999999,0.4999999999999999,0.4999999999999999,0.4999999999999999,0.46428571428571425,0.46428571428571425,0.46428571428571425,0.4642857142857142,0.4642857142857142,0.4642857142857142,0.42857142857142855,0.4285714285714285,0.4285714285714285,0.4285714285714285,0.42857142857142844,0.3928571428571428,0.3928571428571428,0.3928571428571428,0.3571428571428571,0.3571428571428571,0.3571428571428571,0.3571428571428571,0.3571428571428571,0.3571428571428571,0.35714285714285704,0.35714285714285704,0.3214285714285714,0.3214285714285714,0.3214285714285714,0.32142857142857134,0.2857142857142857,0.2857142857142857,0.2857142857142857,0.2857142857142857,0.2857142857142857,0.2857142857142857,0.2857142857142857,0.2857142857142857,0.2857142857142857,0.2857142857142857,0.28571428571428564,0.28571428571428564,0.28571428571428564,0.28571428571428564,0.28571428571428564,0.28571428571428564,0.25,0.25,0.25,0.25,0.25,0.25,0.25,0.25,0.25,0.24999999999999997,0.24999999999999997,0.24999999999999994,0.24999999999999994,0.24999999999999994,0.24999999999999994,0.24999999999999994,0.24999999999999994,0.24999999999999994,0.24999999999999994,0.24999999999999994,0.21428571428571427,0.21428571428571427,0.21428571428571427,0.21428571428571427,0.21428571428571427,0.21428571428571427,0.21428571428571427,0.21428571428571425,0.21428571428571425,0.21428571428571425,0.21428571428571425,0.21428571428571425,0.21428571428571425,0.21428571428571425,0.21428571428571425,0.21428571428571425,0.21428571428571425,0.21428571428571425,0.21428571428571425,0.21428571428571425,0.21428571428571425,0.21428571428571425,0.21428571428571425,0.21428571428571425,0.21428571428571425,0.21428571428571425,0.21428571428571425,0.21428571428571425,0.21428571428571425,0.21428571428571425,0.21428571428571425,0.21428571428571425,0.21428571428571425,0.21428571428571425,0.21428571428571425,0.21428571428571425,0.17857142857142855,0.17857142857142855,0.17857142857142855,0.17857142857142855,0.17857142857142855,0.17857142857142855,0.17857142857142855,0.17857142857142855,0.17857142857142855,0.17857142857142855,0.17857142857142855,0.17857142857142855,0.17857142857142855,0.17857142857142855,0.17857142857142855,0.17857142857142855,0.17857142857142855,0.17857142857142855,0.17857142857142855,0.17857142857142855,0.17857142857142855,0.17857142857142855,0.17857142857142855,0.17857142857142855,0.17857142857142855,0.17857142857142855,0.17857142857142855,0.17857142857142855,0.17857142857142855,0.17857142857142855,0.17857142857142855,0.17857142857142855,0.17857142857142855,0.17857142857142855,0.17857142857142855,0.17857142857142855,0.17857142857142855,0.17857142857142855,0.17857142857142855,0.17857142857142855,0.14285714285714285,0.14285714285714285,0.14285714285714285,0.14285714285714285,0.14285714285714285,0.14285714285714285,0.14285714285714285,0.14285714285714285,0.14285714285714285,0.14285714285714285,0.14285714285714285,0.14285714285714285,0.14285714285714285,0.14285714285714285,0.14285714285714285,0.14285714285714285,0.14285714285714285,0.14285714285714285,0.14285714285714285,0.14285714285714285,0.14285714285714285,0.14285714285714285,0.14285714285714285,0.14285714285714285,0.14285714285714285,0.14285714285714285,0.14285714285714285,0.14285714285714285,0.14285714285714285,0.14285714285714285,0.14285714285714285,0.14285714285714285,0.14285714285714285,0.14285714285714285,0.14285714285714285,0.14285714285714285,0.14285714285714285,0.14285714285714285,0.14285714285714285,0.14285714285714285,0.14285714285714285,0.14285714285714285,0.14285714285714285,0.14285714285714285,0.14285714285714285,0.14285714285714285,0.14285714285714285,0.14285714285714285,0.14285714285714285,0.14285714285714285,0.14285714285714285,0.14285714285714285,0.14285714285714285,0.14285714285714285,0.14285714285714285,0.14285714285714285,0.10714285714285714,0.10714285714285714,0.10714285714285714,0.10714285714285714,0.10714285714285714,0.10714285714285714,0.10714285714285714,0.10714285714285714,0.10714285714285714,0.10714285714285714,0.10714285714285714,0.10714285714285714,0.10714285714285714,0.10714285714285714,0.10714285714285714,0.10714285714285714,0.10714285714285714,0.10714285714285714,0.10714285714285714,0.10714285714285714,0.10714285714285714,0.10714285714285714,0.10714285714285714,0.10714285714285714,0.10714285714285714,0.10714285714285714,0.10714285714285714,0.10714285714285714,0.10714285714285714,0.10714285714285714,0.10714285714285714,0.10714285714285714,0.10714285714285714,0.10714285714285714,0.10714285714285714,0.10714285714285714,0.10714285714285714,0.10714285714285714,0.10714285714285714,0.10714285714285714,0.10714285714285714,0.10714285714285714,0.10714285714285714,0.10714285714285714,0.10714285714285714,0.10714285714285714,0.10714285714285714,0.10714285714285714,0.10714285714285714,0.10714285714285714,0.10714285714285714,0.10714285714285714,0.10714285714285714,0.10714285714285714,0.10714285714285714,0.10714285714285714,0.10714285714285714,0.10714285714285714,0.10714285714285714,0.10714285714285714,0.10714285714285714,0.10714285714285714,0.10714285714285714,0.10714285714285714,0.10714285714285714,0.10714285714285714,0.10714285714285714,0.10714285714285714,0.10714285714285714,0.10714285714285714,0.10714285714285714,0.10714285714285714,0.10714285714285714,0.10714285714285714,0.10714285714285714,0.10714285714285714,0.10714285714285714,0.10714285714285714,0.10714285714285714,0.10714285714285714,0.10714285714285714,0.10714285714285714,0.10714285714285714,0.10714285714285714,0.10714285714285714,0.10714285714285714,0.10714285714285714,0.10714285714285714,0.10714285714285714,0.10714285714285714,0.10714285714285714,0.10714285714285714,0.10714285714285714,0.10714285714285714,0.10714285714285714,0.10714285714285714,0.10714285714285714,0.10714285714285714,0.10714285714285714,0.10714285714285714,0.10714285714285714,0.10714285714285714,0.10714285714285714,0.10714285714285714,0.10714285714285714,0.10714285714285714,0.10714285714285714,0.10714285714285714,0.10714285714285714,0.10714285714285714,0.10714285714285714,0.10714285714285714,0.10714285714285714,0.10714285714285714,0.10714285714285714,0.10714285714285714,0.10714285714285714,0.10714285714285714,0.07142857142857142,0.07142857142857142,0.07142857142857142,0.07142857142857142,0.07142857142857142,0.07142857142857142,0.07142857142857142,0.07142857142857142,0.07142857142857142,0.07142857142857142,0.07142857142857142,0.07142857142857142,0.07142857142857142,0.07142857142857142,0.07142857142857142,0.07142857142857142,0.07142857142857142,0.07142857142857142,0.07142857142857142,0.07142857142857142,0.07142857142857142,0.07142857142857142,0.07142857142857142,0.07142857142857142,0.07142857142857142,0.07142857142857142,0.07142857142857142,0.07142857142857142,0.07142857142857142,0.07142857142857142,0.07142857142857142,0.07142857142857142,0.07142857142857142,0.07142857142857142,0.07142857142857142,0.07142857142857142,0.07142857142857142,0.07142857142857142,0.07142857142857142,0.07142857142857142,0.07142857142857142,0.07142857142857142,0.07142857142857142,0.07142857142857142,0.07142857142857142,0.07142857142857142,0.07142857142857142,0.07142857142857142,0.07142857142857142,0.07142857142857142,0.07142857142857142,0.07142857142857142,0.07142857142857142,0.07142857142857142,0.07142857142857142,0.07142857142857142,0.07142857142857142,0.07142857142857142,0.07142857142857142,0.07142857142857142,0.07142857142857142,0.07142857142857142,0.07142857142857142,0.07142857142857142,0.07142857142857142,0.07142857142857142,0.07142857142857142,0.07142857142857142,0.07142857142857142,0.07142857142857142,0.07142857142857142,0.07142857142857142,0.07142857142857142,0.07142857142857142,0.07142857142857142,0.07142857142857142,0.07142857142857142,0.07142857142857142,0.07142857142857142,0.07142857142857142,0.07142857142857142,0.07142857142857142,0.07142857142857142,0.07142857142857142,0.07142857142857142,0.07142857142857142,0.07142857142857142,0.07142857142857142,0.07142857142857142,0.07142857142857142,0.07142857142857142,0.07142857142857142,0.07142857142857142,0.07142857142857142,0.07142857142857142,0.07142857142857142,0.07142857142857142,0.07142857142857142,0.07142857142857142,0.07142857142857142,0.07142857142857142,0.07142857142857142,0.07142857142857142,0.07142857142857142,0.07142857142857142,0.07142857142857142,0.07142857142857142,0.07142857142857142,0.07142857142857142,0.07142857142857142,0.07142857142857142,0.07142857142857142,0.07142857142857142,0.07142857142857142,0.07142857142857142,0.07142857142857142,0.07142857142857142,0.07142857142857142,0.07142857142857142,0.07142857142857142,0.07142857142857142,0.07142857142857142,0.07142857142857142,0.07142857142857142,0.07142857142857142,0.07142857142857142,0.07142857142857142,0.07142857142857142,0.07142857142857142,0.07142857142857142,0.07142857142857142,0.07142857142857142,0.07142857142857142,0.07142857142857142,0.07142857142857142,0.07142857142857142,0.07142857142857142,0.07142857142857142,0.07142857142857142,0.07142857142857142,0.07142857142857142,0.07142857142857142,0.07142857142857142,0.07142857142857142,0.07142857142857142,0.07142857142857142,0.07142857142857142,0.07142857142857142,0.07142857142857142,0.07142857142857142,0.07142857142857142,0.07142857142857142,0.07142857142857142,0.07142857142857142,0.07142857142857142,0.07142857142857142,0.07142857142857142,0.07142857142857142,0.07142857142857142,0.07142857142857142,0.07142857142857142,0.07142857142857142,0.07142857142857142,0.07142857142857142,0.07142857142857142,0.07142857142857142,0.07142857142857142,0.07142857142857142,0.07142857142857142,0.07142857142857142,0.07142857142857142,0.07142857142857142,0.07142857142857142,0.07142857142857142,0.07142857142857142,0.07142857142857142,0.07142857142857142,0.07142857142857142,0.07142857142857142,0.07142857142857142,0.07142857142857142,0.07142857142857142,0.07142857142857142,0.07142857142857142,0.07142857142857142,0.07142857142857142,0.07142857142857142,0.07142857142857142,0.07142857142857142,0.07142857142857142,0.07142857142857142,0.07142857142857142,0.07142857142857142,0.07142857142857142,0.07142857142857142,0.07142857142857142,0.07142857142857142,0.07142857142857142,0.07142857142857142,0.07142857142857142,0.07142857142857142,0.07142857142857142,0.07142857142857142,0.07142857142857142,0.07142857142857142,0.07142857142857142,0.07142857142857142,0.07142857142857142,0.07142857142857142,0.07142857142857142,0.07142857142857142,0.07142857142857142,0.07142857142857142,0.07142857142857142,0.07142857142857142,0.07142857142857142,0.07142857142857142,0.07142857142857142,0.07142857142857142,0.07142857142857142,0.07142857142857142,0.07142857142857142,0.07142857142857142,0.07142857142857142,0.07142857142857142,0.07142857142857142,0.07142857142857142,0.07142857142857142,0.07142857142857142,0.07142857142857142,0.07142857142857142,0.07142857142857142,0.07142857142857142,0.07142857142857142,0.07142857142857142,0.07142857142857142,0.07142857142857142,0.07142857142857142,0.07142857142857142,0.07142857142857142,0.07142857142857142,0.07142857142857142,0.03571428571428571,0.03571428571428571,0.03571428571428571,0.03571428571428571,0.03571428571428571,0.03571428571428571,0.03571428571428571,0.03571428571428571,0.03571428571428571,0.03571428571428571,0.03571428571428571,0.03571428571428571,0.03571428571428571,0.03571428571428571,0.03571428571428571,0.03571428571428571,0.03571428571428571,0.03571428571428571,0.03571428571428571,0.03571428571428571,0.03571428571428571,0.03571428571428571,0.03571428571428571,0.03571428571428571,0.03571428571428571,0.03571428571428571,0.03571428571428571,0.03571428571428571,0.03571428571428571,0.03571428571428571,0.03571428571428571,0.03571428571428571,0.03571428571428571,0.03571428571428571,0.03571428571428571,0.03571428571428571,0.03571428571428571,0.03571428571428571,0.03571428571428571,0.03571428571428571,0.03571428571428571,0.03571428571428571,0.03571428571428571,0.03571428571428571,0.03571428571428571,0.03571428571428571,0.03571428571428571,0.03571428571428571,0.03571428571428571,0.03571428571428571,0.03571428571428571,0.03571428571428571,0.03571428571428571,0.03571428571428571,0.03571428571428571,0.03571428571428571,0.03571428571428571,0.03571428571428571,0.03571428571428571,0.03571428571428571,0.03571428571428571,0.03571428571428571,0.03571428571428571,0.03571428571428571,0.03571428571428571,0.03571428571428571,0.03571428571428571,0.03571428571428571,0.03571428571428571,0.03571428571428571,0.03571428571428571,0.03571428571428571,0.03571428571428571,0.03571428571428571,0.03571428571428571,0.03571428571428571,0.03571428571428571,0.03571428571428571,0.03571428571428571,0.03571428571428571,0.03571428571428571,0.03571428571428571,0.03571428571428571,0.03571428571428571,0.03571428571428571,0.03571428571428571,0.03571428571428571,0.03571428571428571,0.03571428571428571,0.03571428571428571,0.03571428571428571,0.03571428571428571,0.03571428571428571,0.03571428571428571,0.03571428571428571,0.03571428571428571,0.03571428571428571,0.03571428571428571,0.03571428571428571,0.03571428571428571,0.03571428571428571,0.03571428571428571,0.03571428571428571,0.03571428571428571,0.03571428571428571,0.03571428571428571,0.03571428571428571,0.03571428571428571,0.03571428571428571,0.03571428571428571,0.03571428571428571,0.03571428571428571,0.03571428571428571,0.03571428571428571,0.03571428571428571,0.03571428571428571,0.03571428571428571,0.03571428571428571,0.03571428571428571,0.03571428571428571,0.03571428571428571,0.03571428571428571,0.03571428571428571,0.03571428571428571,0.03571428571428571,0.03571428571428571,0.03571428571428571,0.03571428571428571,0.03571428571428571,0.03571428571428571,0.03571428571428571,0.03571428571428571,0.03571428571428571,0.03571428571428571,0.03571428571428571,0.03571428571428571,0.03571428571428571,0.03571428571428571,0.03571428571428571,0.03571428571428571,0.03571428571428571,0.03571428571428571,0.03571428571428571,0.03571428571428571,0.03571428571428571,0.03571428571428571,0.03571428571428571,0.03571428571428571,0.03571428571428571,0.03571428571428571,0.03571428571428571,0.03571428571428571,0.03571428571428571,0.03571428571428571,0.03571428571428571,0.03571428571428571,0.03571428571428571,0.03571428571428571,0.03571428571428571,0.03571428571428571,0.03571428571428571,0.03571428571428571,0.03571428571428571,0.03571428571428571,0.03571428571428571,0.03571428571428571,0.03571428571428571,0.03571428571428571,0.03571428571428571,0.03571428571428571,0.03571428571428571,0.03571428571428571,0.03571428571428571,0.03571428571428571,0.03571428571428571,0.03571428571428571,0.03571428571428571,0.03571428571428571,0.03571428571428571,0.03571428571428571,0.03571428571428571,0.03571428571428571,0.03571428571428571,0.03571428571428571,0.03571428571428571,0.03571428571428571,0.03571428571428571,0.03571428571428571,0.03571428571428571,0.03571428571428571,0.03571428571428571,0.03571428571428571,0.03571428571428571,0.03571428571428571,0.03571428571428571,0.03571428571428571,0.03571428571428571,0.03571428571428571,0.03571428571428571,0.03571428571428571,0.03571428571428571,0.03571428571428571,0.03571428571428571,0.03571428571428571,0.03571428571428571,0.03571428571428571,0.03571428571428571,0.03571428571428571,0.03571428571428571,0.03571428571428571,0.03571428571428571,0.03571428571428571,0.03571428571428571,0.03571428571428571,0.03571428571428571,0.03571428571428571,0.03571428571428571,0.03571428571428571,0.03571428571428571,0.03571428571428571,0.03571428571428571,0.03571428571428571,0.03571428571428571,0.03571428571428571,0.03571428571428571,0.03571428571428571,0.03571428571428571,0.03571428571428571,0.03571428571428571,0.03571428571428571,0.03571428571428571,0.03571428571428571,0.03571428571428571,0.03571428571428571,0.03571428571428571,0.03571428571428571,0.03571428571428571,0.03571428571428571,0.03571428571428571,0.03571428571428571,0.03571428571428571,0.03571428571428571,0.03571428571428571,0.03571428571428571,0.03571428571428571,0.03571428571428571,0.03571428571428571,0.03571428571428571,0.03571428571428571,0.03571428571428571,0.03571428571428571,0.03571428571428571,0.03571428571428571,0.03571428571428571,0.03571428571428571,0.03571428571428571,0.03571428571428571,0.03571428571428571,0.03571428571428571,0.03571428571428571,0.03571428571428571,0.03571428571428571,0.03571428571428571,0.03571428571428571,0.03571428571428571,0.03571428571428571,0.03571428571428571,0.03571428571428571,0.03571428571428571,0.03571428571428571,0.03571428571428571,0.03571428571428571,0.03571428571428571,0.03571428571428571,0.03571428571428571,0.03571428571428571,0.03571428571428571,0.03571428571428571,0.03571428571428571,0.03571428571428571,0.03571428571428571,0.03571428571428571,0.03571428571428571,0.03571428571428571,0.03571428571428571,0.03571428571428571,0.03571428571428571,0.03571428571428571,0.03571428571428571,0.03571428571428571,0.03571428571428571,0.03571428571428571,0.03571428571428571,0.03571428571428571,0.03571428571428571,0.03571428571428571,0.03571428571428571,0.03571428571428571,0.03571428571428571,0.03571428571428571,0.03571428571428571,0.03571428571428571,0.03571428571428571,0.03571428571428571,0.03571428571428571,0.03571428571428571,0.03571428571428571,0.03571428571428571,0.03571428571428571,0.03571428571428571,0.03571428571428571,0.03571428571428571,0.03571428571428571,0.03571428571428571,0.03571428571428571,0.03571428571428571,0.03571428571428571,0.03571428571428571,0.03571428571428571,0.03571428571428571,0.03571428571428571,0.03571428571428571,0.03571428571428571,0.03571428571428571,0.03571428571428571,0.03571428571428571,0.03571428571428571,0.03571428571428571,0.03571428571428571,0.03571428571428571,0.03571428571428571,0.03571428571428571,0.03571428571428571,0.03571428571428571,0.03571428571428571,0.03571428571428571,0.03571428571428571,0.03571428571428571,0.03571428571428571,0.03571428571428571,0.03571428571428571,0.03571428571428571,0.03571428571428571,0.03571428571428571,0.03571428571428571,0.03571428571428571,0.03571428571428571,0.03571428571428571,0.03571428571428571,0.03571428571428571,0.03571428571428571,0.03571428571428571,0.03571428571428571,0.03571428571428571,0.03571428571428571,0.03571428571428571,0.03571428571428571,0.03571428571428571,0.03571428571428571,0.03571428571428571,0.03571428571428571,0.03571428571428571,0.03571428571428571,0.03571428571428571,0.03571428571428571,0.03571428571428571,0.03571428571428571,0.03571428571428571,0.03571428571428571,0.03571428571428571,0.03571428571428571,0.03571428571428571,0.03571428571428571,0.03571428571428571,0.03571428571428571,0.03571428571428571,0.03571428571428571,0.03571428571428571,0.03571428571428571,0.03571428571428571,0.03571428571428571,0.03571428571428571,0.03571428571428571,0.03571428571428571,0.03571428571428571,0.03571428571428571,0.03571428571428571,0.03571428571428571,0.03571428571428571,0.03571428571428571,0.03571428571428571,0.03571428571428571,0.03571428571428571,0.03571428571428571,0.03571428571428571,0.03571428571428571,0.03571428571428571,0.03571428571428571,0.03571428571428571,0.03571428571428571,0.03571428571428571,0.03571428571428571,0.03571428571428571,0.03571428571428571,0.03571428571428571,0.03571428571428571,0.03571428571428571,0.03571428571428571,0.03571428571428571,0.03571428571428571,0.03571428571428571,0.03571428571428571,0.03571428571428571,0.03571428571428571,0.03571428571428571,0.03571428571428571,0.03571428571428571,0.03571428571428571,0.03571428571428571,0.03571428571428571,0.03571428571428571,0.03571428571428571,0.03571428571428571,0.03571428571428571,0.03571428571428571,0.03571428571428571,0.03571428571428571,0.03571428571428571,0.03571428571428571,0.03571428571428571,0.03571428571428571,0.03571428571428571,0.03571428571428571,0.03571428571428571,0.03571428571428571,0.03571428571428571,0.03571428571428571,0.03571428571428571,0.03571428571428571,0.03571428571428571,0.03571428571428571,0.03571428571428571,0.03571428571428571,0.03571428571428571,0.03571428571428571,0.03571428571428571,0.03571428571428571,0.03571428571428571,0.03571428571428571,0.03571428571428571,0.03571428571428571,0.03571428571428571,0.03571428571428571,0.03571428571428571,0.03571428571428571,0.03571428571428571,0.03571428571428571,0.03571428571428571,0.03571428571428571,0.03571428571428571,0.03571428571428571,0.03571428571428571,0.03571428571428571,0.03571428571428571,0.03571428571428571,0.03571428571428571,0.03571428571428571,0.03571428571428571,0.03571428571428571,0.03571428571428571,0.03571428571428571,0.03571428571428571,0.03571428571428571,0.03571428571428571,0.03571428571428571,0.03571428571428571,0.03571428571428571,0.03571428571428571,0.03571428571428571,0.03571428571428571,0.03571428571428571,0.03571428571428571,0.03571428571428571,0.03571428571428571,0.03571428571428571,0.03571428571428571,0.03571428571428571,0.03571428571428571,0.03571428571428571,0.03571428571428571,0.03571428571428571,0.03571428571428571,0.03571428571428571,0.03571428571428571,0.03571428571428571,0.03571428571428571,0.03571428571428571,0.03571428571428571,0.03571428571428571,0.03571428571428571,0.03571428571428571,0.03571428571428571,0.03571428571428571,0.03571428571428571,0.03571428571428571,0.03571428571428571,0.03571428571428571,0.03571428571428571,0.03571428571428571,0.03571428571428571,0.03571428571428571,0.03571428571428571,0.03571428571428571,0.03571428571428571,0.03571428571428571,0.03571428571428571,0.03571428571428571,0.03571428571428571,0.03571428571428571,0.03571428571428571,0.03571428571428571,0.03571428571428571,0.03571428571428571,0.03571428571428571,0.03571428571428571,0.03571428571428571,0.03571428571428571,0.03571428571428571,0.03571428571428571,0.03571428571428571,0.03571428571428571,0.03571428571428571,0.03571428571428571,0.03571428571428571,0.03571428571428571,0.03571428571428571,0.03571428571428571,0.03571428571428571,0.03571428571428571,0.03571428571428571,0.03571428571428571,0.03571428571428571,0.03571428571428571,0.03571428571428571,0.03571428571428571,0.03571428571428571,0.03571428571428571,0.03571428571428571,0.03571428571428571,0.03571428571428571,0.03571428571428571,0.03571428571428571,0.03571428571428571,0.03571428571428571,0.03571428571428571,0.03571428571428571,0.03571428571428571,0.03571428571428571,0.03571428571428571,0.03571428571428571,0.03571428571428571,0.03571428571428571,0.03571428571428571,0.03571428571428571,0.03571428571428571,0.03571428571428571,0.03571428571428571,0.03571428571428571,0.03571428571428571,0.03571428571428571,0.03571428571428571,0.03571428571428571,0.03571428571428571,0.03571428571428571,0.03571428571428571,0.03571428571428571,0.03571428571428571,0.03571428571428571,0.03571428571428571,0.03571428571428571,0.03571428571428571,0.03571428571428571,0.03571428571428571,0.03571428571428571,0.03571428571428571,0.03571428571428571,0.03571428571428571,0.03571428571428571,0.03571428571428571,0.03571428571428571,0.03571428571428571,0.03571428571428571,0.03571428571428571,0.03571428571428571,0.03571428571428571,0.03571428571428571,0.03571428571428571,0.03571428571428571,0.03571428571428571,0.03571428571428571,0.03571428571428571,0.03571428571428571,0.03571428571428571,0.03571428571428571,0.03571428571428571,0.03571428571428571,0.03571428571428571,0.03571428571428571,0.03571428571428571,0.03571428571428571,0.03571428571428571,0.03571428571428571,0.03571428571428571,0.03571428571428571,0.03571428571428571,0.03571428571428571,0.03571428571428571,0.03571428571428571,0.03571428571428571,0.03571428571428571,0.03571428571428571,0.03571428571428571,0.03571428571428571,0.03571428571428571,0.03571428571428571,0.03571428571428571,0.03571428571428571,0.03571428571428571,0.03571428571428571,0.03571428571428571,0.03571428571428571,0.03571428571428571,0.03571428571428571,0.03571428571428571,0.03571428571428571,0.03571428571428571,0.03571428571428571,0.03571428571428571,0.03571428571428571,0.03571428571428571,0.03571428571428571,0.03571428571428571,0.03571428571428571,0.03571428571428571,0.03571428571428571,0.03571428571428571,0.03571428571428571,0.03571428571428571,0.03571428571428571,0.03571428571428571,0.03571428571428571,0.03571428571428571,0.03571428571428571,0.03571428571428571,0.03571428571428571,0.03571428571428571,0.03571428571428571,0.03571428571428571,0.03571428571428571,0.03571428571428571,0.03571428571428571,0.03571428571428571,0.03571428571428571,0.03571428571428571,0.03571428571428571,0.03571428571428571,0.03571428571428571,0.03571428571428571,0.03571428571428571,0.03571428571428571,0.03571428571428571,0.03571428571428571,0.03571428571428571,0.03571428571428571,0.03571428571428571,0.03571428571428571,0.03571428571428571,0.03571428571428571,0.03571428571428571,0.03571428571428571,0.03571428571428571,0.03571428571428571,0.03571428571428571,0.03571428571428571,0.03571428571428571,0.03571428571428571,0.03571428571428571,0.03571428571428571,0.03571428571428571,0.03571428571428571,0.03571428571428571,0.03571428571428571,0.03571428571428571,0.03571428571428571,0.03571428571428571,0.03571428571428571,0.03571428571428571,0.03571428571428571,0.03571428571428571,0.03571428571428571,0.03571428571428571,0.03571428571428571,0.03571428571428571,0.03571428571428571,0.03571428571428571,0.03571428571428571,0.03571428571428571,0.03571428571428571,0.03571428571428571,0.03571428571428571,0.03571428571428571,0.03571428571428571,0.03571428571428571,0.03571428571428571,0.03571428571428571,0.03571428571428571,0.03571428571428571,0.03571428571428571,0.03571428571428571,0.03571428571428571,0.03571428571428571,0.03571428571428571,0.03571428571428571,0.03571428571428571,0.03571428571428571,0.03571428571428571,0.03571428571428571,0.03571428571428571,0.03571428571428571,0.03571428571428571,0.03571428571428571,0.03571428571428571,0.03571428571428571,0.03571428571428571,0.03571428571428571,0.03571428571428571,0.03571428571428571,0.03571428571428571,0.03571428571428571,0.03571428571428571,0.03571428571428571,0.03571428571428571,0.03571428571428571,0.03571428571428571,0.03571428571428571,0.03571428571428571,0.03571428571428571,0.03571428571428571,0.03571428571428571,0.03571428571428571,0.03571428571428571,0.03571428571428571,0.03571428571428571,0.03571428571428571,0.03571428571428571,0.03571428571428571,0.03571428571428571,0.03571428571428571,0.03571428571428571,0.03571428571428571,0.03571428571428571,0.03571428571428571,0.03571428571428571,0.03571428571428571,0.03571428571428571,0.03571428571428571,0.03571428571428571,0.03571428571428571,0.03571428571428571,0.03571428571428571,0.03571428571428571,0.03571428571428571,0.03571428571428571,0.03571428571428571,0.03571428571428571,0.03571428571428571,0.03571428571428571,0.03571428571428571,0.03571428571428571,0.03571428571428571,0.03571428571428571,0.03571428571428571,0.03571428571428571,0.03571428571428571,0.03571428571428571,0.03571428571428571,0.03571428571428571,0.03571428571428571,0.03571428571428571,0.03571428571428571,0.03571428571428571,0.03571428571428571,0.03571428571428571,0.03571428571428571,0.03571428571428571,0.03571428571428571,0.03571428571428571,0.03571428571428571,0.03571428571428571,0.03571428571428571,0.03571428571428571,0.03571428571428571,0.03571428571428571,0.03571428571428571,0.03571428571428571,0.03571428571428571,0.03571428571428571,0.03571428571428571,0.03571428571428571,0.03571428571428571,0.03571428571428571,0.03571428571428571,0.03571428571428571,0.03571428571428571,0.03571428571428571,0.03571428571428571,0.03571428571428571,0.03571428571428571,0.03571428571428571,0.03571428571428571,0.03571428571428571,0.03571428571428571,0.03571428571428571,0.03571428571428571,0.03571428571428571,0.03571428571428571,0.03571428571428571,0.03571428571428571,0.03571428571428571,0.03571428571428571,0.03571428571428571,0.03571428571428571,0.03571428571428571,0.03571428571428571,0.03571428571428571,0.03571428571428571,0.03571428571428571],\"type\":\"bar\"},{\"marker\":{\"color\":\"black\"},\"name\":\"topic0\",\"x\":[\"the\",\"electr\",\"magnet\",\"current\",\"A\",\"one\",\"batteri\",\"circuit\",\"It\",\"resist\",\"forc\",\"use\",\"line\",\"standard\",\"In\",\"coil\",\"two\",\"pole\",\"may\",\"dictionari\",\"connect\",\"unit\",\"wire\",\"produc\",\"posit\",\"conductor\",\"field\",\"armatur\",\"see\",\"dynamo\",\"metal\",\"charg\",\"discharg\",\"term\",\"thu\",\"curv\",\"contact\",\"end\",\"iron\",\"plate\",\"gener\",\"direct\",\"An\",\"point\",\"induct\",\"carbon\",\"work\",\"arc\",\"potenti\",\"effect\"],\"y\":[1.8419215679168701,1.6272313594818115,1.5309786796569824,1.4147168397903442,1.1515525579452515,0.7904924154281616,0.724339485168457,0.7061715126037598,0.694823145866394,0.6570835709571838,0.6107902526855469,0.6046726107597351,0.5298196077346802,0.5002539753913879,0.47936081886291504,0.47485101222991943,0.4722757339477539,0.43942970037460327,0.4326041340827942,0.41684088110923767,0.40427857637405396,0.40040159225463867,0.3818144202232361,0.3454630374908447,0.3444698452949524,0.3359038531780243,0.3342359662055969,0.3127709627151489,0.31128939986228943,0.3070165514945984,0.2952168583869934,0.2909431755542755,0.28971394896507263,0.28819113969802856,0.2881593108177185,0.28400030732154846,0.28227052092552185,0.2813001275062561,0.27987369894981384,0.27919408679008484,0.2787993848323822,0.2747604250907898,0.2739987373352051,0.2691572904586792,0.25802069902420044,0.2517232298851013,0.243289977312088,0.2383691519498825,0.23685477674007416,0.23518861830234528],\"type\":\"bar\"},{\"marker\":{\"color\":\"red\"},\"name\":\"topic2\",\"x\":[\"the\",\"one\",\"gener\",\"would\",\"may\",\"It\",\"law\",\"case\",\"but\",\"natur\",\"must\",\"two\",\"I\",\"bee\",\"equat\",\"differ\",\"first\",\"question\",\"consid\",\"In\",\"point\",\"fact\",\"u\",\"function\",\"time\",\"present\",\"form\",\"man\",\"certain\",\"even\",\"line\",\"right\",\"relat\",\"consider\",\"calculu\",\"geometri\",\"order\",\"hive\",\"analysi\",\"shall\",\"differenti\",\"everi\",\"evid\",\"import\",\"determin\",\"still\",\"thi\",\"thu\",\"could\",\"make\"],\"y\":[0.858765184879303,0.7949456572532654,0.6860049366950989,0.631402313709259,0.5965813398361206,0.5869235396385193,0.5046945214271545,0.47442707419395447,0.4580177962779999,0.4392815828323364,0.4250766336917877,0.4092322587966919,0.40788665413856506,0.406899631023407,0.39505696296691895,0.3887442946434021,0.3855431079864502,0.37620627880096436,0.3358851373195648,0.3339267075061798,0.3215383291244507,0.32062625885009766,0.32008835673332214,0.3152763247489929,0.31076353788375854,0.3047860264778137,0.29883795976638794,0.28495848178863525,0.2847447395324707,0.2790847718715668,0.27837806940078735,0.27449384331703186,0.27102476358413696,0.2678672671318054,0.2576199173927307,0.25418514013290405,0.25402402877807617,0.2511354386806488,0.24735695123672485,0.24642245471477509,0.24456281960010529,0.23736266791820526,0.2355455607175827,0.23322927951812744,0.23312795162200928,0.22860528528690338,0.22822490334510803,0.22699382901191711,0.22472690045833588,0.21930846571922302],\"type\":\"bar\"}],                        {\"template\":{\"data\":{\"bar\":[{\"error_x\":{\"color\":\"#2a3f5f\"},\"error_y\":{\"color\":\"#2a3f5f\"},\"marker\":{\"line\":{\"color\":\"#E5ECF6\",\"width\":0.5},\"pattern\":{\"fillmode\":\"overlay\",\"size\":10,\"solidity\":0.2}},\"type\":\"bar\"}],\"barpolar\":[{\"marker\":{\"line\":{\"color\":\"#E5ECF6\",\"width\":0.5},\"pattern\":{\"fillmode\":\"overlay\",\"size\":10,\"solidity\":0.2}},\"type\":\"barpolar\"}],\"carpet\":[{\"aaxis\":{\"endlinecolor\":\"#2a3f5f\",\"gridcolor\":\"white\",\"linecolor\":\"white\",\"minorgridcolor\":\"white\",\"startlinecolor\":\"#2a3f5f\"},\"baxis\":{\"endlinecolor\":\"#2a3f5f\",\"gridcolor\":\"white\",\"linecolor\":\"white\",\"minorgridcolor\":\"white\",\"startlinecolor\":\"#2a3f5f\"},\"type\":\"carpet\"}],\"choropleth\":[{\"colorbar\":{\"outlinewidth\":0,\"ticks\":\"\"},\"type\":\"choropleth\"}],\"contour\":[{\"colorbar\":{\"outlinewidth\":0,\"ticks\":\"\"},\"colorscale\":[[0.0,\"#0d0887\"],[0.1111111111111111,\"#46039f\"],[0.2222222222222222,\"#7201a8\"],[0.3333333333333333,\"#9c179e\"],[0.4444444444444444,\"#bd3786\"],[0.5555555555555556,\"#d8576b\"],[0.6666666666666666,\"#ed7953\"],[0.7777777777777778,\"#fb9f3a\"],[0.8888888888888888,\"#fdca26\"],[1.0,\"#f0f921\"]],\"type\":\"contour\"}],\"contourcarpet\":[{\"colorbar\":{\"outlinewidth\":0,\"ticks\":\"\"},\"type\":\"contourcarpet\"}],\"heatmap\":[{\"colorbar\":{\"outlinewidth\":0,\"ticks\":\"\"},\"colorscale\":[[0.0,\"#0d0887\"],[0.1111111111111111,\"#46039f\"],[0.2222222222222222,\"#7201a8\"],[0.3333333333333333,\"#9c179e\"],[0.4444444444444444,\"#bd3786\"],[0.5555555555555556,\"#d8576b\"],[0.6666666666666666,\"#ed7953\"],[0.7777777777777778,\"#fb9f3a\"],[0.8888888888888888,\"#fdca26\"],[1.0,\"#f0f921\"]],\"type\":\"heatmap\"}],\"heatmapgl\":[{\"colorbar\":{\"outlinewidth\":0,\"ticks\":\"\"},\"colorscale\":[[0.0,\"#0d0887\"],[0.1111111111111111,\"#46039f\"],[0.2222222222222222,\"#7201a8\"],[0.3333333333333333,\"#9c179e\"],[0.4444444444444444,\"#bd3786\"],[0.5555555555555556,\"#d8576b\"],[0.6666666666666666,\"#ed7953\"],[0.7777777777777778,\"#fb9f3a\"],[0.8888888888888888,\"#fdca26\"],[1.0,\"#f0f921\"]],\"type\":\"heatmapgl\"}],\"histogram\":[{\"marker\":{\"pattern\":{\"fillmode\":\"overlay\",\"size\":10,\"solidity\":0.2}},\"type\":\"histogram\"}],\"histogram2d\":[{\"colorbar\":{\"outlinewidth\":0,\"ticks\":\"\"},\"colorscale\":[[0.0,\"#0d0887\"],[0.1111111111111111,\"#46039f\"],[0.2222222222222222,\"#7201a8\"],[0.3333333333333333,\"#9c179e\"],[0.4444444444444444,\"#bd3786\"],[0.5555555555555556,\"#d8576b\"],[0.6666666666666666,\"#ed7953\"],[0.7777777777777778,\"#fb9f3a\"],[0.8888888888888888,\"#fdca26\"],[1.0,\"#f0f921\"]],\"type\":\"histogram2d\"}],\"histogram2dcontour\":[{\"colorbar\":{\"outlinewidth\":0,\"ticks\":\"\"},\"colorscale\":[[0.0,\"#0d0887\"],[0.1111111111111111,\"#46039f\"],[0.2222222222222222,\"#7201a8\"],[0.3333333333333333,\"#9c179e\"],[0.4444444444444444,\"#bd3786\"],[0.5555555555555556,\"#d8576b\"],[0.6666666666666666,\"#ed7953\"],[0.7777777777777778,\"#fb9f3a\"],[0.8888888888888888,\"#fdca26\"],[1.0,\"#f0f921\"]],\"type\":\"histogram2dcontour\"}],\"mesh3d\":[{\"colorbar\":{\"outlinewidth\":0,\"ticks\":\"\"},\"type\":\"mesh3d\"}],\"parcoords\":[{\"line\":{\"colorbar\":{\"outlinewidth\":0,\"ticks\":\"\"}},\"type\":\"parcoords\"}],\"pie\":[{\"automargin\":true,\"type\":\"pie\"}],\"scatter\":[{\"marker\":{\"colorbar\":{\"outlinewidth\":0,\"ticks\":\"\"}},\"type\":\"scatter\"}],\"scatter3d\":[{\"line\":{\"colorbar\":{\"outlinewidth\":0,\"ticks\":\"\"}},\"marker\":{\"colorbar\":{\"outlinewidth\":0,\"ticks\":\"\"}},\"type\":\"scatter3d\"}],\"scattercarpet\":[{\"marker\":{\"colorbar\":{\"outlinewidth\":0,\"ticks\":\"\"}},\"type\":\"scattercarpet\"}],\"scattergeo\":[{\"marker\":{\"colorbar\":{\"outlinewidth\":0,\"ticks\":\"\"}},\"type\":\"scattergeo\"}],\"scattergl\":[{\"marker\":{\"colorbar\":{\"outlinewidth\":0,\"ticks\":\"\"}},\"type\":\"scattergl\"}],\"scattermapbox\":[{\"marker\":{\"colorbar\":{\"outlinewidth\":0,\"ticks\":\"\"}},\"type\":\"scattermapbox\"}],\"scatterpolar\":[{\"marker\":{\"colorbar\":{\"outlinewidth\":0,\"ticks\":\"\"}},\"type\":\"scatterpolar\"}],\"scatterpolargl\":[{\"marker\":{\"colorbar\":{\"outlinewidth\":0,\"ticks\":\"\"}},\"type\":\"scatterpolargl\"}],\"scatterternary\":[{\"marker\":{\"colorbar\":{\"outlinewidth\":0,\"ticks\":\"\"}},\"type\":\"scatterternary\"}],\"surface\":[{\"colorbar\":{\"outlinewidth\":0,\"ticks\":\"\"},\"colorscale\":[[0.0,\"#0d0887\"],[0.1111111111111111,\"#46039f\"],[0.2222222222222222,\"#7201a8\"],[0.3333333333333333,\"#9c179e\"],[0.4444444444444444,\"#bd3786\"],[0.5555555555555556,\"#d8576b\"],[0.6666666666666666,\"#ed7953\"],[0.7777777777777778,\"#fb9f3a\"],[0.8888888888888888,\"#fdca26\"],[1.0,\"#f0f921\"]],\"type\":\"surface\"}],\"table\":[{\"cells\":{\"fill\":{\"color\":\"#EBF0F8\"},\"line\":{\"color\":\"white\"}},\"header\":{\"fill\":{\"color\":\"#C8D4E3\"},\"line\":{\"color\":\"white\"}},\"type\":\"table\"}]},\"layout\":{\"annotationdefaults\":{\"arrowcolor\":\"#2a3f5f\",\"arrowhead\":0,\"arrowwidth\":1},\"autotypenumbers\":\"strict\",\"coloraxis\":{\"colorbar\":{\"outlinewidth\":0,\"ticks\":\"\"}},\"colorscale\":{\"diverging\":[[0,\"#8e0152\"],[0.1,\"#c51b7d\"],[0.2,\"#de77ae\"],[0.3,\"#f1b6da\"],[0.4,\"#fde0ef\"],[0.5,\"#f7f7f7\"],[0.6,\"#e6f5d0\"],[0.7,\"#b8e186\"],[0.8,\"#7fbc41\"],[0.9,\"#4d9221\"],[1,\"#276419\"]],\"sequential\":[[0.0,\"#0d0887\"],[0.1111111111111111,\"#46039f\"],[0.2222222222222222,\"#7201a8\"],[0.3333333333333333,\"#9c179e\"],[0.4444444444444444,\"#bd3786\"],[0.5555555555555556,\"#d8576b\"],[0.6666666666666666,\"#ed7953\"],[0.7777777777777778,\"#fb9f3a\"],[0.8888888888888888,\"#fdca26\"],[1.0,\"#f0f921\"]],\"sequentialminus\":[[0.0,\"#0d0887\"],[0.1111111111111111,\"#46039f\"],[0.2222222222222222,\"#7201a8\"],[0.3333333333333333,\"#9c179e\"],[0.4444444444444444,\"#bd3786\"],[0.5555555555555556,\"#d8576b\"],[0.6666666666666666,\"#ed7953\"],[0.7777777777777778,\"#fb9f3a\"],[0.8888888888888888,\"#fdca26\"],[1.0,\"#f0f921\"]]},\"colorway\":[\"#636efa\",\"#EF553B\",\"#00cc96\",\"#ab63fa\",\"#FFA15A\",\"#19d3f3\",\"#FF6692\",\"#B6E880\",\"#FF97FF\",\"#FECB52\"],\"font\":{\"color\":\"#2a3f5f\"},\"geo\":{\"bgcolor\":\"white\",\"lakecolor\":\"white\",\"landcolor\":\"#E5ECF6\",\"showlakes\":true,\"showland\":true,\"subunitcolor\":\"white\"},\"hoverlabel\":{\"align\":\"left\"},\"hovermode\":\"closest\",\"mapbox\":{\"style\":\"light\"},\"paper_bgcolor\":\"white\",\"plot_bgcolor\":\"#E5ECF6\",\"polar\":{\"angularaxis\":{\"gridcolor\":\"white\",\"linecolor\":\"white\",\"ticks\":\"\"},\"bgcolor\":\"#E5ECF6\",\"radialaxis\":{\"gridcolor\":\"white\",\"linecolor\":\"white\",\"ticks\":\"\"}},\"scene\":{\"xaxis\":{\"backgroundcolor\":\"#E5ECF6\",\"gridcolor\":\"white\",\"gridwidth\":2,\"linecolor\":\"white\",\"showbackground\":true,\"ticks\":\"\",\"zerolinecolor\":\"white\"},\"yaxis\":{\"backgroundcolor\":\"#E5ECF6\",\"gridcolor\":\"white\",\"gridwidth\":2,\"linecolor\":\"white\",\"showbackground\":true,\"ticks\":\"\",\"zerolinecolor\":\"white\"},\"zaxis\":{\"backgroundcolor\":\"#E5ECF6\",\"gridcolor\":\"white\",\"gridwidth\":2,\"linecolor\":\"white\",\"showbackground\":true,\"ticks\":\"\",\"zerolinecolor\":\"white\"}},\"shapedefaults\":{\"line\":{\"color\":\"#2a3f5f\"}},\"ternary\":{\"aaxis\":{\"gridcolor\":\"white\",\"linecolor\":\"white\",\"ticks\":\"\"},\"baxis\":{\"gridcolor\":\"white\",\"linecolor\":\"white\",\"ticks\":\"\"},\"bgcolor\":\"#E5ECF6\",\"caxis\":{\"gridcolor\":\"white\",\"linecolor\":\"white\",\"ticks\":\"\"}},\"title\":{\"x\":0.05},\"xaxis\":{\"automargin\":true,\"gridcolor\":\"white\",\"linecolor\":\"white\",\"ticks\":\"\",\"title\":{\"standoff\":15},\"zerolinecolor\":\"white\",\"zerolinewidth\":2},\"yaxis\":{\"automargin\":true,\"gridcolor\":\"white\",\"linecolor\":\"white\",\"ticks\":\"\",\"title\":{\"standoff\":15},\"zerolinecolor\":\"white\",\"zerolinewidth\":2}}},\"xaxis\":{\"tickangle\":-45},\"barmode\":\"group\",\"plot_bgcolor\":\"rgba(0,0,0,0)\"},                        {\"responsive\": true}                    ).then(function(){\n",
              "                            \n",
              "var gd = document.getElementById('0167d45a-269d-4b39-a6ea-1952f8585519');\n",
              "var x = new MutationObserver(function (mutations, observer) {{\n",
              "        var display = window.getComputedStyle(gd).display;\n",
              "        if (!display || display === 'none') {{\n",
              "            console.log([gd, 'removed!']);\n",
              "            Plotly.purge(gd);\n",
              "            observer.disconnect();\n",
              "        }}\n",
              "}});\n",
              "\n",
              "// Listen for the removal of the full notebook cells\n",
              "var notebookContainer = gd.closest('#notebook-container');\n",
              "if (notebookContainer) {{\n",
              "    x.observe(notebookContainer, {childList: true});\n",
              "}}\n",
              "\n",
              "// Listen for the clearing of the current output cell\n",
              "var outputEl = gd.closest('.output');\n",
              "if (outputEl) {{\n",
              "    x.observe(outputEl, {childList: true});\n",
              "}}\n",
              "\n",
              "                        })                };                            </script>        </div>\n",
              "</body>\n",
              "</html>"
            ]
          },
          "metadata": {}
        }
      ]
    },
    {
      "cell_type": "code",
      "source": [
        "## the words included in topic in segments\n",
        "topic0_word = df_topic0['words'].values.tolist()\n",
        "topic2_word = df_topic2['words'].values.tolist()\n",
        "segments_word = plot_a['word'].values.tolist()\n",
        "\n",
        "top_0 = [x for x in topic0_word if x in segments_word]\n",
        "top_2 = [x for x in topic2_word if x in segments_word]"
      ],
      "metadata": {
        "id": "IjdWCpnsrXS5"
      },
      "execution_count": 71,
      "outputs": []
    },
    {
      "cell_type": "code",
      "source": [
        "top0_word = plot_a[plot_a['word'].isin(df_topic0['words'])]\n",
        "top2_word = plot_a[plot_a['word'].isin(df_topic2['words'])]"
      ],
      "metadata": {
        "id": "Tbswa5OpqltV"
      },
      "execution_count": 75,
      "outputs": []
    },
    {
      "cell_type": "code",
      "source": [
        "text0 = \" \".join(x for x in top0_word[0:20]['word'])\n",
        "text2 = \" \".join(x for x in top2_word[0:20]['word'])"
      ],
      "metadata": {
        "id": "cDcjJFff1nyu"
      },
      "execution_count": 99,
      "outputs": []
    },
    {
      "cell_type": "code",
      "source": [
        "#top words in both segments and topic0\n",
        "word_cloud0 = WordCloud(collocations = False, background_color = 'white').generate(text0)\n",
        "# Display the generated Word Cloud\n",
        "plt.imshow(word_cloud0, interpolation='bilinear')\n",
        "plt.axis(\"off\")\n",
        "plt.show()"
      ],
      "metadata": {
        "colab": {
          "base_uri": "https://localhost:8080/",
          "height": 197
        },
        "id": "0JKiE19K5V76",
        "outputId": "90847ee6-74c1-440a-fece-2aa7279ee068"
      },
      "execution_count": 100,
      "outputs": [
        {
          "output_type": "display_data",
          "data": {
            "image/png": "[encoded data removed]",
            "text/plain": [
              "<Figure size 432x288 with 1 Axes>"
            ]
          },
          "metadata": {
            "needs_background": "light"
          }
        }
      ]
    },
    {
      "cell_type": "code",
      "source": [
        "#top words in both segments and topic2\n",
        "word_cloud2 = WordCloud(collocations = False, background_color = 'white').generate(text2)\n",
        "# Display the generated Word Cloud\n",
        "plt.imshow(word_cloud2, interpolation='bilinear')\n",
        "plt.axis(\"off\")\n",
        "plt.show()"
      ],
      "metadata": {
        "colab": {
          "base_uri": "https://localhost:8080/",
          "height": 197
        },
        "id": "uESw0Pqn6kBc",
        "outputId": "bc784b1f-22cd-40b5-be98-9c9b894332e5"
      },
      "execution_count": 101,
      "outputs": [
        {
          "output_type": "display_data",
          "data": {
            "image/png": "[encoded data removed]",
            "text/plain": [
              "<Figure size 432x288 with 1 Axes>"
            ]
          },
          "metadata": {
            "needs_background": "light"
          }
        }
      ]
    },
    {
      "cell_type": "code",
      "source": [
        "lda_kmeans5, lda_kmeans5_pred, lda_kmeans5_cluster_num = compare_predict(df_lda5, df_out, KMeans(), n_clusters= 5)"
      ],
      "metadata": {
        "colab": {
          "base_uri": "https://localhost:8080/"
        },
        "id": "qKkFFvp3fiAd",
        "outputId": "0d03ba03-a36f-48ea-d53e-6614672aeb76"
      },
      "execution_count": 29,
      "outputs": [
        {
          "output_type": "stream",
          "name": "stdout",
          "text": [
            "a:[ 28 147   0  24   1   0   0]\ta mapped to 1\n",
            "b:[ 16   1   0 183   0   0   0]\tb mapped to 3\n",
            "c:[199   0   0   1   0   0   0]\tc mapped to 0\n",
            "d:[196   1   1   1   1   0   0]\td mapped to 0\n",
            "e:[  1   0 199   0   0   0   0]\te mapped to 2\n",
            "f:[  3 197   0   0   0   0   0]\tf mapped to 1\n",
            "g:[  0   0   1   0 199   0   0]\tg mapped to 4\n"
          ]
        }
      ]
    },
    {
      "cell_type": "code",
      "source": [
        "lda_kmeans7, lda_kmeans7_pred, lda_kmeans7_cluster_num = compare_predict(df_lda7, df_out, KMeans(), n_clusters= 7)"
      ],
      "metadata": {
        "colab": {
          "base_uri": "https://localhost:8080/"
        },
        "id": "ZEsdCzMuQW7O",
        "outputId": "ba9a11f6-a1b1-4b4c-a57e-1929f1db33b1"
      },
      "execution_count": 30,
      "outputs": [
        {
          "output_type": "stream",
          "name": "stdout",
          "text": [
            "a:[ 27  55   0   1   0 117   0]\ta mapped to 5\n",
            "b:[193   5   0   0   0   2   0]\tb mapped to 0\n",
            "c:[  3 197   0   0   0   0   0]\tc mapped to 1\n",
            "d:[  0 194   1   1   1   1   2]\td mapped to 1\n",
            "e:[  0   0   0   0 152   0  48]\te mapped to 4\n",
            "f:[  0   2 197   0   0   0   1]\tf mapped to 2\n",
            "g:[  0   0   0 197   1   0   2]\tg mapped to 3\n"
          ]
        }
      ]
    },
    {
      "cell_type": "code",
      "source": [
        "lda_agglom4, lda_agglom4_pred, lda_agglom4_cluster_num = compare_predict(df_lda, df_out, AgglomerativeClustering(), n_clusters=4, linkage='ward')"
      ],
      "metadata": {
        "colab": {
          "base_uri": "https://localhost:8080/"
        },
        "id": "HEPRewPmRPt-",
        "outputId": "975de8f1-ef22-4580-cc86-09bed82c7d4d"
      },
      "execution_count": null,
      "outputs": [
        {
          "output_type": "stream",
          "name": "stdout",
          "text": [
            "a:[169   2  28   1   0   0   0]\ta mapped to 0\n",
            "b:[  1   0 199   0   0   0   0]\tb mapped to 2\n",
            "c:[  3   0 197   0   0   0   0]\tc mapped to 2\n",
            "d:[197   2   0   1   0   0   0]\td mapped to 0\n",
            "e:[  1   0   0 199   0   0   0]\te mapped to 3\n",
            "f:[200   0   0   0   0   0   0]\tf mapped to 0\n",
            "g:[  0 200   0   0   0   0   0]\tg mapped to 1\n"
          ]
        }
      ]
    },
    {
      "cell_type": "code",
      "source": [
        "lda_agglom5, lda_agglom5_pred, lda_agglom5_cluster_num = compare_predict(df_lda5, df_out, AgglomerativeClustering(), n_clusters=5, linkage='ward')"
      ],
      "metadata": {
        "id": "L4lLIwm4Sm9N",
        "colab": {
          "base_uri": "https://localhost:8080/"
        },
        "outputId": "3e768c01-a09e-41f6-ca2e-2ab9d02bf41b"
      },
      "execution_count": 31,
      "outputs": [
        {
          "output_type": "stream",
          "name": "stdout",
          "text": [
            "a:[168   7  24   1   0   0   0]\ta mapped to 0\n",
            "b:[  4   6 190   0   0   0   0]\tb mapped to 2\n",
            "c:[  0 195   5   0   0   0   0]\tc mapped to 1\n",
            "d:[  6 190   1   2   1   0   0]\td mapped to 1\n",
            "e:[  0   1   0   0 199   0   0]\te mapped to 4\n",
            "f:[198   2   0   0   0   0   0]\tf mapped to 0\n",
            "g:[  0   0   0 200   0   0   0]\tg mapped to 3\n"
          ]
        }
      ]
    },
    {
      "cell_type": "code",
      "source": [
        "lda_agglom7, lda_agglom7_pred, lda_agglom7_cluster_num = compare_predict(df_lda7, df_out, AgglomerativeClustering(), n_clusters=7, linkage='ward')"
      ],
      "metadata": {
        "colab": {
          "base_uri": "https://localhost:8080/"
        },
        "id": "G9BM2MDgRf3o",
        "outputId": "83b15006-749a-417c-9047-3d4eef51f96f"
      },
      "execution_count": 32,
      "outputs": [
        {
          "output_type": "stream",
          "name": "stdout",
          "text": [
            "a:[ 0 31 98  1 68  0  2]\ta mapped to 2\n",
            "b:[  0   0   1   0  36   0 163]\tb mapped to 6\n",
            "c:[  0 188   0   0  12   0   0]\tc mapped to 1\n",
            "d:[  1 190   0   2   6   1   0]\td mapped to 1\n",
            "e:[199   1   0   0   0   0   0]\te mapped to 0\n",
            "f:[  0   3   0   0   0 197   0]\tf mapped to 5\n",
            "g:[  0   0   0 200   0   0   0]\tg mapped to 3\n"
          ]
        }
      ]
    },
    {
      "cell_type": "code",
      "source": [
        "lda_gmm5, lda_gmm5_pred, lda_gmm5_cluster_num = compare_predict(df_lda5, df_out, GaussianMixture(), n_components=5)"
      ],
      "metadata": {
        "colab": {
          "base_uri": "https://localhost:8080/"
        },
        "id": "NU662TewiPhC",
        "outputId": "e298aca2-25db-4434-8937-6e8a1419190a"
      },
      "execution_count": 33,
      "outputs": [
        {
          "output_type": "stream",
          "name": "stdout",
          "text": [
            "a:[  1 111   0  88   0   0   0]\ta mapped to 1\n",
            "b:[  4   0   0 196   0   0   0]\tb mapped to 3\n",
            "c:[176  10   0  14   0   0   0]\tc mapped to 0\n",
            "d:[106  21   0  73   0   0   0]\td mapped to 0\n",
            "e:[  0   0 166  34   0   0   0]\te mapped to 2\n",
            "f:[  0 187   0  13   0   0   0]\tf mapped to 1\n",
            "g:[  0   0   0  37 163   0   0]\tg mapped to 4\n"
          ]
        }
      ]
    },
    {
      "cell_type": "code",
      "source": [
        "lda_gmm4, lda_gmm4_pred, lda_gmm4_cluster_num = compare_predict(df_lda, df_out, GaussianMixture(), n_components=4)"
      ],
      "metadata": {
        "colab": {
          "base_uri": "https://localhost:8080/"
        },
        "id": "oCFIcNwyRm53",
        "outputId": "2eb006b4-444c-4fd6-9765-2a2ab3fbf1fa"
      },
      "execution_count": 35,
      "outputs": [
        {
          "output_type": "stream",
          "name": "stdout",
          "text": [
            "a:[180   0  18   2   0   0   0]\ta mapped to 0\n",
            "b:[ 22   0 178   0   0   0   0]\tb mapped to 2\n",
            "c:[ 18   0 182   0   0   0   0]\tc mapped to 2\n",
            "d:[197   1   0   2   0   0   0]\td mapped to 0\n",
            "e:[  1 199   0   0   0   0   0]\te mapped to 1\n",
            "f:[200   0   0   0   0   0   0]\tf mapped to 0\n",
            "g:[  1   0   0 199   0   0   0]\tg mapped to 3\n"
          ]
        }
      ]
    },
    {
      "cell_type": "code",
      "source": [
        "lda_gmm7, lda_gmm7_pred, lda_gmm7_cluster_num = compare_predict(df_lda7, df_out, GaussianMixture(), n_components=7)"
      ],
      "metadata": {
        "colab": {
          "base_uri": "https://localhost:8080/"
        },
        "id": "73brUR41R4I4",
        "outputId": "a7071950-a54c-4211-b351-50b97d166107"
      },
      "execution_count": 34,
      "outputs": [
        {
          "output_type": "stream",
          "name": "stdout",
          "text": [
            "a:[ 19   0   0 153   0  28   0]\ta mapped to 3\n",
            "b:[  0   0   0 189   0  11   0]\tb mapped to 3\n",
            "c:[174   0   0  19   0   3   4]\tc mapped to 0\n",
            "d:[140   0   0  15   1  12  32]\td mapped to 0\n",
            "e:[  0   0   0   0 155   0  45]\te mapped to 4\n",
            "f:[  0 193   0   0   0   0   7]\tf mapped to 1\n",
            "g:[  0   0 141   0   0  10  49]\tg mapped to 2\n"
          ]
        }
      ]
    },
    {
      "cell_type": "code",
      "source": [
        ""
      ],
      "metadata": {
        "id": "YhBrCr3_UOGt"
      },
      "execution_count": null,
      "outputs": []
    }
  ]
}