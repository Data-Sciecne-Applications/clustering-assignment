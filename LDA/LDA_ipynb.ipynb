{
  "nbformat": 4,
  "nbformat_minor": 0,
  "metadata": {
    "colab": {
      "name": "Assignment2_LDA.ipynb（副本）",
      "provenance": [],
      "collapsed_sections": []
    },
    "kernelspec": {
      "name": "python3",
      "display_name": "Python 3"
    },
    "language_info": {
      "name": "python"
    }
  },
  "cells": [
    {
      "cell_type": "code",
      "source": [
        "pip install pyLDAvis\n"
      ],
      "metadata": {
        "colab": {
          "base_uri": "https://localhost:8080/"
        },
        "id": "C5qcSGgJv8nh",
        "outputId": "ed2fd0b8-b79e-4a71-ffdc-54690b448e80"
      },
      "execution_count": 4,
      "outputs": [
        {
          "output_type": "stream",
          "name": "stdout",
          "text": [
            "Collecting pyLDAvis\n",
            "  Downloading pyLDAvis-3.3.1.tar.gz (1.7 MB)\n",
            "\u001b[K     |████████████████████████████████| 1.7 MB 5.1 MB/s \n",
            "\u001b[?25h  Installing build dependencies ... \u001b[?25l\u001b[?25hdone\n",
            "  Getting requirements to build wheel ... \u001b[?25l\u001b[?25hdone\n",
            "  Installing backend dependencies ... \u001b[?25l\u001b[?25hdone\n",
            "    Preparing wheel metadata ... \u001b[?25l\u001b[?25hdone\n",
            "Requirement already satisfied: setuptools in /usr/local/lib/python3.7/dist-packages (from pyLDAvis) (57.4.0)\n",
            "Requirement already satisfied: sklearn in /usr/local/lib/python3.7/dist-packages (from pyLDAvis) (0.0)\n",
            "Requirement already satisfied: gensim in /usr/local/lib/python3.7/dist-packages (from pyLDAvis) (3.6.0)\n",
            "Requirement already satisfied: numexpr in /usr/local/lib/python3.7/dist-packages (from pyLDAvis) (2.8.1)\n",
            "Requirement already satisfied: scipy in /usr/local/lib/python3.7/dist-packages (from pyLDAvis) (1.4.1)\n",
            "Requirement already satisfied: jinja2 in /usr/local/lib/python3.7/dist-packages (from pyLDAvis) (2.11.3)\n",
            "Collecting funcy\n",
            "  Downloading funcy-1.17-py2.py3-none-any.whl (33 kB)\n",
            "Requirement already satisfied: numpy>=1.20.0 in /usr/local/lib/python3.7/dist-packages (from pyLDAvis) (1.21.5)\n",
            "Requirement already satisfied: future in /usr/local/lib/python3.7/dist-packages (from pyLDAvis) (0.16.0)\n",
            "Requirement already satisfied: scikit-learn in /usr/local/lib/python3.7/dist-packages (from pyLDAvis) (1.0.2)\n",
            "Requirement already satisfied: pandas>=1.2.0 in /usr/local/lib/python3.7/dist-packages (from pyLDAvis) (1.3.5)\n",
            "Requirement already satisfied: joblib in /usr/local/lib/python3.7/dist-packages (from pyLDAvis) (1.1.0)\n",
            "Requirement already satisfied: python-dateutil>=2.7.3 in /usr/local/lib/python3.7/dist-packages (from pandas>=1.2.0->pyLDAvis) (2.8.2)\n",
            "Requirement already satisfied: pytz>=2017.3 in /usr/local/lib/python3.7/dist-packages (from pandas>=1.2.0->pyLDAvis) (2018.9)\n",
            "Requirement already satisfied: six>=1.5 in /usr/local/lib/python3.7/dist-packages (from python-dateutil>=2.7.3->pandas>=1.2.0->pyLDAvis) (1.15.0)\n",
            "Requirement already satisfied: smart-open>=1.2.1 in /usr/local/lib/python3.7/dist-packages (from gensim->pyLDAvis) (5.2.1)\n",
            "Requirement already satisfied: MarkupSafe>=0.23 in /usr/local/lib/python3.7/dist-packages (from jinja2->pyLDAvis) (2.0.1)\n",
            "Requirement already satisfied: packaging in /usr/local/lib/python3.7/dist-packages (from numexpr->pyLDAvis) (21.3)\n",
            "Requirement already satisfied: pyparsing!=3.0.5,>=2.0.2 in /usr/local/lib/python3.7/dist-packages (from packaging->numexpr->pyLDAvis) (3.0.7)\n",
            "Requirement already satisfied: threadpoolctl>=2.0.0 in /usr/local/lib/python3.7/dist-packages (from scikit-learn->pyLDAvis) (3.1.0)\n",
            "Building wheels for collected packages: pyLDAvis\n",
            "  Building wheel for pyLDAvis (PEP 517) ... \u001b[?25l\u001b[?25hdone\n",
            "  Created wheel for pyLDAvis: filename=pyLDAvis-3.3.1-py2.py3-none-any.whl size=136898 sha256=3b985bd6d1686851fba3239916594c8f411e29b8d25e2d827258df97b635fa50\n",
            "  Stored in directory: /root/.cache/pip/wheels/c9/21/f6/17bcf2667e8a68532ba2fbf6d5c72fdf4c7f7d9abfa4852d2f\n",
            "Successfully built pyLDAvis\n",
            "Installing collected packages: funcy, pyLDAvis\n",
            "Successfully installed funcy-1.17 pyLDAvis-3.3.1\n"
          ]
        }
      ]
    },
    {
      "cell_type": "code",
      "execution_count": 5,
      "metadata": {
        "id": "Tovtoqvjt7Z6",
        "colab": {
          "base_uri": "https://localhost:8080/"
        },
        "outputId": "8fbc04f2-52e9-4d6c-c19d-34db914639f2"
      },
      "outputs": [
        {
          "output_type": "stream",
          "name": "stderr",
          "text": [
            "/usr/local/lib/python3.7/dist-packages/past/types/oldstr.py:5: DeprecationWarning: Using or importing the ABCs from 'collections' instead of from 'collections.abc' is deprecated since Python 3.3,and in 3.9 it will stop working\n",
            "  from collections import Iterable\n"
          ]
        }
      ],
      "source": [
        "import numpy as np\n",
        "import pandas as pd\n",
        "from pprint import pprint# Gensim\n",
        "import gensim\n",
        "import gensim.corpora as corpora\n",
        "from gensim.utils import simple_preprocess\n",
        "from gensim.models import CoherenceModel# spaCy for preprocessing\n",
        "import spacy# Plotting tools\n",
        "import pyLDAvis\n",
        "\n",
        "import pyLDAvis.gensim_models as gensimvis\n",
        "import matplotlib.pyplot as plt\n",
        "%matplotlib inline\n",
        "from sklearn.cluster import KMeans\n",
        "from gensim.matutils import corpus2csc\n"
      ]
    },
    {
      "cell_type": "code",
      "source": [
        "import logging\n",
        "logging.basicConfig(filename='lda_model.log', format='%(asctime)s : %(levelname)s : %(message)s', level=logging.INFO)"
      ],
      "metadata": {
        "id": "fN2JgkCobjdC"
      },
      "execution_count": 6,
      "outputs": []
    },
    {
      "cell_type": "code",
      "source": [
        "url = 'https://drive.google.com/file/d/1NmGTSp5CLiCTPlQgP614TvNNv1TXDewU/view?usp=sharin'\n",
        "url='https://drive.google.com/uc?id=' + url.split('/')[-2]\n",
        "data = pd.read_csv(url)"
      ],
      "metadata": {
        "id": "uxI1kAWIt-RI"
      },
      "execution_count": 7,
      "outputs": []
    },
    {
      "cell_type": "code",
      "source": [
        "for i in range(len(data.index)):\n",
        "   data['segment'][i] = data['segment'][i].split()"
      ],
      "metadata": {
        "colab": {
          "base_uri": "https://localhost:8080/"
        },
        "id": "rt_bRZ1agy1Y",
        "outputId": "20c9278e-dadf-4bfb-bedf-cc770de4b388"
      },
      "execution_count": 8,
      "outputs": [
        {
          "output_type": "stream",
          "name": "stderr",
          "text": [
            "/usr/local/lib/python3.7/dist-packages/ipykernel_launcher.py:2: SettingWithCopyWarning: \n",
            "A value is trying to be set on a copy of a slice from a DataFrame\n",
            "\n",
            "See the caveats in the documentation: https://pandas.pydata.org/pandas-docs/stable/user_guide/indexing.html#returning-a-view-versus-a-copy\n",
            "  \n"
          ]
        }
      ]
    },
    {
      "cell_type": "code",
      "source": [
        "#data = data.loc[400:1400]"
      ],
      "metadata": {
        "id": "_I73xDNbfszi"
      },
      "execution_count": 7,
      "outputs": []
    },
    {
      "cell_type": "code",
      "source": [
        "data.drop('Unnamed: 0', axis=1, inplace=True)"
      ],
      "metadata": {
        "id": "ZsjIwvZTgIxn"
      },
      "execution_count": 9,
      "outputs": []
    },
    {
      "cell_type": "code",
      "source": [
        "data.head()"
      ],
      "metadata": {
        "colab": {
          "base_uri": "https://localhost:8080/",
          "height": 206
        },
        "id": "1V8CyveEupWD",
        "outputId": "588288c7-c879-419f-a014-6cdba7277359"
      },
      "execution_count": 10,
      "outputs": [
        {
          "output_type": "execute_result",
          "data": {
            "text/html": [
              "\n",
              "  <div id=\"df-2c2e4956-ba93-4e76-bca6-ed07d8cb4717\">\n",
              "    <div class=\"colab-df-container\">\n",
              "      <div>\n",
              "<style scoped>\n",
              "    .dataframe tbody tr th:only-of-type {\n",
              "        vertical-align: middle;\n",
              "    }\n",
              "\n",
              "    .dataframe tbody tr th {\n",
              "        vertical-align: top;\n",
              "    }\n",
              "\n",
              "    .dataframe thead th {\n",
              "        text-align: right;\n",
              "    }\n",
              "</style>\n",
              "<table border=\"1\" class=\"dataframe\">\n",
              "  <thead>\n",
              "    <tr style=\"text-align: right;\">\n",
              "      <th></th>\n",
              "      <th>segment</th>\n",
              "      <th>label</th>\n",
              "    </tr>\n",
              "  </thead>\n",
              "  <tbody>\n",
              "    <tr>\n",
              "      <th>0</th>\n",
              "      <td>[act, known, circumst, harm, may, accept, gene...</td>\n",
              "      <td>a</td>\n",
              "    </tr>\n",
              "    <tr>\n",
              "      <th>1</th>\n",
              "      <td>[aris, whether, represent, part, contract, If,...</td>\n",
              "      <td>a</td>\n",
              "    </tr>\n",
              "    <tr>\n",
              "      <th>2</th>\n",
              "      <td>[section, cite, godbolt, see, F., N., B, G, fi...</td>\n",
              "      <td>a</td>\n",
              "    </tr>\n",
              "    <tr>\n",
              "      <th>3</th>\n",
              "      <td>[row, bell, c.c, see, treasur, hidden, anoth, ...</td>\n",
              "      <td>a</td>\n",
              "    </tr>\n",
              "    <tr>\n",
              "      <th>4</th>\n",
              "      <td>[give, trespass, pretti, nearli, thing, action...</td>\n",
              "      <td>a</td>\n",
              "    </tr>\n",
              "  </tbody>\n",
              "</table>\n",
              "</div>\n",
              "      <button class=\"colab-df-convert\" onclick=\"convertToInteractive('df-2c2e4956-ba93-4e76-bca6-ed07d8cb4717')\"\n",
              "              title=\"Convert this dataframe to an interactive table.\"\n",
              "              style=\"display:none;\">\n",
              "        \n",
              "  <svg xmlns=\"http://www.w3.org/2000/svg\" height=\"24px\"viewBox=\"0 0 24 24\"\n",
              "       width=\"24px\">\n",
              "    <path d=\"M0 0h24v24H0V0z\" fill=\"none\"/>\n",
              "    <path d=\"M18.56 5.44l.94 2.06.94-2.06 2.06-.94-2.06-.94-.94-2.06-.94 2.06-2.06.94zm-11 1L8.5 8.5l.94-2.06 2.06-.94-2.06-.94L8.5 2.5l-.94 2.06-2.06.94zm10 10l.94 2.06.94-2.06 2.06-.94-2.06-.94-.94-2.06-.94 2.06-2.06.94z\"/><path d=\"M17.41 7.96l-1.37-1.37c-.4-.4-.92-.59-1.43-.59-.52 0-1.04.2-1.43.59L10.3 9.45l-7.72 7.72c-.78.78-.78 2.05 0 2.83L4 21.41c.39.39.9.59 1.41.59.51 0 1.02-.2 1.41-.59l7.78-7.78 2.81-2.81c.8-.78.8-2.07 0-2.86zM5.41 20L4 18.59l7.72-7.72 1.47 1.35L5.41 20z\"/>\n",
              "  </svg>\n",
              "      </button>\n",
              "      \n",
              "  <style>\n",
              "    .colab-df-container {\n",
              "      display:flex;\n",
              "      flex-wrap:wrap;\n",
              "      gap: 12px;\n",
              "    }\n",
              "\n",
              "    .colab-df-convert {\n",
              "      background-color: #E8F0FE;\n",
              "      border: none;\n",
              "      border-radius: 50%;\n",
              "      cursor: pointer;\n",
              "      display: none;\n",
              "      fill: #1967D2;\n",
              "      height: 32px;\n",
              "      padding: 0 0 0 0;\n",
              "      width: 32px;\n",
              "    }\n",
              "\n",
              "    .colab-df-convert:hover {\n",
              "      background-color: #E2EBFA;\n",
              "      box-shadow: 0px 1px 2px rgba(60, 64, 67, 0.3), 0px 1px 3px 1px rgba(60, 64, 67, 0.15);\n",
              "      fill: #174EA6;\n",
              "    }\n",
              "\n",
              "    [theme=dark] .colab-df-convert {\n",
              "      background-color: #3B4455;\n",
              "      fill: #D2E3FC;\n",
              "    }\n",
              "\n",
              "    [theme=dark] .colab-df-convert:hover {\n",
              "      background-color: #434B5C;\n",
              "      box-shadow: 0px 1px 3px 1px rgba(0, 0, 0, 0.15);\n",
              "      filter: drop-shadow(0px 1px 2px rgba(0, 0, 0, 0.3));\n",
              "      fill: #FFFFFF;\n",
              "    }\n",
              "  </style>\n",
              "\n",
              "      <script>\n",
              "        const buttonEl =\n",
              "          document.querySelector('#df-2c2e4956-ba93-4e76-bca6-ed07d8cb4717 button.colab-df-convert');\n",
              "        buttonEl.style.display =\n",
              "          google.colab.kernel.accessAllowed ? 'block' : 'none';\n",
              "\n",
              "        async function convertToInteractive(key) {\n",
              "          const element = document.querySelector('#df-2c2e4956-ba93-4e76-bca6-ed07d8cb4717');\n",
              "          const dataTable =\n",
              "            await google.colab.kernel.invokeFunction('convertToInteractive',\n",
              "                                                     [key], {});\n",
              "          if (!dataTable) return;\n",
              "\n",
              "          const docLinkHtml = 'Like what you see? Visit the ' +\n",
              "            '<a target=\"_blank\" href=https://colab.research.google.com/notebooks/data_table.ipynb>data table notebook</a>'\n",
              "            + ' to learn more about interactive tables.';\n",
              "          element.innerHTML = '';\n",
              "          dataTable['output_type'] = 'display_data';\n",
              "          await google.colab.output.renderOutput(dataTable, element);\n",
              "          const docLink = document.createElement('div');\n",
              "          docLink.innerHTML = docLinkHtml;\n",
              "          element.appendChild(docLink);\n",
              "        }\n",
              "      </script>\n",
              "    </div>\n",
              "  </div>\n",
              "  "
            ],
            "text/plain": [
              "                                             segment label\n",
              "0  [act, known, circumst, harm, may, accept, gene...     a\n",
              "1  [aris, whether, represent, part, contract, If,...     a\n",
              "2  [section, cite, godbolt, see, F., N., B, G, fi...     a\n",
              "3  [row, bell, c.c, see, treasur, hidden, anoth, ...     a\n",
              "4  [give, trespass, pretti, nearli, thing, action...     a"
            ]
          },
          "metadata": {},
          "execution_count": 10
        }
      ]
    },
    {
      "cell_type": "code",
      "source": [
        "data_lemmatized = data['segment'].tolist()\n",
        "# Create Dictionary \n",
        "id2word = corpora.Dictionary(data_lemmatized)  \n",
        "# Create Corpus \n",
        "texts = data_lemmatized  \n",
        "# Term Document Frequency \n",
        "corpus = [id2word.doc2bow(text) for text in texts]  \n",
        "# View \n",
        "print(corpus[:1])\n"
      ],
      "metadata": {
        "colab": {
          "base_uri": "https://localhost:8080/"
        },
        "id": "JhdufUNQy1Kh",
        "outputId": "a86f7619-7dbd-4874-bee2-6bb45afab98e"
      },
      "execution_count": 11,
      "outputs": [
        {
          "output_type": "stream",
          "name": "stdout",
          "text": [
            "[[(0, 1), (1, 1), (2, 1), (3, 1), (4, 1), (5, 1), (6, 5), (7, 1), (8, 1), (9, 1), (10, 1), (11, 2), (12, 2), (13, 1), (14, 1), (15, 1), (16, 1), (17, 2), (18, 1), (19, 1), (20, 1), (21, 1), (22, 1), (23, 2), (24, 1), (25, 1), (26, 2), (27, 2), (28, 1), (29, 1), (30, 1), (31, 2), (32, 1), (33, 3), (34, 1), (35, 1), (36, 2), (37, 1), (38, 2), (39, 1), (40, 1), (41, 1), (42, 1), (43, 1), (44, 1), (45, 2), (46, 2), (47, 1), (48, 2), (49, 1), (50, 2), (51, 1), (52, 3), (53, 2), (54, 1), (55, 5), (56, 1), (57, 1), (58, 1), (59, 1), (60, 2), (61, 1), (62, 3), (63, 1), (64, 1), (65, 1), (66, 1), (67, 4), (68, 1), (69, 1), (70, 1), (71, 2), (72, 3), (73, 1), (74, 1), (75, 4), (76, 1), (77, 1), (78, 2), (79, 1), (80, 1), (81, 1), (82, 1), (83, 3), (84, 1), (85, 1), (86, 1), (87, 1), (88, 2), (89, 1), (90, 1), (91, 1), (92, 1), (93, 2), (94, 2), (95, 1), (96, 1), (97, 1), (98, 2), (99, 1), (100, 1), (101, 1), (102, 1), (103, 1), (104, 1)]]\n"
          ]
        }
      ]
    },
    {
      "cell_type": "code",
      "source": [
        "[[(id2word[id], freq) for id, freq in cp] for cp in corpus[:1]]"
      ],
      "metadata": {
        "colab": {
          "base_uri": "https://localhost:8080/"
        },
        "id": "viaWPZ023lHk",
        "outputId": "7e244dd2-cff1-4183-e442-95643d8c79a5"
      },
      "execution_count": 12,
      "outputs": [
        {
          "output_type": "execute_result",
          "data": {
            "text/plain": [
              "[[('AT', 1),\n",
              "  ('It', 1),\n",
              "  ('On', 1),\n",
              "  ('So', 1),\n",
              "  ('V.', 1),\n",
              "  ('accept', 1),\n",
              "  ('act', 5),\n",
              "  ('ad', 1),\n",
              "  ('address', 1),\n",
              "  ('adopt', 1),\n",
              "  ('also', 1),\n",
              "  ('alway', 2),\n",
              "  ('and', 2),\n",
              "  ('answer', 1),\n",
              "  ('arguabl', 1),\n",
              "  ('ascertain', 1),\n",
              "  ('averag', 1),\n",
              "  ('avoid', 2),\n",
              "  ('baile', 1),\n",
              "  ('becom', 1),\n",
              "  ('begin', 1),\n",
              "  ('blame', 1),\n",
              "  ('bring', 1),\n",
              "  ('but', 2),\n",
              "  ('caus', 1),\n",
              "  ('certainli', 1),\n",
              "  ('chanc', 2),\n",
              "  ('circumst', 2),\n",
              "  ('coars', 1),\n",
              "  ('come', 1),\n",
              "  ('common', 1),\n",
              "  ('concret', 2),\n",
              "  ('condit', 1),\n",
              "  ('conduct', 3),\n",
              "  ('confin', 1),\n",
              "  ('consequ', 1),\n",
              "  ('continu', 2),\n",
              "  ('contrari', 1),\n",
              "  ('defend', 2),\n",
              "  ('describ', 1),\n",
              "  ('determin', 1),\n",
              "  ('discuss', 1),\n",
              "  ('divis', 1),\n",
              "  ('domain', 1),\n",
              "  ('either', 1),\n",
              "  ('even', 2),\n",
              "  ('experi', 2),\n",
              "  ('extern', 1),\n",
              "  ('fair', 2),\n",
              "  ('far', 1),\n",
              "  ('first', 2),\n",
              "  ('form', 1),\n",
              "  ('gener', 3),\n",
              "  ('given', 2),\n",
              "  ('hand', 1),\n",
              "  ('harm', 5),\n",
              "  ('impolit', 1),\n",
              "  ('inflict', 1),\n",
              "  ('intent', 1),\n",
              "  ('judg', 1),\n",
              "  ('juri', 2),\n",
              "  ('known', 1),\n",
              "  ('law', 3),\n",
              "  ('least', 1),\n",
              "  ('lectur', 1),\n",
              "  ('liabil', 1),\n",
              "  ('make', 1),\n",
              "  ('man', 4),\n",
              "  ('matter', 1),\n",
              "  ('may', 1),\n",
              "  ('mode', 1),\n",
              "  ('moral', 2),\n",
              "  ('must', 3),\n",
              "  ('neglig', 1),\n",
              "  ('pa', 1),\n",
              "  ('peril', 4),\n",
              "  ('person', 1),\n",
              "  ('point', 1),\n",
              "  ('principl', 2),\n",
              "  ('prudent', 1),\n",
              "  ('question', 1),\n",
              "  ('refer', 1),\n",
              "  ('remot', 1),\n",
              "  ('rule', 3),\n",
              "  ('show', 1),\n",
              "  ('specif', 1),\n",
              "  ('stage', 1),\n",
              "  ('standard', 1),\n",
              "  ('still', 2),\n",
              "  ('style', 1),\n",
              "  ('suffici', 1),\n",
              "  ('systemat', 1),\n",
              "  ('tendenc', 1),\n",
              "  ('test', 2),\n",
              "  ('the', 2),\n",
              "  ('throw', 1),\n",
              "  ('thu', 1),\n",
              "  ('unintent', 1),\n",
              "  ('unless', 2),\n",
              "  ('upon', 1),\n",
              "  ('voic', 1),\n",
              "  ('well', 1),\n",
              "  ('whether', 1),\n",
              "  ('work', 1),\n",
              "  ('wrong', 1)]]"
            ]
          },
          "metadata": {},
          "execution_count": 12
        }
      ]
    },
    {
      "cell_type": "code",
      "source": [
        "\n",
        "def compute_coherence_values(dictionary, corpus, texts, limit, start=2, step=1):\n",
        "    \"\"\"\n",
        "    Compute c_v coherence for various number of topics\n",
        "\n",
        "    Parameters:\n",
        "    ----------\n",
        "    dictionary : Gensim dictionary\n",
        "    corpus : Gensim corpus\n",
        "    texts : List of input texts\n",
        "    limit : Max num of topics\n",
        "\n",
        "    Returns:\n",
        "    -------\n",
        "    model_list : List of LDA topic models\n",
        "    coherence_values : Coherence values corresponding to the LDA model with respective number of topics\n",
        "    \"\"\"\n",
        "    coherence_values = []\n",
        "    model_list = []\n",
        "    \n",
        "    chunksize = 2000\n",
        "    passes = 20\n",
        "    iterations = 400\n",
        "    eval_every = None \n",
        "\n",
        "    for num_topics in range(start, limit, step):\n",
        "        model = gensim.models.ldamodel.LdaModel(\n",
        "                                            corpus=corpus,\n",
        "                                            id2word=id2word,\n",
        "                                            chunksize=chunksize,\n",
        "                                            alpha='auto',\n",
        "                                            #eta='auto',\n",
        "                                            iterations=iterations,\n",
        "                                            num_topics=num_topics,\n",
        "                                            passes=passes,\n",
        "                                            random_state = 0,\n",
        "                                            eval_every=eval_every)\n",
        "        model_list.append(model)\n",
        "        coherencemodel = CoherenceModel(model=model, texts=texts, dictionary=dictionary, coherence='u_mass')\n",
        "        coherence_values.append(coherencemodel.get_coherence())\n",
        "\n",
        "    return model_list, coherence_values"
      ],
      "metadata": {
        "id": "K5GNlNQPapOS"
      },
      "execution_count": 13,
      "outputs": []
    },
    {
      "cell_type": "code",
      "source": [
        "model_list, coherence_values = compute_coherence_values(dictionary=id2word, corpus=corpus, texts=data_lemmatized, start=2, limit=15, step=1)"
      ],
      "metadata": {
        "id": "xHbLRnpparJa"
      },
      "execution_count": 14,
      "outputs": []
    },
    {
      "cell_type": "code",
      "source": [
        "# Show graph\n",
        "limit=15; start=2; step=1;\n",
        "x = range(start, limit, step)\n",
        "plt.plot(x, coherence_values)\n",
        "plt.xlabel(\"Num Topics\")\n",
        "plt.ylabel(\"Coherence score\")\n",
        "plt.legend((\"coherence_values\"), loc='best')\n",
        "plt.show()"
      ],
      "metadata": {
        "colab": {
          "base_uri": "https://localhost:8080/",
          "height": 281
        },
        "id": "QBb_CORAf_FD",
        "outputId": "259cea34-a793-43e3-ba04-cf00ecfa50e1"
      },
      "execution_count": 15,
      "outputs": [
        {
          "output_type": "display_data",
          "data": {
            "image/png": "[encoded data removed]",
            "text/plain": [
              "<Figure size 432x288 with 1 Axes>"
            ]
          },
          "metadata": {
            "needs_background": "light"
          }
        }
      ]
    },
    {
      "cell_type": "code",
      "source": [
        "# Print the coherence scores\n",
        "for m, cv in zip(x, coherence_values):\n",
        "    print(\"Num Topics =\", m, \" has Coherence Value of\", round(cv, 4))"
      ],
      "metadata": {
        "colab": {
          "base_uri": "https://localhost:8080/"
        },
        "id": "iMSqSZFNbT6C",
        "outputId": "8196a1e5-77b5-440a-d482-d4f923a9dbef"
      },
      "execution_count": 16,
      "outputs": [
        {
          "output_type": "stream",
          "name": "stdout",
          "text": [
            "Num Topics = 2  has Coherence Value of -1.8506\n",
            "Num Topics = 3  has Coherence Value of -2.1597\n",
            "Num Topics = 4  has Coherence Value of -1.2525\n",
            "Num Topics = 5  has Coherence Value of -1.3741\n",
            "Num Topics = 6  has Coherence Value of -1.6092\n",
            "Num Topics = 7  has Coherence Value of -1.5201\n",
            "Num Topics = 8  has Coherence Value of -1.5588\n",
            "Num Topics = 9  has Coherence Value of -2.1789\n",
            "Num Topics = 10  has Coherence Value of -2.364\n",
            "Num Topics = 11  has Coherence Value of -2.4681\n",
            "Num Topics = 12  has Coherence Value of -2.4658\n",
            "Num Topics = 13  has Coherence Value of -2.1458\n",
            "Num Topics = 14  has Coherence Value of -2.6174\n"
          ]
        }
      ]
    },
    {
      "cell_type": "code",
      "source": [
        "best_at = coherence_values.index(max(coherence_values)) + 2\n",
        "print('The peak at k={}, the Coherence Value = {}'. format(best_at, max(coherence_values)))\n"
      ],
      "metadata": {
        "colab": {
          "base_uri": "https://localhost:8080/"
        },
        "id": "RTpWQrJ8m-2h",
        "outputId": "65d8ff05-2336-46c6-aad6-8923631f678e"
      },
      "execution_count": 17,
      "outputs": [
        {
          "output_type": "stream",
          "name": "stdout",
          "text": [
            "The peak at k=4, the Coherence Value = -1.252494182666128\n"
          ]
        }
      ]
    },
    {
      "cell_type": "code",
      "source": [
        "# Select the model and print the topics\n",
        "optimal_model = model_list[2]\n",
        "model_topics = optimal_model.show_topics(formatted=False)\n",
        "pprint(optimal_model.print_topics(num_words=10))"
      ],
      "metadata": {
        "colab": {
          "base_uri": "https://localhost:8080/"
        },
        "id": "mq84dyQkbfSO",
        "outputId": "e0f6c21e-ac31-467e-a2a1-4c506e576a42"
      },
      "execution_count": 47,
      "outputs": [
        {
          "output_type": "stream",
          "name": "stdout",
          "text": [
            "[(0,\n",
            "  '0.018*\"the\" + 0.016*\"electr\" + 0.015*\"magnet\" + 0.014*\"current\" + 0.012*\"A\" '\n",
            "  '+ 0.008*\"one\" + 0.007*\"batteri\" + 0.007*\"circuit\" + 0.007*\"It\" + '\n",
            "  '0.007*\"resist\"'),\n",
            " (1,\n",
            "  '0.016*\"state\" + 0.014*\"u.s.\" + 0.013*\"the\" + 0.007*\"court\" + 0.007*\"would\" '\n",
            "  '+ 0.006*\"power\" + 0.006*\"govern\" + 0.006*\"law\" + 0.006*\"may\" + '\n",
            "  '0.005*\"unit\"'),\n",
            " (2,\n",
            "  '0.009*\"the\" + 0.008*\"one\" + 0.007*\"gener\" + 0.006*\"would\" + 0.006*\"may\" + '\n",
            "  '0.006*\"It\" + 0.005*\"law\" + 0.005*\"case\" + 0.005*\"but\" + 0.004*\"natur\"'),\n",
            " (3,\n",
            "  '0.013*\"one\" + 0.012*\"boil\" + 0.011*\"water\" + 0.010*\"put\" + 0.009*\"two\" + '\n",
            "  '0.009*\"egg\" + 0.008*\"butter\" + 0.008*\"sugar\" + 0.007*\"add\" + 0.007*\"half\"')]\n"
          ]
        }
      ]
    },
    {
      "cell_type": "code",
      "source": [
        "corpus_opt = optimal_model[corpus]"
      ],
      "metadata": {
        "id": "U2ZeCscqpMWq"
      },
      "execution_count": 48,
      "outputs": []
    },
    {
      "cell_type": "code",
      "source": [
        "from google.colab import drive\n",
        "drive.mount('/content/gdrive')"
      ],
      "metadata": {
        "colab": {
          "base_uri": "https://localhost:8080/"
        },
        "id": "6GXzUzm5TIFj",
        "outputId": "044be089-5ed5-444d-b3de-b2ea71cdadab"
      },
      "execution_count": 49,
      "outputs": [
        {
          "output_type": "stream",
          "name": "stdout",
          "text": [
            "Drive already mounted at /content/gdrive; to attempt to forcibly remount, call drive.mount(\"/content/gdrive\", force_remount=True).\n"
          ]
        }
      ]
    },
    {
      "cell_type": "code",
      "source": [
        "optimal_model.save('lda7b_4')"
      ],
      "metadata": {
        "colab": {
          "base_uri": "https://localhost:8080/"
        },
        "id": "-8CmKUpgOVJm",
        "outputId": "5f79d5d3-d432-4539-b1a4-71810a6e9d92"
      },
      "execution_count": 51,
      "outputs": [
        {
          "output_type": "stream",
          "name": "stderr",
          "text": [
            "/usr/local/lib/python3.7/dist-packages/smart_open/smart_open_lib.py:494: DeprecationWarning: This function is deprecated.  See https://github.com/RaRe-Technologies/smart_open/blob/develop/MIGRATING_FROM_OLDER_VERSIONS.rst for more information\n",
            "  warnings.warn(message, category=DeprecationWarning)\n",
            "/usr/local/lib/python3.7/dist-packages/smart_open/smart_open_lib.py:494: DeprecationWarning: This function is deprecated.  See https://github.com/RaRe-Technologies/smart_open/blob/develop/MIGRATING_FROM_OLDER_VERSIONS.rst for more information\n",
            "  warnings.warn(message, category=DeprecationWarning)\n",
            "/usr/local/lib/python3.7/dist-packages/smart_open/smart_open_lib.py:494: DeprecationWarning: This function is deprecated.  See https://github.com/RaRe-Technologies/smart_open/blob/develop/MIGRATING_FROM_OLDER_VERSIONS.rst for more information\n",
            "  warnings.warn(message, category=DeprecationWarning)\n"
          ]
        }
      ]
    },
    {
      "cell_type": "code",
      "source": [
        "##fill value 0 in vector\n",
        "X = np.zeros(shape=(1400,4))\n",
        "for i, row in enumerate(optimal_model[corpus]):\n",
        "  for  j, (topic_num, prop_topic) in enumerate(row):\n",
        "    X[i, topic_num] = prop_topic\n",
        "\n"
      ],
      "metadata": {
        "id": "3zxmJoQzBnhI"
      },
      "execution_count": 54,
      "outputs": []
    },
    {
      "cell_type": "code",
      "source": [
        "print(X)"
      ],
      "metadata": {
        "colab": {
          "base_uri": "https://localhost:8080/"
        },
        "id": "GfhLpf_5EUz2",
        "outputId": "9970efc7-e69a-4e9e-8fe5-fbaf9b391ff4"
      },
      "execution_count": 55,
      "outputs": [
        {
          "output_type": "stream",
          "name": "stdout",
          "text": [
            "[[0.         0.         0.99924773 0.        ]\n",
            " [0.         0.06091032 0.93868089 0.        ]\n",
            " [0.         0.99915099 0.         0.        ]\n",
            " ...\n",
            " [0.         0.         0.         0.99902564]\n",
            " [0.         0.         0.         0.99902564]\n",
            " [0.         0.         0.         0.99902564]]\n"
          ]
        }
      ]
    },
    {
      "cell_type": "code",
      "source": [
        "def format_topics_sentences(ldamodel=optimal_model, corpus=corpus):\n",
        "    # Init output\n",
        "    sent_topics_df = pd.DataFrame()\n",
        "\n",
        "    # Get main topic in each document\n",
        "    for i, row in enumerate(ldamodel[corpus]):\n",
        "        row = sorted(row, key=lambda x: (x[1]), reverse=True)\n",
        "        # Get the Dominant topic, Perc Contribution and Keywords for each document\n",
        "        for j, (topic_num, prop_topic) in enumerate(row):\n",
        "            if j == 0:  # => dominant topic\n",
        "                wp = ldamodel.show_topic(topic_num)\n",
        "                topic_keywords = \", \".join([word for word, prop in wp])\n",
        "                sent_topics_df = sent_topics_df.append(pd.Series([int(topic_num), round(prop_topic,4), topic_keywords]), ignore_index=True)\n",
        "            else:\n",
        "                break\n",
        "    sent_topics_df.columns = ['Dominant_Topic', 'Perc_Contribution', 'Topic_Keywords']\n",
        "    contents = pd.Series(texts)\n",
        "    sent_topics_df = pd.concat([sent_topics_df, contents], axis=1)\n",
        "\n",
        "    return(sent_topics_df)\n",
        "\n"
      ],
      "metadata": {
        "id": "gwlF325Hf8fm"
      },
      "execution_count": 56,
      "outputs": []
    },
    {
      "cell_type": "code",
      "source": [
        "df_topic_sents_keywords = format_topics_sentences(ldamodel=optimal_model, corpus=corpus)\n",
        "\n",
        "# Format\n",
        "df_dominant_topic = df_topic_sents_keywords.reset_index()\n",
        "df_dominant_topic.columns = ['Document_No', 'Dominant_Topic', 'Topic_Perc_Contrib', 'Keywords', 'Text']\n",
        "\n",
        "# Show\n",
        "df_dominant_topic.head(10)"
      ],
      "metadata": {
        "colab": {
          "base_uri": "https://localhost:8080/",
          "height": 363
        },
        "id": "crTCtbhXu8K2",
        "outputId": "529e8963-0f94-47e3-ac89-12163bc687c6"
      },
      "execution_count": 57,
      "outputs": [
        {
          "output_type": "execute_result",
          "data": {
            "text/html": [
              "\n",
              "  <div id=\"df-7b7fa374-70f7-4453-ba73-3f9910b2aa9c\">\n",
              "    <div class=\"colab-df-container\">\n",
              "      <div>\n",
              "<style scoped>\n",
              "    .dataframe tbody tr th:only-of-type {\n",
              "        vertical-align: middle;\n",
              "    }\n",
              "\n",
              "    .dataframe tbody tr th {\n",
              "        vertical-align: top;\n",
              "    }\n",
              "\n",
              "    .dataframe thead th {\n",
              "        text-align: right;\n",
              "    }\n",
              "</style>\n",
              "<table border=\"1\" class=\"dataframe\">\n",
              "  <thead>\n",
              "    <tr style=\"text-align: right;\">\n",
              "      <th></th>\n",
              "      <th>Document_No</th>\n",
              "      <th>Dominant_Topic</th>\n",
              "      <th>Topic_Perc_Contrib</th>\n",
              "      <th>Keywords</th>\n",
              "      <th>Text</th>\n",
              "    </tr>\n",
              "  </thead>\n",
              "  <tbody>\n",
              "    <tr>\n",
              "      <th>0</th>\n",
              "      <td>0</td>\n",
              "      <td>2.0</td>\n",
              "      <td>0.9992</td>\n",
              "      <td>the, one, gener, would, may, It, law, case, bu...</td>\n",
              "      <td>[act, known, circumst, harm, may, accept, gene...</td>\n",
              "    </tr>\n",
              "    <tr>\n",
              "      <th>1</th>\n",
              "      <td>1</td>\n",
              "      <td>2.0</td>\n",
              "      <td>0.9387</td>\n",
              "      <td>the, one, gener, would, may, It, law, case, bu...</td>\n",
              "      <td>[aris, whether, represent, part, contract, If,...</td>\n",
              "    </tr>\n",
              "    <tr>\n",
              "      <th>2</th>\n",
              "      <td>2</td>\n",
              "      <td>1.0</td>\n",
              "      <td>0.9992</td>\n",
              "      <td>state, u.s., the, court, would, power, govern,...</td>\n",
              "      <td>[section, cite, godbolt, see, F., N., B, G, fi...</td>\n",
              "    </tr>\n",
              "    <tr>\n",
              "      <th>3</th>\n",
              "      <td>3</td>\n",
              "      <td>1.0</td>\n",
              "      <td>0.8461</td>\n",
              "      <td>state, u.s., the, court, would, power, govern,...</td>\n",
              "      <td>[row, bell, c.c, see, treasur, hidden, anoth, ...</td>\n",
              "    </tr>\n",
              "    <tr>\n",
              "      <th>4</th>\n",
              "      <td>4</td>\n",
              "      <td>2.0</td>\n",
              "      <td>0.8211</td>\n",
              "      <td>the, one, gener, would, may, It, law, case, bu...</td>\n",
              "      <td>[give, trespass, pretti, nearli, thing, action...</td>\n",
              "    </tr>\n",
              "    <tr>\n",
              "      <th>5</th>\n",
              "      <td>5</td>\n",
              "      <td>2.0</td>\n",
              "      <td>0.7356</td>\n",
              "      <td>the, one, gener, would, may, It, law, case, bu...</td>\n",
              "      <td>[condit, true, effect, upon, promis, attach, w...</td>\n",
              "    </tr>\n",
              "    <tr>\n",
              "      <th>6</th>\n",
              "      <td>6</td>\n",
              "      <td>2.0</td>\n",
              "      <td>0.9992</td>\n",
              "      <td>the, one, gener, would, may, It, law, case, bu...</td>\n",
              "      <td>[land, think, intend, act, consequ, complain, ...</td>\n",
              "    </tr>\n",
              "    <tr>\n",
              "      <th>7</th>\n",
              "      <td>7</td>\n",
              "      <td>2.0</td>\n",
              "      <td>0.9992</td>\n",
              "      <td>the, one, gener, would, may, It, law, case, bu...</td>\n",
              "      <td>[the, law, wait, properti, use, destroy, hand,...</td>\n",
              "    </tr>\n",
              "    <tr>\n",
              "      <th>8</th>\n",
              "      <td>8</td>\n",
              "      <td>2.0</td>\n",
              "      <td>0.7732</td>\n",
              "      <td>the, one, gener, would, may, It, law, case, bu...</td>\n",
              "      <td>[for, said, far, one, term, contract, thing, p...</td>\n",
              "    </tr>\n",
              "    <tr>\n",
              "      <th>9</th>\n",
              "      <td>9</td>\n",
              "      <td>2.0</td>\n",
              "      <td>0.6077</td>\n",
              "      <td>the, one, gener, would, may, It, law, case, bu...</td>\n",
              "      <td>[crime, malum, se, If, gener, ground, punish, ...</td>\n",
              "    </tr>\n",
              "  </tbody>\n",
              "</table>\n",
              "</div>\n",
              "      <button class=\"colab-df-convert\" onclick=\"convertToInteractive('df-7b7fa374-70f7-4453-ba73-3f9910b2aa9c')\"\n",
              "              title=\"Convert this dataframe to an interactive table.\"\n",
              "              style=\"display:none;\">\n",
              "        \n",
              "  <svg xmlns=\"http://www.w3.org/2000/svg\" height=\"24px\"viewBox=\"0 0 24 24\"\n",
              "       width=\"24px\">\n",
              "    <path d=\"M0 0h24v24H0V0z\" fill=\"none\"/>\n",
              "    <path d=\"M18.56 5.44l.94 2.06.94-2.06 2.06-.94-2.06-.94-.94-2.06-.94 2.06-2.06.94zm-11 1L8.5 8.5l.94-2.06 2.06-.94-2.06-.94L8.5 2.5l-.94 2.06-2.06.94zm10 10l.94 2.06.94-2.06 2.06-.94-2.06-.94-.94-2.06-.94 2.06-2.06.94z\"/><path d=\"M17.41 7.96l-1.37-1.37c-.4-.4-.92-.59-1.43-.59-.52 0-1.04.2-1.43.59L10.3 9.45l-7.72 7.72c-.78.78-.78 2.05 0 2.83L4 21.41c.39.39.9.59 1.41.59.51 0 1.02-.2 1.41-.59l7.78-7.78 2.81-2.81c.8-.78.8-2.07 0-2.86zM5.41 20L4 18.59l7.72-7.72 1.47 1.35L5.41 20z\"/>\n",
              "  </svg>\n",
              "      </button>\n",
              "      \n",
              "  <style>\n",
              "    .colab-df-container {\n",
              "      display:flex;\n",
              "      flex-wrap:wrap;\n",
              "      gap: 12px;\n",
              "    }\n",
              "\n",
              "    .colab-df-convert {\n",
              "      background-color: #E8F0FE;\n",
              "      border: none;\n",
              "      border-radius: 50%;\n",
              "      cursor: pointer;\n",
              "      display: none;\n",
              "      fill: #1967D2;\n",
              "      height: 32px;\n",
              "      padding: 0 0 0 0;\n",
              "      width: 32px;\n",
              "    }\n",
              "\n",
              "    .colab-df-convert:hover {\n",
              "      background-color: #E2EBFA;\n",
              "      box-shadow: 0px 1px 2px rgba(60, 64, 67, 0.3), 0px 1px 3px 1px rgba(60, 64, 67, 0.15);\n",
              "      fill: #174EA6;\n",
              "    }\n",
              "\n",
              "    [theme=dark] .colab-df-convert {\n",
              "      background-color: #3B4455;\n",
              "      fill: #D2E3FC;\n",
              "    }\n",
              "\n",
              "    [theme=dark] .colab-df-convert:hover {\n",
              "      background-color: #434B5C;\n",
              "      box-shadow: 0px 1px 3px 1px rgba(0, 0, 0, 0.15);\n",
              "      filter: drop-shadow(0px 1px 2px rgba(0, 0, 0, 0.3));\n",
              "      fill: #FFFFFF;\n",
              "    }\n",
              "  </style>\n",
              "\n",
              "      <script>\n",
              "        const buttonEl =\n",
              "          document.querySelector('#df-7b7fa374-70f7-4453-ba73-3f9910b2aa9c button.colab-df-convert');\n",
              "        buttonEl.style.display =\n",
              "          google.colab.kernel.accessAllowed ? 'block' : 'none';\n",
              "\n",
              "        async function convertToInteractive(key) {\n",
              "          const element = document.querySelector('#df-7b7fa374-70f7-4453-ba73-3f9910b2aa9c');\n",
              "          const dataTable =\n",
              "            await google.colab.kernel.invokeFunction('convertToInteractive',\n",
              "                                                     [key], {});\n",
              "          if (!dataTable) return;\n",
              "\n",
              "          const docLinkHtml = 'Like what you see? Visit the ' +\n",
              "            '<a target=\"_blank\" href=https://colab.research.google.com/notebooks/data_table.ipynb>data table notebook</a>'\n",
              "            + ' to learn more about interactive tables.';\n",
              "          element.innerHTML = '';\n",
              "          dataTable['output_type'] = 'display_data';\n",
              "          await google.colab.output.renderOutput(dataTable, element);\n",
              "          const docLink = document.createElement('div');\n",
              "          docLink.innerHTML = docLinkHtml;\n",
              "          element.appendChild(docLink);\n",
              "        }\n",
              "      </script>\n",
              "    </div>\n",
              "  </div>\n",
              "  "
            ],
            "text/plain": [
              "   Document_No  ...                                               Text\n",
              "0            0  ...  [act, known, circumst, harm, may, accept, gene...\n",
              "1            1  ...  [aris, whether, represent, part, contract, If,...\n",
              "2            2  ...  [section, cite, godbolt, see, F., N., B, G, fi...\n",
              "3            3  ...  [row, bell, c.c, see, treasur, hidden, anoth, ...\n",
              "4            4  ...  [give, trespass, pretti, nearli, thing, action...\n",
              "5            5  ...  [condit, true, effect, upon, promis, attach, w...\n",
              "6            6  ...  [land, think, intend, act, consequ, complain, ...\n",
              "7            7  ...  [the, law, wait, properti, use, destroy, hand,...\n",
              "8            8  ...  [for, said, far, one, term, contract, thing, p...\n",
              "9            9  ...  [crime, malum, se, If, gener, ground, punish, ...\n",
              "\n",
              "[10 rows x 5 columns]"
            ]
          },
          "metadata": {},
          "execution_count": 57
        }
      ]
    },
    {
      "cell_type": "code",
      "source": [
        "# Visualize the topics\n",
        "pyLDAvis.enable_notebook()\n",
        "vis = gensimvis.prepare(optimal_model, corpus, id2word)\n",
        "vis"
      ],
      "metadata": {
        "colab": {
          "base_uri": "https://localhost:8080/",
          "height": 916
        },
        "id": "36yQfZ2tbCqW",
        "outputId": "8b8b2f13-1d03-4de8-90f5-6bdfc8ab1b9d"
      },
      "execution_count": 58,
      "outputs": [
        {
          "output_type": "stream",
          "name": "stderr",
          "text": [
            "/usr/local/lib/python3.7/dist-packages/pyLDAvis/_prepare.py:247: FutureWarning: In a future version of pandas all arguments of DataFrame.drop except for the argument 'labels' will be keyword-only\n",
            "  by='saliency', ascending=False).head(R).drop('saliency', 1)\n"
          ]
        },
        {
          "output_type": "execute_result",
          "data": {
            "text/html": [
              "\n",
              "<link rel=\"stylesheet\" type=\"text/css\" href=\"https://cdn.jsdelivr.net/gh/bmabey/pyLDAvis@3.3.1/pyLDAvis/js/ldavis.v1.0.0.css\">\n",
              "\n",
              "\n",
              "<div id=\"ldavis_el72140344576808016302940350\"></div>\n",
              "<script type=\"text/javascript\">\n",
              "\n",
              "var ldavis_el72140344576808016302940350_data = {\"mdsDat\": {\"x\": [-0.12059432296933957, -0.12849707948674302, 0.2727583596778556, -0.02366695722177285], \"y\": [-0.048965386176822064, -0.10669867762131992, -0.0537448065573958, 0.20940887035553774], \"topics\": [1, 2, 3, 4], \"cluster\": [1, 1, 1, 1], \"Freq\": [39.827356066318586, 30.40684141223754, 14.946496683731358, 14.819305837712513]}, \"tinfo\": {\"Term\": [\"u.s.\", \"state\", \"electr\", \"magnet\", \"current\", \"boil\", \"water\", \"the\", \"put\", \"A\", \"egg\", \"butter\", \"court\", \"sugar\", \"add\", \"batteri\", \"govern\", \"circuit\", \"one\", \"salt\", \"half\", \"co.\", \"cup\", \"resist\", \"two\", \"unit\", \"milk\", \"forc\", \"hot\", \"cold\", \"calculu\", \"geometri\", \"analyt\", \"geometr\", \"geomet\", \"swarm\", \"heir\", \"transcendent\", \"mathemat\", \"lagrang\", \"leibnitz\", \"hive\", \"equat\", \"analysi\", \"warranti\", \"infinitesim\", \"integr\", \"deduc\", \"research\", \"verit\", \"prudent\", \"trigonometr\", \"auxiliari\", \"mysteri\", \"newton\", \"flight\", \"virgin\", \"finit\", \"destin\", \"descart\", \"bee\", \"algebra\", \"concret\", \"truli\", \"honey\", \"chapter\", \"differenti\", \"logic\", \"variabl\", \"u\", \"primit\", \"problem\", \"worker\", \"trespass\", \"coven\", \"consid\", \"scienc\", \"necessarili\", \"consider\", \"concept\", \"evid\", \"gener\", \"function\", \"fundament\", \"certain\", \"natur\", \"question\", \"simpl\", \"relat\", \"queen\", \"differ\", \"fact\", \"must\", \"man\", \"present\", \"but\", \"would\", \"point\", \"first\", \"It\", \"one\", \"law\", \"may\", \"case\", \"the\", \"I\", \"two\", \"form\", \"In\", \"time\", \"even\", \"u.s.\", \"co.\", \"parliament\", \"feder\", \"amend\", \"legisl\", \"vote\", \"commerc\", \"ibid\", \"administr\", \"interst\", \"commiss\", \"minist\", \"citizen\", \"parliamentari\", \"claus\", \"legislatur\", \"constitu\", \"tax\", \"treati\", \"presid\", \"also_\", \"pl\", \"senat\", \"peer\", \"jurisdict\", \"bill\", \"war\", \"taxat\", \"ministri\", \"nation\", \"congress\", \"govern\", \"state\", \"court\", \"justic\", \"hous\", \"offic\", \"public\", \"lord\", \"statut\", \"judgment\", \"constitut\", \"power\", \"polit\", \"author\", \"unit\", \"parti\", \"opinion\", \"the\", \"would\", \"law\", \"v.\", \"case\", \"act\", \"I\", \"may\", \"common\", \"great\", \"but\", \"one\", \"right\", \"upon\", \"In\", \"It\", \"new\", \"tablespoon\", \"flour\", \"boil\", \"teaspoon\", \"dish\", \"cake\", \"pepper\", \"slice\", \"bread\", \"pint\", \"hot\", \"lemon\", \"chop\", \"sauc\", \"oven\", \"roast\", \"juic\", \"pan\", \"butter\", \"sweet\", \"meat\", \"bake\", \"quart\", \"onion\", \"pud\", \"ounc\", \"potato\", \"stew\", \"sugar\", \"yolk\", \"cream\", \"fri\", \"cook\", \"pour\", \"stir\", \"milk\", \"egg\", \"white\", \"cup\", \"salt\", \"cold\", \"water\", \"half\", \"add\", \"pound\", \"put\", \"minut\", \"fruit\", \"hour\", \"serv\", \"one\", \"two\", \"cover\", \"littl\", \"cut\", \"three\", \"let\", \"use\", \"take\", \"place\", \"well\", \"magnet\", \"current\", \"dictionari\", \"batteri\", \"pole\", \"armatur\", \"dynamo\", \"induct\", \"electro-magnet\", \"coil\", \"lamp\", \"electrod\", \"galvanomet\", \"zinc\", \"q.\", \"conductor\", \"disc\", \"commut\", \"ohm\", \"electro-mot\", \"voltaic\", \"volt\", \"insul\", \"shunt\", \"electr\", \"meter\", \"circuit\", \"electrostat\", \"telegraphi\", \"potenti\", \"wire\", \"metal\", \"carbon\", \"synonym\", \"copper\", \"resist\", \"polar\", \"fig\", \"discharg\", \"contact\", \"energi\", \"standard\", \"iron\", \"A\", \"forc\", \"connect\", \"the\", \"field\", \"plate\", \"line\", \"use\", \"It\", \"produc\", \"one\", \"posit\", \"In\", \"two\", \"unit\", \"may\", \"see\"], \"Freq\": [899.0, 1093.0, 518.0, 478.0, 443.0, 366.0, 405.0, 2232.0, 390.0, 671.0, 297.0, 265.0, 478.0, 250.0, 268.0, 226.0, 408.0, 225.0, 1635.0, 244.0, 260.0, 337.0, 235.0, 230.0, 874.0, 483.0, 186.0, 300.0, 172.0, 181.0, 215.46671868970418, 212.59395010165582, 153.8355476206224, 121.00163101306437, 78.45018124586359, 77.39936949336418, 64.00583543255806, 66.86468056771801, 169.6760457647809, 55.263411335759315, 49.44880701765995, 210.04327089930544, 330.41557157849473, 206.88303656085364, 39.84895137662501, 37.88871664103569, 142.99401695069312, 35.91728959139378, 34.00321645730368, 33.99285906359037, 31.14526953090523, 30.180556808495922, 30.173354099213274, 42.40553100726237, 29.195586922636053, 28.219231564708352, 26.333385066928358, 26.326756821785857, 26.30407035659008, 25.35588564906053, 340.3204628096094, 84.28355788366143, 54.31689890307842, 56.03411826819347, 80.80720274456102, 68.59883201994698, 204.54609696536062, 86.52208885094257, 109.27636028861606, 267.71372592901685, 78.9647599335735, 91.63836384992658, 109.45236052246963, 68.07427323488699, 72.31642801952941, 280.9257585315764, 127.44986440940959, 106.25609073007381, 224.03735366689705, 129.74546206017246, 197.0042980531363, 573.7570234774032, 263.6890691098436, 120.37177489845085, 238.15324230556126, 367.40389600745726, 314.6493350953011, 167.2173976650187, 226.67819452921006, 171.23740035098865, 325.1357982432157, 268.16361898087774, 355.52323760143844, 238.33200775663184, 254.91524908728357, 383.0743819761722, 528.0887600977337, 268.9264489389156, 322.45840588290054, 490.8878644635548, 664.8722549659399, 422.11360180555425, 498.9654144748917, 396.7987002782213, 718.2492818523303, 341.14597751568607, 342.27142092300335, 249.94044805366207, 279.28777627108076, 259.91468392216916, 233.41938516367136, 897.3520833001226, 336.3889703792609, 200.26179759143713, 153.6301075948608, 138.40962324565496, 145.81369378541743, 92.66275039432549, 118.0958855337733, 76.45943653263386, 83.0580884932836, 78.28972178287752, 71.68297460281761, 76.39688999809096, 68.84946196858996, 68.82948781381022, 132.01335920388627, 70.68500279286759, 62.174752856980426, 147.8248614726747, 55.49797348035185, 109.79002687914645, 41.19675741905265, 87.10993536555608, 39.31008439393673, 45.83986380377353, 101.92264069183756, 42.03641156565259, 85.96187120013236, 33.58539648364053, 33.580311883019256, 219.09759652215035, 172.96682889028855, 393.2727465554006, 1024.984479245909, 455.86007684130107, 155.73004765144432, 269.90008628448095, 123.57957526842404, 168.6827109200451, 178.82772314149628, 99.7832057769195, 91.09837340259551, 290.6991060106281, 397.451931452004, 113.46110109407509, 142.0462723356171, 342.26867170586604, 179.1615970483729, 114.60816171990251, 829.9329551677031, 420.7195396470299, 362.3509114169472, 175.65227111548836, 330.29577529557565, 223.6864188483379, 280.8914763678273, 354.9419941526159, 178.11094312643033, 196.41824093759726, 230.51578084536433, 305.444001794706, 201.2716111686235, 202.84401647712392, 210.2670873665764, 206.6118244755095, 174.1938530378747, 160.7470553609811, 158.03251148615513, 364.0854274771081, 137.42800038200346, 133.84529473445605, 111.4265348265824, 106.94522225710685, 106.93279134044805, 100.65606269636852, 100.62019500738474, 170.83724722134315, 85.40416837660273, 83.61910774521186, 80.04514247175257, 80.04151039322264, 77.34829127725048, 79.09701650733179, 73.75808761648028, 263.0097537444579, 76.40782410216444, 83.5050444017606, 163.44634012117834, 73.71602273917982, 67.49368757698828, 66.59339981388936, 71.0254564290555, 64.80367667525081, 64.79853183966716, 247.57629934622577, 62.99689665273123, 145.48754609991113, 112.3356725838458, 111.3858073142135, 136.50419545852358, 160.83853696870298, 178.12132590309625, 276.5762174662305, 171.26027840400715, 219.5223586371452, 227.2518163811288, 168.61589137804918, 353.63731875943773, 230.0220326387336, 234.82453203193307, 124.74378826676663, 306.7637448774691, 126.73511734183457, 121.44176847873202, 154.3323223487741, 138.02010957043942, 418.85968566232884, 276.81738163421437, 127.22976697438467, 180.8725851954965, 143.59439276522787, 173.17493188966642, 151.44169939929955, 153.75067822362766, 146.98979424230785, 140.84295808070542, 140.00891007574606, 476.44888173849006, 440.26753794818995, 129.72314532019874, 225.41837433597323, 136.75290542834944, 97.33602227643114, 95.54521164451924, 80.29743559616179, 66.80169781912954, 147.77621143111313, 63.15184270749322, 57.802970581977604, 57.74384834759018, 52.38485019443115, 52.37877095493718, 104.53510260924818, 51.368363672797045, 43.369229337636554, 46.00243127387433, 38.90603502030495, 38.903643901076094, 37.99077616893366, 37.10023279540971, 34.42330598345518, 506.4032293581089, 32.55644326843398, 219.76440626557937, 27.210023851581898, 27.206656358667928, 73.71048903174766, 118.82272110835068, 91.87309014079118, 78.33763804711239, 55.07978285876055, 62.22377687661586, 204.48796576973905, 70.93056657046412, 72.16068872647273, 90.16054881163716, 87.84411220669601, 68.74097521770585, 155.68174431718768, 87.09821343197822, 358.3694146820737, 190.08124054977614, 125.81367987265129, 573.2159698005862, 104.01604134537452, 86.88671531327802, 164.88274212656123, 188.17740243649783, 216.23273765619115, 107.50996650002607, 246.00553411399724, 107.20088173352515, 149.17968248539793, 146.97476623212745, 124.60715009303406, 134.6287510384875, 96.87494927676514], \"Total\": [899.0, 1093.0, 518.0, 478.0, 443.0, 366.0, 405.0, 2232.0, 390.0, 671.0, 297.0, 265.0, 478.0, 250.0, 268.0, 226.0, 408.0, 225.0, 1635.0, 244.0, 260.0, 337.0, 235.0, 230.0, 874.0, 483.0, 186.0, 300.0, 172.0, 181.0, 216.60418436489144, 213.71755752523993, 154.71626947774612, 121.83365368481815, 79.2736986436279, 78.29432583312747, 64.76678345825898, 67.66599793535194, 172.03384933115814, 56.059557293480594, 50.25710127963567, 213.51269505937057, 336.2240272275472, 210.66499513167238, 40.585024601778045, 38.64930147280513, 145.9628782396501, 36.71169676286414, 34.78136397652577, 34.77794411224537, 31.879778142451542, 30.912716759180885, 30.912079847436747, 43.46484592916624, 29.945822188060102, 28.974859202368943, 27.04441390630963, 27.044003197271437, 27.044148197806738, 26.077294742224453, 350.36384410046105, 86.88093310445916, 56.046838824457325, 57.97318459732617, 83.92528216172705, 71.50265330703346, 218.59927849439845, 90.82767932640351, 115.61829139248087, 295.5201161146174, 83.02346839258601, 97.5736120594488, 117.80810837357956, 71.49678646697723, 76.3201703232022, 327.09762002124046, 140.50620686830464, 115.74476558092795, 261.9869434220526, 144.71088754488167, 230.60475907924095, 766.7438915341938, 320.9103251677639, 133.9347231996386, 301.118886334695, 504.4965339529185, 437.06117396670294, 202.27972638700945, 297.7397119772731, 210.23645139465512, 468.6531931080259, 369.68617492109195, 547.6189641037878, 325.5329565737705, 355.90102541723377, 622.7044420416727, 995.2895451692423, 395.26103852391924, 518.895521070013, 959.0956623731922, 1635.1814765369722, 804.6843709774668, 1086.5331316301638, 772.3055901141661, 2232.712191060805, 636.9831883788378, 874.0632661614341, 404.55971067398684, 660.2409417894179, 541.8110690309252, 353.11454388416706, 899.711535293101, 337.3986606117203, 201.09739640821482, 154.39553816447014, 139.1442567235281, 146.769713179449, 93.38948534812111, 119.13074545829062, 77.18461466378339, 83.8578459087654, 79.09331385098868, 72.41988250876898, 77.18457264127083, 69.56035825298548, 69.55881449350626, 133.4341844515525, 71.4667571583762, 62.88702526468195, 149.6455548224757, 56.214913877076555, 111.50548399466734, 41.91599725911721, 88.6319762235246, 40.01064216521114, 46.67685571916036, 103.89375882714825, 42.872307653786876, 87.68509426001887, 34.291032712094314, 34.291218460860506, 224.02014033114563, 177.0809612762697, 408.1453613082867, 1093.0809117382769, 478.7328950898642, 162.09343995600545, 294.12696496637466, 129.55249554868738, 181.17549952040724, 194.62562217287646, 103.9238632671668, 94.37836084847318, 353.16372639639985, 520.9615346547251, 123.06453824179495, 162.1869266940257, 483.7370914735303, 230.42922958802677, 128.84851280590024, 2232.712191060805, 995.2895451692423, 804.6843709774668, 257.971344194086, 772.3055901141661, 401.00122811028194, 636.9831883788378, 1086.5331316301638, 290.3497176263889, 391.7412950085097, 622.7044420416727, 1635.1814765369722, 452.8684853210088, 473.46700846544263, 660.2409417894179, 959.0956623731922, 368.2697513573029, 161.49880151951115, 158.80995750365895, 366.0282650632579, 138.17611116777124, 134.5875666029861, 112.16189080766601, 107.67655608328522, 107.67696930043314, 101.3983201454044, 101.39827294251153, 172.28396619069537, 86.14833956692995, 84.3543729825409, 80.76532844465727, 80.76525716355296, 78.07426754878209, 79.86859096118079, 74.48639798259758, 265.66619304803316, 77.18026939162974, 84.36166136702653, 165.14269119595554, 74.4892116610253, 68.2065638420186, 67.30972927208347, 71.79685843935914, 65.5153931812942, 65.51569762139304, 250.41936185920622, 63.72213028691058, 147.20382579974816, 114.8593838112211, 114.06897650263195, 141.05478837476926, 167.29144482731883, 186.13875148001515, 297.4453543100077, 180.53132246144258, 235.11140044010457, 244.44483599108108, 181.0348205336689, 405.731293029697, 260.74492152246313, 268.8284649826269, 133.1463770001261, 390.06988335728056, 139.55018850465777, 135.54416474721722, 199.39349715102193, 177.48458802967653, 1635.1814765369722, 874.0632661614341, 151.704664676104, 371.29604582976526, 211.8081100329669, 362.2131699846936, 260.33999143117194, 611.4017194498933, 403.0043868796362, 411.4710838944907, 318.34444978484254, 478.1597618657363, 443.11553921360655, 130.5853638888854, 226.96924348590474, 137.79870786758843, 98.17278779912044, 96.36962895386665, 81.06153042291457, 67.55655911229455, 149.48569802363164, 63.95521965415341, 58.552994779005644, 58.55785667348473, 53.152562173764856, 53.152625744788175, 106.32631690525123, 52.25815266169848, 44.14960433509209, 46.85454663896148, 39.645612323378906, 39.64573772924913, 38.74662760704105, 37.844084727748466, 35.14249327090795, 518.3453080948391, 33.346595062058945, 225.38371509994806, 27.94056220526027, 27.941182920783813, 75.72917310013464, 122.54003498735595, 94.62382636171101, 81.05674594009606, 56.806557205076906, 64.96581900470571, 230.20291657330193, 74.98737361383859, 76.54819187134275, 99.50570610131824, 97.79505139553044, 74.1325606588584, 209.73655232672223, 101.31745384750572, 671.2176519603768, 300.35618427579715, 194.4389210555446, 2232.712191060805, 152.53968023472655, 115.23922513488425, 438.66671671214806, 611.4017194498933, 959.0956623731922, 191.68119518637803, 1635.1814765369722, 194.69640641042056, 660.2409417894179, 874.0632661614341, 483.7370914735303, 1086.5331316301638, 318.1087018376122], \"Category\": [\"Default\", \"Default\", \"Default\", \"Default\", \"Default\", \"Default\", \"Default\", \"Default\", \"Default\", \"Default\", \"Default\", \"Default\", \"Default\", \"Default\", \"Default\", \"Default\", \"Default\", \"Default\", \"Default\", \"Default\", \"Default\", \"Default\", \"Default\", \"Default\", \"Default\", \"Default\", \"Default\", \"Default\", \"Default\", \"Default\", \"Topic1\", \"Topic1\", \"Topic1\", \"Topic1\", \"Topic1\", \"Topic1\", \"Topic1\", \"Topic1\", \"Topic1\", \"Topic1\", \"Topic1\", \"Topic1\", \"Topic1\", \"Topic1\", \"Topic1\", \"Topic1\", \"Topic1\", \"Topic1\", \"Topic1\", \"Topic1\", \"Topic1\", \"Topic1\", \"Topic1\", \"Topic1\", \"Topic1\", \"Topic1\", \"Topic1\", \"Topic1\", \"Topic1\", \"Topic1\", \"Topic1\", \"Topic1\", \"Topic1\", \"Topic1\", \"Topic1\", \"Topic1\", \"Topic1\", \"Topic1\", \"Topic1\", \"Topic1\", \"Topic1\", \"Topic1\", \"Topic1\", \"Topic1\", \"Topic1\", \"Topic1\", \"Topic1\", \"Topic1\", \"Topic1\", \"Topic1\", \"Topic1\", \"Topic1\", \"Topic1\", \"Topic1\", \"Topic1\", \"Topic1\", \"Topic1\", \"Topic1\", \"Topic1\", \"Topic1\", \"Topic1\", \"Topic1\", \"Topic1\", \"Topic1\", \"Topic1\", \"Topic1\", \"Topic1\", \"Topic1\", \"Topic1\", \"Topic1\", \"Topic1\", \"Topic1\", \"Topic1\", \"Topic1\", \"Topic1\", \"Topic1\", \"Topic1\", \"Topic1\", \"Topic1\", \"Topic1\", \"Topic1\", \"Topic2\", \"Topic2\", \"Topic2\", \"Topic2\", \"Topic2\", \"Topic2\", \"Topic2\", \"Topic2\", \"Topic2\", \"Topic2\", \"Topic2\", \"Topic2\", \"Topic2\", \"Topic2\", \"Topic2\", \"Topic2\", \"Topic2\", \"Topic2\", \"Topic2\", \"Topic2\", \"Topic2\", \"Topic2\", \"Topic2\", \"Topic2\", \"Topic2\", \"Topic2\", \"Topic2\", \"Topic2\", \"Topic2\", \"Topic2\", \"Topic2\", \"Topic2\", \"Topic2\", \"Topic2\", \"Topic2\", \"Topic2\", \"Topic2\", \"Topic2\", \"Topic2\", \"Topic2\", \"Topic2\", \"Topic2\", \"Topic2\", \"Topic2\", \"Topic2\", \"Topic2\", \"Topic2\", \"Topic2\", \"Topic2\", \"Topic2\", \"Topic2\", \"Topic2\", \"Topic2\", \"Topic2\", \"Topic2\", \"Topic2\", \"Topic2\", \"Topic2\", \"Topic2\", \"Topic2\", \"Topic2\", \"Topic2\", \"Topic2\", \"Topic2\", \"Topic2\", \"Topic2\", \"Topic3\", \"Topic3\", \"Topic3\", \"Topic3\", \"Topic3\", \"Topic3\", \"Topic3\", \"Topic3\", \"Topic3\", \"Topic3\", \"Topic3\", \"Topic3\", \"Topic3\", \"Topic3\", \"Topic3\", \"Topic3\", \"Topic3\", \"Topic3\", \"Topic3\", \"Topic3\", \"Topic3\", \"Topic3\", \"Topic3\", \"Topic3\", \"Topic3\", \"Topic3\", \"Topic3\", \"Topic3\", \"Topic3\", \"Topic3\", \"Topic3\", \"Topic3\", \"Topic3\", \"Topic3\", \"Topic3\", \"Topic3\", \"Topic3\", \"Topic3\", \"Topic3\", \"Topic3\", \"Topic3\", \"Topic3\", \"Topic3\", \"Topic3\", \"Topic3\", \"Topic3\", \"Topic3\", \"Topic3\", \"Topic3\", \"Topic3\", \"Topic3\", \"Topic3\", \"Topic3\", \"Topic3\", \"Topic3\", \"Topic3\", \"Topic3\", \"Topic3\", \"Topic3\", \"Topic3\", \"Topic3\", \"Topic4\", \"Topic4\", \"Topic4\", \"Topic4\", \"Topic4\", \"Topic4\", \"Topic4\", \"Topic4\", \"Topic4\", \"Topic4\", \"Topic4\", \"Topic4\", \"Topic4\", \"Topic4\", \"Topic4\", \"Topic4\", \"Topic4\", \"Topic4\", \"Topic4\", \"Topic4\", \"Topic4\", \"Topic4\", \"Topic4\", \"Topic4\", \"Topic4\", \"Topic4\", \"Topic4\", \"Topic4\", \"Topic4\", \"Topic4\", \"Topic4\", \"Topic4\", \"Topic4\", \"Topic4\", \"Topic4\", \"Topic4\", \"Topic4\", \"Topic4\", \"Topic4\", \"Topic4\", \"Topic4\", \"Topic4\", \"Topic4\", \"Topic4\", \"Topic4\", \"Topic4\", \"Topic4\", \"Topic4\", \"Topic4\", \"Topic4\", \"Topic4\", \"Topic4\", \"Topic4\", \"Topic4\", \"Topic4\", \"Topic4\", \"Topic4\", \"Topic4\", \"Topic4\", \"Topic4\"], \"logprob\": [30.0, 29.0, 28.0, 27.0, 26.0, 25.0, 24.0, 23.0, 22.0, 21.0, 20.0, 19.0, 18.0, 17.0, 16.0, 15.0, 14.0, 13.0, 12.0, 11.0, 10.0, 9.0, 8.0, 7.0, 6.0, 5.0, 4.0, 3.0, 2.0, 1.0, -5.9614, -5.9749, -6.2984, -6.5384, -6.9718, -6.9853, -7.1753, -7.1316, -6.2004, -7.3221, -7.4333, -5.9869, -5.5339, -6.0021, -7.6492, -7.6996, -6.3714, -7.753, -7.8078, -7.8081, -7.8956, -7.927, -7.9273, -7.587, -7.9602, -7.9942, -8.0634, -8.0637, -8.0645, -8.1012, -5.5044, -6.9001, -7.3394, -7.3083, -6.9422, -7.106, -6.0135, -6.8738, -6.6404, -5.7443, -6.9652, -6.8164, -6.6388, -7.1136, -7.0532, -5.6962, -6.4865, -6.6684, -5.9224, -6.4687, -6.051, -4.982, -5.7595, -6.5437, -5.8613, -5.4278, -5.5828, -6.215, -5.9107, -6.1912, -5.55, -5.7426, -5.4607, -5.8606, -5.7933, -5.386, -5.065, -5.7398, -5.5583, -5.138, -4.8347, -5.289, -5.1217, -5.3508, -4.7574, -5.5019, -5.4986, -5.813, -5.702, -5.7739, -5.8814, -4.2649, -5.2461, -5.7647, -6.0298, -6.1341, -6.082, -6.5354, -6.2929, -6.7276, -6.6448, -6.7039, -6.7921, -6.7284, -6.8324, -6.8327, -6.1815, -6.8061, -6.9344, -6.0683, -7.048, -6.3658, -7.346, -6.5972, -7.3929, -7.2392, -6.4401, -7.3258, -6.6105, -7.5503, -7.5504, -5.6748, -5.9113, -5.0899, -4.1319, -4.9422, -6.0162, -5.4663, -6.2475, -5.9363, -5.8779, -6.4614, -6.5524, -5.3921, -5.0793, -6.3329, -6.1082, -5.2288, -5.8761, -6.3228, -4.343, -5.0224, -5.1717, -5.8959, -5.2644, -5.6541, -5.4264, -5.1924, -5.882, -5.7841, -5.624, -5.3426, -5.7597, -5.7519, -5.716, -5.7335, -5.9042, -5.2743, -5.2914, -4.4568, -5.4311, -5.4575, -5.6408, -5.6819, -5.682, -5.7425, -5.7428, -5.2135, -5.9068, -5.9279, -5.9716, -5.9716, -6.0059, -5.9835, -6.0534, -4.782, -6.0181, -5.9293, -5.2577, -6.0539, -6.1421, -6.1556, -6.0911, -6.1828, -6.1829, -4.8425, -6.2111, -5.3741, -5.6327, -5.6412, -5.4378, -5.2738, -5.1717, -4.7317, -5.211, -4.9627, -4.9281, -5.2265, -4.4859, -4.916, -4.8953, -5.5279, -4.6281, -5.5121, -5.5547, -5.3151, -5.4268, -4.3166, -4.7308, -5.5082, -5.1564, -5.3872, -5.1999, -5.334, -5.3188, -5.3638, -5.4065, -5.4125, -4.1793, -4.2582, -5.4802, -4.9277, -5.4274, -5.7675, -5.786, -5.9599, -6.1439, -5.3499, -6.2001, -6.2886, -6.2896, -6.387, -6.3871, -5.6961, -6.4066, -6.5759, -6.5169, -6.6845, -6.6845, -6.7083, -6.732, -6.8069, -4.1183, -6.8626, -4.9531, -7.042, -7.0422, -6.0455, -5.568, -5.8252, -5.9846, -6.3368, -6.2149, -5.0251, -6.0839, -6.0667, -5.844, -5.8701, -6.1153, -5.2978, -5.8786, -4.4641, -5.0982, -5.5108, -3.9944, -5.7011, -5.881, -5.2404, -5.1082, -4.9693, -5.668, -4.8403, -5.6709, -5.3405, -5.3554, -5.5205, -5.4431, -5.7722], \"loglift\": [30.0, 29.0, 28.0, 27.0, 26.0, 25.0, 24.0, 23.0, 22.0, 21.0, 20.0, 19.0, 18.0, 17.0, 16.0, 15.0, 14.0, 13.0, 12.0, 11.0, 10.0, 9.0, 8.0, 7.0, 6.0, 5.0, 4.0, 3.0, 2.0, 1.0, 0.9154, 0.9153, 0.9149, 0.9138, 0.9102, 0.9091, 0.9088, 0.9087, 0.9068, 0.9063, 0.9044, 0.9042, 0.9032, 0.9025, 0.9023, 0.9007, 0.9001, 0.8987, 0.898, 0.8978, 0.8973, 0.8966, 0.8964, 0.8959, 0.8952, 0.8942, 0.894, 0.8937, 0.8929, 0.8926, 0.8915, 0.8903, 0.8893, 0.8866, 0.8828, 0.8792, 0.8542, 0.8721, 0.8642, 0.8218, 0.8705, 0.8579, 0.847, 0.8716, 0.8667, 0.7684, 0.8231, 0.8351, 0.7641, 0.8115, 0.7631, 0.6307, 0.7242, 0.8138, 0.686, 0.6035, 0.592, 0.7303, 0.6479, 0.7154, 0.555, 0.5996, 0.4886, 0.6088, 0.5869, 0.4348, 0.2868, 0.5355, 0.4449, 0.2508, 0.0207, 0.2754, 0.1424, 0.2547, -0.2135, 0.2962, -0.0169, 0.439, 0.0603, 0.1861, 0.5067, 1.1879, 1.1875, 1.1863, 1.1855, 1.1852, 1.184, 1.1827, 1.1818, 1.1811, 1.1809, 1.1803, 1.1803, 1.1802, 1.1802, 1.18, 1.1798, 1.1795, 1.1791, 1.1783, 1.1777, 1.175, 1.1732, 1.1732, 1.1728, 1.1724, 1.1713, 1.1708, 1.1707, 1.1697, 1.1696, 1.1683, 1.167, 1.1534, 1.1262, 1.1415, 1.1505, 1.1045, 1.1433, 1.1191, 1.1058, 1.1498, 1.1551, 0.9959, 0.9199, 1.1093, 1.0579, 0.8446, 0.9388, 1.0734, 0.2009, 0.3294, 0.3927, 0.8062, 0.3411, 0.6068, 0.3717, 0.0717, 0.7018, 0.5001, 0.1967, -0.4872, 0.3796, 0.3429, 0.0463, -0.3446, 0.4419, 1.896, 1.8958, 1.8954, 1.8953, 1.8952, 1.8941, 1.8939, 1.8938, 1.8933, 1.893, 1.8923, 1.892, 1.8919, 1.8917, 1.8917, 1.8914, 1.891, 1.8909, 1.8906, 1.8906, 1.8905, 1.8904, 1.8903, 1.8902, 1.89, 1.8899, 1.8898, 1.8897, 1.8893, 1.8892, 1.889, 1.8785, 1.8769, 1.8679, 1.8614, 1.8567, 1.8279, 1.848, 1.8321, 1.8278, 1.8296, 1.7633, 1.7753, 1.7655, 1.8355, 1.6604, 1.8044, 1.7908, 1.6445, 1.6492, 0.5387, 0.7509, 1.7248, 1.1815, 1.512, 1.1628, 1.3589, 0.5203, 0.8921, 0.8286, 1.0793, 1.9057, 1.9028, 1.9026, 1.9024, 1.9016, 1.9007, 1.9006, 1.8998, 1.898, 1.8977, 1.8966, 1.8963, 1.8952, 1.8947, 1.8946, 1.8922, 1.8921, 1.8914, 1.8909, 1.8904, 1.8903, 1.8895, 1.8894, 1.8886, 1.8859, 1.8853, 1.884, 1.8827, 1.8826, 1.8822, 1.8784, 1.8797, 1.8751, 1.8784, 1.8661, 1.7908, 1.8536, 1.8502, 1.8106, 1.8019, 1.8337, 1.6112, 1.758, 1.2817, 1.4517, 1.4739, 0.5495, 1.5264, 1.6268, 0.9307, 0.7309, 0.4196, 1.331, 0.0151, 1.3125, 0.4218, 0.1263, 0.5529, -0.179, 0.7203]}, \"token.table\": {\"Topic\": [1, 2, 3, 4, 1, 2, 3, 4, 1, 2, 3, 4, 1, 2, 3, 4, 1, 2, 4, 1, 2, 3, 2, 1, 4, 2, 2, 1, 2, 4, 1, 4, 1, 2, 4, 1, 2, 3, 1, 4, 1, 3, 4, 2, 3, 4, 3, 1, 2, 3, 4, 2, 3, 3, 1, 3, 4, 1, 2, 3, 4, 1, 2, 3, 4, 1, 2, 3, 2, 4, 2, 1, 2, 2, 3, 4, 1, 3, 4, 1, 2, 2, 1, 2, 3, 4, 4, 1, 2, 4, 1, 2, 2, 4, 2, 4, 1, 2, 4, 1, 2, 3, 4, 1, 2, 3, 4, 2, 1, 2, 4, 1, 2, 3, 4, 2, 3, 2, 4, 1, 2, 4, 1, 2, 1, 2, 3, 4, 2, 3, 3, 4, 1, 2, 4, 1, 2, 3, 4, 1, 1, 1, 4, 1, 2, 3, 4, 1, 2, 3, 4, 4, 1, 2, 3, 4, 3, 4, 1, 2, 3, 4, 1, 2, 4, 4, 4, 4, 4, 1, 2, 4, 1, 2, 3, 4, 1, 2, 3, 4, 1, 2, 4, 1, 2, 3, 4, 2, 1, 2, 4, 3, 4, 1, 1, 2, 3, 4, 1, 3, 1, 2, 3, 4, 1, 2, 3, 4, 3, 4, 1, 2, 3, 1, 2, 3, 4, 1, 2, 4, 4, 1, 2, 3, 4, 1, 1, 1, 2, 1, 2, 1, 2, 3, 4, 1, 2, 3, 4, 1, 1, 3, 1, 3, 2, 3, 4, 1, 2, 3, 4, 1, 2, 3, 4, 2, 4, 1, 4, 1, 2, 3, 2, 1, 2, 3, 4, 1, 2, 3, 1, 2, 1, 2, 1, 4, 1, 2, 4, 2, 2, 1, 3, 1, 2, 3, 4, 1, 2, 3, 4, 1, 2, 3, 4, 1, 2, 1, 2, 1, 4, 1, 2, 3, 4, 1, 2, 4, 1, 2, 3, 4, 3, 2, 3, 4, 4, 2, 3, 2, 2, 1, 2, 3, 4, 1, 2, 3, 4, 1, 1, 2, 1, 2, 3, 4, 1, 2, 4, 1, 2, 3, 4, 1, 1, 2, 4, 4, 1, 2, 3, 4, 3, 1, 2, 3, 3, 3, 2, 2, 1, 2, 2, 3, 3, 1, 2, 1, 2, 3, 4, 1, 3, 4, 1, 2, 3, 4, 1, 4, 4, 1, 2, 1, 2, 3, 4, 3, 2, 4, 2, 3, 4, 1, 2, 3, 4, 1, 2, 3, 4, 1, 2, 3, 4, 1, 2, 1, 2, 3, 4, 1, 2, 1, 2, 3, 4, 1, 1, 2, 4, 3, 1, 2, 3, 4, 4, 3, 1, 2, 3, 1, 2, 4, 1, 2, 4, 1, 1, 2, 4, 1, 2, 3, 4, 3, 1, 2, 3, 4, 3, 1, 2, 4, 1, 2, 3, 4, 2, 1, 2, 3, 4, 1, 2, 3, 4, 3, 1, 2, 4, 1, 2, 3, 4, 1, 2, 3, 1, 2, 3, 2, 3, 1, 3, 2, 4, 3, 1, 2, 3, 4, 1, 2, 2, 3, 4, 1, 2, 3, 4, 1, 2, 3, 4, 1, 2, 3, 4, 1, 2, 1, 2, 1, 1, 2, 1, 2, 3, 4, 1, 2, 3, 2, 4, 1, 2, 3, 4, 1, 2, 3, 4, 1, 2, 3, 4, 1, 2, 4, 1, 4, 1, 1, 4, 4, 2, 1, 2, 1, 1, 2, 3, 4, 1, 2, 3, 4, 2, 3, 4, 1, 3, 4, 1, 2, 3, 1, 2, 3, 4, 3, 4], \"Freq\": [0.16537109784852996, 0.2219846268417204, 0.07747114493805007, 0.5333590363042678, 0.5353359495528703, 0.4411419408338902, 0.009419400871898012, 0.014129101307847017, 0.42257300682360033, 0.31806570406077445, 0.03332116899684304, 0.2256751900240733, 0.5119405907697118, 0.21582831423488866, 0.04691919874671492, 0.22521215398423164, 0.376557450239211, 0.5586017804873065, 0.06483770666370521, 0.119035013654778, 0.007439688353423625, 0.8741633815272759, 0.9897702367683198, 0.9668404447153515, 0.02302001058846075, 0.9781468336908536, 0.9917764717677018, 0.9826027331717752, 0.004746873107110025, 0.00949374621422005, 0.9953704320808411, 0.9880538403216156, 0.11098305126625874, 0.8755329599893744, 0.012331450140695414, 0.9704943875682833, 0.006055369406650984, 0.9870252132841104, 0.004405883302255013, 0.9913237430073778, 0.9704197671221766, 0.022833406285227686, 0.0057083515713069214, 0.9796533543090064, 0.994458720113029, 0.00273202945085997, 0.996071728359669, 0.6150590459002521, 0.37096250549075255, 0.00160589829216776, 0.01284718633734208, 0.007528244286763256, 0.9899641237093683, 0.9896409484603071, 0.9925939364024979, 0.02467407217997715, 0.9622888150191088, 0.5140452239136498, 0.4272919997267115, 0.01424306665755705, 0.044024024214267245, 0.7903854949020432, 0.16936832033615212, 0.0066418949151432205, 0.0332094745757161, 0.9649991546986791, 0.027970989991266064, 0.9957989968983085, 0.022184388955443002, 0.9761131140394921, 0.9919442874208971, 0.007494331412225789, 0.9892517464138042, 0.9958545756844901, 0.0066896031742241565, 0.9900612697851752, 0.05523799217477169, 0.9335220677536417, 0.011047598434954339, 0.008394138693189949, 0.9905083657964139, 0.9942021100528831, 0.3375240065709405, 0.6130538078533408, 0.03444122516030005, 0.01377649006412002, 0.9739611633579616, 0.8983429112041129, 0.08292396103422581, 0.013820660172370967, 0.9634798524343511, 0.01784221948952502, 0.009405009306314193, 0.9875259771629903, 0.9769542629153517, 0.022588537870875183, 0.2571501617503663, 0.09257405823013187, 0.6480184076109231, 0.8590707568638162, 0.08865854786139028, 0.03974348697234737, 0.012228765222260728, 0.8550044405806252, 0.11069253918231309, 0.011450952329204803, 0.022901904658409605, 0.9858949399983765, 0.16139822903562231, 0.8239804324450192, 0.016989287266907613, 0.06135279765571267, 0.030676398827856336, 0.010225466275952113, 0.8998410322837859, 0.017533251032140658, 0.9730954322838065, 0.030785419635133558, 0.9543480086891403, 0.043865797014132554, 0.9525144494497355, 0.002088847476863455, 0.9433941210441872, 0.03930808837684113, 0.07250930631227112, 0.019775265357892122, 0.8371529001507665, 0.07250930631227112, 0.006793301699647203, 0.9850287464488444, 0.9357266367695587, 0.06379954341610627, 0.002256747758777974, 0.004513495517555948, 0.9929690138623085, 0.028327527208784068, 0.028327527208784068, 0.6798606530108177, 0.2643902539486513, 0.9806138962341816, 0.95868840104491, 0.9613909748545374, 0.9955173851689574, 0.6934765510604055, 0.15789927624144617, 0.004267548006525572, 0.14509663222186947, 0.937789005581064, 0.004574580515029581, 0.004574580515029581, 0.05489496618035497, 0.9759242797991093, 0.010049674930016421, 0.07034772451011495, 0.010049674930016421, 0.904470743701478, 0.9956343173606865, 0.9961644663585496, 0.06387727938825884, 0.0033619620730662545, 0.9312634942393524, 0.0033619620730662545, 0.0019292158805786566, 0.021221374686365223, 0.9761832355728002, 0.9917615828927963, 0.9837154155140091, 0.9905556533684948, 0.9663370336519859, 0.013489349229440195, 0.05395739691776078, 0.9307650968313734, 0.9814884519739128, 0.002974207430223978, 0.002974207430223978, 0.011896829720895912, 0.6598425469454227, 0.2888581106799704, 0.025487480354115036, 0.025487480354115036, 0.8542755179319885, 0.13876556636458698, 0.004336423948893343, 0.7249392002749455, 0.2650897075632263, 0.008114991047853867, 0.002704997015951289, 0.997438150291307, 0.19667013824754515, 0.11800208294852708, 0.6817898125914899, 0.05225466339848943, 0.9405839411728097, 0.9613961294984328, 0.6205488136340138, 0.24282344881330975, 0.09250417097649895, 0.04239774503089535, 0.9663549977737513, 0.9948998317461278, 0.20975096667945176, 0.14982211905675125, 0.006658760846966722, 0.6325822804618386, 0.6179557514106038, 0.17055578738932664, 0.05685192912977555, 0.15325302634982974, 0.9751053530295732, 0.01741259558981381, 0.09590969868931148, 0.007377669129947037, 0.8926979647235915, 0.8226597254606481, 0.16203903683315798, 0.0031161353237145763, 0.015580676618572882, 0.8959588457216732, 0.05973058971477821, 0.037331618571736384, 0.9904734103128927, 0.7486202450879281, 0.11868369739198861, 0.019563246822855266, 0.11346683157256054, 0.9839328974751921, 0.9931574432875928, 0.9966424961357928, 0.004679072751811233, 0.034301504628458344, 0.962892237070295, 0.43395986628447514, 0.5003301987750419, 0.028079756053701332, 0.03829057643686545, 0.023010994672366423, 0.06903298401709927, 0.8820881291073795, 0.02684616045109416, 0.9881608531825089, 0.9835480739990949, 0.014050686771415643, 0.9651442082006954, 0.03574608178521094, 0.0058043706684412725, 0.9925473843034576, 0.0058043706684412725, 0.10531938252777855, 0.03510646084259285, 0.7723421385370427, 0.08024333906878366, 0.04759849203761551, 0.9179709178682991, 0.027199138307208864, 0.006799784576802216, 0.9846521917749596, 0.9869046338333812, 0.9832001757324903, 0.9776957288352767, 0.9797011522697882, 0.013702114017759275, 0.006851057008879637, 0.9861769118303922, 0.049349838651942125, 0.029609903191165274, 0.05921980638233055, 0.858687192543793, 0.0317869474848856, 0.9642040737081965, 0.9891247491569877, 0.019250434507114826, 0.981772159862856, 0.03701568676455067, 0.9624078558783175, 0.9810994352321827, 0.9850642424602888, 0.5244292237059207, 0.4498658269704817, 0.024854465578479656, 0.9947556402286627, 0.9934688913148553, 0.9749865939811962, 0.986670206614513, 0.33417839311483905, 0.06914035719617359, 0.5800107742567896, 0.01536452382137191, 0.5311549546005196, 0.052431604960566314, 0.041033429969138856, 0.3761397747171062, 0.3231922379669471, 0.1265836265370543, 0.48748162560014524, 0.061945178943664865, 0.9578577879035294, 0.0440394385243002, 0.07707104456512016, 0.9197144651437672, 0.002091351217212611, 0.995483179393203, 0.7311087716123935, 0.26111027557585487, 0.003071885595010057, 0.003071885595010057, 0.9881776212119566, 0.0058128095365409214, 0.0058128095365409214, 0.45925889001776943, 0.3267272664455073, 0.09019513270890062, 0.12424839709899574, 0.995712965330862, 0.010568162781511067, 0.010568162781511067, 0.9722709758990181, 0.9896062832977723, 0.037606355175061744, 0.9562758887372844, 0.9846527278608337, 0.9915074915989673, 0.03582940341089625, 0.0143317613643585, 0.9100668466367648, 0.0429952840930755, 0.6500870556639979, 0.2666087363116396, 0.04565218087528076, 0.0365217447002246, 0.966298145136567, 0.01785553742662252, 0.977590674107583, 0.7274579215131928, 0.2299322040750146, 0.005946522519181412, 0.035679135115088474, 0.915808153120199, 0.051838197346426355, 0.025919098673213178, 0.43989493951900566, 0.4724797498537468, 0.07060042239193919, 0.01629240516737058, 0.9684155545264268, 0.030875514848702795, 0.9571409603097867, 0.015437757424351398, 0.9817617136380338, 0.4066826890727465, 0.18652363934915442, 0.25624067176162524, 0.15044201731112125, 0.9823101506064246, 0.1086547271297563, 0.8925209728515695, 0.9889012074249435, 0.990524921353209, 0.9934699757838845, 0.9945429606359141, 0.9919663022210014, 0.22132608823620348, 0.776811172436871, 0.9854991149525414, 0.9937167744967444, 0.996072192050674, 0.011282609760139605, 0.9815870491321456, 0.34267292531339866, 0.15067887496050153, 0.34267292531339866, 0.16526070156958234, 0.008677600867495666, 0.234295223422383, 0.754951275472123, 0.680562903453793, 0.09613899751391872, 0.010119894475149337, 0.2125177839781361, 0.05334231360867155, 0.9468260665539201, 0.9942038072783969, 0.07313235907420353, 0.9182173972649998, 0.3081720978122207, 0.1386774440154993, 0.005136201630203678, 0.5495735744317936, 0.9921332505802415, 0.013204950735137791, 0.9771663544001965, 0.04506318636063464, 0.9388163825132215, 0.015021062120211546, 0.007089443836129082, 0.014178887672258163, 0.9712538055496842, 0.007089443836129082, 0.1286083435016085, 0.762052423434904, 0.0019195275149493803, 0.1074935408371653, 0.7164913326705245, 0.2613086036798383, 0.002809769932041272, 0.022478159456330176, 0.008968168776773564, 0.986498565445092, 0.951538179860656, 0.024089574173687494, 0.012044787086843747, 0.012044787086843747, 0.9428778750544464, 0.051243362774698174, 0.35475571786727084, 0.05738695436088205, 0.026084979254946385, 0.5634355519068419, 0.9724032539210171, 0.06071461113184889, 0.9327972073893147, 0.005519510102895353, 0.995398447216576, 0.10254572759046461, 0.099982084400703, 0.7870384592568159, 0.010254572759046461, 0.978314792004397, 0.9934324494766903, 0.8133698931162009, 0.18074886513693353, 0.0047565490825508825, 0.7207229073703947, 0.2699850891101796, 0.009152036918989139, 0.7624108940406553, 0.1780078298861442, 0.057096851095555685, 0.9775349817490447, 0.034751948928729647, 0.07384789147355049, 0.8861746976826059, 0.5078737148975339, 0.44383746388871437, 0.024289612451621184, 0.024289612451621184, 0.9862404402563127, 0.01636361015270515, 0.008181805076352576, 0.9286348761660174, 0.04499992791993917, 0.9905240471450358, 0.9038746602777207, 0.028468493237093564, 0.05693698647418713, 0.4212396555829025, 0.25462994106130676, 0.01571789759637696, 0.304927213369713, 0.9747406662198018, 0.10141725656196293, 0.11832013265562343, 0.7775323003083825, 0.9674896922622807, 0.8255894101838417, 0.06426743911610744, 0.00988729832555499, 0.0939293340927724, 0.9937129610460682, 0.2002512177017837, 0.05721463362908105, 0.7437902371780537, 0.046657113350279826, 0.9377164938046435, 0.002744536079428225, 0.011892989677522309, 0.038489716165735925, 0.9622429041433982, 0.9921286403088738, 0.03586555191864895, 0.005977591986441492, 0.9623923098170802, 0.007986602893447449, 0.9903387587874836, 0.9834684593122861, 0.9847076279866194, 0.01760360157701351, 0.968198086735743, 0.9969114227795004, 0.4317570866839421, 0.15384447916324373, 0.3647602973709166, 0.04962725134298185, 0.006682457097949207, 0.9890036504964826, 0.9915128624285594, 0.9914883176416565, 0.9663155664006007, 0.3215819767879998, 0.37174518208083546, 0.049715319531292455, 0.2566385413642394, 0.3589046748507061, 0.09110657130825617, 0.4776192980705551, 0.07178093497014122, 0.4798720713938752, 0.3026885373407521, 0.12550500328762892, 0.09228309065266832, 0.9901575687099415, 0.9783880505494829, 0.9510916974066755, 0.041959927826765095, 0.9704743919374277, 0.9659638398160867, 0.01724935428243012, 0.39127602456277427, 0.12356084986192872, 0.31691069825698387, 0.16818004564540298, 0.9068756588335133, 0.09136433876307783, 0.0033838643986325123, 0.996986217040979, 0.002222934709121469, 0.03307581800531727, 0.7069956098636566, 0.002067238625332329, 0.25840482816654115, 0.37172600593742505, 0.42875215457555277, 0.08025902400921676, 0.11827645643463525, 0.2273464329231275, 0.21426174613618493, 0.25188022064864485, 0.3074901394931509, 0.08528078988280262, 0.682246319062421, 0.2325839724076435, 0.9427574018542253, 0.051894902854361026, 0.9776311069528847, 0.9613815292900113, 0.9807305137723684, 0.9837123038633047, 0.9958294518203066, 0.011404446883921098, 0.9807824320172145, 0.9855852101232331, 0.01232342707081761, 0.02711153955579874, 0.8724986366138868, 0.08872867490988678, 0.2607238796093247, 0.2952776467864641, 0.43977521861813806, 0.003141251561558129, 0.01661761493294734, 0.9472040511779984, 0.03323522986589468, 0.008160598290209261, 0.016321196580418522, 0.9711111965349021, 0.9252334283676953, 0.05941866053737493, 0.008488380076767846, 0.5304988910641246, 0.42299248700378117, 0.009042594734047579, 0.038179844432645334, 0.9886675118415036, 0.9783159620791763], \"Term\": [\"A\", \"A\", \"A\", \"A\", \"I\", \"I\", \"I\", \"I\", \"In\", \"In\", \"In\", \"In\", \"It\", \"It\", \"It\", \"It\", \"act\", \"act\", \"act\", \"add\", \"add\", \"add\", \"administr\", \"algebra\", \"algebra\", \"also_\", \"amend\", \"analysi\", \"analysi\", \"analysi\", \"analyt\", \"armatur\", \"author\", \"author\", \"author\", \"auxiliari\", \"bake\", \"bake\", \"batteri\", \"batteri\", \"bee\", \"bee\", \"bee\", \"bill\", \"boil\", \"boil\", \"bread\", \"but\", \"but\", \"but\", \"but\", \"butter\", \"butter\", \"cake\", \"calculu\", \"carbon\", \"carbon\", \"case\", \"case\", \"case\", \"case\", \"certain\", \"certain\", \"certain\", \"certain\", \"chapter\", \"chapter\", \"chop\", \"circuit\", \"circuit\", \"citizen\", \"claus\", \"claus\", \"co.\", \"coil\", \"coil\", \"cold\", \"cold\", \"cold\", \"commerc\", \"commerc\", \"commiss\", \"common\", \"common\", \"common\", \"common\", \"commut\", \"concept\", \"concept\", \"concept\", \"concret\", \"concret\", \"conductor\", \"conductor\", \"congress\", \"congress\", \"connect\", \"connect\", \"connect\", \"consid\", \"consid\", \"consid\", \"consid\", \"consider\", \"consider\", \"consider\", \"consider\", \"constitu\", \"constitut\", \"constitut\", \"constitut\", \"contact\", \"contact\", \"contact\", \"contact\", \"cook\", \"cook\", \"copper\", \"copper\", \"court\", \"court\", \"court\", \"coven\", \"coven\", \"cover\", \"cover\", \"cover\", \"cover\", \"cream\", \"cream\", \"cup\", \"cup\", \"current\", \"current\", \"current\", \"cut\", \"cut\", \"cut\", \"cut\", \"deduc\", \"descart\", \"destin\", \"dictionari\", \"differ\", \"differ\", \"differ\", \"differ\", \"differenti\", \"differenti\", \"differenti\", \"differenti\", \"disc\", \"discharg\", \"discharg\", \"discharg\", \"discharg\", \"dish\", \"dynamo\", \"egg\", \"egg\", \"egg\", \"egg\", \"electr\", \"electr\", \"electr\", \"electro-magnet\", \"electro-mot\", \"electrod\", \"electrostat\", \"energi\", \"energi\", \"energi\", \"equat\", \"equat\", \"equat\", \"equat\", \"even\", \"even\", \"even\", \"even\", \"evid\", \"evid\", \"evid\", \"fact\", \"fact\", \"fact\", \"fact\", \"feder\", \"field\", \"field\", \"field\", \"fig\", \"fig\", \"finit\", \"first\", \"first\", \"first\", \"first\", \"flight\", \"flour\", \"forc\", \"forc\", \"forc\", \"forc\", \"form\", \"form\", \"form\", \"form\", \"fri\", \"fri\", \"fruit\", \"fruit\", \"fruit\", \"function\", \"function\", \"function\", \"function\", \"fundament\", \"fundament\", \"fundament\", \"galvanomet\", \"gener\", \"gener\", \"gener\", \"gener\", \"geomet\", \"geometr\", \"geometri\", \"geometri\", \"govern\", \"govern\", \"great\", \"great\", \"great\", \"great\", \"half\", \"half\", \"half\", \"half\", \"heir\", \"hive\", \"hive\", \"honey\", \"honey\", \"hot\", \"hot\", \"hot\", \"hour\", \"hour\", \"hour\", \"hour\", \"hous\", \"hous\", \"hous\", \"hous\", \"ibid\", \"induct\", \"infinitesim\", \"insul\", \"integr\", \"integr\", \"integr\", \"interst\", \"iron\", \"iron\", \"iron\", \"iron\", \"judgment\", \"judgment\", \"juic\", \"jurisdict\", \"jurisdict\", \"justic\", \"justic\", \"lagrang\", \"lamp\", \"law\", \"law\", \"law\", \"legisl\", \"legislatur\", \"leibnitz\", \"lemon\", \"let\", \"let\", \"let\", \"let\", \"line\", \"line\", \"line\", \"line\", \"littl\", \"littl\", \"littl\", \"littl\", \"logic\", \"logic\", \"lord\", \"lord\", \"magnet\", \"magnet\", \"man\", \"man\", \"man\", \"man\", \"mathemat\", \"mathemat\", \"mathemat\", \"may\", \"may\", \"may\", \"may\", \"meat\", \"metal\", \"metal\", \"metal\", \"meter\", \"milk\", \"milk\", \"minist\", \"ministri\", \"minut\", \"minut\", \"minut\", \"minut\", \"must\", \"must\", \"must\", \"must\", \"mysteri\", \"nation\", \"nation\", \"natur\", \"natur\", \"natur\", \"natur\", \"necessarili\", \"necessarili\", \"necessarili\", \"new\", \"new\", \"new\", \"new\", \"newton\", \"offic\", \"offic\", \"offic\", \"ohm\", \"one\", \"one\", \"one\", \"one\", \"onion\", \"opinion\", \"opinion\", \"ounc\", \"oven\", \"pan\", \"parliament\", \"parliamentari\", \"parti\", \"parti\", \"peer\", \"pepper\", \"pint\", \"pl\", \"pl\", \"place\", \"place\", \"place\", \"place\", \"plate\", \"plate\", \"plate\", \"point\", \"point\", \"point\", \"point\", \"polar\", \"polar\", \"pole\", \"polit\", \"polit\", \"posit\", \"posit\", \"posit\", \"posit\", \"potato\", \"potenti\", \"potenti\", \"pound\", \"pound\", \"pound\", \"pour\", \"pour\", \"pour\", \"pour\", \"power\", \"power\", \"power\", \"power\", \"present\", \"present\", \"present\", \"present\", \"presid\", \"presid\", \"primit\", \"primit\", \"primit\", \"primit\", \"problem\", \"problem\", \"produc\", \"produc\", \"produc\", \"produc\", \"prudent\", \"public\", \"public\", \"public\", \"pud\", \"put\", \"put\", \"put\", \"put\", \"q.\", \"quart\", \"queen\", \"queen\", \"queen\", \"question\", \"question\", \"question\", \"relat\", \"relat\", \"relat\", \"research\", \"resist\", \"resist\", \"resist\", \"right\", \"right\", \"right\", \"right\", \"roast\", \"salt\", \"salt\", \"salt\", \"salt\", \"sauc\", \"scienc\", \"scienc\", \"scienc\", \"see\", \"see\", \"see\", \"see\", \"senat\", \"serv\", \"serv\", \"serv\", \"shunt\", \"simpl\", \"simpl\", \"simpl\", \"simpl\", \"slice\", \"standard\", \"standard\", \"standard\", \"state\", \"state\", \"state\", \"state\", \"statut\", \"statut\", \"stew\", \"stir\", \"stir\", \"stir\", \"sugar\", \"sugar\", \"swarm\", \"sweet\", \"synonym\", \"synonym\", \"tablespoon\", \"take\", \"take\", \"take\", \"take\", \"tax\", \"tax\", \"taxat\", \"teaspoon\", \"telegraphi\", \"the\", \"the\", \"the\", \"the\", \"three\", \"three\", \"three\", \"three\", \"time\", \"time\", \"time\", \"time\", \"transcendent\", \"treati\", \"trespass\", \"trespass\", \"trigonometr\", \"truli\", \"truli\", \"two\", \"two\", \"two\", \"two\", \"u\", \"u\", \"u\", \"u.s.\", \"u.s.\", \"unit\", \"unit\", \"unit\", \"unit\", \"upon\", \"upon\", \"upon\", \"upon\", \"use\", \"use\", \"use\", \"use\", \"v.\", \"v.\", \"v.\", \"variabl\", \"variabl\", \"verit\", \"virgin\", \"volt\", \"voltaic\", \"vote\", \"war\", \"war\", \"warranti\", \"water\", \"water\", \"water\", \"water\", \"well\", \"well\", \"well\", \"well\", \"white\", \"white\", \"white\", \"wire\", \"wire\", \"wire\", \"worker\", \"worker\", \"worker\", \"would\", \"would\", \"would\", \"would\", \"yolk\", \"zinc\"]}, \"R\": 30, \"lambda.step\": 0.01, \"plot.opts\": {\"xlab\": \"PC1\", \"ylab\": \"PC2\"}, \"topic.order\": [3, 2, 4, 1]};\n",
              "\n",
              "function LDAvis_load_lib(url, callback){\n",
              "  var s = document.createElement('script');\n",
              "  s.src = url;\n",
              "  s.async = true;\n",
              "  s.onreadystatechange = s.onload = callback;\n",
              "  s.onerror = function(){console.warn(\"failed to load library \" + url);};\n",
              "  document.getElementsByTagName(\"head\")[0].appendChild(s);\n",
              "}\n",
              "\n",
              "if(typeof(LDAvis) !== \"undefined\"){\n",
              "   // already loaded: just create the visualization\n",
              "   !function(LDAvis){\n",
              "       new LDAvis(\"#\" + \"ldavis_el72140344576808016302940350\", ldavis_el72140344576808016302940350_data);\n",
              "   }(LDAvis);\n",
              "}else if(typeof define === \"function\" && define.amd){\n",
              "   // require.js is available: use it to load d3/LDAvis\n",
              "   require.config({paths: {d3: \"https://d3js.org/d3.v5\"}});\n",
              "   require([\"d3\"], function(d3){\n",
              "      window.d3 = d3;\n",
              "      LDAvis_load_lib(\"https://cdn.jsdelivr.net/gh/bmabey/pyLDAvis@3.3.1/pyLDAvis/js/ldavis.v3.0.0.js\", function(){\n",
              "        new LDAvis(\"#\" + \"ldavis_el72140344576808016302940350\", ldavis_el72140344576808016302940350_data);\n",
              "      });\n",
              "    });\n",
              "}else{\n",
              "    // require.js not available: dynamically load d3 & LDAvis\n",
              "    LDAvis_load_lib(\"https://d3js.org/d3.v5.js\", function(){\n",
              "         LDAvis_load_lib(\"https://cdn.jsdelivr.net/gh/bmabey/pyLDAvis@3.3.1/pyLDAvis/js/ldavis.v3.0.0.js\", function(){\n",
              "                 new LDAvis(\"#\" + \"ldavis_el72140344576808016302940350\", ldavis_el72140344576808016302940350_data);\n",
              "            })\n",
              "         });\n",
              "}\n",
              "</script>"
            ],
            "text/plain": [
              "PreparedData(topic_coordinates=              x         y  topics  cluster       Freq\n",
              "topic                                                \n",
              "2     -0.120594 -0.048965       1        1  39.827356\n",
              "1     -0.128497 -0.106699       2        1  30.406841\n",
              "3      0.272758 -0.053745       3        1  14.946497\n",
              "0     -0.023667  0.209409       4        1  14.819306, topic_info=         Term         Freq        Total Category  logprob  loglift\n",
              "4183     u.s.   899.000000   899.000000  Default  30.0000  30.0000\n",
              "167     state  1093.000000  1093.000000  Default  29.0000  29.0000\n",
              "4705   electr   518.000000   518.000000  Default  28.0000  28.0000\n",
              "8737   magnet   478.000000   478.000000  Default  27.0000  27.0000\n",
              "4142  current   443.000000   443.000000  Default  26.0000  26.0000\n",
              "...       ...          ...          ...      ...      ...      ...\n",
              "186        In   149.179682   660.240942   Topic4  -5.3405   0.4218\n",
              "414       two   146.974766   874.063266   Topic4  -5.3554   0.1263\n",
              "3364     unit   124.607150   483.737091   Topic4  -5.5205   0.5529\n",
              "69        may   134.628751  1086.533132   Topic4  -5.4431  -0.1790\n",
              "255       see    96.874949   318.108702   Topic4  -5.7722   0.7203\n",
              "\n",
              "[298 rows x 6 columns], token_table=       Topic      Freq   Term\n",
              "term                         \n",
              "418        1  0.165371      A\n",
              "418        2  0.221985      A\n",
              "418        3  0.077471      A\n",
              "418        4  0.533359      A\n",
              "106        1  0.535336      I\n",
              "...      ...       ...    ...\n",
              "336        2  0.422992  would\n",
              "336        3  0.009043  would\n",
              "336        4  0.038180  would\n",
              "12023      3  0.988668   yolk\n",
              "10334      4  0.978316   zinc\n",
              "\n",
              "[573 rows x 3 columns], R=30, lambda_step=0.01, plot_opts={'xlab': 'PC1', 'ylab': 'PC2'}, topic_order=[3, 2, 4, 1])"
            ]
          },
          "metadata": {},
          "execution_count": 58
        }
      ]
    },
    {
      "cell_type": "code",
      "source": [
        "kmeans = KMeans(n_clusters=4, random_state=0).fit(X)\n",
        "\n",
        "corpus_sparse = corpus2csc(corpus)\n",
        "\n",
        "kmeans_pred = kmeans.fit_predict(corpus_sparse.T)"
      ],
      "metadata": {
        "id": "Sn3o5TpWN6Nu"
      },
      "execution_count": 59,
      "outputs": []
    },
    {
      "cell_type": "code",
      "source": [
        "kmeans_pred.shape"
      ],
      "metadata": {
        "colab": {
          "base_uri": "https://localhost:8080/"
        },
        "id": "mlltvIWVTPpi",
        "outputId": "d5fea461-d618-473e-c7b2-e544bd3009d8"
      },
      "execution_count": 60,
      "outputs": [
        {
          "output_type": "execute_result",
          "data": {
            "text/plain": [
              "(1400,)"
            ]
          },
          "metadata": {},
          "execution_count": 60
        }
      ]
    },
    {
      "cell_type": "code",
      "source": [
        "pred_map = dict()\n",
        "k = 4\n",
        "\n",
        "for i in range(0, 7):\n",
        "    count = np.bincount(kmeans_pred[i * 200 : i * 200 + 200])\n",
        "    np.ndarray.resize(count, (1,k))\n",
        "    count = count[0]\n",
        "    index = np.where(count == max(count))[0][0]\n",
        "    label = chr(ord('a')+i)\n",
        "    pred_map[index] = label\n",
        "    print(label + \":\" + np.array2string(count) + \"\\t\" + label + \" mapped to \" + str(index))"
      ],
      "metadata": {
        "colab": {
          "base_uri": "https://localhost:8080/"
        },
        "id": "unKajM18M9B4",
        "outputId": "77d9f7e5-5b26-4640-aea9-768f5c3bfc49"
      },
      "execution_count": 61,
      "outputs": [
        {
          "output_type": "stream",
          "name": "stdout",
          "text": [
            "a:[  0 200   0   0]\ta mapped to 1\n",
            "b:[ 43 157   0   0]\tb mapped to 1\n",
            "c:[  0 200   0   0]\tc mapped to 1\n",
            "d:[  0 200   0   0]\td mapped to 1\n",
            "e:[  0   5   0 195]\te mapped to 3\n",
            "f:[  0 200   0   0]\tf mapped to 1\n",
            "g:[  0  18 182   0]\tg mapped to 2\n"
          ]
        }
      ]
    },
    {
      "cell_type": "code",
      "source": [
        ""
      ],
      "metadata": {
        "id": "8AG8tfPsgsMB"
      },
      "execution_count": null,
      "outputs": []
    },
    {
      "cell_type": "code",
      "source": [
        ""
      ],
      "metadata": {
        "id": "e5NCJRTXgsOn"
      },
      "execution_count": null,
      "outputs": []
    },
    {
      "cell_type": "code",
      "source": [
        "url = 'https://drive.google.com/file/d/1NmGTSp5CLiCTPlQgP614TvNNv1TXDewU/view?usp=sharin'\n",
        "url='https://drive.google.com/uc?id=' + url.split('/')[-2]\n",
        "df = pd.read_csv(url)\n",
        "df.drop('Unnamed: 0', axis=1, inplace=True)"
      ],
      "metadata": {
        "id": "HbehKgDAD7NR"
      },
      "execution_count": 62,
      "outputs": []
    },
    {
      "cell_type": "code",
      "source": [
        "from sklearn.cluster import KMeans\n",
        "from sklearn.feature_extraction.text import TfidfVectorizer \n",
        "tfidf_vec = TfidfVectorizer()\n",
        "tfidf = tfidf_vec.fit_transform(df['segment'])"
      ],
      "metadata": {
        "id": "ku167j0M_SY7"
      },
      "execution_count": 63,
      "outputs": []
    },
    {
      "cell_type": "code",
      "source": [
        "#df = df.loc[400:1400]"
      ],
      "metadata": {
        "id": "f5kgubFtEFbx"
      },
      "execution_count": 64,
      "outputs": []
    },
    {
      "cell_type": "code",
      "source": [
        "def elbow_method(data, K):\n",
        "    iters = range(2, K + 1)\n",
        "    sse = []\n",
        "    for k in iters:\n",
        "        sse.append(KMeans(n_clusters = k, \n",
        "                        init='k-means++', \n",
        "                        max_iter=300, \n",
        "                        n_init=10, \n",
        "                        random_state=0)\n",
        "                        .fit(data)\n",
        "                        .inertia_)\n",
        "\n",
        "    f, ax = plt.subplots(1, 1)\n",
        "    ax.plot(iters, sse, marker='o')\n",
        "    ax.set_xlabel('Cluster Centers')\n",
        "    ax.set_xticks(iters)\n",
        "    ax.set_xticklabels(iters)\n",
        "    ax.set_ylabel('SSE')\n",
        "    ax.set_title('SSE by Cluster Center Plot')\n",
        "\n",
        "elbow_method(tfidf, 20)\n",
        "# Elbow occurs at k=12"
      ],
      "metadata": {
        "colab": {
          "base_uri": "https://localhost:8080/",
          "height": 295
        },
        "id": "-5mmH-_xELhJ",
        "outputId": "38e10572-1e91-45a8-dc5b-d99876c4aa2d"
      },
      "execution_count": 65,
      "outputs": [
        {
          "output_type": "display_data",
          "data": {
            "image/png": "[encoded data removed]",
            "text/plain": [
              "<Figure size 432x288 with 1 Axes>"
            ]
          },
          "metadata": {
            "needs_background": "light"
          }
        }
      ]
    },
    {
      "cell_type": "code",
      "source": [
        "from sklearn.metrics import cohen_kappa_score, adjusted_rand_score, silhouette_score\n",
        "def silhouette_method(data, K):\n",
        "    iters = range(2, K + 1)\n",
        "    score = []\n",
        "    for k in iters:\n",
        "        model = KMeans(n_clusters = k, init='k-means++', max_iter=300, n_init=10, random_state=0)\n",
        "        cluster_labels = model.fit_predict(data)\n",
        "        silhouette_avg = silhouette_score(data, cluster_labels)\n",
        "        print(\"For n_clusters =\" + str(k) + \"The average silhouette_score is :\" + str(silhouette_avg))\n",
        "\n",
        "silhouette_method(tfidf, 10)"
      ],
      "metadata": {
        "colab": {
          "base_uri": "https://localhost:8080/"
        },
        "id": "t2m2G4ouEdWK",
        "outputId": "482aab65-ca28-42d9-802a-a297d3b8b71e"
      },
      "execution_count": 66,
      "outputs": [
        {
          "output_type": "stream",
          "name": "stdout",
          "text": [
            "For n_clusters =2The average silhouette_score is :0.018624893621043387\n",
            "For n_clusters =3The average silhouette_score is :0.023156710927125894\n",
            "For n_clusters =4The average silhouette_score is :0.027138752576780882\n",
            "For n_clusters =5The average silhouette_score is :0.031030597194079048\n",
            "For n_clusters =6The average silhouette_score is :0.03368735467635034\n",
            "For n_clusters =7The average silhouette_score is :0.0357619829608126\n",
            "For n_clusters =8The average silhouette_score is :0.031190063730960144\n",
            "For n_clusters =9The average silhouette_score is :0.02909391237529417\n",
            "For n_clusters =10The average silhouette_score is :0.0298727211859578\n"
          ]
        }
      ]
    },
    {
      "cell_type": "code",
      "source": [
        "k = 7\n",
        "tfidf_kmeans = KMeans(n_clusters = k, init='k-means++', max_iter=300, n_init=10, random_state=0)\n",
        "tfidf_kmeans_pred = tfidf_kmeans.fit_predict(tfidf)"
      ],
      "metadata": {
        "id": "ImxwcmOKEkeW"
      },
      "execution_count": 79,
      "outputs": []
    },
    {
      "cell_type": "code",
      "source": [
        "for i in range(0, 7):\n",
        "    a = tfidf_vec.transform(df['segment'][i * 200 : i * 200 + 199])\n",
        "    count = np.bincount(tfidf_kmeans.predict(a))\n",
        "    np.ndarray.resize(count, (1,k))\n",
        "    count = count[0]\n",
        "    index = np.where(count == max(count))[0][0]\n",
        "    label = chr(ord('c')+i)\n",
        "    pred_map[index] = label\n",
        "    print(label + \":\" + np.array2string(count) + \"\\t\" + label + \" mapped to \" + str(index))\n",
        "\n",
        "mapped_pred = []\n",
        "for ele in tfidf_kmeans_pred:\n",
        "    mapped_pred.append(pred_map[ele])\n",
        "mapped_pred = np.asarray(mapped_pred) # predicted label"
      ],
      "metadata": {
        "colab": {
          "base_uri": "https://localhost:8080/"
        },
        "id": "om9fiVWUEsWK",
        "outputId": "f2bb6799-e28a-422b-c064-49b4997ab7df"
      },
      "execution_count": 80,
      "outputs": [
        {
          "output_type": "stream",
          "name": "stdout",
          "text": [
            "c:[  0   0   0   0 198   1   0]\tc mapped to 4\n",
            "d:[  0 195   0   0   1   3   0]\td mapped to 1\n",
            "e:[  0   1   0   0   1 197   0]\te mapped to 5\n",
            "f:[199   0   0   0   0   0   0]\tf mapped to 0\n",
            "g:[  0   0 199   0   0   0   0]\tg mapped to 2\n",
            "h:[  0   0   0   0   0   3 196]\th mapped to 6\n",
            "i:[  2   0   0 194   2   1   0]\ti mapped to 3\n"
          ]
        }
      ]
    },
    {
      "cell_type": "code",
      "source": [
        "df_dominant_topic['klabel'] = tfidf_kmeans_pred"
      ],
      "metadata": {
        "id": "EJPTFfbiGcxk"
      },
      "execution_count": 81,
      "outputs": []
    },
    {
      "cell_type": "code",
      "source": [
        "df_dominant_topic"
      ],
      "metadata": {
        "colab": {
          "base_uri": "https://localhost:8080/",
          "height": 424
        },
        "id": "8hGcHJsnHMJd",
        "outputId": "94d7dc82-9e4b-483b-b64e-de36d86a48a7"
      },
      "execution_count": 82,
      "outputs": [
        {
          "output_type": "execute_result",
          "data": {
            "text/html": [
              "\n",
              "  <div id=\"df-b043d62e-f313-4d21-9072-179d7de11711\">\n",
              "    <div class=\"colab-df-container\">\n",
              "      <div>\n",
              "<style scoped>\n",
              "    .dataframe tbody tr th:only-of-type {\n",
              "        vertical-align: middle;\n",
              "    }\n",
              "\n",
              "    .dataframe tbody tr th {\n",
              "        vertical-align: top;\n",
              "    }\n",
              "\n",
              "    .dataframe thead th {\n",
              "        text-align: right;\n",
              "    }\n",
              "</style>\n",
              "<table border=\"1\" class=\"dataframe\">\n",
              "  <thead>\n",
              "    <tr style=\"text-align: right;\">\n",
              "      <th></th>\n",
              "      <th>Document_No</th>\n",
              "      <th>Dominant_Topic</th>\n",
              "      <th>Topic_Perc_Contrib</th>\n",
              "      <th>Keywords</th>\n",
              "      <th>Text</th>\n",
              "      <th>klabel</th>\n",
              "    </tr>\n",
              "  </thead>\n",
              "  <tbody>\n",
              "    <tr>\n",
              "      <th>0</th>\n",
              "      <td>0</td>\n",
              "      <td>2.0</td>\n",
              "      <td>0.9992</td>\n",
              "      <td>the, one, gener, would, may, It, law, case, bu...</td>\n",
              "      <td>[act, known, circumst, harm, may, accept, gene...</td>\n",
              "      <td>4</td>\n",
              "    </tr>\n",
              "    <tr>\n",
              "      <th>1</th>\n",
              "      <td>1</td>\n",
              "      <td>2.0</td>\n",
              "      <td>0.9387</td>\n",
              "      <td>the, one, gener, would, may, It, law, case, bu...</td>\n",
              "      <td>[aris, whether, represent, part, contract, If,...</td>\n",
              "      <td>4</td>\n",
              "    </tr>\n",
              "    <tr>\n",
              "      <th>2</th>\n",
              "      <td>2</td>\n",
              "      <td>1.0</td>\n",
              "      <td>0.9992</td>\n",
              "      <td>state, u.s., the, court, would, power, govern,...</td>\n",
              "      <td>[section, cite, godbolt, see, F., N., B, G, fi...</td>\n",
              "      <td>4</td>\n",
              "    </tr>\n",
              "    <tr>\n",
              "      <th>3</th>\n",
              "      <td>3</td>\n",
              "      <td>1.0</td>\n",
              "      <td>0.8461</td>\n",
              "      <td>state, u.s., the, court, would, power, govern,...</td>\n",
              "      <td>[row, bell, c.c, see, treasur, hidden, anoth, ...</td>\n",
              "      <td>4</td>\n",
              "    </tr>\n",
              "    <tr>\n",
              "      <th>4</th>\n",
              "      <td>4</td>\n",
              "      <td>2.0</td>\n",
              "      <td>0.8211</td>\n",
              "      <td>the, one, gener, would, may, It, law, case, bu...</td>\n",
              "      <td>[give, trespass, pretti, nearli, thing, action...</td>\n",
              "      <td>4</td>\n",
              "    </tr>\n",
              "    <tr>\n",
              "      <th>...</th>\n",
              "      <td>...</td>\n",
              "      <td>...</td>\n",
              "      <td>...</td>\n",
              "      <td>...</td>\n",
              "      <td>...</td>\n",
              "      <td>...</td>\n",
              "    </tr>\n",
              "    <tr>\n",
              "      <th>1395</th>\n",
              "      <td>1395</td>\n",
              "      <td>3.0</td>\n",
              "      <td>0.9990</td>\n",
              "      <td>one, boil, water, put, two, egg, butter, sugar...</td>\n",
              "      <td>[lamb, chop, fri, tomato, potato, la, crãªme, ...</td>\n",
              "      <td>3</td>\n",
              "    </tr>\n",
              "    <tr>\n",
              "      <th>1396</th>\n",
              "      <td>1396</td>\n",
              "      <td>3.0</td>\n",
              "      <td>0.8521</td>\n",
              "      <td>one, boil, water, put, two, egg, butter, sugar...</td>\n",
              "      <td>[glass, rhine, wine, IV, glass, water, V, glas...</td>\n",
              "      <td>3</td>\n",
              "    </tr>\n",
              "    <tr>\n",
              "      <th>1397</th>\n",
              "      <td>1397</td>\n",
              "      <td>3.0</td>\n",
              "      <td>0.9990</td>\n",
              "      <td>one, boil, water, put, two, egg, butter, sugar...</td>\n",
              "      <td>[cover, cloth, set, away, cool, place, hour, d...</td>\n",
              "      <td>3</td>\n",
              "    </tr>\n",
              "    <tr>\n",
              "      <th>1398</th>\n",
              "      <td>1398</td>\n",
              "      <td>3.0</td>\n",
              "      <td>0.9990</td>\n",
              "      <td>one, boil, water, put, two, egg, butter, sugar...</td>\n",
              "      <td>[transpar, veil, egg, cook, white, firm, lift,...</td>\n",
              "      <td>3</td>\n",
              "    </tr>\n",
              "    <tr>\n",
              "      <th>1399</th>\n",
              "      <td>1399</td>\n",
              "      <td>3.0</td>\n",
              "      <td>0.9990</td>\n",
              "      <td>one, boil, water, put, two, egg, butter, sugar...</td>\n",
              "      <td>[pear, pickl, bun, plum, cobbler, tea, dinner,...</td>\n",
              "      <td>3</td>\n",
              "    </tr>\n",
              "  </tbody>\n",
              "</table>\n",
              "<p>1400 rows × 6 columns</p>\n",
              "</div>\n",
              "      <button class=\"colab-df-convert\" onclick=\"convertToInteractive('df-b043d62e-f313-4d21-9072-179d7de11711')\"\n",
              "              title=\"Convert this dataframe to an interactive table.\"\n",
              "              style=\"display:none;\">\n",
              "        \n",
              "  <svg xmlns=\"http://www.w3.org/2000/svg\" height=\"24px\"viewBox=\"0 0 24 24\"\n",
              "       width=\"24px\">\n",
              "    <path d=\"M0 0h24v24H0V0z\" fill=\"none\"/>\n",
              "    <path d=\"M18.56 5.44l.94 2.06.94-2.06 2.06-.94-2.06-.94-.94-2.06-.94 2.06-2.06.94zm-11 1L8.5 8.5l.94-2.06 2.06-.94-2.06-.94L8.5 2.5l-.94 2.06-2.06.94zm10 10l.94 2.06.94-2.06 2.06-.94-2.06-.94-.94-2.06-.94 2.06-2.06.94z\"/><path d=\"M17.41 7.96l-1.37-1.37c-.4-.4-.92-.59-1.43-.59-.52 0-1.04.2-1.43.59L10.3 9.45l-7.72 7.72c-.78.78-.78 2.05 0 2.83L4 21.41c.39.39.9.59 1.41.59.51 0 1.02-.2 1.41-.59l7.78-7.78 2.81-2.81c.8-.78.8-2.07 0-2.86zM5.41 20L4 18.59l7.72-7.72 1.47 1.35L5.41 20z\"/>\n",
              "  </svg>\n",
              "      </button>\n",
              "      \n",
              "  <style>\n",
              "    .colab-df-container {\n",
              "      display:flex;\n",
              "      flex-wrap:wrap;\n",
              "      gap: 12px;\n",
              "    }\n",
              "\n",
              "    .colab-df-convert {\n",
              "      background-color: #E8F0FE;\n",
              "      border: none;\n",
              "      border-radius: 50%;\n",
              "      cursor: pointer;\n",
              "      display: none;\n",
              "      fill: #1967D2;\n",
              "      height: 32px;\n",
              "      padding: 0 0 0 0;\n",
              "      width: 32px;\n",
              "    }\n",
              "\n",
              "    .colab-df-convert:hover {\n",
              "      background-color: #E2EBFA;\n",
              "      box-shadow: 0px 1px 2px rgba(60, 64, 67, 0.3), 0px 1px 3px 1px rgba(60, 64, 67, 0.15);\n",
              "      fill: #174EA6;\n",
              "    }\n",
              "\n",
              "    [theme=dark] .colab-df-convert {\n",
              "      background-color: #3B4455;\n",
              "      fill: #D2E3FC;\n",
              "    }\n",
              "\n",
              "    [theme=dark] .colab-df-convert:hover {\n",
              "      background-color: #434B5C;\n",
              "      box-shadow: 0px 1px 3px 1px rgba(0, 0, 0, 0.15);\n",
              "      filter: drop-shadow(0px 1px 2px rgba(0, 0, 0, 0.3));\n",
              "      fill: #FFFFFF;\n",
              "    }\n",
              "  </style>\n",
              "\n",
              "      <script>\n",
              "        const buttonEl =\n",
              "          document.querySelector('#df-b043d62e-f313-4d21-9072-179d7de11711 button.colab-df-convert');\n",
              "        buttonEl.style.display =\n",
              "          google.colab.kernel.accessAllowed ? 'block' : 'none';\n",
              "\n",
              "        async function convertToInteractive(key) {\n",
              "          const element = document.querySelector('#df-b043d62e-f313-4d21-9072-179d7de11711');\n",
              "          const dataTable =\n",
              "            await google.colab.kernel.invokeFunction('convertToInteractive',\n",
              "                                                     [key], {});\n",
              "          if (!dataTable) return;\n",
              "\n",
              "          const docLinkHtml = 'Like what you see? Visit the ' +\n",
              "            '<a target=\"_blank\" href=https://colab.research.google.com/notebooks/data_table.ipynb>data table notebook</a>'\n",
              "            + ' to learn more about interactive tables.';\n",
              "          element.innerHTML = '';\n",
              "          dataTable['output_type'] = 'display_data';\n",
              "          await google.colab.output.renderOutput(dataTable, element);\n",
              "          const docLink = document.createElement('div');\n",
              "          docLink.innerHTML = docLinkHtml;\n",
              "          element.appendChild(docLink);\n",
              "        }\n",
              "      </script>\n",
              "    </div>\n",
              "  </div>\n",
              "  "
            ],
            "text/plain": [
              "      Document_No  ...  klabel\n",
              "0               0  ...       4\n",
              "1               1  ...       4\n",
              "2               2  ...       4\n",
              "3               3  ...       4\n",
              "4               4  ...       4\n",
              "...           ...  ...     ...\n",
              "1395         1395  ...       3\n",
              "1396         1396  ...       3\n",
              "1397         1397  ...       3\n",
              "1398         1398  ...       3\n",
              "1399         1399  ...       3\n",
              "\n",
              "[1400 rows x 6 columns]"
            ]
          },
          "metadata": {},
          "execution_count": 82
        }
      ]
    },
    {
      "cell_type": "code",
      "source": [
        "df_dominant_topic.groupby(['klabel'])['Dominant_Topic'].value_counts(ascending=False, normalize=True)"
      ],
      "metadata": {
        "colab": {
          "base_uri": "https://localhost:8080/"
        },
        "id": "snSI9ZgmHRvh",
        "outputId": "7592d8bf-9dc1-4e15-9424-c8616318d238"
      },
      "execution_count": 83,
      "outputs": [
        {
          "output_type": "execute_result",
          "data": {
            "text/plain": [
              "klabel  Dominant_Topic\n",
              "0       2.0               0.975248\n",
              "        3.0               0.014851\n",
              "        0.0               0.009901\n",
              "1       1.0               0.994924\n",
              "        2.0               0.005076\n",
              "2       0.0               0.995000\n",
              "        2.0               0.005000\n",
              "3       3.0               1.000000\n",
              "4       2.0               0.832512\n",
              "        1.0               0.142857\n",
              "        3.0               0.019704\n",
              "        0.0               0.004926\n",
              "5       1.0               0.966019\n",
              "        2.0               0.029126\n",
              "        3.0               0.004854\n",
              "6       2.0               1.000000\n",
              "Name: Dominant_Topic, dtype: float64"
            ]
          },
          "metadata": {},
          "execution_count": 83
        }
      ]
    }
  ]
}